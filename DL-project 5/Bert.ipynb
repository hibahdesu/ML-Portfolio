{
  "nbformat": 4,
  "nbformat_minor": 0,
  "metadata": {
    "colab": {
      "provenance": []
    },
    "kernelspec": {
      "name": "python3",
      "display_name": "Python 3"
    },
    "language_info": {
      "name": "python"
    },
    "accelerator": "TPU",
    "widgets": {
      "application/vnd.jupyter.widget-state+json": {
        "7cf8912ba3774ce4b235a75115a5b874": {
          "model_module": "@jupyter-widgets/controls",
          "model_name": "HBoxModel",
          "model_module_version": "1.5.0",
          "state": {
            "_dom_classes": [],
            "_model_module": "@jupyter-widgets/controls",
            "_model_module_version": "1.5.0",
            "_model_name": "HBoxModel",
            "_view_count": null,
            "_view_module": "@jupyter-widgets/controls",
            "_view_module_version": "1.5.0",
            "_view_name": "HBoxView",
            "box_style": "",
            "children": [
              "IPY_MODEL_ed89ac348977437a901803ec1ebf4ebf",
              "IPY_MODEL_02efb6f018b64df5b97740c3c3511636",
              "IPY_MODEL_c14bffe137bd49ddad988268498e6098"
            ],
            "layout": "IPY_MODEL_9797d3f82ca04cae85bd87eaf82abd4e"
          }
        },
        "ed89ac348977437a901803ec1ebf4ebf": {
          "model_module": "@jupyter-widgets/controls",
          "model_name": "HTMLModel",
          "model_module_version": "1.5.0",
          "state": {
            "_dom_classes": [],
            "_model_module": "@jupyter-widgets/controls",
            "_model_module_version": "1.5.0",
            "_model_name": "HTMLModel",
            "_view_count": null,
            "_view_module": "@jupyter-widgets/controls",
            "_view_module_version": "1.5.0",
            "_view_name": "HTMLView",
            "description": "",
            "description_tooltip": null,
            "layout": "IPY_MODEL_7531641521a6491c9c5a9a7a852b795b",
            "placeholder": "​",
            "style": "IPY_MODEL_072cc9ee587d49ca8a111ee2c23f5501",
            "value": "(…)cased/resolve/main/tokenizer_config.json: 100%"
          }
        },
        "02efb6f018b64df5b97740c3c3511636": {
          "model_module": "@jupyter-widgets/controls",
          "model_name": "FloatProgressModel",
          "model_module_version": "1.5.0",
          "state": {
            "_dom_classes": [],
            "_model_module": "@jupyter-widgets/controls",
            "_model_module_version": "1.5.0",
            "_model_name": "FloatProgressModel",
            "_view_count": null,
            "_view_module": "@jupyter-widgets/controls",
            "_view_module_version": "1.5.0",
            "_view_name": "ProgressView",
            "bar_style": "success",
            "description": "",
            "description_tooltip": null,
            "layout": "IPY_MODEL_f6c8a3aeca6940f7b184deaf7ad9afbe",
            "max": 28,
            "min": 0,
            "orientation": "horizontal",
            "style": "IPY_MODEL_acd0876c5a5544d9904ce0b160f73637",
            "value": 28
          }
        },
        "c14bffe137bd49ddad988268498e6098": {
          "model_module": "@jupyter-widgets/controls",
          "model_name": "HTMLModel",
          "model_module_version": "1.5.0",
          "state": {
            "_dom_classes": [],
            "_model_module": "@jupyter-widgets/controls",
            "_model_module_version": "1.5.0",
            "_model_name": "HTMLModel",
            "_view_count": null,
            "_view_module": "@jupyter-widgets/controls",
            "_view_module_version": "1.5.0",
            "_view_name": "HTMLView",
            "description": "",
            "description_tooltip": null,
            "layout": "IPY_MODEL_c4d828a15d52401c89e48d2b150fb173",
            "placeholder": "​",
            "style": "IPY_MODEL_4721323d98ba44d2aca535c06d484424",
            "value": " 28.0/28.0 [00:00&lt;00:00, 760B/s]"
          }
        },
        "9797d3f82ca04cae85bd87eaf82abd4e": {
          "model_module": "@jupyter-widgets/base",
          "model_name": "LayoutModel",
          "model_module_version": "1.2.0",
          "state": {
            "_model_module": "@jupyter-widgets/base",
            "_model_module_version": "1.2.0",
            "_model_name": "LayoutModel",
            "_view_count": null,
            "_view_module": "@jupyter-widgets/base",
            "_view_module_version": "1.2.0",
            "_view_name": "LayoutView",
            "align_content": null,
            "align_items": null,
            "align_self": null,
            "border": null,
            "bottom": null,
            "display": null,
            "flex": null,
            "flex_flow": null,
            "grid_area": null,
            "grid_auto_columns": null,
            "grid_auto_flow": null,
            "grid_auto_rows": null,
            "grid_column": null,
            "grid_gap": null,
            "grid_row": null,
            "grid_template_areas": null,
            "grid_template_columns": null,
            "grid_template_rows": null,
            "height": null,
            "justify_content": null,
            "justify_items": null,
            "left": null,
            "margin": null,
            "max_height": null,
            "max_width": null,
            "min_height": null,
            "min_width": null,
            "object_fit": null,
            "object_position": null,
            "order": null,
            "overflow": null,
            "overflow_x": null,
            "overflow_y": null,
            "padding": null,
            "right": null,
            "top": null,
            "visibility": null,
            "width": null
          }
        },
        "7531641521a6491c9c5a9a7a852b795b": {
          "model_module": "@jupyter-widgets/base",
          "model_name": "LayoutModel",
          "model_module_version": "1.2.0",
          "state": {
            "_model_module": "@jupyter-widgets/base",
            "_model_module_version": "1.2.0",
            "_model_name": "LayoutModel",
            "_view_count": null,
            "_view_module": "@jupyter-widgets/base",
            "_view_module_version": "1.2.0",
            "_view_name": "LayoutView",
            "align_content": null,
            "align_items": null,
            "align_self": null,
            "border": null,
            "bottom": null,
            "display": null,
            "flex": null,
            "flex_flow": null,
            "grid_area": null,
            "grid_auto_columns": null,
            "grid_auto_flow": null,
            "grid_auto_rows": null,
            "grid_column": null,
            "grid_gap": null,
            "grid_row": null,
            "grid_template_areas": null,
            "grid_template_columns": null,
            "grid_template_rows": null,
            "height": null,
            "justify_content": null,
            "justify_items": null,
            "left": null,
            "margin": null,
            "max_height": null,
            "max_width": null,
            "min_height": null,
            "min_width": null,
            "object_fit": null,
            "object_position": null,
            "order": null,
            "overflow": null,
            "overflow_x": null,
            "overflow_y": null,
            "padding": null,
            "right": null,
            "top": null,
            "visibility": null,
            "width": null
          }
        },
        "072cc9ee587d49ca8a111ee2c23f5501": {
          "model_module": "@jupyter-widgets/controls",
          "model_name": "DescriptionStyleModel",
          "model_module_version": "1.5.0",
          "state": {
            "_model_module": "@jupyter-widgets/controls",
            "_model_module_version": "1.5.0",
            "_model_name": "DescriptionStyleModel",
            "_view_count": null,
            "_view_module": "@jupyter-widgets/base",
            "_view_module_version": "1.2.0",
            "_view_name": "StyleView",
            "description_width": ""
          }
        },
        "f6c8a3aeca6940f7b184deaf7ad9afbe": {
          "model_module": "@jupyter-widgets/base",
          "model_name": "LayoutModel",
          "model_module_version": "1.2.0",
          "state": {
            "_model_module": "@jupyter-widgets/base",
            "_model_module_version": "1.2.0",
            "_model_name": "LayoutModel",
            "_view_count": null,
            "_view_module": "@jupyter-widgets/base",
            "_view_module_version": "1.2.0",
            "_view_name": "LayoutView",
            "align_content": null,
            "align_items": null,
            "align_self": null,
            "border": null,
            "bottom": null,
            "display": null,
            "flex": null,
            "flex_flow": null,
            "grid_area": null,
            "grid_auto_columns": null,
            "grid_auto_flow": null,
            "grid_auto_rows": null,
            "grid_column": null,
            "grid_gap": null,
            "grid_row": null,
            "grid_template_areas": null,
            "grid_template_columns": null,
            "grid_template_rows": null,
            "height": null,
            "justify_content": null,
            "justify_items": null,
            "left": null,
            "margin": null,
            "max_height": null,
            "max_width": null,
            "min_height": null,
            "min_width": null,
            "object_fit": null,
            "object_position": null,
            "order": null,
            "overflow": null,
            "overflow_x": null,
            "overflow_y": null,
            "padding": null,
            "right": null,
            "top": null,
            "visibility": null,
            "width": null
          }
        },
        "acd0876c5a5544d9904ce0b160f73637": {
          "model_module": "@jupyter-widgets/controls",
          "model_name": "ProgressStyleModel",
          "model_module_version": "1.5.0",
          "state": {
            "_model_module": "@jupyter-widgets/controls",
            "_model_module_version": "1.5.0",
            "_model_name": "ProgressStyleModel",
            "_view_count": null,
            "_view_module": "@jupyter-widgets/base",
            "_view_module_version": "1.2.0",
            "_view_name": "StyleView",
            "bar_color": null,
            "description_width": ""
          }
        },
        "c4d828a15d52401c89e48d2b150fb173": {
          "model_module": "@jupyter-widgets/base",
          "model_name": "LayoutModel",
          "model_module_version": "1.2.0",
          "state": {
            "_model_module": "@jupyter-widgets/base",
            "_model_module_version": "1.2.0",
            "_model_name": "LayoutModel",
            "_view_count": null,
            "_view_module": "@jupyter-widgets/base",
            "_view_module_version": "1.2.0",
            "_view_name": "LayoutView",
            "align_content": null,
            "align_items": null,
            "align_self": null,
            "border": null,
            "bottom": null,
            "display": null,
            "flex": null,
            "flex_flow": null,
            "grid_area": null,
            "grid_auto_columns": null,
            "grid_auto_flow": null,
            "grid_auto_rows": null,
            "grid_column": null,
            "grid_gap": null,
            "grid_row": null,
            "grid_template_areas": null,
            "grid_template_columns": null,
            "grid_template_rows": null,
            "height": null,
            "justify_content": null,
            "justify_items": null,
            "left": null,
            "margin": null,
            "max_height": null,
            "max_width": null,
            "min_height": null,
            "min_width": null,
            "object_fit": null,
            "object_position": null,
            "order": null,
            "overflow": null,
            "overflow_x": null,
            "overflow_y": null,
            "padding": null,
            "right": null,
            "top": null,
            "visibility": null,
            "width": null
          }
        },
        "4721323d98ba44d2aca535c06d484424": {
          "model_module": "@jupyter-widgets/controls",
          "model_name": "DescriptionStyleModel",
          "model_module_version": "1.5.0",
          "state": {
            "_model_module": "@jupyter-widgets/controls",
            "_model_module_version": "1.5.0",
            "_model_name": "DescriptionStyleModel",
            "_view_count": null,
            "_view_module": "@jupyter-widgets/base",
            "_view_module_version": "1.2.0",
            "_view_name": "StyleView",
            "description_width": ""
          }
        },
        "f2d874c01bc24034ad05cdfe628779d3": {
          "model_module": "@jupyter-widgets/controls",
          "model_name": "HBoxModel",
          "model_module_version": "1.5.0",
          "state": {
            "_dom_classes": [],
            "_model_module": "@jupyter-widgets/controls",
            "_model_module_version": "1.5.0",
            "_model_name": "HBoxModel",
            "_view_count": null,
            "_view_module": "@jupyter-widgets/controls",
            "_view_module_version": "1.5.0",
            "_view_name": "HBoxView",
            "box_style": "",
            "children": [
              "IPY_MODEL_ae15deb4f45f47aeb52f108aa5714ca1",
              "IPY_MODEL_75edb8343e2945b5a1769a8c612ecdfa",
              "IPY_MODEL_131dd05375614ce6b136da5269c0581e"
            ],
            "layout": "IPY_MODEL_c0a3c635993648c488cec610baf8a180"
          }
        },
        "ae15deb4f45f47aeb52f108aa5714ca1": {
          "model_module": "@jupyter-widgets/controls",
          "model_name": "HTMLModel",
          "model_module_version": "1.5.0",
          "state": {
            "_dom_classes": [],
            "_model_module": "@jupyter-widgets/controls",
            "_model_module_version": "1.5.0",
            "_model_name": "HTMLModel",
            "_view_count": null,
            "_view_module": "@jupyter-widgets/controls",
            "_view_module_version": "1.5.0",
            "_view_name": "HTMLView",
            "description": "",
            "description_tooltip": null,
            "layout": "IPY_MODEL_c87b7ba034c34ea6be133a48a09824fc",
            "placeholder": "​",
            "style": "IPY_MODEL_c7318f76160f45c695ea7f9d1a13f3ed",
            "value": "(…)bert-base-uncased/resolve/main/vocab.txt: 100%"
          }
        },
        "75edb8343e2945b5a1769a8c612ecdfa": {
          "model_module": "@jupyter-widgets/controls",
          "model_name": "FloatProgressModel",
          "model_module_version": "1.5.0",
          "state": {
            "_dom_classes": [],
            "_model_module": "@jupyter-widgets/controls",
            "_model_module_version": "1.5.0",
            "_model_name": "FloatProgressModel",
            "_view_count": null,
            "_view_module": "@jupyter-widgets/controls",
            "_view_module_version": "1.5.0",
            "_view_name": "ProgressView",
            "bar_style": "success",
            "description": "",
            "description_tooltip": null,
            "layout": "IPY_MODEL_25055444fa094f79b3c7de9f904a8fea",
            "max": 231508,
            "min": 0,
            "orientation": "horizontal",
            "style": "IPY_MODEL_47ee5379a4de4a24bb06180e1cd209d8",
            "value": 231508
          }
        },
        "131dd05375614ce6b136da5269c0581e": {
          "model_module": "@jupyter-widgets/controls",
          "model_name": "HTMLModel",
          "model_module_version": "1.5.0",
          "state": {
            "_dom_classes": [],
            "_model_module": "@jupyter-widgets/controls",
            "_model_module_version": "1.5.0",
            "_model_name": "HTMLModel",
            "_view_count": null,
            "_view_module": "@jupyter-widgets/controls",
            "_view_module_version": "1.5.0",
            "_view_name": "HTMLView",
            "description": "",
            "description_tooltip": null,
            "layout": "IPY_MODEL_3f8fa432a7e547f1bbda19b90910d100",
            "placeholder": "​",
            "style": "IPY_MODEL_6fd27c4ab6494ac8940d8befa8558258",
            "value": " 232k/232k [00:00&lt;00:00, 2.61MB/s]"
          }
        },
        "c0a3c635993648c488cec610baf8a180": {
          "model_module": "@jupyter-widgets/base",
          "model_name": "LayoutModel",
          "model_module_version": "1.2.0",
          "state": {
            "_model_module": "@jupyter-widgets/base",
            "_model_module_version": "1.2.0",
            "_model_name": "LayoutModel",
            "_view_count": null,
            "_view_module": "@jupyter-widgets/base",
            "_view_module_version": "1.2.0",
            "_view_name": "LayoutView",
            "align_content": null,
            "align_items": null,
            "align_self": null,
            "border": null,
            "bottom": null,
            "display": null,
            "flex": null,
            "flex_flow": null,
            "grid_area": null,
            "grid_auto_columns": null,
            "grid_auto_flow": null,
            "grid_auto_rows": null,
            "grid_column": null,
            "grid_gap": null,
            "grid_row": null,
            "grid_template_areas": null,
            "grid_template_columns": null,
            "grid_template_rows": null,
            "height": null,
            "justify_content": null,
            "justify_items": null,
            "left": null,
            "margin": null,
            "max_height": null,
            "max_width": null,
            "min_height": null,
            "min_width": null,
            "object_fit": null,
            "object_position": null,
            "order": null,
            "overflow": null,
            "overflow_x": null,
            "overflow_y": null,
            "padding": null,
            "right": null,
            "top": null,
            "visibility": null,
            "width": null
          }
        },
        "c87b7ba034c34ea6be133a48a09824fc": {
          "model_module": "@jupyter-widgets/base",
          "model_name": "LayoutModel",
          "model_module_version": "1.2.0",
          "state": {
            "_model_module": "@jupyter-widgets/base",
            "_model_module_version": "1.2.0",
            "_model_name": "LayoutModel",
            "_view_count": null,
            "_view_module": "@jupyter-widgets/base",
            "_view_module_version": "1.2.0",
            "_view_name": "LayoutView",
            "align_content": null,
            "align_items": null,
            "align_self": null,
            "border": null,
            "bottom": null,
            "display": null,
            "flex": null,
            "flex_flow": null,
            "grid_area": null,
            "grid_auto_columns": null,
            "grid_auto_flow": null,
            "grid_auto_rows": null,
            "grid_column": null,
            "grid_gap": null,
            "grid_row": null,
            "grid_template_areas": null,
            "grid_template_columns": null,
            "grid_template_rows": null,
            "height": null,
            "justify_content": null,
            "justify_items": null,
            "left": null,
            "margin": null,
            "max_height": null,
            "max_width": null,
            "min_height": null,
            "min_width": null,
            "object_fit": null,
            "object_position": null,
            "order": null,
            "overflow": null,
            "overflow_x": null,
            "overflow_y": null,
            "padding": null,
            "right": null,
            "top": null,
            "visibility": null,
            "width": null
          }
        },
        "c7318f76160f45c695ea7f9d1a13f3ed": {
          "model_module": "@jupyter-widgets/controls",
          "model_name": "DescriptionStyleModel",
          "model_module_version": "1.5.0",
          "state": {
            "_model_module": "@jupyter-widgets/controls",
            "_model_module_version": "1.5.0",
            "_model_name": "DescriptionStyleModel",
            "_view_count": null,
            "_view_module": "@jupyter-widgets/base",
            "_view_module_version": "1.2.0",
            "_view_name": "StyleView",
            "description_width": ""
          }
        },
        "25055444fa094f79b3c7de9f904a8fea": {
          "model_module": "@jupyter-widgets/base",
          "model_name": "LayoutModel",
          "model_module_version": "1.2.0",
          "state": {
            "_model_module": "@jupyter-widgets/base",
            "_model_module_version": "1.2.0",
            "_model_name": "LayoutModel",
            "_view_count": null,
            "_view_module": "@jupyter-widgets/base",
            "_view_module_version": "1.2.0",
            "_view_name": "LayoutView",
            "align_content": null,
            "align_items": null,
            "align_self": null,
            "border": null,
            "bottom": null,
            "display": null,
            "flex": null,
            "flex_flow": null,
            "grid_area": null,
            "grid_auto_columns": null,
            "grid_auto_flow": null,
            "grid_auto_rows": null,
            "grid_column": null,
            "grid_gap": null,
            "grid_row": null,
            "grid_template_areas": null,
            "grid_template_columns": null,
            "grid_template_rows": null,
            "height": null,
            "justify_content": null,
            "justify_items": null,
            "left": null,
            "margin": null,
            "max_height": null,
            "max_width": null,
            "min_height": null,
            "min_width": null,
            "object_fit": null,
            "object_position": null,
            "order": null,
            "overflow": null,
            "overflow_x": null,
            "overflow_y": null,
            "padding": null,
            "right": null,
            "top": null,
            "visibility": null,
            "width": null
          }
        },
        "47ee5379a4de4a24bb06180e1cd209d8": {
          "model_module": "@jupyter-widgets/controls",
          "model_name": "ProgressStyleModel",
          "model_module_version": "1.5.0",
          "state": {
            "_model_module": "@jupyter-widgets/controls",
            "_model_module_version": "1.5.0",
            "_model_name": "ProgressStyleModel",
            "_view_count": null,
            "_view_module": "@jupyter-widgets/base",
            "_view_module_version": "1.2.0",
            "_view_name": "StyleView",
            "bar_color": null,
            "description_width": ""
          }
        },
        "3f8fa432a7e547f1bbda19b90910d100": {
          "model_module": "@jupyter-widgets/base",
          "model_name": "LayoutModel",
          "model_module_version": "1.2.0",
          "state": {
            "_model_module": "@jupyter-widgets/base",
            "_model_module_version": "1.2.0",
            "_model_name": "LayoutModel",
            "_view_count": null,
            "_view_module": "@jupyter-widgets/base",
            "_view_module_version": "1.2.0",
            "_view_name": "LayoutView",
            "align_content": null,
            "align_items": null,
            "align_self": null,
            "border": null,
            "bottom": null,
            "display": null,
            "flex": null,
            "flex_flow": null,
            "grid_area": null,
            "grid_auto_columns": null,
            "grid_auto_flow": null,
            "grid_auto_rows": null,
            "grid_column": null,
            "grid_gap": null,
            "grid_row": null,
            "grid_template_areas": null,
            "grid_template_columns": null,
            "grid_template_rows": null,
            "height": null,
            "justify_content": null,
            "justify_items": null,
            "left": null,
            "margin": null,
            "max_height": null,
            "max_width": null,
            "min_height": null,
            "min_width": null,
            "object_fit": null,
            "object_position": null,
            "order": null,
            "overflow": null,
            "overflow_x": null,
            "overflow_y": null,
            "padding": null,
            "right": null,
            "top": null,
            "visibility": null,
            "width": null
          }
        },
        "6fd27c4ab6494ac8940d8befa8558258": {
          "model_module": "@jupyter-widgets/controls",
          "model_name": "DescriptionStyleModel",
          "model_module_version": "1.5.0",
          "state": {
            "_model_module": "@jupyter-widgets/controls",
            "_model_module_version": "1.5.0",
            "_model_name": "DescriptionStyleModel",
            "_view_count": null,
            "_view_module": "@jupyter-widgets/base",
            "_view_module_version": "1.2.0",
            "_view_name": "StyleView",
            "description_width": ""
          }
        },
        "39f86c0fe2ee4c0a9616485355e35897": {
          "model_module": "@jupyter-widgets/controls",
          "model_name": "HBoxModel",
          "model_module_version": "1.5.0",
          "state": {
            "_dom_classes": [],
            "_model_module": "@jupyter-widgets/controls",
            "_model_module_version": "1.5.0",
            "_model_name": "HBoxModel",
            "_view_count": null,
            "_view_module": "@jupyter-widgets/controls",
            "_view_module_version": "1.5.0",
            "_view_name": "HBoxView",
            "box_style": "",
            "children": [
              "IPY_MODEL_a12d5782caf640e58e1a5d1ed346c632",
              "IPY_MODEL_b63d8611c6ee4438a3de6b661db97da2",
              "IPY_MODEL_db961078f82d4017966a6e3d66271117"
            ],
            "layout": "IPY_MODEL_82ba7895859e4adebee62c07d44b8891"
          }
        },
        "a12d5782caf640e58e1a5d1ed346c632": {
          "model_module": "@jupyter-widgets/controls",
          "model_name": "HTMLModel",
          "model_module_version": "1.5.0",
          "state": {
            "_dom_classes": [],
            "_model_module": "@jupyter-widgets/controls",
            "_model_module_version": "1.5.0",
            "_model_name": "HTMLModel",
            "_view_count": null,
            "_view_module": "@jupyter-widgets/controls",
            "_view_module_version": "1.5.0",
            "_view_name": "HTMLView",
            "description": "",
            "description_tooltip": null,
            "layout": "IPY_MODEL_f5ad32e9753e49e1b18746abfec4a7a5",
            "placeholder": "​",
            "style": "IPY_MODEL_75513f3f37cf478b8eeddfbed77a0e9c",
            "value": "(…)base-uncased/resolve/main/tokenizer.json: 100%"
          }
        },
        "b63d8611c6ee4438a3de6b661db97da2": {
          "model_module": "@jupyter-widgets/controls",
          "model_name": "FloatProgressModel",
          "model_module_version": "1.5.0",
          "state": {
            "_dom_classes": [],
            "_model_module": "@jupyter-widgets/controls",
            "_model_module_version": "1.5.0",
            "_model_name": "FloatProgressModel",
            "_view_count": null,
            "_view_module": "@jupyter-widgets/controls",
            "_view_module_version": "1.5.0",
            "_view_name": "ProgressView",
            "bar_style": "success",
            "description": "",
            "description_tooltip": null,
            "layout": "IPY_MODEL_d839df2c754c489e8d3b17e31aaefaf9",
            "max": 466062,
            "min": 0,
            "orientation": "horizontal",
            "style": "IPY_MODEL_742ef19626854049a54b7e87f661a3c3",
            "value": 466062
          }
        },
        "db961078f82d4017966a6e3d66271117": {
          "model_module": "@jupyter-widgets/controls",
          "model_name": "HTMLModel",
          "model_module_version": "1.5.0",
          "state": {
            "_dom_classes": [],
            "_model_module": "@jupyter-widgets/controls",
            "_model_module_version": "1.5.0",
            "_model_name": "HTMLModel",
            "_view_count": null,
            "_view_module": "@jupyter-widgets/controls",
            "_view_module_version": "1.5.0",
            "_view_name": "HTMLView",
            "description": "",
            "description_tooltip": null,
            "layout": "IPY_MODEL_0745aa1531fa445083be877fcf922615",
            "placeholder": "​",
            "style": "IPY_MODEL_65b4d93fa0354c5eab933691a37bd6fe",
            "value": " 466k/466k [00:00&lt;00:00, 4.94MB/s]"
          }
        },
        "82ba7895859e4adebee62c07d44b8891": {
          "model_module": "@jupyter-widgets/base",
          "model_name": "LayoutModel",
          "model_module_version": "1.2.0",
          "state": {
            "_model_module": "@jupyter-widgets/base",
            "_model_module_version": "1.2.0",
            "_model_name": "LayoutModel",
            "_view_count": null,
            "_view_module": "@jupyter-widgets/base",
            "_view_module_version": "1.2.0",
            "_view_name": "LayoutView",
            "align_content": null,
            "align_items": null,
            "align_self": null,
            "border": null,
            "bottom": null,
            "display": null,
            "flex": null,
            "flex_flow": null,
            "grid_area": null,
            "grid_auto_columns": null,
            "grid_auto_flow": null,
            "grid_auto_rows": null,
            "grid_column": null,
            "grid_gap": null,
            "grid_row": null,
            "grid_template_areas": null,
            "grid_template_columns": null,
            "grid_template_rows": null,
            "height": null,
            "justify_content": null,
            "justify_items": null,
            "left": null,
            "margin": null,
            "max_height": null,
            "max_width": null,
            "min_height": null,
            "min_width": null,
            "object_fit": null,
            "object_position": null,
            "order": null,
            "overflow": null,
            "overflow_x": null,
            "overflow_y": null,
            "padding": null,
            "right": null,
            "top": null,
            "visibility": null,
            "width": null
          }
        },
        "f5ad32e9753e49e1b18746abfec4a7a5": {
          "model_module": "@jupyter-widgets/base",
          "model_name": "LayoutModel",
          "model_module_version": "1.2.0",
          "state": {
            "_model_module": "@jupyter-widgets/base",
            "_model_module_version": "1.2.0",
            "_model_name": "LayoutModel",
            "_view_count": null,
            "_view_module": "@jupyter-widgets/base",
            "_view_module_version": "1.2.0",
            "_view_name": "LayoutView",
            "align_content": null,
            "align_items": null,
            "align_self": null,
            "border": null,
            "bottom": null,
            "display": null,
            "flex": null,
            "flex_flow": null,
            "grid_area": null,
            "grid_auto_columns": null,
            "grid_auto_flow": null,
            "grid_auto_rows": null,
            "grid_column": null,
            "grid_gap": null,
            "grid_row": null,
            "grid_template_areas": null,
            "grid_template_columns": null,
            "grid_template_rows": null,
            "height": null,
            "justify_content": null,
            "justify_items": null,
            "left": null,
            "margin": null,
            "max_height": null,
            "max_width": null,
            "min_height": null,
            "min_width": null,
            "object_fit": null,
            "object_position": null,
            "order": null,
            "overflow": null,
            "overflow_x": null,
            "overflow_y": null,
            "padding": null,
            "right": null,
            "top": null,
            "visibility": null,
            "width": null
          }
        },
        "75513f3f37cf478b8eeddfbed77a0e9c": {
          "model_module": "@jupyter-widgets/controls",
          "model_name": "DescriptionStyleModel",
          "model_module_version": "1.5.0",
          "state": {
            "_model_module": "@jupyter-widgets/controls",
            "_model_module_version": "1.5.0",
            "_model_name": "DescriptionStyleModel",
            "_view_count": null,
            "_view_module": "@jupyter-widgets/base",
            "_view_module_version": "1.2.0",
            "_view_name": "StyleView",
            "description_width": ""
          }
        },
        "d839df2c754c489e8d3b17e31aaefaf9": {
          "model_module": "@jupyter-widgets/base",
          "model_name": "LayoutModel",
          "model_module_version": "1.2.0",
          "state": {
            "_model_module": "@jupyter-widgets/base",
            "_model_module_version": "1.2.0",
            "_model_name": "LayoutModel",
            "_view_count": null,
            "_view_module": "@jupyter-widgets/base",
            "_view_module_version": "1.2.0",
            "_view_name": "LayoutView",
            "align_content": null,
            "align_items": null,
            "align_self": null,
            "border": null,
            "bottom": null,
            "display": null,
            "flex": null,
            "flex_flow": null,
            "grid_area": null,
            "grid_auto_columns": null,
            "grid_auto_flow": null,
            "grid_auto_rows": null,
            "grid_column": null,
            "grid_gap": null,
            "grid_row": null,
            "grid_template_areas": null,
            "grid_template_columns": null,
            "grid_template_rows": null,
            "height": null,
            "justify_content": null,
            "justify_items": null,
            "left": null,
            "margin": null,
            "max_height": null,
            "max_width": null,
            "min_height": null,
            "min_width": null,
            "object_fit": null,
            "object_position": null,
            "order": null,
            "overflow": null,
            "overflow_x": null,
            "overflow_y": null,
            "padding": null,
            "right": null,
            "top": null,
            "visibility": null,
            "width": null
          }
        },
        "742ef19626854049a54b7e87f661a3c3": {
          "model_module": "@jupyter-widgets/controls",
          "model_name": "ProgressStyleModel",
          "model_module_version": "1.5.0",
          "state": {
            "_model_module": "@jupyter-widgets/controls",
            "_model_module_version": "1.5.0",
            "_model_name": "ProgressStyleModel",
            "_view_count": null,
            "_view_module": "@jupyter-widgets/base",
            "_view_module_version": "1.2.0",
            "_view_name": "StyleView",
            "bar_color": null,
            "description_width": ""
          }
        },
        "0745aa1531fa445083be877fcf922615": {
          "model_module": "@jupyter-widgets/base",
          "model_name": "LayoutModel",
          "model_module_version": "1.2.0",
          "state": {
            "_model_module": "@jupyter-widgets/base",
            "_model_module_version": "1.2.0",
            "_model_name": "LayoutModel",
            "_view_count": null,
            "_view_module": "@jupyter-widgets/base",
            "_view_module_version": "1.2.0",
            "_view_name": "LayoutView",
            "align_content": null,
            "align_items": null,
            "align_self": null,
            "border": null,
            "bottom": null,
            "display": null,
            "flex": null,
            "flex_flow": null,
            "grid_area": null,
            "grid_auto_columns": null,
            "grid_auto_flow": null,
            "grid_auto_rows": null,
            "grid_column": null,
            "grid_gap": null,
            "grid_row": null,
            "grid_template_areas": null,
            "grid_template_columns": null,
            "grid_template_rows": null,
            "height": null,
            "justify_content": null,
            "justify_items": null,
            "left": null,
            "margin": null,
            "max_height": null,
            "max_width": null,
            "min_height": null,
            "min_width": null,
            "object_fit": null,
            "object_position": null,
            "order": null,
            "overflow": null,
            "overflow_x": null,
            "overflow_y": null,
            "padding": null,
            "right": null,
            "top": null,
            "visibility": null,
            "width": null
          }
        },
        "65b4d93fa0354c5eab933691a37bd6fe": {
          "model_module": "@jupyter-widgets/controls",
          "model_name": "DescriptionStyleModel",
          "model_module_version": "1.5.0",
          "state": {
            "_model_module": "@jupyter-widgets/controls",
            "_model_module_version": "1.5.0",
            "_model_name": "DescriptionStyleModel",
            "_view_count": null,
            "_view_module": "@jupyter-widgets/base",
            "_view_module_version": "1.2.0",
            "_view_name": "StyleView",
            "description_width": ""
          }
        },
        "bdb4f3f3040a4a7d84b76b15dfa627b0": {
          "model_module": "@jupyter-widgets/controls",
          "model_name": "HBoxModel",
          "model_module_version": "1.5.0",
          "state": {
            "_dom_classes": [],
            "_model_module": "@jupyter-widgets/controls",
            "_model_module_version": "1.5.0",
            "_model_name": "HBoxModel",
            "_view_count": null,
            "_view_module": "@jupyter-widgets/controls",
            "_view_module_version": "1.5.0",
            "_view_name": "HBoxView",
            "box_style": "",
            "children": [
              "IPY_MODEL_8fa6badb0b6a4167b65f054b61a490a6",
              "IPY_MODEL_592e4ea52b804e72a796aa58e95fe2a8",
              "IPY_MODEL_5113ad1f6768433a83686b704e035411"
            ],
            "layout": "IPY_MODEL_024beb4ba19a4a11a11aa13ce5232a53"
          }
        },
        "8fa6badb0b6a4167b65f054b61a490a6": {
          "model_module": "@jupyter-widgets/controls",
          "model_name": "HTMLModel",
          "model_module_version": "1.5.0",
          "state": {
            "_dom_classes": [],
            "_model_module": "@jupyter-widgets/controls",
            "_model_module_version": "1.5.0",
            "_model_name": "HTMLModel",
            "_view_count": null,
            "_view_module": "@jupyter-widgets/controls",
            "_view_module_version": "1.5.0",
            "_view_name": "HTMLView",
            "description": "",
            "description_tooltip": null,
            "layout": "IPY_MODEL_d0632355a1964b3db0091aba17fbd875",
            "placeholder": "​",
            "style": "IPY_MODEL_07e776ce5129459e98e08a646be13497",
            "value": "(…)rt-base-uncased/resolve/main/config.json: 100%"
          }
        },
        "592e4ea52b804e72a796aa58e95fe2a8": {
          "model_module": "@jupyter-widgets/controls",
          "model_name": "FloatProgressModel",
          "model_module_version": "1.5.0",
          "state": {
            "_dom_classes": [],
            "_model_module": "@jupyter-widgets/controls",
            "_model_module_version": "1.5.0",
            "_model_name": "FloatProgressModel",
            "_view_count": null,
            "_view_module": "@jupyter-widgets/controls",
            "_view_module_version": "1.5.0",
            "_view_name": "ProgressView",
            "bar_style": "success",
            "description": "",
            "description_tooltip": null,
            "layout": "IPY_MODEL_00912d7fb65e4588926e71b6c053d979",
            "max": 570,
            "min": 0,
            "orientation": "horizontal",
            "style": "IPY_MODEL_d2ec8c5a4e0f43b49095785c50466784",
            "value": 570
          }
        },
        "5113ad1f6768433a83686b704e035411": {
          "model_module": "@jupyter-widgets/controls",
          "model_name": "HTMLModel",
          "model_module_version": "1.5.0",
          "state": {
            "_dom_classes": [],
            "_model_module": "@jupyter-widgets/controls",
            "_model_module_version": "1.5.0",
            "_model_name": "HTMLModel",
            "_view_count": null,
            "_view_module": "@jupyter-widgets/controls",
            "_view_module_version": "1.5.0",
            "_view_name": "HTMLView",
            "description": "",
            "description_tooltip": null,
            "layout": "IPY_MODEL_5251bd413b614a479d89ebb452186629",
            "placeholder": "​",
            "style": "IPY_MODEL_186576c517654b5da08c0cebc40a14c4",
            "value": " 570/570 [00:00&lt;00:00, 6.54kB/s]"
          }
        },
        "024beb4ba19a4a11a11aa13ce5232a53": {
          "model_module": "@jupyter-widgets/base",
          "model_name": "LayoutModel",
          "model_module_version": "1.2.0",
          "state": {
            "_model_module": "@jupyter-widgets/base",
            "_model_module_version": "1.2.0",
            "_model_name": "LayoutModel",
            "_view_count": null,
            "_view_module": "@jupyter-widgets/base",
            "_view_module_version": "1.2.0",
            "_view_name": "LayoutView",
            "align_content": null,
            "align_items": null,
            "align_self": null,
            "border": null,
            "bottom": null,
            "display": null,
            "flex": null,
            "flex_flow": null,
            "grid_area": null,
            "grid_auto_columns": null,
            "grid_auto_flow": null,
            "grid_auto_rows": null,
            "grid_column": null,
            "grid_gap": null,
            "grid_row": null,
            "grid_template_areas": null,
            "grid_template_columns": null,
            "grid_template_rows": null,
            "height": null,
            "justify_content": null,
            "justify_items": null,
            "left": null,
            "margin": null,
            "max_height": null,
            "max_width": null,
            "min_height": null,
            "min_width": null,
            "object_fit": null,
            "object_position": null,
            "order": null,
            "overflow": null,
            "overflow_x": null,
            "overflow_y": null,
            "padding": null,
            "right": null,
            "top": null,
            "visibility": null,
            "width": null
          }
        },
        "d0632355a1964b3db0091aba17fbd875": {
          "model_module": "@jupyter-widgets/base",
          "model_name": "LayoutModel",
          "model_module_version": "1.2.0",
          "state": {
            "_model_module": "@jupyter-widgets/base",
            "_model_module_version": "1.2.0",
            "_model_name": "LayoutModel",
            "_view_count": null,
            "_view_module": "@jupyter-widgets/base",
            "_view_module_version": "1.2.0",
            "_view_name": "LayoutView",
            "align_content": null,
            "align_items": null,
            "align_self": null,
            "border": null,
            "bottom": null,
            "display": null,
            "flex": null,
            "flex_flow": null,
            "grid_area": null,
            "grid_auto_columns": null,
            "grid_auto_flow": null,
            "grid_auto_rows": null,
            "grid_column": null,
            "grid_gap": null,
            "grid_row": null,
            "grid_template_areas": null,
            "grid_template_columns": null,
            "grid_template_rows": null,
            "height": null,
            "justify_content": null,
            "justify_items": null,
            "left": null,
            "margin": null,
            "max_height": null,
            "max_width": null,
            "min_height": null,
            "min_width": null,
            "object_fit": null,
            "object_position": null,
            "order": null,
            "overflow": null,
            "overflow_x": null,
            "overflow_y": null,
            "padding": null,
            "right": null,
            "top": null,
            "visibility": null,
            "width": null
          }
        },
        "07e776ce5129459e98e08a646be13497": {
          "model_module": "@jupyter-widgets/controls",
          "model_name": "DescriptionStyleModel",
          "model_module_version": "1.5.0",
          "state": {
            "_model_module": "@jupyter-widgets/controls",
            "_model_module_version": "1.5.0",
            "_model_name": "DescriptionStyleModel",
            "_view_count": null,
            "_view_module": "@jupyter-widgets/base",
            "_view_module_version": "1.2.0",
            "_view_name": "StyleView",
            "description_width": ""
          }
        },
        "00912d7fb65e4588926e71b6c053d979": {
          "model_module": "@jupyter-widgets/base",
          "model_name": "LayoutModel",
          "model_module_version": "1.2.0",
          "state": {
            "_model_module": "@jupyter-widgets/base",
            "_model_module_version": "1.2.0",
            "_model_name": "LayoutModel",
            "_view_count": null,
            "_view_module": "@jupyter-widgets/base",
            "_view_module_version": "1.2.0",
            "_view_name": "LayoutView",
            "align_content": null,
            "align_items": null,
            "align_self": null,
            "border": null,
            "bottom": null,
            "display": null,
            "flex": null,
            "flex_flow": null,
            "grid_area": null,
            "grid_auto_columns": null,
            "grid_auto_flow": null,
            "grid_auto_rows": null,
            "grid_column": null,
            "grid_gap": null,
            "grid_row": null,
            "grid_template_areas": null,
            "grid_template_columns": null,
            "grid_template_rows": null,
            "height": null,
            "justify_content": null,
            "justify_items": null,
            "left": null,
            "margin": null,
            "max_height": null,
            "max_width": null,
            "min_height": null,
            "min_width": null,
            "object_fit": null,
            "object_position": null,
            "order": null,
            "overflow": null,
            "overflow_x": null,
            "overflow_y": null,
            "padding": null,
            "right": null,
            "top": null,
            "visibility": null,
            "width": null
          }
        },
        "d2ec8c5a4e0f43b49095785c50466784": {
          "model_module": "@jupyter-widgets/controls",
          "model_name": "ProgressStyleModel",
          "model_module_version": "1.5.0",
          "state": {
            "_model_module": "@jupyter-widgets/controls",
            "_model_module_version": "1.5.0",
            "_model_name": "ProgressStyleModel",
            "_view_count": null,
            "_view_module": "@jupyter-widgets/base",
            "_view_module_version": "1.2.0",
            "_view_name": "StyleView",
            "bar_color": null,
            "description_width": ""
          }
        },
        "5251bd413b614a479d89ebb452186629": {
          "model_module": "@jupyter-widgets/base",
          "model_name": "LayoutModel",
          "model_module_version": "1.2.0",
          "state": {
            "_model_module": "@jupyter-widgets/base",
            "_model_module_version": "1.2.0",
            "_model_name": "LayoutModel",
            "_view_count": null,
            "_view_module": "@jupyter-widgets/base",
            "_view_module_version": "1.2.0",
            "_view_name": "LayoutView",
            "align_content": null,
            "align_items": null,
            "align_self": null,
            "border": null,
            "bottom": null,
            "display": null,
            "flex": null,
            "flex_flow": null,
            "grid_area": null,
            "grid_auto_columns": null,
            "grid_auto_flow": null,
            "grid_auto_rows": null,
            "grid_column": null,
            "grid_gap": null,
            "grid_row": null,
            "grid_template_areas": null,
            "grid_template_columns": null,
            "grid_template_rows": null,
            "height": null,
            "justify_content": null,
            "justify_items": null,
            "left": null,
            "margin": null,
            "max_height": null,
            "max_width": null,
            "min_height": null,
            "min_width": null,
            "object_fit": null,
            "object_position": null,
            "order": null,
            "overflow": null,
            "overflow_x": null,
            "overflow_y": null,
            "padding": null,
            "right": null,
            "top": null,
            "visibility": null,
            "width": null
          }
        },
        "186576c517654b5da08c0cebc40a14c4": {
          "model_module": "@jupyter-widgets/controls",
          "model_name": "DescriptionStyleModel",
          "model_module_version": "1.5.0",
          "state": {
            "_model_module": "@jupyter-widgets/controls",
            "_model_module_version": "1.5.0",
            "_model_name": "DescriptionStyleModel",
            "_view_count": null,
            "_view_module": "@jupyter-widgets/base",
            "_view_module_version": "1.2.0",
            "_view_name": "StyleView",
            "description_width": ""
          }
        },
        "e905cff8d3d346b8bde0806442799f96": {
          "model_module": "@jupyter-widgets/controls",
          "model_name": "HBoxModel",
          "model_module_version": "1.5.0",
          "state": {
            "_dom_classes": [],
            "_model_module": "@jupyter-widgets/controls",
            "_model_module_version": "1.5.0",
            "_model_name": "HBoxModel",
            "_view_count": null,
            "_view_module": "@jupyter-widgets/controls",
            "_view_module_version": "1.5.0",
            "_view_name": "HBoxView",
            "box_style": "",
            "children": [
              "IPY_MODEL_1f697e1774954d49a4933fef00f27a20",
              "IPY_MODEL_a746eb1bcaf74438890cd5a9fc6f3f95",
              "IPY_MODEL_2a839b9d32c64c96a1f8eadb26f5eaef"
            ],
            "layout": "IPY_MODEL_3e9b8fbbf4ef4096bdf0dec7762690f6"
          }
        },
        "1f697e1774954d49a4933fef00f27a20": {
          "model_module": "@jupyter-widgets/controls",
          "model_name": "HTMLModel",
          "model_module_version": "1.5.0",
          "state": {
            "_dom_classes": [],
            "_model_module": "@jupyter-widgets/controls",
            "_model_module_version": "1.5.0",
            "_model_name": "HTMLModel",
            "_view_count": null,
            "_view_module": "@jupyter-widgets/controls",
            "_view_module_version": "1.5.0",
            "_view_name": "HTMLView",
            "description": "",
            "description_tooltip": null,
            "layout": "IPY_MODEL_7c36cfc716ce4f0cbe1d608d0052edef",
            "placeholder": "​",
            "style": "IPY_MODEL_1849f82fe49744a7b72df196ad07d363",
            "value": "model.safetensors: 100%"
          }
        },
        "a746eb1bcaf74438890cd5a9fc6f3f95": {
          "model_module": "@jupyter-widgets/controls",
          "model_name": "FloatProgressModel",
          "model_module_version": "1.5.0",
          "state": {
            "_dom_classes": [],
            "_model_module": "@jupyter-widgets/controls",
            "_model_module_version": "1.5.0",
            "_model_name": "FloatProgressModel",
            "_view_count": null,
            "_view_module": "@jupyter-widgets/controls",
            "_view_module_version": "1.5.0",
            "_view_name": "ProgressView",
            "bar_style": "success",
            "description": "",
            "description_tooltip": null,
            "layout": "IPY_MODEL_c3246ad94e8443fcbacca1d8a557ef43",
            "max": 440449768,
            "min": 0,
            "orientation": "horizontal",
            "style": "IPY_MODEL_ef132ba33d3d400ab8c96ed6f85096be",
            "value": 440449768
          }
        },
        "2a839b9d32c64c96a1f8eadb26f5eaef": {
          "model_module": "@jupyter-widgets/controls",
          "model_name": "HTMLModel",
          "model_module_version": "1.5.0",
          "state": {
            "_dom_classes": [],
            "_model_module": "@jupyter-widgets/controls",
            "_model_module_version": "1.5.0",
            "_model_name": "HTMLModel",
            "_view_count": null,
            "_view_module": "@jupyter-widgets/controls",
            "_view_module_version": "1.5.0",
            "_view_name": "HTMLView",
            "description": "",
            "description_tooltip": null,
            "layout": "IPY_MODEL_ab8691cb386446beb7bb7c81396ad76e",
            "placeholder": "​",
            "style": "IPY_MODEL_a3387a5de58f46f8a29c5c0f6bd5fbb1",
            "value": " 440M/440M [00:04&lt;00:00, 119MB/s]"
          }
        },
        "3e9b8fbbf4ef4096bdf0dec7762690f6": {
          "model_module": "@jupyter-widgets/base",
          "model_name": "LayoutModel",
          "model_module_version": "1.2.0",
          "state": {
            "_model_module": "@jupyter-widgets/base",
            "_model_module_version": "1.2.0",
            "_model_name": "LayoutModel",
            "_view_count": null,
            "_view_module": "@jupyter-widgets/base",
            "_view_module_version": "1.2.0",
            "_view_name": "LayoutView",
            "align_content": null,
            "align_items": null,
            "align_self": null,
            "border": null,
            "bottom": null,
            "display": null,
            "flex": null,
            "flex_flow": null,
            "grid_area": null,
            "grid_auto_columns": null,
            "grid_auto_flow": null,
            "grid_auto_rows": null,
            "grid_column": null,
            "grid_gap": null,
            "grid_row": null,
            "grid_template_areas": null,
            "grid_template_columns": null,
            "grid_template_rows": null,
            "height": null,
            "justify_content": null,
            "justify_items": null,
            "left": null,
            "margin": null,
            "max_height": null,
            "max_width": null,
            "min_height": null,
            "min_width": null,
            "object_fit": null,
            "object_position": null,
            "order": null,
            "overflow": null,
            "overflow_x": null,
            "overflow_y": null,
            "padding": null,
            "right": null,
            "top": null,
            "visibility": null,
            "width": null
          }
        },
        "7c36cfc716ce4f0cbe1d608d0052edef": {
          "model_module": "@jupyter-widgets/base",
          "model_name": "LayoutModel",
          "model_module_version": "1.2.0",
          "state": {
            "_model_module": "@jupyter-widgets/base",
            "_model_module_version": "1.2.0",
            "_model_name": "LayoutModel",
            "_view_count": null,
            "_view_module": "@jupyter-widgets/base",
            "_view_module_version": "1.2.0",
            "_view_name": "LayoutView",
            "align_content": null,
            "align_items": null,
            "align_self": null,
            "border": null,
            "bottom": null,
            "display": null,
            "flex": null,
            "flex_flow": null,
            "grid_area": null,
            "grid_auto_columns": null,
            "grid_auto_flow": null,
            "grid_auto_rows": null,
            "grid_column": null,
            "grid_gap": null,
            "grid_row": null,
            "grid_template_areas": null,
            "grid_template_columns": null,
            "grid_template_rows": null,
            "height": null,
            "justify_content": null,
            "justify_items": null,
            "left": null,
            "margin": null,
            "max_height": null,
            "max_width": null,
            "min_height": null,
            "min_width": null,
            "object_fit": null,
            "object_position": null,
            "order": null,
            "overflow": null,
            "overflow_x": null,
            "overflow_y": null,
            "padding": null,
            "right": null,
            "top": null,
            "visibility": null,
            "width": null
          }
        },
        "1849f82fe49744a7b72df196ad07d363": {
          "model_module": "@jupyter-widgets/controls",
          "model_name": "DescriptionStyleModel",
          "model_module_version": "1.5.0",
          "state": {
            "_model_module": "@jupyter-widgets/controls",
            "_model_module_version": "1.5.0",
            "_model_name": "DescriptionStyleModel",
            "_view_count": null,
            "_view_module": "@jupyter-widgets/base",
            "_view_module_version": "1.2.0",
            "_view_name": "StyleView",
            "description_width": ""
          }
        },
        "c3246ad94e8443fcbacca1d8a557ef43": {
          "model_module": "@jupyter-widgets/base",
          "model_name": "LayoutModel",
          "model_module_version": "1.2.0",
          "state": {
            "_model_module": "@jupyter-widgets/base",
            "_model_module_version": "1.2.0",
            "_model_name": "LayoutModel",
            "_view_count": null,
            "_view_module": "@jupyter-widgets/base",
            "_view_module_version": "1.2.0",
            "_view_name": "LayoutView",
            "align_content": null,
            "align_items": null,
            "align_self": null,
            "border": null,
            "bottom": null,
            "display": null,
            "flex": null,
            "flex_flow": null,
            "grid_area": null,
            "grid_auto_columns": null,
            "grid_auto_flow": null,
            "grid_auto_rows": null,
            "grid_column": null,
            "grid_gap": null,
            "grid_row": null,
            "grid_template_areas": null,
            "grid_template_columns": null,
            "grid_template_rows": null,
            "height": null,
            "justify_content": null,
            "justify_items": null,
            "left": null,
            "margin": null,
            "max_height": null,
            "max_width": null,
            "min_height": null,
            "min_width": null,
            "object_fit": null,
            "object_position": null,
            "order": null,
            "overflow": null,
            "overflow_x": null,
            "overflow_y": null,
            "padding": null,
            "right": null,
            "top": null,
            "visibility": null,
            "width": null
          }
        },
        "ef132ba33d3d400ab8c96ed6f85096be": {
          "model_module": "@jupyter-widgets/controls",
          "model_name": "ProgressStyleModel",
          "model_module_version": "1.5.0",
          "state": {
            "_model_module": "@jupyter-widgets/controls",
            "_model_module_version": "1.5.0",
            "_model_name": "ProgressStyleModel",
            "_view_count": null,
            "_view_module": "@jupyter-widgets/base",
            "_view_module_version": "1.2.0",
            "_view_name": "StyleView",
            "bar_color": null,
            "description_width": ""
          }
        },
        "ab8691cb386446beb7bb7c81396ad76e": {
          "model_module": "@jupyter-widgets/base",
          "model_name": "LayoutModel",
          "model_module_version": "1.2.0",
          "state": {
            "_model_module": "@jupyter-widgets/base",
            "_model_module_version": "1.2.0",
            "_model_name": "LayoutModel",
            "_view_count": null,
            "_view_module": "@jupyter-widgets/base",
            "_view_module_version": "1.2.0",
            "_view_name": "LayoutView",
            "align_content": null,
            "align_items": null,
            "align_self": null,
            "border": null,
            "bottom": null,
            "display": null,
            "flex": null,
            "flex_flow": null,
            "grid_area": null,
            "grid_auto_columns": null,
            "grid_auto_flow": null,
            "grid_auto_rows": null,
            "grid_column": null,
            "grid_gap": null,
            "grid_row": null,
            "grid_template_areas": null,
            "grid_template_columns": null,
            "grid_template_rows": null,
            "height": null,
            "justify_content": null,
            "justify_items": null,
            "left": null,
            "margin": null,
            "max_height": null,
            "max_width": null,
            "min_height": null,
            "min_width": null,
            "object_fit": null,
            "object_position": null,
            "order": null,
            "overflow": null,
            "overflow_x": null,
            "overflow_y": null,
            "padding": null,
            "right": null,
            "top": null,
            "visibility": null,
            "width": null
          }
        },
        "a3387a5de58f46f8a29c5c0f6bd5fbb1": {
          "model_module": "@jupyter-widgets/controls",
          "model_name": "DescriptionStyleModel",
          "model_module_version": "1.5.0",
          "state": {
            "_model_module": "@jupyter-widgets/controls",
            "_model_module_version": "1.5.0",
            "_model_name": "DescriptionStyleModel",
            "_view_count": null,
            "_view_module": "@jupyter-widgets/base",
            "_view_module_version": "1.2.0",
            "_view_name": "StyleView",
            "description_width": ""
          }
        }
      }
    }
  },
  "cells": [
    {
      "cell_type": "code",
      "execution_count": 1,
      "metadata": {
        "colab": {
          "base_uri": "https://localhost:8080/"
        },
        "id": "0r3JL0GkhfXl",
        "outputId": "7b79d4c9-3612-44e9-909c-2882d9c16aca"
      },
      "outputs": [
        {
          "output_type": "stream",
          "name": "stdout",
          "text": [
            "10.35.157.234:8470\n"
          ]
        }
      ],
      "source": [
        "#Using TPU\n",
        "import os\n",
        "print(os.environ.get('COLAB_TPU_ADDR'))"
      ]
    },
    {
      "cell_type": "code",
      "source": [
        "!pip install -q tf-models-official"
      ],
      "metadata": {
        "colab": {
          "base_uri": "https://localhost:8080/"
        },
        "id": "_Tjat7w0iHZQ",
        "outputId": "1e7ce561-13ec-4809-ce6d-2dbe71f9c856"
      },
      "execution_count": 2,
      "outputs": [
        {
          "output_type": "stream",
          "name": "stdout",
          "text": [
            "\u001b[2K     \u001b[90m━━━━━━━━━━━━━━━━━━━━━━━━━━━━━━━━━━━━━━━━\u001b[0m \u001b[32m2.7/2.7 MB\u001b[0m \u001b[31m12.2 MB/s\u001b[0m eta \u001b[36m0:00:00\u001b[0m\n",
            "\u001b[2K     \u001b[90m━━━━━━━━━━━━━━━━━━━━━━━━━━━━━━━━━━━━━━━━\u001b[0m \u001b[32m119.7/119.7 kB\u001b[0m \u001b[31m5.8 MB/s\u001b[0m eta \u001b[36m0:00:00\u001b[0m\n",
            "\u001b[2K     \u001b[90m━━━━━━━━━━━━━━━━━━━━━━━━━━━━━━━━━━━━━━━━\u001b[0m \u001b[32m1.3/1.3 MB\u001b[0m \u001b[31m13.7 MB/s\u001b[0m eta \u001b[36m0:00:00\u001b[0m\n",
            "\u001b[2K     \u001b[90m━━━━━━━━━━━━━━━━━━━━━━━━━━━━━━━━━━━━━━━━\u001b[0m \u001b[32m43.6/43.6 kB\u001b[0m \u001b[31m2.3 MB/s\u001b[0m eta \u001b[36m0:00:00\u001b[0m\n",
            "\u001b[?25h  Preparing metadata (setup.py) ... \u001b[?25l\u001b[?25hdone\n",
            "\u001b[2K     \u001b[90m━━━━━━━━━━━━━━━━━━━━━━━━━━━━━━━━━━━━━━━━\u001b[0m \u001b[32m241.2/241.2 kB\u001b[0m \u001b[31m23.3 MB/s\u001b[0m eta \u001b[36m0:00:00\u001b[0m\n",
            "\u001b[2K     \u001b[90m━━━━━━━━━━━━━━━━━━━━━━━━━━━━━━━━━━━━━━━━\u001b[0m \u001b[32m6.5/6.5 MB\u001b[0m \u001b[31m72.4 MB/s\u001b[0m eta \u001b[36m0:00:00\u001b[0m\n",
            "\u001b[2K     \u001b[90m━━━━━━━━━━━━━━━━━━━━━━━━━━━━━━━━━━━━━━━━\u001b[0m \u001b[32m489.9/489.9 MB\u001b[0m \u001b[31m1.9 MB/s\u001b[0m eta \u001b[36m0:00:00\u001b[0m\n",
            "\u001b[2K     \u001b[90m━━━━━━━━━━━━━━━━━━━━━━━━━━━━━━━━━━━━━━━━\u001b[0m \u001b[32m5.5/5.5 MB\u001b[0m \u001b[31m42.6 MB/s\u001b[0m eta \u001b[36m0:00:00\u001b[0m\n",
            "\u001b[2K     \u001b[90m━━━━━━━━━━━━━━━━━━━━━━━━━━━━━━━━━━━━━━━━\u001b[0m \u001b[32m440.7/440.7 kB\u001b[0m \u001b[31m18.3 MB/s\u001b[0m eta \u001b[36m0:00:00\u001b[0m\n",
            "\u001b[2K     \u001b[90m━━━━━━━━━━━━━━━━━━━━━━━━━━━━━━━━━━━━━━━━\u001b[0m \u001b[32m1.7/1.7 MB\u001b[0m \u001b[31m48.8 MB/s\u001b[0m eta \u001b[36m0:00:00\u001b[0m\n",
            "\u001b[?25h  Building wheel for seqeval (setup.py) ... \u001b[?25l\u001b[?25hdone\n"
          ]
        }
      ]
    },
    {
      "cell_type": "code",
      "source": [
        "pip install scikit-plot"
      ],
      "metadata": {
        "colab": {
          "base_uri": "https://localhost:8080/"
        },
        "id": "FZt_N_V1iPnb",
        "outputId": "17f4d8c6-ce73-43eb-85dc-2c286d3df464"
      },
      "execution_count": 3,
      "outputs": [
        {
          "output_type": "stream",
          "name": "stdout",
          "text": [
            "Collecting scikit-plot\n",
            "  Downloading scikit_plot-0.3.7-py3-none-any.whl (33 kB)\n",
            "Requirement already satisfied: matplotlib>=1.4.0 in /usr/local/lib/python3.10/dist-packages (from scikit-plot) (3.7.1)\n",
            "Requirement already satisfied: scikit-learn>=0.18 in /usr/local/lib/python3.10/dist-packages (from scikit-plot) (1.2.2)\n",
            "Requirement already satisfied: scipy>=0.9 in /usr/local/lib/python3.10/dist-packages (from scikit-plot) (1.11.3)\n",
            "Requirement already satisfied: joblib>=0.10 in /usr/local/lib/python3.10/dist-packages (from scikit-plot) (1.3.2)\n",
            "Requirement already satisfied: contourpy>=1.0.1 in /usr/local/lib/python3.10/dist-packages (from matplotlib>=1.4.0->scikit-plot) (1.2.0)\n",
            "Requirement already satisfied: cycler>=0.10 in /usr/local/lib/python3.10/dist-packages (from matplotlib>=1.4.0->scikit-plot) (0.12.1)\n",
            "Requirement already satisfied: fonttools>=4.22.0 in /usr/local/lib/python3.10/dist-packages (from matplotlib>=1.4.0->scikit-plot) (4.44.0)\n",
            "Requirement already satisfied: kiwisolver>=1.0.1 in /usr/local/lib/python3.10/dist-packages (from matplotlib>=1.4.0->scikit-plot) (1.4.5)\n",
            "Requirement already satisfied: numpy>=1.20 in /usr/local/lib/python3.10/dist-packages (from matplotlib>=1.4.0->scikit-plot) (1.23.5)\n",
            "Requirement already satisfied: packaging>=20.0 in /usr/local/lib/python3.10/dist-packages (from matplotlib>=1.4.0->scikit-plot) (23.2)\n",
            "Requirement already satisfied: pillow>=6.2.0 in /usr/local/lib/python3.10/dist-packages (from matplotlib>=1.4.0->scikit-plot) (9.4.0)\n",
            "Requirement already satisfied: pyparsing>=2.3.1 in /usr/local/lib/python3.10/dist-packages (from matplotlib>=1.4.0->scikit-plot) (3.1.1)\n",
            "Requirement already satisfied: python-dateutil>=2.7 in /usr/local/lib/python3.10/dist-packages (from matplotlib>=1.4.0->scikit-plot) (2.8.2)\n",
            "Requirement already satisfied: threadpoolctl>=2.0.0 in /usr/local/lib/python3.10/dist-packages (from scikit-learn>=0.18->scikit-plot) (3.2.0)\n",
            "Requirement already satisfied: six>=1.5 in /usr/local/lib/python3.10/dist-packages (from python-dateutil>=2.7->matplotlib>=1.4.0->scikit-plot) (1.16.0)\n",
            "Installing collected packages: scikit-plot\n",
            "Successfully installed scikit-plot-0.3.7\n"
          ]
        }
      ]
    },
    {
      "cell_type": "code",
      "source": [
        "pip install transformers"
      ],
      "metadata": {
        "colab": {
          "base_uri": "https://localhost:8080/"
        },
        "id": "lidHwBhViRpI",
        "outputId": "eaf5b742-a705-43e2-bcce-a4d3b768401f"
      },
      "execution_count": 4,
      "outputs": [
        {
          "output_type": "stream",
          "name": "stdout",
          "text": [
            "Collecting transformers\n",
            "  Downloading transformers-4.35.2-py3-none-any.whl (7.9 MB)\n",
            "\u001b[2K     \u001b[90m━━━━━━━━━━━━━━━━━━━━━━━━━━━━━━━━━━━━━━━━\u001b[0m \u001b[32m7.9/7.9 MB\u001b[0m \u001b[31m16.5 MB/s\u001b[0m eta \u001b[36m0:00:00\u001b[0m\n",
            "\u001b[?25hRequirement already satisfied: filelock in /usr/local/lib/python3.10/dist-packages (from transformers) (3.13.1)\n",
            "Collecting huggingface-hub<1.0,>=0.16.4 (from transformers)\n",
            "  Downloading huggingface_hub-0.19.3-py3-none-any.whl (311 kB)\n",
            "\u001b[2K     \u001b[90m━━━━━━━━━━━━━━━━━━━━━━━━━━━━━━━━━━━━━━━━\u001b[0m \u001b[32m311.2/311.2 kB\u001b[0m \u001b[31m22.8 MB/s\u001b[0m eta \u001b[36m0:00:00\u001b[0m\n",
            "\u001b[?25hRequirement already satisfied: numpy>=1.17 in /usr/local/lib/python3.10/dist-packages (from transformers) (1.23.5)\n",
            "Requirement already satisfied: packaging>=20.0 in /usr/local/lib/python3.10/dist-packages (from transformers) (23.2)\n",
            "Requirement already satisfied: pyyaml>=5.1 in /usr/local/lib/python3.10/dist-packages (from transformers) (6.0.1)\n",
            "Requirement already satisfied: regex!=2019.12.17 in /usr/local/lib/python3.10/dist-packages (from transformers) (2023.6.3)\n",
            "Requirement already satisfied: requests in /usr/local/lib/python3.10/dist-packages (from transformers) (2.31.0)\n",
            "Collecting tokenizers<0.19,>=0.14 (from transformers)\n",
            "  Downloading tokenizers-0.15.0-cp310-cp310-manylinux_2_17_x86_64.manylinux2014_x86_64.whl (3.8 MB)\n",
            "\u001b[2K     \u001b[90m━━━━━━━━━━━━━━━━━━━━━━━━━━━━━━━━━━━━━━━━\u001b[0m \u001b[32m3.8/3.8 MB\u001b[0m \u001b[31m35.5 MB/s\u001b[0m eta \u001b[36m0:00:00\u001b[0m\n",
            "\u001b[?25hCollecting safetensors>=0.3.1 (from transformers)\n",
            "  Downloading safetensors-0.4.0-cp310-cp310-manylinux_2_17_x86_64.manylinux2014_x86_64.whl (1.3 MB)\n",
            "\u001b[2K     \u001b[90m━━━━━━━━━━━━━━━━━━━━━━━━━━━━━━━━━━━━━━━━\u001b[0m \u001b[32m1.3/1.3 MB\u001b[0m \u001b[31m42.7 MB/s\u001b[0m eta \u001b[36m0:00:00\u001b[0m\n",
            "\u001b[?25hRequirement already satisfied: tqdm>=4.27 in /usr/local/lib/python3.10/dist-packages (from transformers) (4.66.1)\n",
            "Requirement already satisfied: fsspec>=2023.5.0 in /usr/local/lib/python3.10/dist-packages (from huggingface-hub<1.0,>=0.16.4->transformers) (2023.6.0)\n",
            "Requirement already satisfied: typing-extensions>=3.7.4.3 in /usr/local/lib/python3.10/dist-packages (from huggingface-hub<1.0,>=0.16.4->transformers) (4.5.0)\n",
            "Requirement already satisfied: charset-normalizer<4,>=2 in /usr/local/lib/python3.10/dist-packages (from requests->transformers) (3.3.2)\n",
            "Requirement already satisfied: idna<4,>=2.5 in /usr/local/lib/python3.10/dist-packages (from requests->transformers) (3.4)\n",
            "Requirement already satisfied: urllib3<3,>=1.21.1 in /usr/local/lib/python3.10/dist-packages (from requests->transformers) (2.0.7)\n",
            "Requirement already satisfied: certifi>=2017.4.17 in /usr/local/lib/python3.10/dist-packages (from requests->transformers) (2023.7.22)\n",
            "Installing collected packages: safetensors, huggingface-hub, tokenizers, transformers\n",
            "Successfully installed huggingface-hub-0.19.3 safetensors-0.4.0 tokenizers-0.15.0 transformers-4.35.2\n"
          ]
        }
      ]
    },
    {
      "cell_type": "code",
      "source": [
        "#Imporing the important libraries such as pandas, numpy\n",
        "import pandas as pd\n",
        "import numpy as np\n",
        "#Importing seaborn for ploting\n",
        "import seaborn as sns\n",
        "#Importing matplotlib for ploting\n",
        "import matplotlib.pyplot as plt\n",
        "import nltk\n",
        "from nltk.tokenize import sent_tokenize, word_tokenize\n",
        "from nltk.corpus import stopwords\n",
        "from nltk.stem import WordNetLemmatizer\n",
        "from nltk.stem import PorterStemmer\n",
        "\n",
        "import re\n",
        "\n",
        "#Importing train_test_split to split the data to train and test\n",
        "from sklearn.model_selection import train_test_split\n",
        "\n",
        "#Importing countVectorizer to do vectorization\n",
        "from sklearn.feature_extraction.text import CountVectorizer\n",
        "\n",
        "#Importing model comparision metrics\n",
        "from sklearn.metrics import confusion_matrix, classification_report, f1_score, recall_score\n",
        "\n",
        "from sklearn.naive_bayes import MultinomialNB, BernoulliNB\n",
        "\n",
        "from sklearn.model_selection import cross_validate\n",
        "from sklearn.metrics import make_scorer\n",
        "from sklearn.metrics import f1_score, accuracy_score, precision_score, recall_score\n",
        "\n",
        "from scikitplot.metrics import plot_roc, plot_precision_recall\n",
        "\n",
        "from sklearn.metrics import average_precision_score\n",
        "#Importing LogisticRegression model\n",
        "from sklearn.linear_model import LogisticRegression\n",
        "\n",
        "#Importing Sequential model\n",
        "from tensorflow.keras.models import Sequential\n",
        "#Importing Dense, GRU, Embedding, Dropout to use them in the model\n",
        "from tensorflow.keras.layers import Dense, GRU, Embedding, Dropout\n",
        "#Importing pad_sequences\n",
        "from tensorflow.keras.preprocessing.sequence import pad_sequences\n",
        "#Importing Adam\n",
        "from tensorflow.keras.optimizers import Adam\n",
        "\n",
        "#Importing the LinearSVC model\n",
        "from sklearn.svm import LinearSVC\n",
        "#Importing plot_roc, plot_precision_recall to plotting\n",
        "from scikitplot.metrics import plot_roc, plot_precision_recall\n",
        "#Importing CalibratedClassifierCV\n",
        "from sklearn.calibration import CalibratedClassifierCV\n",
        "\n",
        "#Importing PrecisionRecallDisplay\n",
        "from sklearn.metrics import PrecisionRecallDisplay\n",
        "\n",
        "#Importing TfidfVectorizer\n",
        "from sklearn.feature_extraction.text import TfidfVectorizer\n",
        "from sklearn.pipeline import Pipeline\n",
        "#Importing RandomForestClassifier to build rf model\n",
        "from sklearn.ensemble import RandomForestClassifier\n",
        "#Importing AdaBoostClassifier model\n",
        "from sklearn.ensemble import AdaBoostClassifier\n",
        "#Improting Tokenizer to use it in the tokenization process\n",
        "from tensorflow.keras.preprocessing.text import Tokenizer\n",
        "from tensorflow.keras.preprocessing.sequence import pad_sequences\n",
        "\n",
        "#Importing EarlyStopping to stop the model if it is not improving\n",
        "from tensorflow.keras.callbacks import EarlyStopping\n",
        "#Importing class_weight\n",
        "from sklearn.utils import class_weight\n",
        "\n",
        "#Importing BertTokenizer to use it in bert\n",
        "from transformers import BertTokenizer\n",
        "\n",
        "from tensorflow.keras.losses import BinaryCrossentropy\n",
        "from transformers import TFBertModel\n",
        "\n",
        "from tensorflow.keras.layers import Input, Dropout, Dense, BatchNormalization\n",
        "from tensorflow.keras import Model\n",
        "#Importing optimization\n",
        "from official.nlp import optimization\n",
        "#Importing Recall\n",
        "from tensorflow.keras.metrics import Recall\n",
        "\n",
        "#Importing wordCloud\n",
        "from wordcloud import WordCloud\n",
        "\n",
        "import warnings\n",
        "warnings.filterwarnings(\"ignore\")\n",
        "plt.rcParams[\"figure.figsize\"] = (14,6)\n",
        "pd.set_option('display.max_columns', 50)"
      ],
      "metadata": {
        "id": "gQW6d6qRiUCt"
      },
      "execution_count": 5,
      "outputs": []
    },
    {
      "cell_type": "code",
      "source": [
        "#Domwloding the punkt, stopwords, wordnet, omw\n",
        "nltk.download('punkt')\n",
        "nltk.download('stopwords')\n",
        "nltk.download('wordnet')\n",
        "nltk.download('omw-1.4')"
      ],
      "metadata": {
        "colab": {
          "base_uri": "https://localhost:8080/"
        },
        "id": "Mc3070NniaSS",
        "outputId": "7add1cf3-a983-4573-a427-c1f852792eb5"
      },
      "execution_count": 6,
      "outputs": [
        {
          "output_type": "stream",
          "name": "stderr",
          "text": [
            "[nltk_data] Downloading package punkt to /root/nltk_data...\n",
            "[nltk_data]   Unzipping tokenizers/punkt.zip.\n",
            "[nltk_data] Downloading package stopwords to /root/nltk_data...\n",
            "[nltk_data]   Unzipping corpora/stopwords.zip.\n",
            "[nltk_data] Downloading package wordnet to /root/nltk_data...\n",
            "[nltk_data] Downloading package omw-1.4 to /root/nltk_data...\n"
          ]
        },
        {
          "output_type": "execute_result",
          "data": {
            "text/plain": [
              "True"
            ]
          },
          "metadata": {},
          "execution_count": 6
        }
      ]
    },
    {
      "cell_type": "code",
      "source": [
        "#Importing tensorflow\n",
        "import tensorflow as tf\n",
        "\n",
        "resolver = tf.distribute.cluster_resolver.TPUClusterResolver(tpu='grpc://' + os.environ['COLAB_TPU_ADDR'])\n",
        "\n",
        "tf.config.experimental_connect_to_cluster(resolver)\n",
        "tf.tpu.experimental.initialize_tpu_system(resolver)\n",
        "print(\"All devices: \", tf.config.list_logical_devices('TPU'))"
      ],
      "metadata": {
        "colab": {
          "base_uri": "https://localhost:8080/"
        },
        "id": "3N-aGLqvik8h",
        "outputId": "344bf105-809a-40e3-ba82-463517d2d9c8"
      },
      "execution_count": 7,
      "outputs": [
        {
          "output_type": "stream",
          "name": "stdout",
          "text": [
            "All devices:  [LogicalDevice(name='/job:worker/replica:0/task:0/device:TPU:0', device_type='TPU'), LogicalDevice(name='/job:worker/replica:0/task:0/device:TPU:1', device_type='TPU'), LogicalDevice(name='/job:worker/replica:0/task:0/device:TPU:2', device_type='TPU'), LogicalDevice(name='/job:worker/replica:0/task:0/device:TPU:3', device_type='TPU'), LogicalDevice(name='/job:worker/replica:0/task:0/device:TPU:4', device_type='TPU'), LogicalDevice(name='/job:worker/replica:0/task:0/device:TPU:5', device_type='TPU'), LogicalDevice(name='/job:worker/replica:0/task:0/device:TPU:6', device_type='TPU'), LogicalDevice(name='/job:worker/replica:0/task:0/device:TPU:7', device_type='TPU')]\n"
          ]
        }
      ]
    },
    {
      "cell_type": "code",
      "source": [
        "resolver = tf.distribute.cluster_resolver.TPUClusterResolver()"
      ],
      "metadata": {
        "id": "GPAxAq6Ji3eo"
      },
      "execution_count": 8,
      "outputs": []
    },
    {
      "cell_type": "code",
      "source": [
        "strategy = tf.distribute.TPUStrategy(resolver)"
      ],
      "metadata": {
        "id": "b5kZ73Aji-wa"
      },
      "execution_count": 9,
      "outputs": []
    },
    {
      "cell_type": "code",
      "source": [
        "#Using the drive\n",
        "from google.colab import drive\n",
        "drive.mount('/content/drive')"
      ],
      "metadata": {
        "colab": {
          "base_uri": "https://localhost:8080/"
        },
        "id": "_hm8X8hpjAwl",
        "outputId": "0562d9d7-552e-4aee-8f79-82237aa06560"
      },
      "execution_count": 10,
      "outputs": [
        {
          "output_type": "stream",
          "name": "stdout",
          "text": [
            "Drive already mounted at /content/drive; to attempt to forcibly remount, call drive.mount(\"/content/drive\", force_remount=True).\n"
          ]
        }
      ]
    },
    {
      "cell_type": "code",
      "source": [
        "#Seed value\n",
        "s = 101\n",
        "#Test size\n",
        "t = 0.1"
      ],
      "metadata": {
        "id": "9_olAKKujCUo"
      },
      "execution_count": 11,
      "outputs": []
    },
    {
      "cell_type": "code",
      "source": [
        "#reading the data from the csv file\n",
        "df_bert = pd.read_csv('/content/drive/MyDrive/Colab Notebooks/DL-project 5/Womens Clothing E-Commerce Reviews.csv')\n",
        "df_bert.head()"
      ],
      "metadata": {
        "colab": {
          "base_uri": "https://localhost:8080/",
          "height": 625
        },
        "id": "6q6JV97mjJeM",
        "outputId": "e3aa44ab-a6bd-461b-8f41-6a2da4c11b60"
      },
      "execution_count": 12,
      "outputs": [
        {
          "output_type": "execute_result",
          "data": {
            "text/plain": [
              "   Unnamed: 0  Clothing ID  Age                    Title  \\\n",
              "0           0          767   33                      NaN   \n",
              "1           1         1080   34                      NaN   \n",
              "2           2         1077   60  Some major design flaws   \n",
              "3           3         1049   50         My favorite buy!   \n",
              "4           4          847   47         Flattering shirt   \n",
              "\n",
              "                                         Review Text  Rating  Recommended IND  \\\n",
              "0  Absolutely wonderful - silky and sexy and comf...       4                1   \n",
              "1  Love this dress!  it's sooo pretty.  i happene...       5                1   \n",
              "2  I had such high hopes for this dress and reall...       3                0   \n",
              "3  I love, love, love this jumpsuit. it's fun, fl...       5                1   \n",
              "4  This shirt is very flattering to all due to th...       5                1   \n",
              "\n",
              "   Positive Feedback Count   Division Name Department Name Class Name  \n",
              "0                        0       Initmates        Intimate  Intimates  \n",
              "1                        4         General         Dresses    Dresses  \n",
              "2                        0         General         Dresses    Dresses  \n",
              "3                        0  General Petite         Bottoms      Pants  \n",
              "4                        6         General            Tops    Blouses  "
            ],
            "text/html": [
              "\n",
              "  <div id=\"df-0c6e3a97-c1a3-428e-9410-154b75701085\" class=\"colab-df-container\">\n",
              "    <div>\n",
              "<style scoped>\n",
              "    .dataframe tbody tr th:only-of-type {\n",
              "        vertical-align: middle;\n",
              "    }\n",
              "\n",
              "    .dataframe tbody tr th {\n",
              "        vertical-align: top;\n",
              "    }\n",
              "\n",
              "    .dataframe thead th {\n",
              "        text-align: right;\n",
              "    }\n",
              "</style>\n",
              "<table border=\"1\" class=\"dataframe\">\n",
              "  <thead>\n",
              "    <tr style=\"text-align: right;\">\n",
              "      <th></th>\n",
              "      <th>Unnamed: 0</th>\n",
              "      <th>Clothing ID</th>\n",
              "      <th>Age</th>\n",
              "      <th>Title</th>\n",
              "      <th>Review Text</th>\n",
              "      <th>Rating</th>\n",
              "      <th>Recommended IND</th>\n",
              "      <th>Positive Feedback Count</th>\n",
              "      <th>Division Name</th>\n",
              "      <th>Department Name</th>\n",
              "      <th>Class Name</th>\n",
              "    </tr>\n",
              "  </thead>\n",
              "  <tbody>\n",
              "    <tr>\n",
              "      <th>0</th>\n",
              "      <td>0</td>\n",
              "      <td>767</td>\n",
              "      <td>33</td>\n",
              "      <td>NaN</td>\n",
              "      <td>Absolutely wonderful - silky and sexy and comf...</td>\n",
              "      <td>4</td>\n",
              "      <td>1</td>\n",
              "      <td>0</td>\n",
              "      <td>Initmates</td>\n",
              "      <td>Intimate</td>\n",
              "      <td>Intimates</td>\n",
              "    </tr>\n",
              "    <tr>\n",
              "      <th>1</th>\n",
              "      <td>1</td>\n",
              "      <td>1080</td>\n",
              "      <td>34</td>\n",
              "      <td>NaN</td>\n",
              "      <td>Love this dress!  it's sooo pretty.  i happene...</td>\n",
              "      <td>5</td>\n",
              "      <td>1</td>\n",
              "      <td>4</td>\n",
              "      <td>General</td>\n",
              "      <td>Dresses</td>\n",
              "      <td>Dresses</td>\n",
              "    </tr>\n",
              "    <tr>\n",
              "      <th>2</th>\n",
              "      <td>2</td>\n",
              "      <td>1077</td>\n",
              "      <td>60</td>\n",
              "      <td>Some major design flaws</td>\n",
              "      <td>I had such high hopes for this dress and reall...</td>\n",
              "      <td>3</td>\n",
              "      <td>0</td>\n",
              "      <td>0</td>\n",
              "      <td>General</td>\n",
              "      <td>Dresses</td>\n",
              "      <td>Dresses</td>\n",
              "    </tr>\n",
              "    <tr>\n",
              "      <th>3</th>\n",
              "      <td>3</td>\n",
              "      <td>1049</td>\n",
              "      <td>50</td>\n",
              "      <td>My favorite buy!</td>\n",
              "      <td>I love, love, love this jumpsuit. it's fun, fl...</td>\n",
              "      <td>5</td>\n",
              "      <td>1</td>\n",
              "      <td>0</td>\n",
              "      <td>General Petite</td>\n",
              "      <td>Bottoms</td>\n",
              "      <td>Pants</td>\n",
              "    </tr>\n",
              "    <tr>\n",
              "      <th>4</th>\n",
              "      <td>4</td>\n",
              "      <td>847</td>\n",
              "      <td>47</td>\n",
              "      <td>Flattering shirt</td>\n",
              "      <td>This shirt is very flattering to all due to th...</td>\n",
              "      <td>5</td>\n",
              "      <td>1</td>\n",
              "      <td>6</td>\n",
              "      <td>General</td>\n",
              "      <td>Tops</td>\n",
              "      <td>Blouses</td>\n",
              "    </tr>\n",
              "  </tbody>\n",
              "</table>\n",
              "</div>\n",
              "    <div class=\"colab-df-buttons\">\n",
              "\n",
              "  <div class=\"colab-df-container\">\n",
              "    <button class=\"colab-df-convert\" onclick=\"convertToInteractive('df-0c6e3a97-c1a3-428e-9410-154b75701085')\"\n",
              "            title=\"Convert this dataframe to an interactive table.\"\n",
              "            style=\"display:none;\">\n",
              "\n",
              "  <svg xmlns=\"http://www.w3.org/2000/svg\" height=\"24px\" viewBox=\"0 -960 960 960\">\n",
              "    <path d=\"M120-120v-720h720v720H120Zm60-500h600v-160H180v160Zm220 220h160v-160H400v160Zm0 220h160v-160H400v160ZM180-400h160v-160H180v160Zm440 0h160v-160H620v160ZM180-180h160v-160H180v160Zm440 0h160v-160H620v160Z\"/>\n",
              "  </svg>\n",
              "    </button>\n",
              "\n",
              "  <style>\n",
              "    .colab-df-container {\n",
              "      display:flex;\n",
              "      gap: 12px;\n",
              "    }\n",
              "\n",
              "    .colab-df-convert {\n",
              "      background-color: #E8F0FE;\n",
              "      border: none;\n",
              "      border-radius: 50%;\n",
              "      cursor: pointer;\n",
              "      display: none;\n",
              "      fill: #1967D2;\n",
              "      height: 32px;\n",
              "      padding: 0 0 0 0;\n",
              "      width: 32px;\n",
              "    }\n",
              "\n",
              "    .colab-df-convert:hover {\n",
              "      background-color: #E2EBFA;\n",
              "      box-shadow: 0px 1px 2px rgba(60, 64, 67, 0.3), 0px 1px 3px 1px rgba(60, 64, 67, 0.15);\n",
              "      fill: #174EA6;\n",
              "    }\n",
              "\n",
              "    .colab-df-buttons div {\n",
              "      margin-bottom: 4px;\n",
              "    }\n",
              "\n",
              "    [theme=dark] .colab-df-convert {\n",
              "      background-color: #3B4455;\n",
              "      fill: #D2E3FC;\n",
              "    }\n",
              "\n",
              "    [theme=dark] .colab-df-convert:hover {\n",
              "      background-color: #434B5C;\n",
              "      box-shadow: 0px 1px 3px 1px rgba(0, 0, 0, 0.15);\n",
              "      filter: drop-shadow(0px 1px 2px rgba(0, 0, 0, 0.3));\n",
              "      fill: #FFFFFF;\n",
              "    }\n",
              "  </style>\n",
              "\n",
              "    <script>\n",
              "      const buttonEl =\n",
              "        document.querySelector('#df-0c6e3a97-c1a3-428e-9410-154b75701085 button.colab-df-convert');\n",
              "      buttonEl.style.display =\n",
              "        google.colab.kernel.accessAllowed ? 'block' : 'none';\n",
              "\n",
              "      async function convertToInteractive(key) {\n",
              "        const element = document.querySelector('#df-0c6e3a97-c1a3-428e-9410-154b75701085');\n",
              "        const dataTable =\n",
              "          await google.colab.kernel.invokeFunction('convertToInteractive',\n",
              "                                                    [key], {});\n",
              "        if (!dataTable) return;\n",
              "\n",
              "        const docLinkHtml = 'Like what you see? Visit the ' +\n",
              "          '<a target=\"_blank\" href=https://colab.research.google.com/notebooks/data_table.ipynb>data table notebook</a>'\n",
              "          + ' to learn more about interactive tables.';\n",
              "        element.innerHTML = '';\n",
              "        dataTable['output_type'] = 'display_data';\n",
              "        await google.colab.output.renderOutput(dataTable, element);\n",
              "        const docLink = document.createElement('div');\n",
              "        docLink.innerHTML = docLinkHtml;\n",
              "        element.appendChild(docLink);\n",
              "      }\n",
              "    </script>\n",
              "  </div>\n",
              "\n",
              "\n",
              "<div id=\"df-67796e3a-b305-4247-b4e9-ef16318897ed\">\n",
              "  <button class=\"colab-df-quickchart\" onclick=\"quickchart('df-67796e3a-b305-4247-b4e9-ef16318897ed')\"\n",
              "            title=\"Suggest charts\"\n",
              "            style=\"display:none;\">\n",
              "\n",
              "<svg xmlns=\"http://www.w3.org/2000/svg\" height=\"24px\"viewBox=\"0 0 24 24\"\n",
              "     width=\"24px\">\n",
              "    <g>\n",
              "        <path d=\"M19 3H5c-1.1 0-2 .9-2 2v14c0 1.1.9 2 2 2h14c1.1 0 2-.9 2-2V5c0-1.1-.9-2-2-2zM9 17H7v-7h2v7zm4 0h-2V7h2v10zm4 0h-2v-4h2v4z\"/>\n",
              "    </g>\n",
              "</svg>\n",
              "  </button>\n",
              "\n",
              "<style>\n",
              "  .colab-df-quickchart {\n",
              "      --bg-color: #E8F0FE;\n",
              "      --fill-color: #1967D2;\n",
              "      --hover-bg-color: #E2EBFA;\n",
              "      --hover-fill-color: #174EA6;\n",
              "      --disabled-fill-color: #AAA;\n",
              "      --disabled-bg-color: #DDD;\n",
              "  }\n",
              "\n",
              "  [theme=dark] .colab-df-quickchart {\n",
              "      --bg-color: #3B4455;\n",
              "      --fill-color: #D2E3FC;\n",
              "      --hover-bg-color: #434B5C;\n",
              "      --hover-fill-color: #FFFFFF;\n",
              "      --disabled-bg-color: #3B4455;\n",
              "      --disabled-fill-color: #666;\n",
              "  }\n",
              "\n",
              "  .colab-df-quickchart {\n",
              "    background-color: var(--bg-color);\n",
              "    border: none;\n",
              "    border-radius: 50%;\n",
              "    cursor: pointer;\n",
              "    display: none;\n",
              "    fill: var(--fill-color);\n",
              "    height: 32px;\n",
              "    padding: 0;\n",
              "    width: 32px;\n",
              "  }\n",
              "\n",
              "  .colab-df-quickchart:hover {\n",
              "    background-color: var(--hover-bg-color);\n",
              "    box-shadow: 0 1px 2px rgba(60, 64, 67, 0.3), 0 1px 3px 1px rgba(60, 64, 67, 0.15);\n",
              "    fill: var(--button-hover-fill-color);\n",
              "  }\n",
              "\n",
              "  .colab-df-quickchart-complete:disabled,\n",
              "  .colab-df-quickchart-complete:disabled:hover {\n",
              "    background-color: var(--disabled-bg-color);\n",
              "    fill: var(--disabled-fill-color);\n",
              "    box-shadow: none;\n",
              "  }\n",
              "\n",
              "  .colab-df-spinner {\n",
              "    border: 2px solid var(--fill-color);\n",
              "    border-color: transparent;\n",
              "    border-bottom-color: var(--fill-color);\n",
              "    animation:\n",
              "      spin 1s steps(1) infinite;\n",
              "  }\n",
              "\n",
              "  @keyframes spin {\n",
              "    0% {\n",
              "      border-color: transparent;\n",
              "      border-bottom-color: var(--fill-color);\n",
              "      border-left-color: var(--fill-color);\n",
              "    }\n",
              "    20% {\n",
              "      border-color: transparent;\n",
              "      border-left-color: var(--fill-color);\n",
              "      border-top-color: var(--fill-color);\n",
              "    }\n",
              "    30% {\n",
              "      border-color: transparent;\n",
              "      border-left-color: var(--fill-color);\n",
              "      border-top-color: var(--fill-color);\n",
              "      border-right-color: var(--fill-color);\n",
              "    }\n",
              "    40% {\n",
              "      border-color: transparent;\n",
              "      border-right-color: var(--fill-color);\n",
              "      border-top-color: var(--fill-color);\n",
              "    }\n",
              "    60% {\n",
              "      border-color: transparent;\n",
              "      border-right-color: var(--fill-color);\n",
              "    }\n",
              "    80% {\n",
              "      border-color: transparent;\n",
              "      border-right-color: var(--fill-color);\n",
              "      border-bottom-color: var(--fill-color);\n",
              "    }\n",
              "    90% {\n",
              "      border-color: transparent;\n",
              "      border-bottom-color: var(--fill-color);\n",
              "    }\n",
              "  }\n",
              "</style>\n",
              "\n",
              "  <script>\n",
              "    async function quickchart(key) {\n",
              "      const quickchartButtonEl =\n",
              "        document.querySelector('#' + key + ' button');\n",
              "      quickchartButtonEl.disabled = true;  // To prevent multiple clicks.\n",
              "      quickchartButtonEl.classList.add('colab-df-spinner');\n",
              "      try {\n",
              "        const charts = await google.colab.kernel.invokeFunction(\n",
              "            'suggestCharts', [key], {});\n",
              "      } catch (error) {\n",
              "        console.error('Error during call to suggestCharts:', error);\n",
              "      }\n",
              "      quickchartButtonEl.classList.remove('colab-df-spinner');\n",
              "      quickchartButtonEl.classList.add('colab-df-quickchart-complete');\n",
              "    }\n",
              "    (() => {\n",
              "      let quickchartButtonEl =\n",
              "        document.querySelector('#df-67796e3a-b305-4247-b4e9-ef16318897ed button');\n",
              "      quickchartButtonEl.style.display =\n",
              "        google.colab.kernel.accessAllowed ? 'block' : 'none';\n",
              "    })();\n",
              "  </script>\n",
              "</div>\n",
              "    </div>\n",
              "  </div>\n"
            ]
          },
          "metadata": {},
          "execution_count": 12
        }
      ]
    },
    {
      "cell_type": "code",
      "source": [
        "#Dropping the unnecessary columns of the data set\n",
        "df2_bert = df_bert.drop(['Unnamed: 0', 'Clothing ID', 'Age', 'Title', 'Rating'\n",
        "       ,'Positive Feedback Count', 'Division Name',\n",
        "       'Department Name', 'Class Name'], axis=1)"
      ],
      "metadata": {
        "id": "VDGzgWaljTT3"
      },
      "execution_count": 13,
      "outputs": []
    },
    {
      "cell_type": "code",
      "source": [
        "#Seeing the head of df2 after dropping\n",
        "df2_bert.head()"
      ],
      "metadata": {
        "colab": {
          "base_uri": "https://localhost:8080/",
          "height": 206
        },
        "id": "knj7-SEOjVm_",
        "outputId": "880a3f87-5ae1-49db-c155-e38c9b8c9dd7"
      },
      "execution_count": 14,
      "outputs": [
        {
          "output_type": "execute_result",
          "data": {
            "text/plain": [
              "                                         Review Text  Recommended IND\n",
              "0  Absolutely wonderful - silky and sexy and comf...                1\n",
              "1  Love this dress!  it's sooo pretty.  i happene...                1\n",
              "2  I had such high hopes for this dress and reall...                0\n",
              "3  I love, love, love this jumpsuit. it's fun, fl...                1\n",
              "4  This shirt is very flattering to all due to th...                1"
            ],
            "text/html": [
              "\n",
              "  <div id=\"df-4e2d7597-cf51-4403-a8e5-eaf8ed9315a8\" class=\"colab-df-container\">\n",
              "    <div>\n",
              "<style scoped>\n",
              "    .dataframe tbody tr th:only-of-type {\n",
              "        vertical-align: middle;\n",
              "    }\n",
              "\n",
              "    .dataframe tbody tr th {\n",
              "        vertical-align: top;\n",
              "    }\n",
              "\n",
              "    .dataframe thead th {\n",
              "        text-align: right;\n",
              "    }\n",
              "</style>\n",
              "<table border=\"1\" class=\"dataframe\">\n",
              "  <thead>\n",
              "    <tr style=\"text-align: right;\">\n",
              "      <th></th>\n",
              "      <th>Review Text</th>\n",
              "      <th>Recommended IND</th>\n",
              "    </tr>\n",
              "  </thead>\n",
              "  <tbody>\n",
              "    <tr>\n",
              "      <th>0</th>\n",
              "      <td>Absolutely wonderful - silky and sexy and comf...</td>\n",
              "      <td>1</td>\n",
              "    </tr>\n",
              "    <tr>\n",
              "      <th>1</th>\n",
              "      <td>Love this dress!  it's sooo pretty.  i happene...</td>\n",
              "      <td>1</td>\n",
              "    </tr>\n",
              "    <tr>\n",
              "      <th>2</th>\n",
              "      <td>I had such high hopes for this dress and reall...</td>\n",
              "      <td>0</td>\n",
              "    </tr>\n",
              "    <tr>\n",
              "      <th>3</th>\n",
              "      <td>I love, love, love this jumpsuit. it's fun, fl...</td>\n",
              "      <td>1</td>\n",
              "    </tr>\n",
              "    <tr>\n",
              "      <th>4</th>\n",
              "      <td>This shirt is very flattering to all due to th...</td>\n",
              "      <td>1</td>\n",
              "    </tr>\n",
              "  </tbody>\n",
              "</table>\n",
              "</div>\n",
              "    <div class=\"colab-df-buttons\">\n",
              "\n",
              "  <div class=\"colab-df-container\">\n",
              "    <button class=\"colab-df-convert\" onclick=\"convertToInteractive('df-4e2d7597-cf51-4403-a8e5-eaf8ed9315a8')\"\n",
              "            title=\"Convert this dataframe to an interactive table.\"\n",
              "            style=\"display:none;\">\n",
              "\n",
              "  <svg xmlns=\"http://www.w3.org/2000/svg\" height=\"24px\" viewBox=\"0 -960 960 960\">\n",
              "    <path d=\"M120-120v-720h720v720H120Zm60-500h600v-160H180v160Zm220 220h160v-160H400v160Zm0 220h160v-160H400v160ZM180-400h160v-160H180v160Zm440 0h160v-160H620v160ZM180-180h160v-160H180v160Zm440 0h160v-160H620v160Z\"/>\n",
              "  </svg>\n",
              "    </button>\n",
              "\n",
              "  <style>\n",
              "    .colab-df-container {\n",
              "      display:flex;\n",
              "      gap: 12px;\n",
              "    }\n",
              "\n",
              "    .colab-df-convert {\n",
              "      background-color: #E8F0FE;\n",
              "      border: none;\n",
              "      border-radius: 50%;\n",
              "      cursor: pointer;\n",
              "      display: none;\n",
              "      fill: #1967D2;\n",
              "      height: 32px;\n",
              "      padding: 0 0 0 0;\n",
              "      width: 32px;\n",
              "    }\n",
              "\n",
              "    .colab-df-convert:hover {\n",
              "      background-color: #E2EBFA;\n",
              "      box-shadow: 0px 1px 2px rgba(60, 64, 67, 0.3), 0px 1px 3px 1px rgba(60, 64, 67, 0.15);\n",
              "      fill: #174EA6;\n",
              "    }\n",
              "\n",
              "    .colab-df-buttons div {\n",
              "      margin-bottom: 4px;\n",
              "    }\n",
              "\n",
              "    [theme=dark] .colab-df-convert {\n",
              "      background-color: #3B4455;\n",
              "      fill: #D2E3FC;\n",
              "    }\n",
              "\n",
              "    [theme=dark] .colab-df-convert:hover {\n",
              "      background-color: #434B5C;\n",
              "      box-shadow: 0px 1px 3px 1px rgba(0, 0, 0, 0.15);\n",
              "      filter: drop-shadow(0px 1px 2px rgba(0, 0, 0, 0.3));\n",
              "      fill: #FFFFFF;\n",
              "    }\n",
              "  </style>\n",
              "\n",
              "    <script>\n",
              "      const buttonEl =\n",
              "        document.querySelector('#df-4e2d7597-cf51-4403-a8e5-eaf8ed9315a8 button.colab-df-convert');\n",
              "      buttonEl.style.display =\n",
              "        google.colab.kernel.accessAllowed ? 'block' : 'none';\n",
              "\n",
              "      async function convertToInteractive(key) {\n",
              "        const element = document.querySelector('#df-4e2d7597-cf51-4403-a8e5-eaf8ed9315a8');\n",
              "        const dataTable =\n",
              "          await google.colab.kernel.invokeFunction('convertToInteractive',\n",
              "                                                    [key], {});\n",
              "        if (!dataTable) return;\n",
              "\n",
              "        const docLinkHtml = 'Like what you see? Visit the ' +\n",
              "          '<a target=\"_blank\" href=https://colab.research.google.com/notebooks/data_table.ipynb>data table notebook</a>'\n",
              "          + ' to learn more about interactive tables.';\n",
              "        element.innerHTML = '';\n",
              "        dataTable['output_type'] = 'display_data';\n",
              "        await google.colab.output.renderOutput(dataTable, element);\n",
              "        const docLink = document.createElement('div');\n",
              "        docLink.innerHTML = docLinkHtml;\n",
              "        element.appendChild(docLink);\n",
              "      }\n",
              "    </script>\n",
              "  </div>\n",
              "\n",
              "\n",
              "<div id=\"df-6b8b1e83-2c44-46fb-8834-f9daa0393a78\">\n",
              "  <button class=\"colab-df-quickchart\" onclick=\"quickchart('df-6b8b1e83-2c44-46fb-8834-f9daa0393a78')\"\n",
              "            title=\"Suggest charts\"\n",
              "            style=\"display:none;\">\n",
              "\n",
              "<svg xmlns=\"http://www.w3.org/2000/svg\" height=\"24px\"viewBox=\"0 0 24 24\"\n",
              "     width=\"24px\">\n",
              "    <g>\n",
              "        <path d=\"M19 3H5c-1.1 0-2 .9-2 2v14c0 1.1.9 2 2 2h14c1.1 0 2-.9 2-2V5c0-1.1-.9-2-2-2zM9 17H7v-7h2v7zm4 0h-2V7h2v10zm4 0h-2v-4h2v4z\"/>\n",
              "    </g>\n",
              "</svg>\n",
              "  </button>\n",
              "\n",
              "<style>\n",
              "  .colab-df-quickchart {\n",
              "      --bg-color: #E8F0FE;\n",
              "      --fill-color: #1967D2;\n",
              "      --hover-bg-color: #E2EBFA;\n",
              "      --hover-fill-color: #174EA6;\n",
              "      --disabled-fill-color: #AAA;\n",
              "      --disabled-bg-color: #DDD;\n",
              "  }\n",
              "\n",
              "  [theme=dark] .colab-df-quickchart {\n",
              "      --bg-color: #3B4455;\n",
              "      --fill-color: #D2E3FC;\n",
              "      --hover-bg-color: #434B5C;\n",
              "      --hover-fill-color: #FFFFFF;\n",
              "      --disabled-bg-color: #3B4455;\n",
              "      --disabled-fill-color: #666;\n",
              "  }\n",
              "\n",
              "  .colab-df-quickchart {\n",
              "    background-color: var(--bg-color);\n",
              "    border: none;\n",
              "    border-radius: 50%;\n",
              "    cursor: pointer;\n",
              "    display: none;\n",
              "    fill: var(--fill-color);\n",
              "    height: 32px;\n",
              "    padding: 0;\n",
              "    width: 32px;\n",
              "  }\n",
              "\n",
              "  .colab-df-quickchart:hover {\n",
              "    background-color: var(--hover-bg-color);\n",
              "    box-shadow: 0 1px 2px rgba(60, 64, 67, 0.3), 0 1px 3px 1px rgba(60, 64, 67, 0.15);\n",
              "    fill: var(--button-hover-fill-color);\n",
              "  }\n",
              "\n",
              "  .colab-df-quickchart-complete:disabled,\n",
              "  .colab-df-quickchart-complete:disabled:hover {\n",
              "    background-color: var(--disabled-bg-color);\n",
              "    fill: var(--disabled-fill-color);\n",
              "    box-shadow: none;\n",
              "  }\n",
              "\n",
              "  .colab-df-spinner {\n",
              "    border: 2px solid var(--fill-color);\n",
              "    border-color: transparent;\n",
              "    border-bottom-color: var(--fill-color);\n",
              "    animation:\n",
              "      spin 1s steps(1) infinite;\n",
              "  }\n",
              "\n",
              "  @keyframes spin {\n",
              "    0% {\n",
              "      border-color: transparent;\n",
              "      border-bottom-color: var(--fill-color);\n",
              "      border-left-color: var(--fill-color);\n",
              "    }\n",
              "    20% {\n",
              "      border-color: transparent;\n",
              "      border-left-color: var(--fill-color);\n",
              "      border-top-color: var(--fill-color);\n",
              "    }\n",
              "    30% {\n",
              "      border-color: transparent;\n",
              "      border-left-color: var(--fill-color);\n",
              "      border-top-color: var(--fill-color);\n",
              "      border-right-color: var(--fill-color);\n",
              "    }\n",
              "    40% {\n",
              "      border-color: transparent;\n",
              "      border-right-color: var(--fill-color);\n",
              "      border-top-color: var(--fill-color);\n",
              "    }\n",
              "    60% {\n",
              "      border-color: transparent;\n",
              "      border-right-color: var(--fill-color);\n",
              "    }\n",
              "    80% {\n",
              "      border-color: transparent;\n",
              "      border-right-color: var(--fill-color);\n",
              "      border-bottom-color: var(--fill-color);\n",
              "    }\n",
              "    90% {\n",
              "      border-color: transparent;\n",
              "      border-bottom-color: var(--fill-color);\n",
              "    }\n",
              "  }\n",
              "</style>\n",
              "\n",
              "  <script>\n",
              "    async function quickchart(key) {\n",
              "      const quickchartButtonEl =\n",
              "        document.querySelector('#' + key + ' button');\n",
              "      quickchartButtonEl.disabled = true;  // To prevent multiple clicks.\n",
              "      quickchartButtonEl.classList.add('colab-df-spinner');\n",
              "      try {\n",
              "        const charts = await google.colab.kernel.invokeFunction(\n",
              "            'suggestCharts', [key], {});\n",
              "      } catch (error) {\n",
              "        console.error('Error during call to suggestCharts:', error);\n",
              "      }\n",
              "      quickchartButtonEl.classList.remove('colab-df-spinner');\n",
              "      quickchartButtonEl.classList.add('colab-df-quickchart-complete');\n",
              "    }\n",
              "    (() => {\n",
              "      let quickchartButtonEl =\n",
              "        document.querySelector('#df-6b8b1e83-2c44-46fb-8834-f9daa0393a78 button');\n",
              "      quickchartButtonEl.style.display =\n",
              "        google.colab.kernel.accessAllowed ? 'block' : 'none';\n",
              "    })();\n",
              "  </script>\n",
              "</div>\n",
              "    </div>\n",
              "  </div>\n"
            ]
          },
          "metadata": {},
          "execution_count": 14
        }
      ]
    },
    {
      "cell_type": "code",
      "source": [
        "#Renaming the target column and the feature column\n",
        "df2_bert = df2_bert.rename(columns={\"Recommended IND\": \"recommend\", \"Review Text\": \"review\"})\n",
        "df2_bert.head()"
      ],
      "metadata": {
        "colab": {
          "base_uri": "https://localhost:8080/",
          "height": 206
        },
        "id": "Fz3I3YAOjXPH",
        "outputId": "b3905a09-ff8c-432e-c9e0-90fc06354fb1"
      },
      "execution_count": 15,
      "outputs": [
        {
          "output_type": "execute_result",
          "data": {
            "text/plain": [
              "                                              review  recommend\n",
              "0  Absolutely wonderful - silky and sexy and comf...          1\n",
              "1  Love this dress!  it's sooo pretty.  i happene...          1\n",
              "2  I had such high hopes for this dress and reall...          0\n",
              "3  I love, love, love this jumpsuit. it's fun, fl...          1\n",
              "4  This shirt is very flattering to all due to th...          1"
            ],
            "text/html": [
              "\n",
              "  <div id=\"df-2ccd9ebb-4240-4631-be2d-5cb080f447f2\" class=\"colab-df-container\">\n",
              "    <div>\n",
              "<style scoped>\n",
              "    .dataframe tbody tr th:only-of-type {\n",
              "        vertical-align: middle;\n",
              "    }\n",
              "\n",
              "    .dataframe tbody tr th {\n",
              "        vertical-align: top;\n",
              "    }\n",
              "\n",
              "    .dataframe thead th {\n",
              "        text-align: right;\n",
              "    }\n",
              "</style>\n",
              "<table border=\"1\" class=\"dataframe\">\n",
              "  <thead>\n",
              "    <tr style=\"text-align: right;\">\n",
              "      <th></th>\n",
              "      <th>review</th>\n",
              "      <th>recommend</th>\n",
              "    </tr>\n",
              "  </thead>\n",
              "  <tbody>\n",
              "    <tr>\n",
              "      <th>0</th>\n",
              "      <td>Absolutely wonderful - silky and sexy and comf...</td>\n",
              "      <td>1</td>\n",
              "    </tr>\n",
              "    <tr>\n",
              "      <th>1</th>\n",
              "      <td>Love this dress!  it's sooo pretty.  i happene...</td>\n",
              "      <td>1</td>\n",
              "    </tr>\n",
              "    <tr>\n",
              "      <th>2</th>\n",
              "      <td>I had such high hopes for this dress and reall...</td>\n",
              "      <td>0</td>\n",
              "    </tr>\n",
              "    <tr>\n",
              "      <th>3</th>\n",
              "      <td>I love, love, love this jumpsuit. it's fun, fl...</td>\n",
              "      <td>1</td>\n",
              "    </tr>\n",
              "    <tr>\n",
              "      <th>4</th>\n",
              "      <td>This shirt is very flattering to all due to th...</td>\n",
              "      <td>1</td>\n",
              "    </tr>\n",
              "  </tbody>\n",
              "</table>\n",
              "</div>\n",
              "    <div class=\"colab-df-buttons\">\n",
              "\n",
              "  <div class=\"colab-df-container\">\n",
              "    <button class=\"colab-df-convert\" onclick=\"convertToInteractive('df-2ccd9ebb-4240-4631-be2d-5cb080f447f2')\"\n",
              "            title=\"Convert this dataframe to an interactive table.\"\n",
              "            style=\"display:none;\">\n",
              "\n",
              "  <svg xmlns=\"http://www.w3.org/2000/svg\" height=\"24px\" viewBox=\"0 -960 960 960\">\n",
              "    <path d=\"M120-120v-720h720v720H120Zm60-500h600v-160H180v160Zm220 220h160v-160H400v160Zm0 220h160v-160H400v160ZM180-400h160v-160H180v160Zm440 0h160v-160H620v160ZM180-180h160v-160H180v160Zm440 0h160v-160H620v160Z\"/>\n",
              "  </svg>\n",
              "    </button>\n",
              "\n",
              "  <style>\n",
              "    .colab-df-container {\n",
              "      display:flex;\n",
              "      gap: 12px;\n",
              "    }\n",
              "\n",
              "    .colab-df-convert {\n",
              "      background-color: #E8F0FE;\n",
              "      border: none;\n",
              "      border-radius: 50%;\n",
              "      cursor: pointer;\n",
              "      display: none;\n",
              "      fill: #1967D2;\n",
              "      height: 32px;\n",
              "      padding: 0 0 0 0;\n",
              "      width: 32px;\n",
              "    }\n",
              "\n",
              "    .colab-df-convert:hover {\n",
              "      background-color: #E2EBFA;\n",
              "      box-shadow: 0px 1px 2px rgba(60, 64, 67, 0.3), 0px 1px 3px 1px rgba(60, 64, 67, 0.15);\n",
              "      fill: #174EA6;\n",
              "    }\n",
              "\n",
              "    .colab-df-buttons div {\n",
              "      margin-bottom: 4px;\n",
              "    }\n",
              "\n",
              "    [theme=dark] .colab-df-convert {\n",
              "      background-color: #3B4455;\n",
              "      fill: #D2E3FC;\n",
              "    }\n",
              "\n",
              "    [theme=dark] .colab-df-convert:hover {\n",
              "      background-color: #434B5C;\n",
              "      box-shadow: 0px 1px 3px 1px rgba(0, 0, 0, 0.15);\n",
              "      filter: drop-shadow(0px 1px 2px rgba(0, 0, 0, 0.3));\n",
              "      fill: #FFFFFF;\n",
              "    }\n",
              "  </style>\n",
              "\n",
              "    <script>\n",
              "      const buttonEl =\n",
              "        document.querySelector('#df-2ccd9ebb-4240-4631-be2d-5cb080f447f2 button.colab-df-convert');\n",
              "      buttonEl.style.display =\n",
              "        google.colab.kernel.accessAllowed ? 'block' : 'none';\n",
              "\n",
              "      async function convertToInteractive(key) {\n",
              "        const element = document.querySelector('#df-2ccd9ebb-4240-4631-be2d-5cb080f447f2');\n",
              "        const dataTable =\n",
              "          await google.colab.kernel.invokeFunction('convertToInteractive',\n",
              "                                                    [key], {});\n",
              "        if (!dataTable) return;\n",
              "\n",
              "        const docLinkHtml = 'Like what you see? Visit the ' +\n",
              "          '<a target=\"_blank\" href=https://colab.research.google.com/notebooks/data_table.ipynb>data table notebook</a>'\n",
              "          + ' to learn more about interactive tables.';\n",
              "        element.innerHTML = '';\n",
              "        dataTable['output_type'] = 'display_data';\n",
              "        await google.colab.output.renderOutput(dataTable, element);\n",
              "        const docLink = document.createElement('div');\n",
              "        docLink.innerHTML = docLinkHtml;\n",
              "        element.appendChild(docLink);\n",
              "      }\n",
              "    </script>\n",
              "  </div>\n",
              "\n",
              "\n",
              "<div id=\"df-d556f2c4-ccc1-4129-bf87-7844870f757a\">\n",
              "  <button class=\"colab-df-quickchart\" onclick=\"quickchart('df-d556f2c4-ccc1-4129-bf87-7844870f757a')\"\n",
              "            title=\"Suggest charts\"\n",
              "            style=\"display:none;\">\n",
              "\n",
              "<svg xmlns=\"http://www.w3.org/2000/svg\" height=\"24px\"viewBox=\"0 0 24 24\"\n",
              "     width=\"24px\">\n",
              "    <g>\n",
              "        <path d=\"M19 3H5c-1.1 0-2 .9-2 2v14c0 1.1.9 2 2 2h14c1.1 0 2-.9 2-2V5c0-1.1-.9-2-2-2zM9 17H7v-7h2v7zm4 0h-2V7h2v10zm4 0h-2v-4h2v4z\"/>\n",
              "    </g>\n",
              "</svg>\n",
              "  </button>\n",
              "\n",
              "<style>\n",
              "  .colab-df-quickchart {\n",
              "      --bg-color: #E8F0FE;\n",
              "      --fill-color: #1967D2;\n",
              "      --hover-bg-color: #E2EBFA;\n",
              "      --hover-fill-color: #174EA6;\n",
              "      --disabled-fill-color: #AAA;\n",
              "      --disabled-bg-color: #DDD;\n",
              "  }\n",
              "\n",
              "  [theme=dark] .colab-df-quickchart {\n",
              "      --bg-color: #3B4455;\n",
              "      --fill-color: #D2E3FC;\n",
              "      --hover-bg-color: #434B5C;\n",
              "      --hover-fill-color: #FFFFFF;\n",
              "      --disabled-bg-color: #3B4455;\n",
              "      --disabled-fill-color: #666;\n",
              "  }\n",
              "\n",
              "  .colab-df-quickchart {\n",
              "    background-color: var(--bg-color);\n",
              "    border: none;\n",
              "    border-radius: 50%;\n",
              "    cursor: pointer;\n",
              "    display: none;\n",
              "    fill: var(--fill-color);\n",
              "    height: 32px;\n",
              "    padding: 0;\n",
              "    width: 32px;\n",
              "  }\n",
              "\n",
              "  .colab-df-quickchart:hover {\n",
              "    background-color: var(--hover-bg-color);\n",
              "    box-shadow: 0 1px 2px rgba(60, 64, 67, 0.3), 0 1px 3px 1px rgba(60, 64, 67, 0.15);\n",
              "    fill: var(--button-hover-fill-color);\n",
              "  }\n",
              "\n",
              "  .colab-df-quickchart-complete:disabled,\n",
              "  .colab-df-quickchart-complete:disabled:hover {\n",
              "    background-color: var(--disabled-bg-color);\n",
              "    fill: var(--disabled-fill-color);\n",
              "    box-shadow: none;\n",
              "  }\n",
              "\n",
              "  .colab-df-spinner {\n",
              "    border: 2px solid var(--fill-color);\n",
              "    border-color: transparent;\n",
              "    border-bottom-color: var(--fill-color);\n",
              "    animation:\n",
              "      spin 1s steps(1) infinite;\n",
              "  }\n",
              "\n",
              "  @keyframes spin {\n",
              "    0% {\n",
              "      border-color: transparent;\n",
              "      border-bottom-color: var(--fill-color);\n",
              "      border-left-color: var(--fill-color);\n",
              "    }\n",
              "    20% {\n",
              "      border-color: transparent;\n",
              "      border-left-color: var(--fill-color);\n",
              "      border-top-color: var(--fill-color);\n",
              "    }\n",
              "    30% {\n",
              "      border-color: transparent;\n",
              "      border-left-color: var(--fill-color);\n",
              "      border-top-color: var(--fill-color);\n",
              "      border-right-color: var(--fill-color);\n",
              "    }\n",
              "    40% {\n",
              "      border-color: transparent;\n",
              "      border-right-color: var(--fill-color);\n",
              "      border-top-color: var(--fill-color);\n",
              "    }\n",
              "    60% {\n",
              "      border-color: transparent;\n",
              "      border-right-color: var(--fill-color);\n",
              "    }\n",
              "    80% {\n",
              "      border-color: transparent;\n",
              "      border-right-color: var(--fill-color);\n",
              "      border-bottom-color: var(--fill-color);\n",
              "    }\n",
              "    90% {\n",
              "      border-color: transparent;\n",
              "      border-bottom-color: var(--fill-color);\n",
              "    }\n",
              "  }\n",
              "</style>\n",
              "\n",
              "  <script>\n",
              "    async function quickchart(key) {\n",
              "      const quickchartButtonEl =\n",
              "        document.querySelector('#' + key + ' button');\n",
              "      quickchartButtonEl.disabled = true;  // To prevent multiple clicks.\n",
              "      quickchartButtonEl.classList.add('colab-df-spinner');\n",
              "      try {\n",
              "        const charts = await google.colab.kernel.invokeFunction(\n",
              "            'suggestCharts', [key], {});\n",
              "      } catch (error) {\n",
              "        console.error('Error during call to suggestCharts:', error);\n",
              "      }\n",
              "      quickchartButtonEl.classList.remove('colab-df-spinner');\n",
              "      quickchartButtonEl.classList.add('colab-df-quickchart-complete');\n",
              "    }\n",
              "    (() => {\n",
              "      let quickchartButtonEl =\n",
              "        document.querySelector('#df-d556f2c4-ccc1-4129-bf87-7844870f757a button');\n",
              "      quickchartButtonEl.style.display =\n",
              "        google.colab.kernel.accessAllowed ? 'block' : 'none';\n",
              "    })();\n",
              "  </script>\n",
              "</div>\n",
              "    </div>\n",
              "  </div>\n"
            ]
          },
          "metadata": {},
          "execution_count": 15
        }
      ]
    },
    {
      "cell_type": "code",
      "source": [
        "#Seeing the info of df2_bert\n",
        "df2_bert.info()"
      ],
      "metadata": {
        "colab": {
          "base_uri": "https://localhost:8080/"
        },
        "id": "-1s5UxhnjY5t",
        "outputId": "26cc4e7a-b56f-4d80-9e1f-351e94d6467f"
      },
      "execution_count": 16,
      "outputs": [
        {
          "output_type": "stream",
          "name": "stdout",
          "text": [
            "<class 'pandas.core.frame.DataFrame'>\n",
            "RangeIndex: 23486 entries, 0 to 23485\n",
            "Data columns (total 2 columns):\n",
            " #   Column     Non-Null Count  Dtype \n",
            "---  ------     --------------  ----- \n",
            " 0   review     22641 non-null  object\n",
            " 1   recommend  23486 non-null  int64 \n",
            "dtypes: int64(1), object(1)\n",
            "memory usage: 367.1+ KB\n"
          ]
        }
      ]
    },
    {
      "cell_type": "code",
      "source": [
        "#Seeing the shape of df2_bert\n",
        "print('df2_bert size :', df2_bert.shape)\n",
        "#As we can see the shape is df2_bert size : (23486, 2)"
      ],
      "metadata": {
        "colab": {
          "base_uri": "https://localhost:8080/"
        },
        "id": "jUTOAEa2jaXX",
        "outputId": "82b5d1d1-3eb0-4626-e5bc-749ecae5f4c7"
      },
      "execution_count": 17,
      "outputs": [
        {
          "output_type": "stream",
          "name": "stdout",
          "text": [
            "df2_bert size : (23486, 2)\n"
          ]
        }
      ]
    },
    {
      "cell_type": "code",
      "source": [
        "#Seeing the duplicated values in df2_bert\n",
        "sum(df2_bert.duplicated())\n",
        "#As we can see, there are about 850 duplicated values and i have to drop them."
      ],
      "metadata": {
        "colab": {
          "base_uri": "https://localhost:8080/"
        },
        "id": "gM6-i7nwjcvk",
        "outputId": "f8edc023-2d3d-4e26-e625-fc5bbe71f7ad"
      },
      "execution_count": 18,
      "outputs": [
        {
          "output_type": "execute_result",
          "data": {
            "text/plain": [
              "850"
            ]
          },
          "metadata": {},
          "execution_count": 18
        }
      ]
    },
    {
      "cell_type": "code",
      "source": [
        "#Removing the duplicated values\n",
        "df2_bert = df2_bert.drop_duplicates()"
      ],
      "metadata": {
        "id": "DdCY3ptijeZA"
      },
      "execution_count": 19,
      "outputs": []
    },
    {
      "cell_type": "code",
      "source": [
        "#Seeing the duplicated values in df2_bert after removing\n",
        "sum(df2_bert.duplicated())\n",
        "#As we can see, now there is 0 duplicated values"
      ],
      "metadata": {
        "colab": {
          "base_uri": "https://localhost:8080/"
        },
        "id": "Oq3VyNrEjf3G",
        "outputId": "25bb2124-31da-4855-bf60-4ed3bccf0b82"
      },
      "execution_count": 20,
      "outputs": [
        {
          "output_type": "execute_result",
          "data": {
            "text/plain": [
              "0"
            ]
          },
          "metadata": {},
          "execution_count": 20
        }
      ]
    },
    {
      "cell_type": "code",
      "source": [
        "#Seeing the null data\n",
        "df2_bert.isnull().sum()\n",
        "#As we can see, there are null values"
      ],
      "metadata": {
        "colab": {
          "base_uri": "https://localhost:8080/"
        },
        "id": "ZMmX9HifjhJZ",
        "outputId": "3f899436-ffb5-451e-ffca-0d8a26b8b1ae"
      },
      "execution_count": 21,
      "outputs": [
        {
          "output_type": "execute_result",
          "data": {
            "text/plain": [
              "review       2\n",
              "recommend    0\n",
              "dtype: int64"
            ]
          },
          "metadata": {},
          "execution_count": 21
        }
      ]
    },
    {
      "cell_type": "code",
      "source": [
        "#As we can see, there are two null values in the reveiw column, so i am going to drop them\n",
        "df2_bert.review .isnull().sum()"
      ],
      "metadata": {
        "colab": {
          "base_uri": "https://localhost:8080/"
        },
        "id": "y27-LMBnjjkM",
        "outputId": "75182a95-25f1-409e-d758-7b67a46118fc"
      },
      "execution_count": 22,
      "outputs": [
        {
          "output_type": "execute_result",
          "data": {
            "text/plain": [
              "2"
            ]
          },
          "metadata": {},
          "execution_count": 22
        }
      ]
    },
    {
      "cell_type": "code",
      "source": [
        "#Removing the null values\n",
        "df2_bert = df2_bert.dropna()"
      ],
      "metadata": {
        "id": "qpDDSmVFjl2l"
      },
      "execution_count": 23,
      "outputs": []
    },
    {
      "cell_type": "code",
      "source": [
        "#Seeing the null data after dropping the null values\n",
        "df2_bert.isnull().sum()\n",
        "#As we can see, there is no null values"
      ],
      "metadata": {
        "colab": {
          "base_uri": "https://localhost:8080/"
        },
        "id": "jSmhz2uvjnIH",
        "outputId": "0a0c7906-5ff8-4f2f-cb95-22d5286d353a"
      },
      "execution_count": 24,
      "outputs": [
        {
          "output_type": "execute_result",
          "data": {
            "text/plain": [
              "review       0\n",
              "recommend    0\n",
              "dtype: int64"
            ]
          },
          "metadata": {},
          "execution_count": 24
        }
      ]
    },
    {
      "cell_type": "code",
      "source": [
        "#reseting the index after deleting\n",
        "df2_bert.reset_index(drop=True, inplace=True)"
      ],
      "metadata": {
        "id": "JS6M0C1XjpCm"
      },
      "execution_count": 25,
      "outputs": []
    },
    {
      "cell_type": "code",
      "source": [
        "#Seeing the values of the target column\n",
        "df2_bert.recommend.value_counts()\n",
        "#As we can see the values of class 1 is more than the values of class 0"
      ],
      "metadata": {
        "colab": {
          "base_uri": "https://localhost:8080/"
        },
        "id": "FX_xMn7Ojuqq",
        "outputId": "f98e9c5d-25b5-4c5c-ebf2-8797df1ef032"
      },
      "execution_count": 26,
      "outputs": [
        {
          "output_type": "execute_result",
          "data": {
            "text/plain": [
              "1    18534\n",
              "0     4100\n",
              "Name: recommend, dtype: int64"
            ]
          },
          "metadata": {},
          "execution_count": 26
        }
      ]
    },
    {
      "cell_type": "code",
      "source": [
        "#Normalizing the target column\n",
        "df2_bert.recommend.value_counts(normalize=True)\n",
        "#As we can see, for class 1, there is about 81% and for class 0 there is around 18%"
      ],
      "metadata": {
        "colab": {
          "base_uri": "https://localhost:8080/"
        },
        "id": "Q4gtEKBfjwOy",
        "outputId": "518978c6-25b7-44a1-a142-9871871ff311"
      },
      "execution_count": 27,
      "outputs": [
        {
          "output_type": "execute_result",
          "data": {
            "text/plain": [
              "1    0.818857\n",
              "0    0.181143\n",
              "Name: recommend, dtype: float64"
            ]
          },
          "metadata": {},
          "execution_count": 27
        }
      ]
    },
    {
      "cell_type": "code",
      "source": [
        "#Plotting the values of target\n",
        "p = sns.countplot(x= \"recommend\", data=df2_bert)\n",
        "p.bar_label(p.containers[0])\n",
        "plt.title(\"Number of texts per recommend\")\n",
        "p.set_xticklabels(p.get_xticklabels(), rotation=30, horizontalalignment='right');\n",
        "#As we can see from the graph, the values of 1 is higher than 0"
      ],
      "metadata": {
        "colab": {
          "base_uri": "https://localhost:8080/",
          "height": 395
        },
        "id": "AuAkkrTqjxoJ",
        "outputId": "51890334-0360-490a-daa8-e3d071c0b538"
      },
      "execution_count": 28,
      "outputs": [
        {
          "output_type": "display_data",
          "data": {
            "text/plain": [
              "<Figure size 1400x600 with 1 Axes>"
            ],
            "image/png": "[encoded data removed]"
          },
          "metadata": {}
        }
      ]
    },
    {
      "cell_type": "markdown",
      "source": [
        "### Train test split"
      ],
      "metadata": {
        "id": "NQ52iPPRj3f8"
      }
    },
    {
      "cell_type": "code",
      "source": [
        "#Splitting the dataset to X and y\n",
        "X = df2_bert[\"review\"].values #Feature\n",
        "y = df2_bert[\"recommend\"].map({0:1, 1:0}).values #Target"
      ],
      "metadata": {
        "id": "6-JRdm7gjzVN"
      },
      "execution_count": 29,
      "outputs": []
    },
    {
      "cell_type": "code",
      "source": [
        "#Seeing X\n",
        "X"
      ],
      "metadata": {
        "colab": {
          "base_uri": "https://localhost:8080/"
        },
        "id": "g5qofLwFj6Ud",
        "outputId": "eafb9d55-a890-4e13-c45c-47210046ce57"
      },
      "execution_count": 30,
      "outputs": [
        {
          "output_type": "execute_result",
          "data": {
            "text/plain": [
              "array(['Absolutely wonderful - silky and sexy and comfortable',\n",
              "       'Love this dress!  it\\'s sooo pretty.  i happened to find it in a store, and i\\'m glad i did bc i never would have ordered it online bc it\\'s petite.  i bought a petite and am 5\\'8\".  i love the length on me- hits just a little below the knee.  would definitely be a true midi on someone who is truly petite.',\n",
              "       'I had such high hopes for this dress and really wanted it to work for me. i initially ordered the petite small (my usual size) but i found this to be outrageously small. so small in fact that i could not zip it up! i reordered it in petite medium, which was just ok. overall, the top half was comfortable and fit nicely, but the bottom half had a very tight under layer and several somewhat cheap (net) over layers. imo, a major design flaw was the net over layer sewn directly into the zipper - it c',\n",
              "       ...,\n",
              "       \"This fit well, but the top was very see through. this never would have worked for me. i'm glad i was able to try it on in the store and didn't order it online. with different fabric, it would have been great.\",\n",
              "       \"I bought this dress for a wedding i have this summer, and it's so cute. unfortunately the fit isn't perfect. the medium fits my waist perfectly, but was way too long and too big in the bust and shoulders. if i wanted to spend the money, i could get it tailored, but i just felt like it might not be worth it. side note - this dress was delivered to me with a nordstrom tag on it and i found it much cheaper there after looking!\",\n",
              "       'This dress in a lovely platinum is feminine and fits perfectly, easy to wear and comfy, too! highly recommend!'],\n",
              "      dtype=object)"
            ]
          },
          "metadata": {},
          "execution_count": 30
        }
      ]
    },
    {
      "cell_type": "code",
      "source": [
        "#Seeing y\n",
        "y"
      ],
      "metadata": {
        "colab": {
          "base_uri": "https://localhost:8080/"
        },
        "id": "rrLZDq7mj76K",
        "outputId": "af043420-6dd9-48e6-9d02-fd21c07720a4"
      },
      "execution_count": 31,
      "outputs": [
        {
          "output_type": "execute_result",
          "data": {
            "text/plain": [
              "array([0, 0, 1, ..., 1, 0, 0])"
            ]
          },
          "metadata": {},
          "execution_count": 31
        }
      ]
    },
    {
      "cell_type": "code",
      "source": [
        "#Splitting the data for Bert modeling\n",
        "X_train, X_test, y_train, y_test = train_test_split(X, y, test_size=t, stratify=y, random_state=s)"
      ],
      "metadata": {
        "id": "LYlyOakrj9d8"
      },
      "execution_count": 32,
      "outputs": []
    },
    {
      "cell_type": "code",
      "source": [
        "#Seeing X_train\n",
        "X_train"
      ],
      "metadata": {
        "colab": {
          "base_uri": "https://localhost:8080/"
        },
        "id": "3eDZqDwFj_KE",
        "outputId": "e80b24e9-cea7-4635-ecda-4bb31326f660"
      },
      "execution_count": 33,
      "outputs": [
        {
          "output_type": "execute_result",
          "data": {
            "text/plain": [
              "array([\"I absolutely adore this cardigan. it's very feminine, stylish, and comfortable and the gold color is gorgeous. i received numerous compliments when i wore it to work the first time. it's the perfect weight for transitional weather or chilly offices.\",\n",
              "       \"I love this sweater! pros: great shape (it's supposed to be a little oversized looking), great color (i have the ivory and it's beautiful), and fits well (the sweater looks boxy until you put it on and it flows in all the right places). the sweater is not soft. that is my only con. it looks so soft in the photos, but the sweater i received is not at all soft and cozy. it is warm. it will be great for the winter - great pair with leggings, skirts or just jeans.\",\n",
              "       'This top did nothing for me. it billowed in the front and was not flattering. for reference, i am 5\"4, 115 pounds, and small chested. i ordered the smallest size the top came in (cannot recall if it was an xs or 0). i promptly returned it.',\n",
              "       ...,\n",
              "       'This dress is comfortable and a great go to dress to wear to work and then after for drinks with friends.',\n",
              "       'Cute design. runs big in neckline, falls off shoulder exposing bra straps. fabric is very thin. sloppy look on short petite frame. 5\\'1\" 142lbs 34-36 c/d. purchased a medium. haven\\'t washed it yet, but the fabric doesn\\'t look like it will hold up well. i have kept it to wear as a sleep shirt with thin gray sleep sweats.',\n",
              "       'I ordered this online, having never seen it in person. i loved it as soon as i touched the soft material. it fits me perfectly...i almost invariably wear a size 6 in retailer dresses and tops, which gave me the confidence to order online, and this dress is true to size. the detailing at the bosom is so flattering. the fabric is supple and hangs gracefully without clinging to my not-so-perfect waistline. i have worn this twice already, having received it only a week ago. the blue/black combi'],\n",
              "      dtype=object)"
            ]
          },
          "metadata": {},
          "execution_count": 33
        }
      ]
    },
    {
      "cell_type": "code",
      "source": [
        "#Seeing X_test\n",
        "X_test"
      ],
      "metadata": {
        "colab": {
          "base_uri": "https://localhost:8080/"
        },
        "id": "41ku_wExkApk",
        "outputId": "a6c6348c-efa4-46e1-9480-5a870590b387"
      },
      "execution_count": 34,
      "outputs": [
        {
          "output_type": "execute_result",
          "data": {
            "text/plain": [
              "array([\"These jeans are amazing! i just got them from retailer the other day and i have worn them almost every day since! i have washed them once. the tag says to turn inside out, wash in cold, and hang dry. i was a little skeptical that they'd still be soft without the dryer/dryer sheets, but they are wonderful and do not stretch out. i will get lots of use out of them and i just wish they made them in more colors. they're very comfortable: i totally love the high rise. they're a little long but i\",\n",
              "       'Fit and flare, pullover style that can easily be dressed up or down. wish other colors were available online!',\n",
              "       \"These ran very small compared to other charlie pants i've bought in the past. even sizing up, the stripes were not flattering. the lady in the next dressing room over tried them on, too, and had the same feeling i did. the less curvy you are, the better stripes look. they more curvy you are, the less flattering stripes on pants look. the way the stripes come together at the seams just isn't flattering.\",\n",
              "       ...,\n",
              "       'I ordered the dark turquoise skirt and it fits perfectly! the materials is a very high quality corduroy and the color is beautiful. i really like the buttons on the front as well. gotta love warm skirts for colder climates!',\n",
              "       'This is the first time that i have tried mother jeans, and i am a fan. these jeans fit tts, and the high waist is flattering and stays put. i personally am a big fan of the distressing - it\\'s just enough, but not too much - and it\\'s lined on the inside so it won\\'t get worse. i know some people won\\'t like that, but i did. also, they hit right below my ankle (i\\'m 5\\'5\") instead of being a few inches too long -- a major bonus. thus, they look great rolled or not. but perhaps most importantly, these',\n",
              "       'Nice shirt seems well made. good just not a great fit for me.'],\n",
              "      dtype=object)"
            ]
          },
          "metadata": {},
          "execution_count": 34
        }
      ]
    },
    {
      "cell_type": "code",
      "source": [
        "#Seeing y_train\n",
        "y_train"
      ],
      "metadata": {
        "colab": {
          "base_uri": "https://localhost:8080/"
        },
        "id": "v640rY-KkCMC",
        "outputId": "988390b8-688c-40bf-e857-a7111e048535"
      },
      "execution_count": 35,
      "outputs": [
        {
          "output_type": "execute_result",
          "data": {
            "text/plain": [
              "array([0, 0, 1, ..., 0, 1, 0])"
            ]
          },
          "metadata": {},
          "execution_count": 35
        }
      ]
    },
    {
      "cell_type": "code",
      "source": [
        "#Seeing y_test\n",
        "y_test"
      ],
      "metadata": {
        "colab": {
          "base_uri": "https://localhost:8080/"
        },
        "id": "3564F4AjkDmR",
        "outputId": "cbab0d1e-d5c1-4c4c-f39c-d40a964f4b81"
      },
      "execution_count": 36,
      "outputs": [
        {
          "output_type": "execute_result",
          "data": {
            "text/plain": [
              "array([0, 0, 1, ..., 0, 0, 0])"
            ]
          },
          "metadata": {},
          "execution_count": 36
        }
      ]
    },
    {
      "cell_type": "markdown",
      "source": [
        "### Tokenization\n"
      ],
      "metadata": {
        "id": "9ydPI28VkGDH"
      }
    },
    {
      "cell_type": "code",
      "source": [
        "#Tokenization for bert\n",
        "bert_tokenizer = BertTokenizer.from_pretrained('bert-base-uncased')\n",
        "#I have used bert-base-uncased because it is a classification problem"
      ],
      "metadata": {
        "colab": {
          "base_uri": "https://localhost:8080/",
          "height": 201,
          "referenced_widgets": [
            "7cf8912ba3774ce4b235a75115a5b874",
            "ed89ac348977437a901803ec1ebf4ebf",
            "02efb6f018b64df5b97740c3c3511636",
            "c14bffe137bd49ddad988268498e6098",
            "9797d3f82ca04cae85bd87eaf82abd4e",
            "7531641521a6491c9c5a9a7a852b795b",
            "072cc9ee587d49ca8a111ee2c23f5501",
            "f6c8a3aeca6940f7b184deaf7ad9afbe",
            "acd0876c5a5544d9904ce0b160f73637",
            "c4d828a15d52401c89e48d2b150fb173",
            "4721323d98ba44d2aca535c06d484424",
            "f2d874c01bc24034ad05cdfe628779d3",
            "ae15deb4f45f47aeb52f108aa5714ca1",
            "75edb8343e2945b5a1769a8c612ecdfa",
            "131dd05375614ce6b136da5269c0581e",
            "c0a3c635993648c488cec610baf8a180",
            "c87b7ba034c34ea6be133a48a09824fc",
            "c7318f76160f45c695ea7f9d1a13f3ed",
            "25055444fa094f79b3c7de9f904a8fea",
            "47ee5379a4de4a24bb06180e1cd209d8",
            "3f8fa432a7e547f1bbda19b90910d100",
            "6fd27c4ab6494ac8940d8befa8558258",
            "39f86c0fe2ee4c0a9616485355e35897",
            "a12d5782caf640e58e1a5d1ed346c632",
            "b63d8611c6ee4438a3de6b661db97da2",
            "db961078f82d4017966a6e3d66271117",
            "82ba7895859e4adebee62c07d44b8891",
            "f5ad32e9753e49e1b18746abfec4a7a5",
            "75513f3f37cf478b8eeddfbed77a0e9c",
            "d839df2c754c489e8d3b17e31aaefaf9",
            "742ef19626854049a54b7e87f661a3c3",
            "0745aa1531fa445083be877fcf922615",
            "65b4d93fa0354c5eab933691a37bd6fe",
            "bdb4f3f3040a4a7d84b76b15dfa627b0",
            "8fa6badb0b6a4167b65f054b61a490a6",
            "592e4ea52b804e72a796aa58e95fe2a8",
            "5113ad1f6768433a83686b704e035411",
            "024beb4ba19a4a11a11aa13ce5232a53",
            "d0632355a1964b3db0091aba17fbd875",
            "07e776ce5129459e98e08a646be13497",
            "00912d7fb65e4588926e71b6c053d979",
            "d2ec8c5a4e0f43b49095785c50466784",
            "5251bd413b614a479d89ebb452186629",
            "186576c517654b5da08c0cebc40a14c4"
          ]
        },
        "id": "2_kukxVskFNT",
        "outputId": "5b920172-a277-41d0-8ae2-132ddf40d3ef"
      },
      "execution_count": 37,
      "outputs": [
        {
          "output_type": "display_data",
          "data": {
            "text/plain": [
              "(…)cased/resolve/main/tokenizer_config.json:   0%|          | 0.00/28.0 [00:00<?, ?B/s]"
            ],
            "application/vnd.jupyter.widget-view+json": {
              "version_major": 2,
              "version_minor": 0,
              "model_id": "7cf8912ba3774ce4b235a75115a5b874"
            }
          },
          "metadata": {}
        },
        {
          "output_type": "display_data",
          "data": {
            "text/plain": [
              "(…)bert-base-uncased/resolve/main/vocab.txt:   0%|          | 0.00/232k [00:00<?, ?B/s]"
            ],
            "application/vnd.jupyter.widget-view+json": {
              "version_major": 2,
              "version_minor": 0,
              "model_id": "f2d874c01bc24034ad05cdfe628779d3"
            }
          },
          "metadata": {}
        },
        {
          "output_type": "display_data",
          "data": {
            "text/plain": [
              "(…)base-uncased/resolve/main/tokenizer.json:   0%|          | 0.00/466k [00:00<?, ?B/s]"
            ],
            "application/vnd.jupyter.widget-view+json": {
              "version_major": 2,
              "version_minor": 0,
              "model_id": "39f86c0fe2ee4c0a9616485355e35897"
            }
          },
          "metadata": {}
        },
        {
          "output_type": "display_data",
          "data": {
            "text/plain": [
              "(…)rt-base-uncased/resolve/main/config.json:   0%|          | 0.00/570 [00:00<?, ?B/s]"
            ],
            "application/vnd.jupyter.widget-view+json": {
              "version_major": 2,
              "version_minor": 0,
              "model_id": "bdb4f3f3040a4a7d84b76b15dfa627b0"
            }
          },
          "metadata": {}
        }
      ]
    },
    {
      "cell_type": "code",
      "source": [
        "#Seeing the vocabulary of bert_tokenizer\n",
        "bert_tokenizer.vocab"
      ],
      "metadata": {
        "colab": {
          "base_uri": "https://localhost:8080/"
        },
        "id": "BqNhc24skJi3",
        "outputId": "dbc87d19-af60-4b2b-b1a9-cd755e4161b9"
      },
      "execution_count": 38,
      "outputs": [
        {
          "output_type": "execute_result",
          "data": {
            "text/plain": [
              "OrderedDict([('[PAD]', 0),\n",
              "             ('[unused0]', 1),\n",
              "             ('[unused1]', 2),\n",
              "             ('[unused2]', 3),\n",
              "             ('[unused3]', 4),\n",
              "             ('[unused4]', 5),\n",
              "             ('[unused5]', 6),\n",
              "             ('[unused6]', 7),\n",
              "             ('[unused7]', 8),\n",
              "             ('[unused8]', 9),\n",
              "             ('[unused9]', 10),\n",
              "             ('[unused10]', 11),\n",
              "             ('[unused11]', 12),\n",
              "             ('[unused12]', 13),\n",
              "             ('[unused13]', 14),\n",
              "             ('[unused14]', 15),\n",
              "             ('[unused15]', 16),\n",
              "             ('[unused16]', 17),\n",
              "             ('[unused17]', 18),\n",
              "             ('[unused18]', 19),\n",
              "             ('[unused19]', 20),\n",
              "             ('[unused20]', 21),\n",
              "             ('[unused21]', 22),\n",
              "             ('[unused22]', 23),\n",
              "             ('[unused23]', 24),\n",
              "             ('[unused24]', 25),\n",
              "             ('[unused25]', 26),\n",
              "             ('[unused26]', 27),\n",
              "             ('[unused27]', 28),\n",
              "             ('[unused28]', 29),\n",
              "             ('[unused29]', 30),\n",
              "             ('[unused30]', 31),\n",
              "             ('[unused31]', 32),\n",
              "             ('[unused32]', 33),\n",
              "             ('[unused33]', 34),\n",
              "             ('[unused34]', 35),\n",
              "             ('[unused35]', 36),\n",
              "             ('[unused36]', 37),\n",
              "             ('[unused37]', 38),\n",
              "             ('[unused38]', 39),\n",
              "             ('[unused39]', 40),\n",
              "             ('[unused40]', 41),\n",
              "             ('[unused41]', 42),\n",
              "             ('[unused42]', 43),\n",
              "             ('[unused43]', 44),\n",
              "             ('[unused44]', 45),\n",
              "             ('[unused45]', 46),\n",
              "             ('[unused46]', 47),\n",
              "             ('[unused47]', 48),\n",
              "             ('[unused48]', 49),\n",
              "             ('[unused49]', 50),\n",
              "             ('[unused50]', 51),\n",
              "             ('[unused51]', 52),\n",
              "             ('[unused52]', 53),\n",
              "             ('[unused53]', 54),\n",
              "             ('[unused54]', 55),\n",
              "             ('[unused55]', 56),\n",
              "             ('[unused56]', 57),\n",
              "             ('[unused57]', 58),\n",
              "             ('[unused58]', 59),\n",
              "             ('[unused59]', 60),\n",
              "             ('[unused60]', 61),\n",
              "             ('[unused61]', 62),\n",
              "             ('[unused62]', 63),\n",
              "             ('[unused63]', 64),\n",
              "             ('[unused64]', 65),\n",
              "             ('[unused65]', 66),\n",
              "             ('[unused66]', 67),\n",
              "             ('[unused67]', 68),\n",
              "             ('[unused68]', 69),\n",
              "             ('[unused69]', 70),\n",
              "             ('[unused70]', 71),\n",
              "             ('[unused71]', 72),\n",
              "             ('[unused72]', 73),\n",
              "             ('[unused73]', 74),\n",
              "             ('[unused74]', 75),\n",
              "             ('[unused75]', 76),\n",
              "             ('[unused76]', 77),\n",
              "             ('[unused77]', 78),\n",
              "             ('[unused78]', 79),\n",
              "             ('[unused79]', 80),\n",
              "             ('[unused80]', 81),\n",
              "             ('[unused81]', 82),\n",
              "             ('[unused82]', 83),\n",
              "             ('[unused83]', 84),\n",
              "             ('[unused84]', 85),\n",
              "             ('[unused85]', 86),\n",
              "             ('[unused86]', 87),\n",
              "             ('[unused87]', 88),\n",
              "             ('[unused88]', 89),\n",
              "             ('[unused89]', 90),\n",
              "             ('[unused90]', 91),\n",
              "             ('[unused91]', 92),\n",
              "             ('[unused92]', 93),\n",
              "             ('[unused93]', 94),\n",
              "             ('[unused94]', 95),\n",
              "             ('[unused95]', 96),\n",
              "             ('[unused96]', 97),\n",
              "             ('[unused97]', 98),\n",
              "             ('[unused98]', 99),\n",
              "             ('[UNK]', 100),\n",
              "             ('[CLS]', 101),\n",
              "             ('[SEP]', 102),\n",
              "             ('[MASK]', 103),\n",
              "             ('[unused99]', 104),\n",
              "             ('[unused100]', 105),\n",
              "             ('[unused101]', 106),\n",
              "             ('[unused102]', 107),\n",
              "             ('[unused103]', 108),\n",
              "             ('[unused104]', 109),\n",
              "             ('[unused105]', 110),\n",
              "             ('[unused106]', 111),\n",
              "             ('[unused107]', 112),\n",
              "             ('[unused108]', 113),\n",
              "             ('[unused109]', 114),\n",
              "             ('[unused110]', 115),\n",
              "             ('[unused111]', 116),\n",
              "             ('[unused112]', 117),\n",
              "             ('[unused113]', 118),\n",
              "             ('[unused114]', 119),\n",
              "             ('[unused115]', 120),\n",
              "             ('[unused116]', 121),\n",
              "             ('[unused117]', 122),\n",
              "             ('[unused118]', 123),\n",
              "             ('[unused119]', 124),\n",
              "             ('[unused120]', 125),\n",
              "             ('[unused121]', 126),\n",
              "             ('[unused122]', 127),\n",
              "             ('[unused123]', 128),\n",
              "             ('[unused124]', 129),\n",
              "             ('[unused125]', 130),\n",
              "             ('[unused126]', 131),\n",
              "             ('[unused127]', 132),\n",
              "             ('[unused128]', 133),\n",
              "             ('[unused129]', 134),\n",
              "             ('[unused130]', 135),\n",
              "             ('[unused131]', 136),\n",
              "             ('[unused132]', 137),\n",
              "             ('[unused133]', 138),\n",
              "             ('[unused134]', 139),\n",
              "             ('[unused135]', 140),\n",
              "             ('[unused136]', 141),\n",
              "             ('[unused137]', 142),\n",
              "             ('[unused138]', 143),\n",
              "             ('[unused139]', 144),\n",
              "             ('[unused140]', 145),\n",
              "             ('[unused141]', 146),\n",
              "             ('[unused142]', 147),\n",
              "             ('[unused143]', 148),\n",
              "             ('[unused144]', 149),\n",
              "             ('[unused145]', 150),\n",
              "             ('[unused146]', 151),\n",
              "             ('[unused147]', 152),\n",
              "             ('[unused148]', 153),\n",
              "             ('[unused149]', 154),\n",
              "             ('[unused150]', 155),\n",
              "             ('[unused151]', 156),\n",
              "             ('[unused152]', 157),\n",
              "             ('[unused153]', 158),\n",
              "             ('[unused154]', 159),\n",
              "             ('[unused155]', 160),\n",
              "             ('[unused156]', 161),\n",
              "             ('[unused157]', 162),\n",
              "             ('[unused158]', 163),\n",
              "             ('[unused159]', 164),\n",
              "             ('[unused160]', 165),\n",
              "             ('[unused161]', 166),\n",
              "             ('[unused162]', 167),\n",
              "             ('[unused163]', 168),\n",
              "             ('[unused164]', 169),\n",
              "             ('[unused165]', 170),\n",
              "             ('[unused166]', 171),\n",
              "             ('[unused167]', 172),\n",
              "             ('[unused168]', 173),\n",
              "             ('[unused169]', 174),\n",
              "             ('[unused170]', 175),\n",
              "             ('[unused171]', 176),\n",
              "             ('[unused172]', 177),\n",
              "             ('[unused173]', 178),\n",
              "             ('[unused174]', 179),\n",
              "             ('[unused175]', 180),\n",
              "             ('[unused176]', 181),\n",
              "             ('[unused177]', 182),\n",
              "             ('[unused178]', 183),\n",
              "             ('[unused179]', 184),\n",
              "             ('[unused180]', 185),\n",
              "             ('[unused181]', 186),\n",
              "             ('[unused182]', 187),\n",
              "             ('[unused183]', 188),\n",
              "             ('[unused184]', 189),\n",
              "             ('[unused185]', 190),\n",
              "             ('[unused186]', 191),\n",
              "             ('[unused187]', 192),\n",
              "             ('[unused188]', 193),\n",
              "             ('[unused189]', 194),\n",
              "             ('[unused190]', 195),\n",
              "             ('[unused191]', 196),\n",
              "             ('[unused192]', 197),\n",
              "             ('[unused193]', 198),\n",
              "             ('[unused194]', 199),\n",
              "             ('[unused195]', 200),\n",
              "             ('[unused196]', 201),\n",
              "             ('[unused197]', 202),\n",
              "             ('[unused198]', 203),\n",
              "             ('[unused199]', 204),\n",
              "             ('[unused200]', 205),\n",
              "             ('[unused201]', 206),\n",
              "             ('[unused202]', 207),\n",
              "             ('[unused203]', 208),\n",
              "             ('[unused204]', 209),\n",
              "             ('[unused205]', 210),\n",
              "             ('[unused206]', 211),\n",
              "             ('[unused207]', 212),\n",
              "             ('[unused208]', 213),\n",
              "             ('[unused209]', 214),\n",
              "             ('[unused210]', 215),\n",
              "             ('[unused211]', 216),\n",
              "             ('[unused212]', 217),\n",
              "             ('[unused213]', 218),\n",
              "             ('[unused214]', 219),\n",
              "             ('[unused215]', 220),\n",
              "             ('[unused216]', 221),\n",
              "             ('[unused217]', 222),\n",
              "             ('[unused218]', 223),\n",
              "             ('[unused219]', 224),\n",
              "             ('[unused220]', 225),\n",
              "             ('[unused221]', 226),\n",
              "             ('[unused222]', 227),\n",
              "             ('[unused223]', 228),\n",
              "             ('[unused224]', 229),\n",
              "             ('[unused225]', 230),\n",
              "             ('[unused226]', 231),\n",
              "             ('[unused227]', 232),\n",
              "             ('[unused228]', 233),\n",
              "             ('[unused229]', 234),\n",
              "             ('[unused230]', 235),\n",
              "             ('[unused231]', 236),\n",
              "             ('[unused232]', 237),\n",
              "             ('[unused233]', 238),\n",
              "             ('[unused234]', 239),\n",
              "             ('[unused235]', 240),\n",
              "             ('[unused236]', 241),\n",
              "             ('[unused237]', 242),\n",
              "             ('[unused238]', 243),\n",
              "             ('[unused239]', 244),\n",
              "             ('[unused240]', 245),\n",
              "             ('[unused241]', 246),\n",
              "             ('[unused242]', 247),\n",
              "             ('[unused243]', 248),\n",
              "             ('[unused244]', 249),\n",
              "             ('[unused245]', 250),\n",
              "             ('[unused246]', 251),\n",
              "             ('[unused247]', 252),\n",
              "             ('[unused248]', 253),\n",
              "             ('[unused249]', 254),\n",
              "             ('[unused250]', 255),\n",
              "             ('[unused251]', 256),\n",
              "             ('[unused252]', 257),\n",
              "             ('[unused253]', 258),\n",
              "             ('[unused254]', 259),\n",
              "             ('[unused255]', 260),\n",
              "             ('[unused256]', 261),\n",
              "             ('[unused257]', 262),\n",
              "             ('[unused258]', 263),\n",
              "             ('[unused259]', 264),\n",
              "             ('[unused260]', 265),\n",
              "             ('[unused261]', 266),\n",
              "             ('[unused262]', 267),\n",
              "             ('[unused263]', 268),\n",
              "             ('[unused264]', 269),\n",
              "             ('[unused265]', 270),\n",
              "             ('[unused266]', 271),\n",
              "             ('[unused267]', 272),\n",
              "             ('[unused268]', 273),\n",
              "             ('[unused269]', 274),\n",
              "             ('[unused270]', 275),\n",
              "             ('[unused271]', 276),\n",
              "             ('[unused272]', 277),\n",
              "             ('[unused273]', 278),\n",
              "             ('[unused274]', 279),\n",
              "             ('[unused275]', 280),\n",
              "             ('[unused276]', 281),\n",
              "             ('[unused277]', 282),\n",
              "             ('[unused278]', 283),\n",
              "             ('[unused279]', 284),\n",
              "             ('[unused280]', 285),\n",
              "             ('[unused281]', 286),\n",
              "             ('[unused282]', 287),\n",
              "             ('[unused283]', 288),\n",
              "             ('[unused284]', 289),\n",
              "             ('[unused285]', 290),\n",
              "             ('[unused286]', 291),\n",
              "             ('[unused287]', 292),\n",
              "             ('[unused288]', 293),\n",
              "             ('[unused289]', 294),\n",
              "             ('[unused290]', 295),\n",
              "             ('[unused291]', 296),\n",
              "             ('[unused292]', 297),\n",
              "             ('[unused293]', 298),\n",
              "             ('[unused294]', 299),\n",
              "             ('[unused295]', 300),\n",
              "             ('[unused296]', 301),\n",
              "             ('[unused297]', 302),\n",
              "             ('[unused298]', 303),\n",
              "             ('[unused299]', 304),\n",
              "             ('[unused300]', 305),\n",
              "             ('[unused301]', 306),\n",
              "             ('[unused302]', 307),\n",
              "             ('[unused303]', 308),\n",
              "             ('[unused304]', 309),\n",
              "             ('[unused305]', 310),\n",
              "             ('[unused306]', 311),\n",
              "             ('[unused307]', 312),\n",
              "             ('[unused308]', 313),\n",
              "             ('[unused309]', 314),\n",
              "             ('[unused310]', 315),\n",
              "             ('[unused311]', 316),\n",
              "             ('[unused312]', 317),\n",
              "             ('[unused313]', 318),\n",
              "             ('[unused314]', 319),\n",
              "             ('[unused315]', 320),\n",
              "             ('[unused316]', 321),\n",
              "             ('[unused317]', 322),\n",
              "             ('[unused318]', 323),\n",
              "             ('[unused319]', 324),\n",
              "             ('[unused320]', 325),\n",
              "             ('[unused321]', 326),\n",
              "             ('[unused322]', 327),\n",
              "             ('[unused323]', 328),\n",
              "             ('[unused324]', 329),\n",
              "             ('[unused325]', 330),\n",
              "             ('[unused326]', 331),\n",
              "             ('[unused327]', 332),\n",
              "             ('[unused328]', 333),\n",
              "             ('[unused329]', 334),\n",
              "             ('[unused330]', 335),\n",
              "             ('[unused331]', 336),\n",
              "             ('[unused332]', 337),\n",
              "             ('[unused333]', 338),\n",
              "             ('[unused334]', 339),\n",
              "             ('[unused335]', 340),\n",
              "             ('[unused336]', 341),\n",
              "             ('[unused337]', 342),\n",
              "             ('[unused338]', 343),\n",
              "             ('[unused339]', 344),\n",
              "             ('[unused340]', 345),\n",
              "             ('[unused341]', 346),\n",
              "             ('[unused342]', 347),\n",
              "             ('[unused343]', 348),\n",
              "             ('[unused344]', 349),\n",
              "             ('[unused345]', 350),\n",
              "             ('[unused346]', 351),\n",
              "             ('[unused347]', 352),\n",
              "             ('[unused348]', 353),\n",
              "             ('[unused349]', 354),\n",
              "             ('[unused350]', 355),\n",
              "             ('[unused351]', 356),\n",
              "             ('[unused352]', 357),\n",
              "             ('[unused353]', 358),\n",
              "             ('[unused354]', 359),\n",
              "             ('[unused355]', 360),\n",
              "             ('[unused356]', 361),\n",
              "             ('[unused357]', 362),\n",
              "             ('[unused358]', 363),\n",
              "             ('[unused359]', 364),\n",
              "             ('[unused360]', 365),\n",
              "             ('[unused361]', 366),\n",
              "             ('[unused362]', 367),\n",
              "             ('[unused363]', 368),\n",
              "             ('[unused364]', 369),\n",
              "             ('[unused365]', 370),\n",
              "             ('[unused366]', 371),\n",
              "             ('[unused367]', 372),\n",
              "             ('[unused368]', 373),\n",
              "             ('[unused369]', 374),\n",
              "             ('[unused370]', 375),\n",
              "             ('[unused371]', 376),\n",
              "             ('[unused372]', 377),\n",
              "             ('[unused373]', 378),\n",
              "             ('[unused374]', 379),\n",
              "             ('[unused375]', 380),\n",
              "             ('[unused376]', 381),\n",
              "             ('[unused377]', 382),\n",
              "             ('[unused378]', 383),\n",
              "             ('[unused379]', 384),\n",
              "             ('[unused380]', 385),\n",
              "             ('[unused381]', 386),\n",
              "             ('[unused382]', 387),\n",
              "             ('[unused383]', 388),\n",
              "             ('[unused384]', 389),\n",
              "             ('[unused385]', 390),\n",
              "             ('[unused386]', 391),\n",
              "             ('[unused387]', 392),\n",
              "             ('[unused388]', 393),\n",
              "             ('[unused389]', 394),\n",
              "             ('[unused390]', 395),\n",
              "             ('[unused391]', 396),\n",
              "             ('[unused392]', 397),\n",
              "             ('[unused393]', 398),\n",
              "             ('[unused394]', 399),\n",
              "             ('[unused395]', 400),\n",
              "             ('[unused396]', 401),\n",
              "             ('[unused397]', 402),\n",
              "             ('[unused398]', 403),\n",
              "             ('[unused399]', 404),\n",
              "             ('[unused400]', 405),\n",
              "             ('[unused401]', 406),\n",
              "             ('[unused402]', 407),\n",
              "             ('[unused403]', 408),\n",
              "             ('[unused404]', 409),\n",
              "             ('[unused405]', 410),\n",
              "             ('[unused406]', 411),\n",
              "             ('[unused407]', 412),\n",
              "             ('[unused408]', 413),\n",
              "             ('[unused409]', 414),\n",
              "             ('[unused410]', 415),\n",
              "             ('[unused411]', 416),\n",
              "             ('[unused412]', 417),\n",
              "             ('[unused413]', 418),\n",
              "             ('[unused414]', 419),\n",
              "             ('[unused415]', 420),\n",
              "             ('[unused416]', 421),\n",
              "             ('[unused417]', 422),\n",
              "             ('[unused418]', 423),\n",
              "             ('[unused419]', 424),\n",
              "             ('[unused420]', 425),\n",
              "             ('[unused421]', 426),\n",
              "             ('[unused422]', 427),\n",
              "             ('[unused423]', 428),\n",
              "             ('[unused424]', 429),\n",
              "             ('[unused425]', 430),\n",
              "             ('[unused426]', 431),\n",
              "             ('[unused427]', 432),\n",
              "             ('[unused428]', 433),\n",
              "             ('[unused429]', 434),\n",
              "             ('[unused430]', 435),\n",
              "             ('[unused431]', 436),\n",
              "             ('[unused432]', 437),\n",
              "             ('[unused433]', 438),\n",
              "             ('[unused434]', 439),\n",
              "             ('[unused435]', 440),\n",
              "             ('[unused436]', 441),\n",
              "             ('[unused437]', 442),\n",
              "             ('[unused438]', 443),\n",
              "             ('[unused439]', 444),\n",
              "             ('[unused440]', 445),\n",
              "             ('[unused441]', 446),\n",
              "             ('[unused442]', 447),\n",
              "             ('[unused443]', 448),\n",
              "             ('[unused444]', 449),\n",
              "             ('[unused445]', 450),\n",
              "             ('[unused446]', 451),\n",
              "             ('[unused447]', 452),\n",
              "             ('[unused448]', 453),\n",
              "             ('[unused449]', 454),\n",
              "             ('[unused450]', 455),\n",
              "             ('[unused451]', 456),\n",
              "             ('[unused452]', 457),\n",
              "             ('[unused453]', 458),\n",
              "             ('[unused454]', 459),\n",
              "             ('[unused455]', 460),\n",
              "             ('[unused456]', 461),\n",
              "             ('[unused457]', 462),\n",
              "             ('[unused458]', 463),\n",
              "             ('[unused459]', 464),\n",
              "             ('[unused460]', 465),\n",
              "             ('[unused461]', 466),\n",
              "             ('[unused462]', 467),\n",
              "             ('[unused463]', 468),\n",
              "             ('[unused464]', 469),\n",
              "             ('[unused465]', 470),\n",
              "             ('[unused466]', 471),\n",
              "             ('[unused467]', 472),\n",
              "             ('[unused468]', 473),\n",
              "             ('[unused469]', 474),\n",
              "             ('[unused470]', 475),\n",
              "             ('[unused471]', 476),\n",
              "             ('[unused472]', 477),\n",
              "             ('[unused473]', 478),\n",
              "             ('[unused474]', 479),\n",
              "             ('[unused475]', 480),\n",
              "             ('[unused476]', 481),\n",
              "             ('[unused477]', 482),\n",
              "             ('[unused478]', 483),\n",
              "             ('[unused479]', 484),\n",
              "             ('[unused480]', 485),\n",
              "             ('[unused481]', 486),\n",
              "             ('[unused482]', 487),\n",
              "             ('[unused483]', 488),\n",
              "             ('[unused484]', 489),\n",
              "             ('[unused485]', 490),\n",
              "             ('[unused486]', 491),\n",
              "             ('[unused487]', 492),\n",
              "             ('[unused488]', 493),\n",
              "             ('[unused489]', 494),\n",
              "             ('[unused490]', 495),\n",
              "             ('[unused491]', 496),\n",
              "             ('[unused492]', 497),\n",
              "             ('[unused493]', 498),\n",
              "             ('[unused494]', 499),\n",
              "             ('[unused495]', 500),\n",
              "             ('[unused496]', 501),\n",
              "             ('[unused497]', 502),\n",
              "             ('[unused498]', 503),\n",
              "             ('[unused499]', 504),\n",
              "             ('[unused500]', 505),\n",
              "             ('[unused501]', 506),\n",
              "             ('[unused502]', 507),\n",
              "             ('[unused503]', 508),\n",
              "             ('[unused504]', 509),\n",
              "             ('[unused505]', 510),\n",
              "             ('[unused506]', 511),\n",
              "             ('[unused507]', 512),\n",
              "             ('[unused508]', 513),\n",
              "             ('[unused509]', 514),\n",
              "             ('[unused510]', 515),\n",
              "             ('[unused511]', 516),\n",
              "             ('[unused512]', 517),\n",
              "             ('[unused513]', 518),\n",
              "             ('[unused514]', 519),\n",
              "             ('[unused515]', 520),\n",
              "             ('[unused516]', 521),\n",
              "             ('[unused517]', 522),\n",
              "             ('[unused518]', 523),\n",
              "             ('[unused519]', 524),\n",
              "             ('[unused520]', 525),\n",
              "             ('[unused521]', 526),\n",
              "             ('[unused522]', 527),\n",
              "             ('[unused523]', 528),\n",
              "             ('[unused524]', 529),\n",
              "             ('[unused525]', 530),\n",
              "             ('[unused526]', 531),\n",
              "             ('[unused527]', 532),\n",
              "             ('[unused528]', 533),\n",
              "             ('[unused529]', 534),\n",
              "             ('[unused530]', 535),\n",
              "             ('[unused531]', 536),\n",
              "             ('[unused532]', 537),\n",
              "             ('[unused533]', 538),\n",
              "             ('[unused534]', 539),\n",
              "             ('[unused535]', 540),\n",
              "             ('[unused536]', 541),\n",
              "             ('[unused537]', 542),\n",
              "             ('[unused538]', 543),\n",
              "             ('[unused539]', 544),\n",
              "             ('[unused540]', 545),\n",
              "             ('[unused541]', 546),\n",
              "             ('[unused542]', 547),\n",
              "             ('[unused543]', 548),\n",
              "             ('[unused544]', 549),\n",
              "             ('[unused545]', 550),\n",
              "             ('[unused546]', 551),\n",
              "             ('[unused547]', 552),\n",
              "             ('[unused548]', 553),\n",
              "             ('[unused549]', 554),\n",
              "             ('[unused550]', 555),\n",
              "             ('[unused551]', 556),\n",
              "             ('[unused552]', 557),\n",
              "             ('[unused553]', 558),\n",
              "             ('[unused554]', 559),\n",
              "             ('[unused555]', 560),\n",
              "             ('[unused556]', 561),\n",
              "             ('[unused557]', 562),\n",
              "             ('[unused558]', 563),\n",
              "             ('[unused559]', 564),\n",
              "             ('[unused560]', 565),\n",
              "             ('[unused561]', 566),\n",
              "             ('[unused562]', 567),\n",
              "             ('[unused563]', 568),\n",
              "             ('[unused564]', 569),\n",
              "             ('[unused565]', 570),\n",
              "             ('[unused566]', 571),\n",
              "             ('[unused567]', 572),\n",
              "             ('[unused568]', 573),\n",
              "             ('[unused569]', 574),\n",
              "             ('[unused570]', 575),\n",
              "             ('[unused571]', 576),\n",
              "             ('[unused572]', 577),\n",
              "             ('[unused573]', 578),\n",
              "             ('[unused574]', 579),\n",
              "             ('[unused575]', 580),\n",
              "             ('[unused576]', 581),\n",
              "             ('[unused577]', 582),\n",
              "             ('[unused578]', 583),\n",
              "             ('[unused579]', 584),\n",
              "             ('[unused580]', 585),\n",
              "             ('[unused581]', 586),\n",
              "             ('[unused582]', 587),\n",
              "             ('[unused583]', 588),\n",
              "             ('[unused584]', 589),\n",
              "             ('[unused585]', 590),\n",
              "             ('[unused586]', 591),\n",
              "             ('[unused587]', 592),\n",
              "             ('[unused588]', 593),\n",
              "             ('[unused589]', 594),\n",
              "             ('[unused590]', 595),\n",
              "             ('[unused591]', 596),\n",
              "             ('[unused592]', 597),\n",
              "             ('[unused593]', 598),\n",
              "             ('[unused594]', 599),\n",
              "             ('[unused595]', 600),\n",
              "             ('[unused596]', 601),\n",
              "             ('[unused597]', 602),\n",
              "             ('[unused598]', 603),\n",
              "             ('[unused599]', 604),\n",
              "             ('[unused600]', 605),\n",
              "             ('[unused601]', 606),\n",
              "             ('[unused602]', 607),\n",
              "             ('[unused603]', 608),\n",
              "             ('[unused604]', 609),\n",
              "             ('[unused605]', 610),\n",
              "             ('[unused606]', 611),\n",
              "             ('[unused607]', 612),\n",
              "             ('[unused608]', 613),\n",
              "             ('[unused609]', 614),\n",
              "             ('[unused610]', 615),\n",
              "             ('[unused611]', 616),\n",
              "             ('[unused612]', 617),\n",
              "             ('[unused613]', 618),\n",
              "             ('[unused614]', 619),\n",
              "             ('[unused615]', 620),\n",
              "             ('[unused616]', 621),\n",
              "             ('[unused617]', 622),\n",
              "             ('[unused618]', 623),\n",
              "             ('[unused619]', 624),\n",
              "             ('[unused620]', 625),\n",
              "             ('[unused621]', 626),\n",
              "             ('[unused622]', 627),\n",
              "             ('[unused623]', 628),\n",
              "             ('[unused624]', 629),\n",
              "             ('[unused625]', 630),\n",
              "             ('[unused626]', 631),\n",
              "             ('[unused627]', 632),\n",
              "             ('[unused628]', 633),\n",
              "             ('[unused629]', 634),\n",
              "             ('[unused630]', 635),\n",
              "             ('[unused631]', 636),\n",
              "             ('[unused632]', 637),\n",
              "             ('[unused633]', 638),\n",
              "             ('[unused634]', 639),\n",
              "             ('[unused635]', 640),\n",
              "             ('[unused636]', 641),\n",
              "             ('[unused637]', 642),\n",
              "             ('[unused638]', 643),\n",
              "             ('[unused639]', 644),\n",
              "             ('[unused640]', 645),\n",
              "             ('[unused641]', 646),\n",
              "             ('[unused642]', 647),\n",
              "             ('[unused643]', 648),\n",
              "             ('[unused644]', 649),\n",
              "             ('[unused645]', 650),\n",
              "             ('[unused646]', 651),\n",
              "             ('[unused647]', 652),\n",
              "             ('[unused648]', 653),\n",
              "             ('[unused649]', 654),\n",
              "             ('[unused650]', 655),\n",
              "             ('[unused651]', 656),\n",
              "             ('[unused652]', 657),\n",
              "             ('[unused653]', 658),\n",
              "             ('[unused654]', 659),\n",
              "             ('[unused655]', 660),\n",
              "             ('[unused656]', 661),\n",
              "             ('[unused657]', 662),\n",
              "             ('[unused658]', 663),\n",
              "             ('[unused659]', 664),\n",
              "             ('[unused660]', 665),\n",
              "             ('[unused661]', 666),\n",
              "             ('[unused662]', 667),\n",
              "             ('[unused663]', 668),\n",
              "             ('[unused664]', 669),\n",
              "             ('[unused665]', 670),\n",
              "             ('[unused666]', 671),\n",
              "             ('[unused667]', 672),\n",
              "             ('[unused668]', 673),\n",
              "             ('[unused669]', 674),\n",
              "             ('[unused670]', 675),\n",
              "             ('[unused671]', 676),\n",
              "             ('[unused672]', 677),\n",
              "             ('[unused673]', 678),\n",
              "             ('[unused674]', 679),\n",
              "             ('[unused675]', 680),\n",
              "             ('[unused676]', 681),\n",
              "             ('[unused677]', 682),\n",
              "             ('[unused678]', 683),\n",
              "             ('[unused679]', 684),\n",
              "             ('[unused680]', 685),\n",
              "             ('[unused681]', 686),\n",
              "             ('[unused682]', 687),\n",
              "             ('[unused683]', 688),\n",
              "             ('[unused684]', 689),\n",
              "             ('[unused685]', 690),\n",
              "             ('[unused686]', 691),\n",
              "             ('[unused687]', 692),\n",
              "             ('[unused688]', 693),\n",
              "             ('[unused689]', 694),\n",
              "             ('[unused690]', 695),\n",
              "             ('[unused691]', 696),\n",
              "             ('[unused692]', 697),\n",
              "             ('[unused693]', 698),\n",
              "             ('[unused694]', 699),\n",
              "             ('[unused695]', 700),\n",
              "             ('[unused696]', 701),\n",
              "             ('[unused697]', 702),\n",
              "             ('[unused698]', 703),\n",
              "             ('[unused699]', 704),\n",
              "             ('[unused700]', 705),\n",
              "             ('[unused701]', 706),\n",
              "             ('[unused702]', 707),\n",
              "             ('[unused703]', 708),\n",
              "             ('[unused704]', 709),\n",
              "             ('[unused705]', 710),\n",
              "             ('[unused706]', 711),\n",
              "             ('[unused707]', 712),\n",
              "             ('[unused708]', 713),\n",
              "             ('[unused709]', 714),\n",
              "             ('[unused710]', 715),\n",
              "             ('[unused711]', 716),\n",
              "             ('[unused712]', 717),\n",
              "             ('[unused713]', 718),\n",
              "             ('[unused714]', 719),\n",
              "             ('[unused715]', 720),\n",
              "             ('[unused716]', 721),\n",
              "             ('[unused717]', 722),\n",
              "             ('[unused718]', 723),\n",
              "             ('[unused719]', 724),\n",
              "             ('[unused720]', 725),\n",
              "             ('[unused721]', 726),\n",
              "             ('[unused722]', 727),\n",
              "             ('[unused723]', 728),\n",
              "             ('[unused724]', 729),\n",
              "             ('[unused725]', 730),\n",
              "             ('[unused726]', 731),\n",
              "             ('[unused727]', 732),\n",
              "             ('[unused728]', 733),\n",
              "             ('[unused729]', 734),\n",
              "             ('[unused730]', 735),\n",
              "             ('[unused731]', 736),\n",
              "             ('[unused732]', 737),\n",
              "             ('[unused733]', 738),\n",
              "             ('[unused734]', 739),\n",
              "             ('[unused735]', 740),\n",
              "             ('[unused736]', 741),\n",
              "             ('[unused737]', 742),\n",
              "             ('[unused738]', 743),\n",
              "             ('[unused739]', 744),\n",
              "             ('[unused740]', 745),\n",
              "             ('[unused741]', 746),\n",
              "             ('[unused742]', 747),\n",
              "             ('[unused743]', 748),\n",
              "             ('[unused744]', 749),\n",
              "             ('[unused745]', 750),\n",
              "             ('[unused746]', 751),\n",
              "             ('[unused747]', 752),\n",
              "             ('[unused748]', 753),\n",
              "             ('[unused749]', 754),\n",
              "             ('[unused750]', 755),\n",
              "             ('[unused751]', 756),\n",
              "             ('[unused752]', 757),\n",
              "             ('[unused753]', 758),\n",
              "             ('[unused754]', 759),\n",
              "             ('[unused755]', 760),\n",
              "             ('[unused756]', 761),\n",
              "             ('[unused757]', 762),\n",
              "             ('[unused758]', 763),\n",
              "             ('[unused759]', 764),\n",
              "             ('[unused760]', 765),\n",
              "             ('[unused761]', 766),\n",
              "             ('[unused762]', 767),\n",
              "             ('[unused763]', 768),\n",
              "             ('[unused764]', 769),\n",
              "             ('[unused765]', 770),\n",
              "             ('[unused766]', 771),\n",
              "             ('[unused767]', 772),\n",
              "             ('[unused768]', 773),\n",
              "             ('[unused769]', 774),\n",
              "             ('[unused770]', 775),\n",
              "             ('[unused771]', 776),\n",
              "             ('[unused772]', 777),\n",
              "             ('[unused773]', 778),\n",
              "             ('[unused774]', 779),\n",
              "             ('[unused775]', 780),\n",
              "             ('[unused776]', 781),\n",
              "             ('[unused777]', 782),\n",
              "             ('[unused778]', 783),\n",
              "             ('[unused779]', 784),\n",
              "             ('[unused780]', 785),\n",
              "             ('[unused781]', 786),\n",
              "             ('[unused782]', 787),\n",
              "             ('[unused783]', 788),\n",
              "             ('[unused784]', 789),\n",
              "             ('[unused785]', 790),\n",
              "             ('[unused786]', 791),\n",
              "             ('[unused787]', 792),\n",
              "             ('[unused788]', 793),\n",
              "             ('[unused789]', 794),\n",
              "             ('[unused790]', 795),\n",
              "             ('[unused791]', 796),\n",
              "             ('[unused792]', 797),\n",
              "             ('[unused793]', 798),\n",
              "             ('[unused794]', 799),\n",
              "             ('[unused795]', 800),\n",
              "             ('[unused796]', 801),\n",
              "             ('[unused797]', 802),\n",
              "             ('[unused798]', 803),\n",
              "             ('[unused799]', 804),\n",
              "             ('[unused800]', 805),\n",
              "             ('[unused801]', 806),\n",
              "             ('[unused802]', 807),\n",
              "             ('[unused803]', 808),\n",
              "             ('[unused804]', 809),\n",
              "             ('[unused805]', 810),\n",
              "             ('[unused806]', 811),\n",
              "             ('[unused807]', 812),\n",
              "             ('[unused808]', 813),\n",
              "             ('[unused809]', 814),\n",
              "             ('[unused810]', 815),\n",
              "             ('[unused811]', 816),\n",
              "             ('[unused812]', 817),\n",
              "             ('[unused813]', 818),\n",
              "             ('[unused814]', 819),\n",
              "             ('[unused815]', 820),\n",
              "             ('[unused816]', 821),\n",
              "             ('[unused817]', 822),\n",
              "             ('[unused818]', 823),\n",
              "             ('[unused819]', 824),\n",
              "             ('[unused820]', 825),\n",
              "             ('[unused821]', 826),\n",
              "             ('[unused822]', 827),\n",
              "             ('[unused823]', 828),\n",
              "             ('[unused824]', 829),\n",
              "             ('[unused825]', 830),\n",
              "             ('[unused826]', 831),\n",
              "             ('[unused827]', 832),\n",
              "             ('[unused828]', 833),\n",
              "             ('[unused829]', 834),\n",
              "             ('[unused830]', 835),\n",
              "             ('[unused831]', 836),\n",
              "             ('[unused832]', 837),\n",
              "             ('[unused833]', 838),\n",
              "             ('[unused834]', 839),\n",
              "             ('[unused835]', 840),\n",
              "             ('[unused836]', 841),\n",
              "             ('[unused837]', 842),\n",
              "             ('[unused838]', 843),\n",
              "             ('[unused839]', 844),\n",
              "             ('[unused840]', 845),\n",
              "             ('[unused841]', 846),\n",
              "             ('[unused842]', 847),\n",
              "             ('[unused843]', 848),\n",
              "             ('[unused844]', 849),\n",
              "             ('[unused845]', 850),\n",
              "             ('[unused846]', 851),\n",
              "             ('[unused847]', 852),\n",
              "             ('[unused848]', 853),\n",
              "             ('[unused849]', 854),\n",
              "             ('[unused850]', 855),\n",
              "             ('[unused851]', 856),\n",
              "             ('[unused852]', 857),\n",
              "             ('[unused853]', 858),\n",
              "             ('[unused854]', 859),\n",
              "             ('[unused855]', 860),\n",
              "             ('[unused856]', 861),\n",
              "             ('[unused857]', 862),\n",
              "             ('[unused858]', 863),\n",
              "             ('[unused859]', 864),\n",
              "             ('[unused860]', 865),\n",
              "             ('[unused861]', 866),\n",
              "             ('[unused862]', 867),\n",
              "             ('[unused863]', 868),\n",
              "             ('[unused864]', 869),\n",
              "             ('[unused865]', 870),\n",
              "             ('[unused866]', 871),\n",
              "             ('[unused867]', 872),\n",
              "             ('[unused868]', 873),\n",
              "             ('[unused869]', 874),\n",
              "             ('[unused870]', 875),\n",
              "             ('[unused871]', 876),\n",
              "             ('[unused872]', 877),\n",
              "             ('[unused873]', 878),\n",
              "             ('[unused874]', 879),\n",
              "             ('[unused875]', 880),\n",
              "             ('[unused876]', 881),\n",
              "             ('[unused877]', 882),\n",
              "             ('[unused878]', 883),\n",
              "             ('[unused879]', 884),\n",
              "             ('[unused880]', 885),\n",
              "             ('[unused881]', 886),\n",
              "             ('[unused882]', 887),\n",
              "             ('[unused883]', 888),\n",
              "             ('[unused884]', 889),\n",
              "             ('[unused885]', 890),\n",
              "             ('[unused886]', 891),\n",
              "             ('[unused887]', 892),\n",
              "             ('[unused888]', 893),\n",
              "             ('[unused889]', 894),\n",
              "             ('[unused890]', 895),\n",
              "             ('[unused891]', 896),\n",
              "             ('[unused892]', 897),\n",
              "             ('[unused893]', 898),\n",
              "             ('[unused894]', 899),\n",
              "             ('[unused895]', 900),\n",
              "             ('[unused896]', 901),\n",
              "             ('[unused897]', 902),\n",
              "             ('[unused898]', 903),\n",
              "             ('[unused899]', 904),\n",
              "             ('[unused900]', 905),\n",
              "             ('[unused901]', 906),\n",
              "             ('[unused902]', 907),\n",
              "             ('[unused903]', 908),\n",
              "             ('[unused904]', 909),\n",
              "             ('[unused905]', 910),\n",
              "             ('[unused906]', 911),\n",
              "             ('[unused907]', 912),\n",
              "             ('[unused908]', 913),\n",
              "             ('[unused909]', 914),\n",
              "             ('[unused910]', 915),\n",
              "             ('[unused911]', 916),\n",
              "             ('[unused912]', 917),\n",
              "             ('[unused913]', 918),\n",
              "             ('[unused914]', 919),\n",
              "             ('[unused915]', 920),\n",
              "             ('[unused916]', 921),\n",
              "             ('[unused917]', 922),\n",
              "             ('[unused918]', 923),\n",
              "             ('[unused919]', 924),\n",
              "             ('[unused920]', 925),\n",
              "             ('[unused921]', 926),\n",
              "             ('[unused922]', 927),\n",
              "             ('[unused923]', 928),\n",
              "             ('[unused924]', 929),\n",
              "             ('[unused925]', 930),\n",
              "             ('[unused926]', 931),\n",
              "             ('[unused927]', 932),\n",
              "             ('[unused928]', 933),\n",
              "             ('[unused929]', 934),\n",
              "             ('[unused930]', 935),\n",
              "             ('[unused931]', 936),\n",
              "             ('[unused932]', 937),\n",
              "             ('[unused933]', 938),\n",
              "             ('[unused934]', 939),\n",
              "             ('[unused935]', 940),\n",
              "             ('[unused936]', 941),\n",
              "             ('[unused937]', 942),\n",
              "             ('[unused938]', 943),\n",
              "             ('[unused939]', 944),\n",
              "             ('[unused940]', 945),\n",
              "             ('[unused941]', 946),\n",
              "             ('[unused942]', 947),\n",
              "             ('[unused943]', 948),\n",
              "             ('[unused944]', 949),\n",
              "             ('[unused945]', 950),\n",
              "             ('[unused946]', 951),\n",
              "             ('[unused947]', 952),\n",
              "             ('[unused948]', 953),\n",
              "             ('[unused949]', 954),\n",
              "             ('[unused950]', 955),\n",
              "             ('[unused951]', 956),\n",
              "             ('[unused952]', 957),\n",
              "             ('[unused953]', 958),\n",
              "             ('[unused954]', 959),\n",
              "             ('[unused955]', 960),\n",
              "             ('[unused956]', 961),\n",
              "             ('[unused957]', 962),\n",
              "             ('[unused958]', 963),\n",
              "             ('[unused959]', 964),\n",
              "             ('[unused960]', 965),\n",
              "             ('[unused961]', 966),\n",
              "             ('[unused962]', 967),\n",
              "             ('[unused963]', 968),\n",
              "             ('[unused964]', 969),\n",
              "             ('[unused965]', 970),\n",
              "             ('[unused966]', 971),\n",
              "             ('[unused967]', 972),\n",
              "             ('[unused968]', 973),\n",
              "             ('[unused969]', 974),\n",
              "             ('[unused970]', 975),\n",
              "             ('[unused971]', 976),\n",
              "             ('[unused972]', 977),\n",
              "             ('[unused973]', 978),\n",
              "             ('[unused974]', 979),\n",
              "             ('[unused975]', 980),\n",
              "             ('[unused976]', 981),\n",
              "             ('[unused977]', 982),\n",
              "             ('[unused978]', 983),\n",
              "             ('[unused979]', 984),\n",
              "             ('[unused980]', 985),\n",
              "             ('[unused981]', 986),\n",
              "             ('[unused982]', 987),\n",
              "             ('[unused983]', 988),\n",
              "             ('[unused984]', 989),\n",
              "             ('[unused985]', 990),\n",
              "             ('[unused986]', 991),\n",
              "             ('[unused987]', 992),\n",
              "             ('[unused988]', 993),\n",
              "             ('[unused989]', 994),\n",
              "             ('[unused990]', 995),\n",
              "             ('[unused991]', 996),\n",
              "             ('[unused992]', 997),\n",
              "             ('[unused993]', 998),\n",
              "             ('!', 999),\n",
              "             ...])"
            ]
          },
          "metadata": {},
          "execution_count": 38
        }
      ]
    },
    {
      "cell_type": "code",
      "source": [
        "#Seeing the number of bert_tokenizer vocabularies\n",
        "print(len(bert_tokenizer.vocab))"
      ],
      "metadata": {
        "colab": {
          "base_uri": "https://localhost:8080/"
        },
        "id": "B2y9VPQskLKa",
        "outputId": "186982c2-0e47-4bcc-b373-ed300326f895"
      },
      "execution_count": 39,
      "outputs": [
        {
          "output_type": "stream",
          "name": "stdout",
          "text": [
            "30522\n"
          ]
        }
      ]
    },
    {
      "cell_type": "markdown",
      "source": [
        "### Fixing token counts of all documents"
      ],
      "metadata": {
        "id": "jIe9DQQOkPH-"
      }
    },
    {
      "cell_type": "code",
      "source": [
        "#First, creating an empty list\n",
        "sentences = []\n",
        "#Creating a for loop from X\n",
        "for se in X:\n",
        "    #Creating the inputs from bert_tokenizer\n",
        "    inputs = bert_tokenizer.encode(se, add_special_tokens=True)\n",
        "    #Appending to the empty list\n",
        "    sentences.append(len(inputs))\n",
        "\n",
        "#Printing the max of the sentences\n",
        "print('The max sentence length: ', max(sentences))\n",
        "#As we can see, the max is around 162"
      ],
      "metadata": {
        "colab": {
          "base_uri": "https://localhost:8080/"
        },
        "id": "CLl7GrjakMxS",
        "outputId": "abc53cbf-eacd-473d-a055-6cf93984b253"
      },
      "execution_count": 40,
      "outputs": [
        {
          "output_type": "stream",
          "name": "stdout",
          "text": [
            "The max sentence length:  162\n"
          ]
        }
      ]
    },
    {
      "cell_type": "code",
      "source": [
        "#Seeing the mean of the sentences\n",
        "np.array(sentences).mean()\n",
        "#As we can see, the mean is about 76.75"
      ],
      "metadata": {
        "colab": {
          "base_uri": "https://localhost:8080/"
        },
        "id": "xKvs95zqkQ8A",
        "outputId": "10b90782-779e-4111-cf43-7873b8a6edee"
      },
      "execution_count": 41,
      "outputs": [
        {
          "output_type": "execute_result",
          "data": {
            "text/plain": [
              "76.75947689316956"
            ]
          },
          "metadata": {},
          "execution_count": 41
        }
      ]
    },
    {
      "cell_type": "code",
      "source": [
        "#Fixing the token size to 140, because it gives us a value of 0.99\n",
        "to_size = 140\n",
        "#Making the sum of them\n",
        "sum(np.array(sentences) < to_size) / len(sentences)\n",
        "#As we can see, the sum is 0.99"
      ],
      "metadata": {
        "colab": {
          "base_uri": "https://localhost:8080/"
        },
        "id": "oHY67xq7kT4C",
        "outputId": "69ca47b9-0206-43f8-ec2e-f158864d7d2b"
      },
      "execution_count": 46,
      "outputs": [
        {
          "output_type": "execute_result",
          "data": {
            "text/plain": [
              "0.994830785543872"
            ]
          },
          "metadata": {},
          "execution_count": 46
        }
      ]
    },
    {
      "cell_type": "code",
      "source": [
        "#Splitting the data\n",
        "X_train_d, X_test_d, y_train_d, y_test_d = train_test_split(X, y, test_size=t, stratify=y, random_state=s)"
      ],
      "metadata": {
        "id": "KwocyBJvka54"
      },
      "execution_count": 47,
      "outputs": []
    },
    {
      "cell_type": "code",
      "source": [
        "#Creating the tokens form the whole data\n",
        "all_tokens = bert_tokenizer(list(X), max_length=140, truncation=True, padding='max_length', add_special_tokens=True)"
      ],
      "metadata": {
        "id": "mcAQ0R4Pkc2P"
      },
      "execution_count": 50,
      "outputs": []
    },
    {
      "cell_type": "code",
      "source": [
        "#Converting to array\n",
        "np.array(all_tokens['input_ids'])"
      ],
      "metadata": {
        "colab": {
          "base_uri": "https://localhost:8080/"
        },
        "id": "GIWfzMdlke2G",
        "outputId": "a940f959-da74-4d2b-8c69-100af10b2c19"
      },
      "execution_count": 51,
      "outputs": [
        {
          "output_type": "execute_result",
          "data": {
            "text/plain": [
              "array([[ 101, 7078, 6919, ...,    0,    0,    0],\n",
              "       [ 101, 2293, 2023, ...,    0,    0,    0],\n",
              "       [ 101, 1045, 2018, ...,    0,    0,    0],\n",
              "       ...,\n",
              "       [ 101, 2023, 4906, ...,    0,    0,    0],\n",
              "       [ 101, 1045, 4149, ...,    0,    0,    0],\n",
              "       [ 101, 2023, 4377, ...,    0,    0,    0]])"
            ]
          },
          "metadata": {},
          "execution_count": 51
        }
      ]
    },
    {
      "cell_type": "code",
      "source": [
        "#Converting to array\n",
        "np.array(all_tokens['attention_mask'])"
      ],
      "metadata": {
        "colab": {
          "base_uri": "https://localhost:8080/"
        },
        "id": "cb8dNLRHkgcm",
        "outputId": "84d4c8a0-6dbc-4dc9-c9d4-8312f2fd2060"
      },
      "execution_count": 52,
      "outputs": [
        {
          "output_type": "execute_result",
          "data": {
            "text/plain": [
              "array([[1, 1, 1, ..., 0, 0, 0],\n",
              "       [1, 1, 1, ..., 0, 0, 0],\n",
              "       [1, 1, 1, ..., 0, 0, 0],\n",
              "       ...,\n",
              "       [1, 1, 1, ..., 0, 0, 0],\n",
              "       [1, 1, 1, ..., 0, 0, 0],\n",
              "       [1, 1, 1, ..., 0, 0, 0]])"
            ]
          },
          "metadata": {},
          "execution_count": 52
        }
      ]
    },
    {
      "cell_type": "markdown",
      "source": [
        "### Transformation Vectors to Matrices"
      ],
      "metadata": {
        "id": "lcaQRNjWkjVW"
      }
    },
    {
      "cell_type": "code",
      "source": [
        "#Creating the function of transform to use it later in the next steps\n",
        "def transform(X):\n",
        "  len = 140\n",
        "\n",
        "  all_tokens = bert_tokenizer(list(X),\n",
        "                                  max_length=len,\n",
        "                                  truncation=True,\n",
        "                                  padding='max_length',\n",
        "                                  add_special_tokens=True)\n",
        "\n",
        "  return np.array(all_tokens['input_ids']), np.array(all_tokens['attention_mask'])"
      ],
      "metadata": {
        "id": "J8alRK7Zkl1x"
      },
      "execution_count": 53,
      "outputs": []
    },
    {
      "cell_type": "code",
      "source": [
        "#Using transform function on X_train\n",
        "Xids_tr, Xmask_tr = transform(X_train_d)\n",
        "\n",
        "#Using transform function on X_test\n",
        "Xids_te, Xmask_te = transform(X_test_d)"
      ],
      "metadata": {
        "id": "UJq1Hg2Ikqj-"
      },
      "execution_count": 54,
      "outputs": []
    },
    {
      "cell_type": "code",
      "source": [
        "#Seeing Xids_tr\n",
        "Xids_tr"
      ],
      "metadata": {
        "colab": {
          "base_uri": "https://localhost:8080/"
        },
        "id": "0eL_nrx2ksNA",
        "outputId": "d23ddaa8-d000-42ed-fe0f-ed5d41a5f2a3"
      },
      "execution_count": 55,
      "outputs": [
        {
          "output_type": "execute_result",
          "data": {
            "text/plain": [
              "array([[  101,  1045,  7078, ...,     0,     0,     0],\n",
              "       [  101,  1045,  2293, ...,     0,     0,     0],\n",
              "       [  101,  2023,  2327, ...,     0,     0,     0],\n",
              "       ...,\n",
              "       [  101,  2023,  4377, ...,     0,     0,     0],\n",
              "       [  101, 10140,  2640, ...,     0,     0,     0],\n",
              "       [  101,  1045,  3641, ...,     0,     0,     0]])"
            ]
          },
          "metadata": {},
          "execution_count": 55
        }
      ]
    },
    {
      "cell_type": "code",
      "source": [
        "#reshaping y_train_d to be able to use it later\n",
        "la_tr = y_train_d.reshape(-1,1)\n",
        "la_tr"
      ],
      "metadata": {
        "colab": {
          "base_uri": "https://localhost:8080/"
        },
        "id": "WfhQJaWflBrl",
        "outputId": "6c4fa708-f228-414a-d4e8-36722f1d4f6b"
      },
      "execution_count": 56,
      "outputs": [
        {
          "output_type": "execute_result",
          "data": {
            "text/plain": [
              "array([[0],\n",
              "       [0],\n",
              "       [1],\n",
              "       ...,\n",
              "       [0],\n",
              "       [1],\n",
              "       [0]])"
            ]
          },
          "metadata": {},
          "execution_count": 56
        }
      ]
    },
    {
      "cell_type": "code",
      "source": [
        "#reshaping y_test_d to be able to use it later\n",
        "la_te = y_test_d.reshape(-1,1)\n",
        "la_te"
      ],
      "metadata": {
        "colab": {
          "base_uri": "https://localhost:8080/"
        },
        "id": "3RM1Hu-SlDy6",
        "outputId": "8e7823e8-4905-4393-de76-ce98c2bc93e2"
      },
      "execution_count": 57,
      "outputs": [
        {
          "output_type": "execute_result",
          "data": {
            "text/plain": [
              "array([[0],\n",
              "       [0],\n",
              "       [1],\n",
              "       ...,\n",
              "       [0],\n",
              "       [0],\n",
              "       [0]])"
            ]
          },
          "metadata": {},
          "execution_count": 57
        }
      ]
    },
    {
      "cell_type": "markdown",
      "source": [
        "### Transformation Matrix to Tensorflow tensor"
      ],
      "metadata": {
        "id": "aJQdjEQWlG3k"
      }
    },
    {
      "cell_type": "code",
      "source": [
        "#Transformting the matrix to tensorflow tensor\n",
        "#First transforming the training data\n",
        "da_tr = tf.data.Dataset.from_tensor_slices((Xids_tr, Xmask_tr, la_tr))\n",
        "da_tr"
      ],
      "metadata": {
        "colab": {
          "base_uri": "https://localhost:8080/"
        },
        "id": "V5E_ug5AlGde",
        "outputId": "e475826a-22e2-46c2-97a3-4c3e8412f01a"
      },
      "execution_count": 58,
      "outputs": [
        {
          "output_type": "execute_result",
          "data": {
            "text/plain": [
              "<_TensorSliceDataset element_spec=(TensorSpec(shape=(140,), dtype=tf.int64, name=None), TensorSpec(shape=(140,), dtype=tf.int64, name=None), TensorSpec(shape=(1,), dtype=tf.int64, name=None))>"
            ]
          },
          "metadata": {},
          "execution_count": 58
        }
      ]
    },
    {
      "cell_type": "code",
      "source": [
        "#Transforming the test data\n",
        "da_te = tf.data.Dataset.from_tensor_slices((Xids_te, Xmask_te, la_te))\n",
        "da_te"
      ],
      "metadata": {
        "colab": {
          "base_uri": "https://localhost:8080/"
        },
        "id": "1z1fGugLlWv-",
        "outputId": "fcd5e500-6662-4545-80dc-3cafdef3f6a0"
      },
      "execution_count": 59,
      "outputs": [
        {
          "output_type": "execute_result",
          "data": {
            "text/plain": [
              "<_TensorSliceDataset element_spec=(TensorSpec(shape=(140,), dtype=tf.int64, name=None), TensorSpec(shape=(140,), dtype=tf.int64, name=None), TensorSpec(shape=(1,), dtype=tf.int64, name=None))>"
            ]
          },
          "metadata": {},
          "execution_count": 59
        }
      ]
    },
    {
      "cell_type": "code",
      "source": [
        "#Creating map function to map\n",
        "def map(Tensor_Xids, Tensor_Xmask, Tensor_labels):\n",
        "    # converting three-item tuple into a two-item tuple where the input item is a dictionary\n",
        "    return {'input_ids': Tensor_Xids, 'attention_mask': Tensor_Xmask}, Tensor_labels"
      ],
      "metadata": {
        "id": "EBaOjI5clYNB"
      },
      "execution_count": 60,
      "outputs": []
    },
    {
      "cell_type": "code",
      "source": [
        "#Using map function\n",
        "da_tr = da_tr.map(map)\n",
        "da_te = da_te.map(map)"
      ],
      "metadata": {
        "id": "V__JMmh3lZwZ"
      },
      "execution_count": 61,
      "outputs": []
    },
    {
      "cell_type": "code",
      "source": [
        "#Seeing da_tr\n",
        "da_tr"
      ],
      "metadata": {
        "colab": {
          "base_uri": "https://localhost:8080/"
        },
        "id": "lQculXJilcSj",
        "outputId": "0fcb3c45-c817-4853-a701-34aeba38daea"
      },
      "execution_count": 62,
      "outputs": [
        {
          "output_type": "execute_result",
          "data": {
            "text/plain": [
              "<_MapDataset element_spec=({'input_ids': TensorSpec(shape=(140,), dtype=tf.int64, name=None), 'attention_mask': TensorSpec(shape=(140,), dtype=tf.int64, name=None)}, TensorSpec(shape=(1,), dtype=tf.int64, name=None))>"
            ]
          },
          "metadata": {},
          "execution_count": 62
        }
      ]
    },
    {
      "cell_type": "code",
      "source": [
        "#Seeing da_te\n",
        "da_te"
      ],
      "metadata": {
        "colab": {
          "base_uri": "https://localhost:8080/"
        },
        "id": "113QUVxPldn2",
        "outputId": "df37d7f3-839e-45f8-f8be-cd6a414aeae2"
      },
      "execution_count": 63,
      "outputs": [
        {
          "output_type": "execute_result",
          "data": {
            "text/plain": [
              "<_MapDataset element_spec=({'input_ids': TensorSpec(shape=(140,), dtype=tf.int64, name=None), 'attention_mask': TensorSpec(shape=(140,), dtype=tf.int64, name=None)}, TensorSpec(shape=(1,), dtype=tf.int64, name=None))>"
            ]
          },
          "metadata": {},
          "execution_count": 63
        }
      ]
    },
    {
      "cell_type": "markdown",
      "source": [
        "### Batch Size\n"
      ],
      "metadata": {
        "id": "yrB--4lslmqV"
      }
    },
    {
      "cell_type": "code",
      "source": [
        "#Batch size\n",
        "b = 16\n",
        "\n",
        "tr_ds = da_tr.batch(b)\n",
        "va_ds = da_te.batch(b)"
      ],
      "metadata": {
        "id": "zCqDPPqalnFn"
      },
      "execution_count": 64,
      "outputs": []
    },
    {
      "cell_type": "code",
      "source": [
        "#Seeing tr_ds\n",
        "tr_ds"
      ],
      "metadata": {
        "colab": {
          "base_uri": "https://localhost:8080/"
        },
        "id": "1fHZPbPLlpmW",
        "outputId": "005e5230-8fb2-4ea1-fb13-e06485312a75"
      },
      "execution_count": 65,
      "outputs": [
        {
          "output_type": "execute_result",
          "data": {
            "text/plain": [
              "<_BatchDataset element_spec=({'input_ids': TensorSpec(shape=(None, 140), dtype=tf.int64, name=None), 'attention_mask': TensorSpec(shape=(None, 140), dtype=tf.int64, name=None)}, TensorSpec(shape=(None, 1), dtype=tf.int64, name=None))>"
            ]
          },
          "metadata": {},
          "execution_count": 65
        }
      ]
    },
    {
      "cell_type": "code",
      "source": [
        "#Seeing va_ds\n",
        "va_ds"
      ],
      "metadata": {
        "colab": {
          "base_uri": "https://localhost:8080/"
        },
        "id": "I0mMO8-slrF2",
        "outputId": "49d7468d-df3a-4eeb-9a93-b567c5cc3c85"
      },
      "execution_count": 66,
      "outputs": [
        {
          "output_type": "execute_result",
          "data": {
            "text/plain": [
              "<_BatchDataset element_spec=({'input_ids': TensorSpec(shape=(None, 140), dtype=tf.int64, name=None), 'attention_mask': TensorSpec(shape=(None, 140), dtype=tf.int64, name=None)}, TensorSpec(shape=(None, 1), dtype=tf.int64, name=None))>"
            ]
          },
          "metadata": {},
          "execution_count": 66
        }
      ]
    },
    {
      "cell_type": "markdown",
      "source": [
        "### Creating optimization"
      ],
      "metadata": {
        "id": "FhSg7A4VlwsH"
      }
    },
    {
      "cell_type": "code",
      "source": [
        "#epochs size\n",
        "e = 3\n",
        "\n",
        "steps = len(tr_ds) #Creating the steps\n",
        "\n",
        "num_train = steps * e\n",
        "num_warmu = int(0.1*num_train)\n",
        "\n",
        "init_lr = 2e-5\n",
        "opti= optimization.create_optimizer(init_lr=init_lr, num_train_steps=num_train, num_warmup_steps=num_warmu, optimizer_type='adamw')"
      ],
      "metadata": {
        "id": "lRVj6fRklsax"
      },
      "execution_count": 68,
      "outputs": []
    },
    {
      "cell_type": "code",
      "source": [
        "print(len(tr_ds)*2)\n",
        "print(int(0.1*len(tr_ds)*2))"
      ],
      "metadata": {
        "colab": {
          "base_uri": "https://localhost:8080/"
        },
        "id": "BTa5b3OHlutW",
        "outputId": "01578093-c31d-4aa9-e291-8e5845d373bc"
      },
      "execution_count": 69,
      "outputs": [
        {
          "output_type": "stream",
          "name": "stdout",
          "text": [
            "2548\n",
            "254\n"
          ]
        }
      ]
    },
    {
      "cell_type": "markdown",
      "source": [
        "### Creating Model with TPU"
      ],
      "metadata": {
        "id": "8m0kSrxsl6Tf"
      }
    },
    {
      "cell_type": "code",
      "source": [
        "#Creating a function to use it for modeling\n",
        "def model_c():\n",
        "\n",
        "    model = TFBertModel.from_pretrained(\"bert-base-uncased\") #Creating the model\n",
        "\n",
        "    input_ids = Input(shape=(140,), name='input_ids', dtype='int32') #Input layer\n",
        "    attention_mask = Input(shape=(140,), name='attention_mask', dtype='int32')\n",
        "\n",
        "    embeddings = model.bert(input_ids=input_ids, attention_mask=attention_mask)[\"pooler_output\"]\n",
        "\n",
        "    x = Dense(60, activation='relu')(embeddings) #layer\n",
        "    x = BatchNormalization()(x)\n",
        "    x = Dropout(0.2)(x)\n",
        "    y = Dense(1, activation='sigmoid', name='outputs')(x) #Output layer\n",
        "\n",
        "\n",
        "    return Model(inputs=[input_ids, attention_mask], outputs=y)"
      ],
      "metadata": {
        "id": "SMAe3zX_l3Uv"
      },
      "execution_count": 70,
      "outputs": []
    },
    {
      "cell_type": "code",
      "source": [
        "with strategy.scope():\n",
        "  opt = opti\n",
        "\n",
        "  loss = BinaryCrossentropy()\n",
        "  recall = Recall()\n",
        "  bert_model = model_c()\n",
        "  bert_model.compile(optimizer=opt, loss=loss, metrics=[recall])"
      ],
      "metadata": {
        "colab": {
          "base_uri": "https://localhost:8080/",
          "height": 156,
          "referenced_widgets": [
            "e905cff8d3d346b8bde0806442799f96",
            "1f697e1774954d49a4933fef00f27a20",
            "a746eb1bcaf74438890cd5a9fc6f3f95",
            "2a839b9d32c64c96a1f8eadb26f5eaef",
            "3e9b8fbbf4ef4096bdf0dec7762690f6",
            "7c36cfc716ce4f0cbe1d608d0052edef",
            "1849f82fe49744a7b72df196ad07d363",
            "c3246ad94e8443fcbacca1d8a557ef43",
            "ef132ba33d3d400ab8c96ed6f85096be",
            "ab8691cb386446beb7bb7c81396ad76e",
            "a3387a5de58f46f8a29c5c0f6bd5fbb1"
          ]
        },
        "id": "sAkrDL76mCLy",
        "outputId": "66a897e1-de21-4a45-a4ee-f5d248df4008"
      },
      "execution_count": 71,
      "outputs": [
        {
          "output_type": "display_data",
          "data": {
            "text/plain": [
              "model.safetensors:   0%|          | 0.00/440M [00:00<?, ?B/s]"
            ],
            "application/vnd.jupyter.widget-view+json": {
              "version_major": 2,
              "version_minor": 0,
              "model_id": "e905cff8d3d346b8bde0806442799f96"
            }
          },
          "metadata": {}
        },
        {
          "output_type": "stream",
          "name": "stderr",
          "text": [
            "Some weights of the PyTorch model were not used when initializing the TF 2.0 model TFBertModel: ['cls.predictions.bias', 'cls.predictions.transform.LayerNorm.weight', 'cls.predictions.transform.dense.bias', 'cls.predictions.transform.dense.weight', 'cls.predictions.transform.LayerNorm.bias', 'cls.seq_relationship.bias', 'cls.seq_relationship.weight']\n",
            "- This IS expected if you are initializing TFBertModel from a PyTorch model trained on another task or with another architecture (e.g. initializing a TFBertForSequenceClassification model from a BertForPreTraining model).\n",
            "- This IS NOT expected if you are initializing TFBertModel from a PyTorch model that you expect to be exactly identical (e.g. initializing a TFBertForSequenceClassification model from a BertForSequenceClassification model).\n",
            "All the weights of TFBertModel were initialized from the PyTorch model.\n",
            "If your task is similar to the task the model of the checkpoint was trained on, you can already use TFBertModel for predictions without further training.\n"
          ]
        }
      ]
    },
    {
      "cell_type": "code",
      "source": [
        "#Creating weight for bert model to use it, as all the model which i have built are with weights and this is because the data is not balanced\n",
        "w = {0:0.18, 1:0.81}"
      ],
      "metadata": {
        "id": "Ofa6XdpKmDsy"
      },
      "execution_count": 72,
      "outputs": []
    },
    {
      "cell_type": "code",
      "source": [
        "#Seeing the summary of the model\n",
        "bert_model.summary()"
      ],
      "metadata": {
        "colab": {
          "base_uri": "https://localhost:8080/"
        },
        "id": "eufEy1HbmFeh",
        "outputId": "4237de34-309b-4949-a7e4-d8261b96b8de"
      },
      "execution_count": 73,
      "outputs": [
        {
          "output_type": "stream",
          "name": "stdout",
          "text": [
            "Model: \"model\"\n",
            "__________________________________________________________________________________________________\n",
            " Layer (type)                Output Shape                 Param #   Connected to                  \n",
            "==================================================================================================\n",
            " input_ids (InputLayer)      [(None, 140)]                0         []                            \n",
            "                                                                                                  \n",
            " attention_mask (InputLayer  [(None, 140)]                0         []                            \n",
            " )                                                                                                \n",
            "                                                                                                  \n",
            " bert (TFBertMainLayer)      TFBaseModelOutputWithPooli   1094822   ['input_ids[0][0]',           \n",
            "                             ngAndCrossAttentions(last_   40         'attention_mask[0][0]']      \n",
            "                             hidden_state=(None, 140, 7                                           \n",
            "                             68),                                                                 \n",
            "                              pooler_output=(None, 768)                                           \n",
            "                             , past_key_values=None, hi                                           \n",
            "                             dden_states=None, attentio                                           \n",
            "                             ns=None, cross_attentions=                                           \n",
            "                             None)                                                                \n",
            "                                                                                                  \n",
            " dense (Dense)               (None, 60)                   46140     ['bert[0][1]']                \n",
            "                                                                                                  \n",
            " batch_normalization (Batch  (None, 60)                   240       ['dense[0][0]']               \n",
            " Normalization)                                                                                   \n",
            "                                                                                                  \n",
            " dropout_37 (Dropout)        (None, 60)                   0         ['batch_normalization[0][0]'] \n",
            "                                                                                                  \n",
            " outputs (Dense)             (None, 1)                    61        ['dropout_37[0][0]']          \n",
            "                                                                                                  \n",
            "==================================================================================================\n",
            "Total params: 109528681 (417.82 MB)\n",
            "Trainable params: 109528561 (417.82 MB)\n",
            "Non-trainable params: 120 (480.00 Byte)\n",
            "__________________________________________________________________________________________________\n"
          ]
        }
      ]
    },
    {
      "cell_type": "markdown",
      "source": [
        "### Model Fiting\n"
      ],
      "metadata": {
        "id": "Gj37S2JbmHx-"
      }
    },
    {
      "cell_type": "code",
      "source": [
        "#Fitting the model\n",
        "bert_model.fit(tr_ds, validation_data= va_ds, epochs= e, class_weight=w)"
      ],
      "metadata": {
        "colab": {
          "base_uri": "https://localhost:8080/"
        },
        "id": "bs4PZFG3mHM-",
        "outputId": "2b8bc308-a533-4c8f-90e1-e36f7f751680"
      },
      "execution_count": 74,
      "outputs": [
        {
          "output_type": "stream",
          "name": "stdout",
          "text": [
            "Epoch 1/3\n",
            "1274/1274 [==============================] - 229s 96ms/step - loss: 0.1663 - recall: 0.8000 - val_loss: 0.5448 - val_recall: 0.9268\n",
            "Epoch 2/3\n",
            "1274/1274 [==============================] - 114s 89ms/step - loss: 0.1366 - recall: 0.8661 - val_loss: 0.4264 - val_recall: 0.9122\n",
            "Epoch 3/3\n",
            "1274/1274 [==============================] - 110s 87ms/step - loss: 0.1217 - recall: 0.8751 - val_loss: 0.4035 - val_recall: 0.8756\n"
          ]
        },
        {
          "output_type": "execute_result",
          "data": {
            "text/plain": [
              "<keras.src.callbacks.History at 0x7c70344e90c0>"
            ]
          },
          "metadata": {},
          "execution_count": 74
        }
      ]
    },
    {
      "cell_type": "code",
      "source": [
        "#Seeing the history of the model\n",
        "bert_model.history.history"
      ],
      "metadata": {
        "colab": {
          "base_uri": "https://localhost:8080/"
        },
        "id": "blOh7evMmM2g",
        "outputId": "1ec657c8-e0f7-4d4a-852c-0419fe2fb6cc"
      },
      "execution_count": 75,
      "outputs": [
        {
          "output_type": "execute_result",
          "data": {
            "text/plain": [
              "{'loss': [0.16626322269439697, 0.1366134136915207, 0.12170935422182083],\n",
              " 'recall': [0.800000011920929, 0.86612468957901, 0.8750677704811096],\n",
              " 'val_loss': [0.5447871088981628, 0.42635267972946167, 0.4035271406173706],\n",
              " 'val_recall': [0.9268292784690857, 0.9121951460838318, 0.8756097555160522]}"
            ]
          },
          "metadata": {},
          "execution_count": 75
        }
      ]
    },
    {
      "cell_type": "code",
      "source": [
        "#Creating a data frame of the history\n",
        "bert_loss = pd.DataFrame(bert_model.history.history)\n",
        "bert_loss.head()"
      ],
      "metadata": {
        "colab": {
          "base_uri": "https://localhost:8080/",
          "height": 143
        },
        "id": "46CO8MkxmOiF",
        "outputId": "ad098a84-bf81-4e8f-822f-2eb27e4ebabd"
      },
      "execution_count": 76,
      "outputs": [
        {
          "output_type": "execute_result",
          "data": {
            "text/plain": [
              "       loss    recall  val_loss  val_recall\n",
              "0  0.166263  0.800000  0.544787    0.926829\n",
              "1  0.136613  0.866125  0.426353    0.912195\n",
              "2  0.121709  0.875068  0.403527    0.875610"
            ],
            "text/html": [
              "\n",
              "  <div id=\"df-ebd4a0a6-3bf9-4172-8fed-bcf844ebcfe0\" class=\"colab-df-container\">\n",
              "    <div>\n",
              "<style scoped>\n",
              "    .dataframe tbody tr th:only-of-type {\n",
              "        vertical-align: middle;\n",
              "    }\n",
              "\n",
              "    .dataframe tbody tr th {\n",
              "        vertical-align: top;\n",
              "    }\n",
              "\n",
              "    .dataframe thead th {\n",
              "        text-align: right;\n",
              "    }\n",
              "</style>\n",
              "<table border=\"1\" class=\"dataframe\">\n",
              "  <thead>\n",
              "    <tr style=\"text-align: right;\">\n",
              "      <th></th>\n",
              "      <th>loss</th>\n",
              "      <th>recall</th>\n",
              "      <th>val_loss</th>\n",
              "      <th>val_recall</th>\n",
              "    </tr>\n",
              "  </thead>\n",
              "  <tbody>\n",
              "    <tr>\n",
              "      <th>0</th>\n",
              "      <td>0.166263</td>\n",
              "      <td>0.800000</td>\n",
              "      <td>0.544787</td>\n",
              "      <td>0.926829</td>\n",
              "    </tr>\n",
              "    <tr>\n",
              "      <th>1</th>\n",
              "      <td>0.136613</td>\n",
              "      <td>0.866125</td>\n",
              "      <td>0.426353</td>\n",
              "      <td>0.912195</td>\n",
              "    </tr>\n",
              "    <tr>\n",
              "      <th>2</th>\n",
              "      <td>0.121709</td>\n",
              "      <td>0.875068</td>\n",
              "      <td>0.403527</td>\n",
              "      <td>0.875610</td>\n",
              "    </tr>\n",
              "  </tbody>\n",
              "</table>\n",
              "</div>\n",
              "    <div class=\"colab-df-buttons\">\n",
              "\n",
              "  <div class=\"colab-df-container\">\n",
              "    <button class=\"colab-df-convert\" onclick=\"convertToInteractive('df-ebd4a0a6-3bf9-4172-8fed-bcf844ebcfe0')\"\n",
              "            title=\"Convert this dataframe to an interactive table.\"\n",
              "            style=\"display:none;\">\n",
              "\n",
              "  <svg xmlns=\"http://www.w3.org/2000/svg\" height=\"24px\" viewBox=\"0 -960 960 960\">\n",
              "    <path d=\"M120-120v-720h720v720H120Zm60-500h600v-160H180v160Zm220 220h160v-160H400v160Zm0 220h160v-160H400v160ZM180-400h160v-160H180v160Zm440 0h160v-160H620v160ZM180-180h160v-160H180v160Zm440 0h160v-160H620v160Z\"/>\n",
              "  </svg>\n",
              "    </button>\n",
              "\n",
              "  <style>\n",
              "    .colab-df-container {\n",
              "      display:flex;\n",
              "      gap: 12px;\n",
              "    }\n",
              "\n",
              "    .colab-df-convert {\n",
              "      background-color: #E8F0FE;\n",
              "      border: none;\n",
              "      border-radius: 50%;\n",
              "      cursor: pointer;\n",
              "      display: none;\n",
              "      fill: #1967D2;\n",
              "      height: 32px;\n",
              "      padding: 0 0 0 0;\n",
              "      width: 32px;\n",
              "    }\n",
              "\n",
              "    .colab-df-convert:hover {\n",
              "      background-color: #E2EBFA;\n",
              "      box-shadow: 0px 1px 2px rgba(60, 64, 67, 0.3), 0px 1px 3px 1px rgba(60, 64, 67, 0.15);\n",
              "      fill: #174EA6;\n",
              "    }\n",
              "\n",
              "    .colab-df-buttons div {\n",
              "      margin-bottom: 4px;\n",
              "    }\n",
              "\n",
              "    [theme=dark] .colab-df-convert {\n",
              "      background-color: #3B4455;\n",
              "      fill: #D2E3FC;\n",
              "    }\n",
              "\n",
              "    [theme=dark] .colab-df-convert:hover {\n",
              "      background-color: #434B5C;\n",
              "      box-shadow: 0px 1px 3px 1px rgba(0, 0, 0, 0.15);\n",
              "      filter: drop-shadow(0px 1px 2px rgba(0, 0, 0, 0.3));\n",
              "      fill: #FFFFFF;\n",
              "    }\n",
              "  </style>\n",
              "\n",
              "    <script>\n",
              "      const buttonEl =\n",
              "        document.querySelector('#df-ebd4a0a6-3bf9-4172-8fed-bcf844ebcfe0 button.colab-df-convert');\n",
              "      buttonEl.style.display =\n",
              "        google.colab.kernel.accessAllowed ? 'block' : 'none';\n",
              "\n",
              "      async function convertToInteractive(key) {\n",
              "        const element = document.querySelector('#df-ebd4a0a6-3bf9-4172-8fed-bcf844ebcfe0');\n",
              "        const dataTable =\n",
              "          await google.colab.kernel.invokeFunction('convertToInteractive',\n",
              "                                                    [key], {});\n",
              "        if (!dataTable) return;\n",
              "\n",
              "        const docLinkHtml = 'Like what you see? Visit the ' +\n",
              "          '<a target=\"_blank\" href=https://colab.research.google.com/notebooks/data_table.ipynb>data table notebook</a>'\n",
              "          + ' to learn more about interactive tables.';\n",
              "        element.innerHTML = '';\n",
              "        dataTable['output_type'] = 'display_data';\n",
              "        await google.colab.output.renderOutput(dataTable, element);\n",
              "        const docLink = document.createElement('div');\n",
              "        docLink.innerHTML = docLinkHtml;\n",
              "        element.appendChild(docLink);\n",
              "      }\n",
              "    </script>\n",
              "  </div>\n",
              "\n",
              "\n",
              "<div id=\"df-5a1c309b-7907-437c-b372-09f9ee2eeb5f\">\n",
              "  <button class=\"colab-df-quickchart\" onclick=\"quickchart('df-5a1c309b-7907-437c-b372-09f9ee2eeb5f')\"\n",
              "            title=\"Suggest charts\"\n",
              "            style=\"display:none;\">\n",
              "\n",
              "<svg xmlns=\"http://www.w3.org/2000/svg\" height=\"24px\"viewBox=\"0 0 24 24\"\n",
              "     width=\"24px\">\n",
              "    <g>\n",
              "        <path d=\"M19 3H5c-1.1 0-2 .9-2 2v14c0 1.1.9 2 2 2h14c1.1 0 2-.9 2-2V5c0-1.1-.9-2-2-2zM9 17H7v-7h2v7zm4 0h-2V7h2v10zm4 0h-2v-4h2v4z\"/>\n",
              "    </g>\n",
              "</svg>\n",
              "  </button>\n",
              "\n",
              "<style>\n",
              "  .colab-df-quickchart {\n",
              "      --bg-color: #E8F0FE;\n",
              "      --fill-color: #1967D2;\n",
              "      --hover-bg-color: #E2EBFA;\n",
              "      --hover-fill-color: #174EA6;\n",
              "      --disabled-fill-color: #AAA;\n",
              "      --disabled-bg-color: #DDD;\n",
              "  }\n",
              "\n",
              "  [theme=dark] .colab-df-quickchart {\n",
              "      --bg-color: #3B4455;\n",
              "      --fill-color: #D2E3FC;\n",
              "      --hover-bg-color: #434B5C;\n",
              "      --hover-fill-color: #FFFFFF;\n",
              "      --disabled-bg-color: #3B4455;\n",
              "      --disabled-fill-color: #666;\n",
              "  }\n",
              "\n",
              "  .colab-df-quickchart {\n",
              "    background-color: var(--bg-color);\n",
              "    border: none;\n",
              "    border-radius: 50%;\n",
              "    cursor: pointer;\n",
              "    display: none;\n",
              "    fill: var(--fill-color);\n",
              "    height: 32px;\n",
              "    padding: 0;\n",
              "    width: 32px;\n",
              "  }\n",
              "\n",
              "  .colab-df-quickchart:hover {\n",
              "    background-color: var(--hover-bg-color);\n",
              "    box-shadow: 0 1px 2px rgba(60, 64, 67, 0.3), 0 1px 3px 1px rgba(60, 64, 67, 0.15);\n",
              "    fill: var(--button-hover-fill-color);\n",
              "  }\n",
              "\n",
              "  .colab-df-quickchart-complete:disabled,\n",
              "  .colab-df-quickchart-complete:disabled:hover {\n",
              "    background-color: var(--disabled-bg-color);\n",
              "    fill: var(--disabled-fill-color);\n",
              "    box-shadow: none;\n",
              "  }\n",
              "\n",
              "  .colab-df-spinner {\n",
              "    border: 2px solid var(--fill-color);\n",
              "    border-color: transparent;\n",
              "    border-bottom-color: var(--fill-color);\n",
              "    animation:\n",
              "      spin 1s steps(1) infinite;\n",
              "  }\n",
              "\n",
              "  @keyframes spin {\n",
              "    0% {\n",
              "      border-color: transparent;\n",
              "      border-bottom-color: var(--fill-color);\n",
              "      border-left-color: var(--fill-color);\n",
              "    }\n",
              "    20% {\n",
              "      border-color: transparent;\n",
              "      border-left-color: var(--fill-color);\n",
              "      border-top-color: var(--fill-color);\n",
              "    }\n",
              "    30% {\n",
              "      border-color: transparent;\n",
              "      border-left-color: var(--fill-color);\n",
              "      border-top-color: var(--fill-color);\n",
              "      border-right-color: var(--fill-color);\n",
              "    }\n",
              "    40% {\n",
              "      border-color: transparent;\n",
              "      border-right-color: var(--fill-color);\n",
              "      border-top-color: var(--fill-color);\n",
              "    }\n",
              "    60% {\n",
              "      border-color: transparent;\n",
              "      border-right-color: var(--fill-color);\n",
              "    }\n",
              "    80% {\n",
              "      border-color: transparent;\n",
              "      border-right-color: var(--fill-color);\n",
              "      border-bottom-color: var(--fill-color);\n",
              "    }\n",
              "    90% {\n",
              "      border-color: transparent;\n",
              "      border-bottom-color: var(--fill-color);\n",
              "    }\n",
              "  }\n",
              "</style>\n",
              "\n",
              "  <script>\n",
              "    async function quickchart(key) {\n",
              "      const quickchartButtonEl =\n",
              "        document.querySelector('#' + key + ' button');\n",
              "      quickchartButtonEl.disabled = true;  // To prevent multiple clicks.\n",
              "      quickchartButtonEl.classList.add('colab-df-spinner');\n",
              "      try {\n",
              "        const charts = await google.colab.kernel.invokeFunction(\n",
              "            'suggestCharts', [key], {});\n",
              "      } catch (error) {\n",
              "        console.error('Error during call to suggestCharts:', error);\n",
              "      }\n",
              "      quickchartButtonEl.classList.remove('colab-df-spinner');\n",
              "      quickchartButtonEl.classList.add('colab-df-quickchart-complete');\n",
              "    }\n",
              "    (() => {\n",
              "      let quickchartButtonEl =\n",
              "        document.querySelector('#df-5a1c309b-7907-437c-b372-09f9ee2eeb5f button');\n",
              "      quickchartButtonEl.style.display =\n",
              "        google.colab.kernel.accessAllowed ? 'block' : 'none';\n",
              "    })();\n",
              "  </script>\n",
              "</div>\n",
              "    </div>\n",
              "  </div>\n"
            ]
          },
          "metadata": {},
          "execution_count": 76
        }
      ]
    },
    {
      "cell_type": "code",
      "source": [
        "#Ploting the model\n",
        "bert_loss.plot()"
      ],
      "metadata": {
        "colab": {
          "base_uri": "https://localhost:8080/",
          "height": 395
        },
        "id": "2IfE22HimQA1",
        "outputId": "0a99a343-4f30-49bb-d39a-597e4db4edbf"
      },
      "execution_count": 77,
      "outputs": [
        {
          "output_type": "execute_result",
          "data": {
            "text/plain": [
              "<Axes: >"
            ]
          },
          "metadata": {},
          "execution_count": 77
        },
        {
          "output_type": "display_data",
          "data": {
            "text/plain": [
              "<Figure size 1400x600 with 1 Axes>"
            ],
            "image/png": "[encoded data removed]"
          },
          "metadata": {}
        }
      ]
    },
    {
      "cell_type": "code",
      "source": [
        "#Seeing the scores of the model\n",
        "print('Test Result')\n",
        "print('-------------------------------------------------')\n",
        "y_pred = bert_model.predict(va_ds) >= 0.5\n",
        "\n",
        "print(classification_report(y_test_d, y_pred))\n",
        "\n",
        "print('Train Result')\n",
        "print('-------------------------------------------------')\n",
        "y_train_pred = bert_model.predict(tr_ds) >= 0.5\n",
        "\n",
        "print(classification_report(y_train_d, y_train_pred))"
      ],
      "metadata": {
        "colab": {
          "base_uri": "https://localhost:8080/"
        },
        "id": "Cysxn3USmRnS",
        "outputId": "f1d9bc7b-c8c1-4800-b773-81365646f293"
      },
      "execution_count": 78,
      "outputs": [
        {
          "output_type": "stream",
          "name": "stdout",
          "text": [
            "Test Result\n",
            "-------------------------------------------------\n",
            "142/142 [==============================] - 16s 52ms/step\n",
            "              precision    recall  f1-score   support\n",
            "\n",
            "           0       0.97      0.92      0.95      1854\n",
            "           1       0.72      0.88      0.79       410\n",
            "\n",
            "    accuracy                           0.92      2264\n",
            "   macro avg       0.85      0.90      0.87      2264\n",
            "weighted avg       0.93      0.92      0.92      2264\n",
            "\n",
            "Train Result\n",
            "-------------------------------------------------\n",
            "1274/1274 [==============================] - 29s 22ms/step\n",
            "              precision    recall  f1-score   support\n",
            "\n",
            "           0       0.99      0.96      0.98     16680\n",
            "           1       0.85      0.95      0.90      3690\n",
            "\n",
            "    accuracy                           0.96     20370\n",
            "   macro avg       0.92      0.96      0.94     20370\n",
            "weighted avg       0.96      0.96      0.96     20370\n",
            "\n"
          ]
        }
      ]
    },
    {
      "cell_type": "code",
      "source": [
        "#Creating y proba from va_ds\n",
        "y_pred_proba = bert_model.predict(va_ds)\n",
        "#Plotting it\n",
        "PrecisionRecallDisplay.from_predictions(y_test, y_pred_proba)"
      ],
      "metadata": {
        "colab": {
          "base_uri": "https://localhost:8080/",
          "height": 420
        },
        "id": "R82QHEG8mT4y",
        "outputId": "8ddcc55e-a759-4bc3-f522-0946930c7940"
      },
      "execution_count": 79,
      "outputs": [
        {
          "output_type": "stream",
          "name": "stdout",
          "text": [
            "142/142 [==============================] - 5s 23ms/step\n"
          ]
        },
        {
          "output_type": "execute_result",
          "data": {
            "text/plain": [
              "<sklearn.metrics._plot.precision_recall_curve.PrecisionRecallDisplay at 0x7c7029b1ad70>"
            ]
          },
          "metadata": {},
          "execution_count": 79
        },
        {
          "output_type": "display_data",
          "data": {
            "text/plain": [
              "<Figure size 1400x600 with 1 Axes>"
            ],
            "image/png": "[encoded data removed]"
          },
          "metadata": {}
        }
      ]
    },
    {
      "cell_type": "code",
      "source": [
        "#Saving the result\n",
        "bert_rec = recall_score(y_test_d, y_pred)\n",
        "bert_f1 = f1_score(y_test_d, y_pred)\n",
        "bert_AP = average_precision_score(y_test_d, y_pred_proba)"
      ],
      "metadata": {
        "id": "wE5kXMvrmWFo"
      },
      "execution_count": 80,
      "outputs": []
    },
    {
      "cell_type": "code",
      "source": [
        "#Seeing the result\n",
        "print(bert_rec, bert_f1, bert_AP)"
      ],
      "metadata": {
        "colab": {
          "base_uri": "https://localhost:8080/"
        },
        "id": "h5kVjTSqmXua",
        "outputId": "51624a61-262c-4271-d0ee-e8bed0e8ba9e"
      },
      "execution_count": 81,
      "outputs": [
        {
          "output_type": "stream",
          "name": "stdout",
          "text": [
            "0.875609756097561 0.7898789878987899 0.8340092946407107\n"
          ]
        }
      ]
    },
    {
      "cell_type": "markdown",
      "source": [
        "### Prediction"
      ],
      "metadata": {
        "id": "ltahqtTVo62Z"
      }
    },
    {
      "cell_type": "code",
      "source": [
        "#Predicting from the model\n",
        "def prep_data(text):\n",
        "\n",
        "  Xids_obs, Xmask_obs = transform(text)\n",
        "\n",
        "  dataset_obs = tf.data.Dataset.from_tensor_slices((Xids_obs, Xmask_obs))\n",
        "\n",
        "\n",
        "  def map(Tensor_Xids, Tensor_Xmask):\n",
        "       return {'input_ids': Tensor_Xids, 'attention_mask': Tensor_Xmask}\n",
        "\n",
        "  dataset_obs = dataset_obs.map(map)\n",
        "\n",
        "\n",
        "  # batch_size = 16\n",
        "  obs_ds = dataset_obs.batch(b)\n",
        "\n",
        "  return obs_ds"
      ],
      "metadata": {
        "id": "SP9AUhE7o99w"
      },
      "execution_count": 83,
      "outputs": []
    },
    {
      "cell_type": "code",
      "source": [
        "#Creating some reviews to use them in prediction\n",
        "re1 = \"I really liked the dress, and it fits me perfectly\"\n",
        "re2 = \"I will give 0 star to the dress as it is not good at all\"\n",
        "re3 = \"I did not like the fabric and the colors are completly bad\"\n",
        "re4 = \"I'd like to buy this dress again, it is perfect on me\"\n",
        "re5 = \"I will give a rate 4 for this fabric, but the colors of the dress are great\"\n",
        "re6 = 'what a mistake, I did not find anything good in this dress'\n",
        "re7 = 'I find the colors and the fabric are pretty good'\n",
        "\n",
        "res = [re1, re2, re3, re4, re5, re6, re7]\n",
        "res"
      ],
      "metadata": {
        "id": "ExEaYYtapDCb",
        "outputId": "745c30af-5ae4-4f8d-dab2-0a70ba22b648",
        "colab": {
          "base_uri": "https://localhost:8080/"
        }
      },
      "execution_count": 84,
      "outputs": [
        {
          "output_type": "execute_result",
          "data": {
            "text/plain": [
              "['I really liked the dress, and it fits me perfectly',\n",
              " 'I will give 0 star to the dress as it is not good at all',\n",
              " 'I did not like the fabric and the colors are completly bad',\n",
              " \"I'd like to buy this dress again, it is perfect on me\",\n",
              " 'I will give a rate 4 for this fabric, but the colors of the dress are great',\n",
              " 'what a mistake, I did not find anything good in this dress',\n",
              " 'I find the colors and the fabric are pretty good']"
            ]
          },
          "metadata": {},
          "execution_count": 84
        }
      ]
    },
    {
      "cell_type": "code",
      "source": [
        "obs_ds = prep_data(res)\n",
        "obs_ds"
      ],
      "metadata": {
        "id": "_KVnvhlPpdXV",
        "outputId": "2f95e6c7-57f4-4a59-d362-242d2b17f28b",
        "colab": {
          "base_uri": "https://localhost:8080/"
        }
      },
      "execution_count": 86,
      "outputs": [
        {
          "output_type": "execute_result",
          "data": {
            "text/plain": [
              "<_BatchDataset element_spec={'input_ids': TensorSpec(shape=(None, 140), dtype=tf.int64, name=None), 'attention_mask': TensorSpec(shape=(None, 140), dtype=tf.int64, name=None)}>"
            ]
          },
          "metadata": {},
          "execution_count": 86
        }
      ]
    },
    {
      "cell_type": "code",
      "source": [
        "#Predicting\n",
        "probs = bert_model.predict(obs_ds)\n",
        "probs"
      ],
      "metadata": {
        "id": "qV3_dCk5pfbR",
        "outputId": "98efd1c7-03aa-4756-9600-39ae9dddd9bb",
        "colab": {
          "base_uri": "https://localhost:8080/"
        }
      },
      "execution_count": 87,
      "outputs": [
        {
          "output_type": "stream",
          "name": "stdout",
          "text": [
            "1/1 [==============================] - 16s 16s/step\n"
          ]
        },
        {
          "output_type": "execute_result",
          "data": {
            "text/plain": [
              "array([[0.10199118],\n",
              "       [0.9731294 ],\n",
              "       [0.9997616 ],\n",
              "       [0.0964354 ],\n",
              "       [0.10619158],\n",
              "       [0.99975944],\n",
              "       [0.11610743]], dtype=float32)"
            ]
          },
          "metadata": {},
          "execution_count": 87
        }
      ]
    },
    {
      "cell_type": "code",
      "source": [
        "#Creating lists to save the result and convert them to be able to see them\n",
        "class_v= []\n",
        "predict = []\n",
        "for i in probs:\n",
        "    class_v.append(int(np.round(i)))\n",
        "    predict.append(max(i))"
      ],
      "metadata": {
        "id": "45C0hH6RpjV2"
      },
      "execution_count": 88,
      "outputs": []
    },
    {
      "cell_type": "code",
      "source": [
        "#Creating a dictionary for the revewies\n",
        "my_dict = {\"Review\":res, \"predict\":predict, \"class\":class_v}\n",
        "my_dict"
      ],
      "metadata": {
        "id": "HPmFQvYCpk8R",
        "outputId": "53e0a3f0-3a6d-46a9-bba1-493b2789009c",
        "colab": {
          "base_uri": "https://localhost:8080/"
        }
      },
      "execution_count": 89,
      "outputs": [
        {
          "output_type": "execute_result",
          "data": {
            "text/plain": [
              "{'Review': ['I really liked the dress, and it fits me perfectly',\n",
              "  'I will give 0 star to the dress as it is not good at all',\n",
              "  'I did not like the fabric and the colors are completly bad',\n",
              "  \"I'd like to buy this dress again, it is perfect on me\",\n",
              "  'I will give a rate 4 for this fabric, but the colors of the dress are great',\n",
              "  'what a mistake, I did not find anything good in this dress',\n",
              "  'I find the colors and the fabric are pretty good'],\n",
              " 'predict': [0.10199118,\n",
              "  0.9731294,\n",
              "  0.9997616,\n",
              "  0.0964354,\n",
              "  0.106191576,\n",
              "  0.99975944,\n",
              "  0.116107434],\n",
              " 'class': [0, 1, 1, 0, 0, 1, 0]}"
            ]
          },
          "metadata": {},
          "execution_count": 89
        }
      ]
    },
    {
      "cell_type": "code",
      "source": [
        "#Creating a dataframe of the reveiws and see the results (class) for each prediction\n",
        "pd.set_option('display.max_colwidth', None)\n",
        "pd.DataFrame(my_dict)"
      ],
      "metadata": {
        "id": "c6YjNoNMpmSk",
        "outputId": "f4bac998-cdd7-4633-ea0b-43a4b4f6b383",
        "colab": {
          "base_uri": "https://localhost:8080/",
          "height": 269
        }
      },
      "execution_count": 90,
      "outputs": [
        {
          "output_type": "execute_result",
          "data": {
            "text/plain": [
              "                                                                        Review  \\\n",
              "0                           I really liked the dress, and it fits me perfectly   \n",
              "1                     I will give 0 star to the dress as it is not good at all   \n",
              "2                   I did not like the fabric and the colors are completly bad   \n",
              "3                        I'd like to buy this dress again, it is perfect on me   \n",
              "4  I will give a rate 4 for this fabric, but the colors of the dress are great   \n",
              "5                   what a mistake, I did not find anything good in this dress   \n",
              "6                             I find the colors and the fabric are pretty good   \n",
              "\n",
              "    predict  class  \n",
              "0  0.101991      0  \n",
              "1  0.973129      1  \n",
              "2  0.999762      1  \n",
              "3  0.096435      0  \n",
              "4  0.106192      0  \n",
              "5  0.999759      1  \n",
              "6  0.116107      0  "
            ],
            "text/html": [
              "\n",
              "  <div id=\"df-269c2de1-e4d3-4283-b34f-bf0bd89d95fb\" class=\"colab-df-container\">\n",
              "    <div>\n",
              "<style scoped>\n",
              "    .dataframe tbody tr th:only-of-type {\n",
              "        vertical-align: middle;\n",
              "    }\n",
              "\n",
              "    .dataframe tbody tr th {\n",
              "        vertical-align: top;\n",
              "    }\n",
              "\n",
              "    .dataframe thead th {\n",
              "        text-align: right;\n",
              "    }\n",
              "</style>\n",
              "<table border=\"1\" class=\"dataframe\">\n",
              "  <thead>\n",
              "    <tr style=\"text-align: right;\">\n",
              "      <th></th>\n",
              "      <th>Review</th>\n",
              "      <th>predict</th>\n",
              "      <th>class</th>\n",
              "    </tr>\n",
              "  </thead>\n",
              "  <tbody>\n",
              "    <tr>\n",
              "      <th>0</th>\n",
              "      <td>I really liked the dress, and it fits me perfectly</td>\n",
              "      <td>0.101991</td>\n",
              "      <td>0</td>\n",
              "    </tr>\n",
              "    <tr>\n",
              "      <th>1</th>\n",
              "      <td>I will give 0 star to the dress as it is not good at all</td>\n",
              "      <td>0.973129</td>\n",
              "      <td>1</td>\n",
              "    </tr>\n",
              "    <tr>\n",
              "      <th>2</th>\n",
              "      <td>I did not like the fabric and the colors are completly bad</td>\n",
              "      <td>0.999762</td>\n",
              "      <td>1</td>\n",
              "    </tr>\n",
              "    <tr>\n",
              "      <th>3</th>\n",
              "      <td>I'd like to buy this dress again, it is perfect on me</td>\n",
              "      <td>0.096435</td>\n",
              "      <td>0</td>\n",
              "    </tr>\n",
              "    <tr>\n",
              "      <th>4</th>\n",
              "      <td>I will give a rate 4 for this fabric, but the colors of the dress are great</td>\n",
              "      <td>0.106192</td>\n",
              "      <td>0</td>\n",
              "    </tr>\n",
              "    <tr>\n",
              "      <th>5</th>\n",
              "      <td>what a mistake, I did not find anything good in this dress</td>\n",
              "      <td>0.999759</td>\n",
              "      <td>1</td>\n",
              "    </tr>\n",
              "    <tr>\n",
              "      <th>6</th>\n",
              "      <td>I find the colors and the fabric are pretty good</td>\n",
              "      <td>0.116107</td>\n",
              "      <td>0</td>\n",
              "    </tr>\n",
              "  </tbody>\n",
              "</table>\n",
              "</div>\n",
              "    <div class=\"colab-df-buttons\">\n",
              "\n",
              "  <div class=\"colab-df-container\">\n",
              "    <button class=\"colab-df-convert\" onclick=\"convertToInteractive('df-269c2de1-e4d3-4283-b34f-bf0bd89d95fb')\"\n",
              "            title=\"Convert this dataframe to an interactive table.\"\n",
              "            style=\"display:none;\">\n",
              "\n",
              "  <svg xmlns=\"http://www.w3.org/2000/svg\" height=\"24px\" viewBox=\"0 -960 960 960\">\n",
              "    <path d=\"M120-120v-720h720v720H120Zm60-500h600v-160H180v160Zm220 220h160v-160H400v160Zm0 220h160v-160H400v160ZM180-400h160v-160H180v160Zm440 0h160v-160H620v160ZM180-180h160v-160H180v160Zm440 0h160v-160H620v160Z\"/>\n",
              "  </svg>\n",
              "    </button>\n",
              "\n",
              "  <style>\n",
              "    .colab-df-container {\n",
              "      display:flex;\n",
              "      gap: 12px;\n",
              "    }\n",
              "\n",
              "    .colab-df-convert {\n",
              "      background-color: #E8F0FE;\n",
              "      border: none;\n",
              "      border-radius: 50%;\n",
              "      cursor: pointer;\n",
              "      display: none;\n",
              "      fill: #1967D2;\n",
              "      height: 32px;\n",
              "      padding: 0 0 0 0;\n",
              "      width: 32px;\n",
              "    }\n",
              "\n",
              "    .colab-df-convert:hover {\n",
              "      background-color: #E2EBFA;\n",
              "      box-shadow: 0px 1px 2px rgba(60, 64, 67, 0.3), 0px 1px 3px 1px rgba(60, 64, 67, 0.15);\n",
              "      fill: #174EA6;\n",
              "    }\n",
              "\n",
              "    .colab-df-buttons div {\n",
              "      margin-bottom: 4px;\n",
              "    }\n",
              "\n",
              "    [theme=dark] .colab-df-convert {\n",
              "      background-color: #3B4455;\n",
              "      fill: #D2E3FC;\n",
              "    }\n",
              "\n",
              "    [theme=dark] .colab-df-convert:hover {\n",
              "      background-color: #434B5C;\n",
              "      box-shadow: 0px 1px 3px 1px rgba(0, 0, 0, 0.15);\n",
              "      filter: drop-shadow(0px 1px 2px rgba(0, 0, 0, 0.3));\n",
              "      fill: #FFFFFF;\n",
              "    }\n",
              "  </style>\n",
              "\n",
              "    <script>\n",
              "      const buttonEl =\n",
              "        document.querySelector('#df-269c2de1-e4d3-4283-b34f-bf0bd89d95fb button.colab-df-convert');\n",
              "      buttonEl.style.display =\n",
              "        google.colab.kernel.accessAllowed ? 'block' : 'none';\n",
              "\n",
              "      async function convertToInteractive(key) {\n",
              "        const element = document.querySelector('#df-269c2de1-e4d3-4283-b34f-bf0bd89d95fb');\n",
              "        const dataTable =\n",
              "          await google.colab.kernel.invokeFunction('convertToInteractive',\n",
              "                                                    [key], {});\n",
              "        if (!dataTable) return;\n",
              "\n",
              "        const docLinkHtml = 'Like what you see? Visit the ' +\n",
              "          '<a target=\"_blank\" href=https://colab.research.google.com/notebooks/data_table.ipynb>data table notebook</a>'\n",
              "          + ' to learn more about interactive tables.';\n",
              "        element.innerHTML = '';\n",
              "        dataTable['output_type'] = 'display_data';\n",
              "        await google.colab.output.renderOutput(dataTable, element);\n",
              "        const docLink = document.createElement('div');\n",
              "        docLink.innerHTML = docLinkHtml;\n",
              "        element.appendChild(docLink);\n",
              "      }\n",
              "    </script>\n",
              "  </div>\n",
              "\n",
              "\n",
              "<div id=\"df-72a9e794-f870-4aa4-a206-4a1d41844e3b\">\n",
              "  <button class=\"colab-df-quickchart\" onclick=\"quickchart('df-72a9e794-f870-4aa4-a206-4a1d41844e3b')\"\n",
              "            title=\"Suggest charts\"\n",
              "            style=\"display:none;\">\n",
              "\n",
              "<svg xmlns=\"http://www.w3.org/2000/svg\" height=\"24px\"viewBox=\"0 0 24 24\"\n",
              "     width=\"24px\">\n",
              "    <g>\n",
              "        <path d=\"M19 3H5c-1.1 0-2 .9-2 2v14c0 1.1.9 2 2 2h14c1.1 0 2-.9 2-2V5c0-1.1-.9-2-2-2zM9 17H7v-7h2v7zm4 0h-2V7h2v10zm4 0h-2v-4h2v4z\"/>\n",
              "    </g>\n",
              "</svg>\n",
              "  </button>\n",
              "\n",
              "<style>\n",
              "  .colab-df-quickchart {\n",
              "      --bg-color: #E8F0FE;\n",
              "      --fill-color: #1967D2;\n",
              "      --hover-bg-color: #E2EBFA;\n",
              "      --hover-fill-color: #174EA6;\n",
              "      --disabled-fill-color: #AAA;\n",
              "      --disabled-bg-color: #DDD;\n",
              "  }\n",
              "\n",
              "  [theme=dark] .colab-df-quickchart {\n",
              "      --bg-color: #3B4455;\n",
              "      --fill-color: #D2E3FC;\n",
              "      --hover-bg-color: #434B5C;\n",
              "      --hover-fill-color: #FFFFFF;\n",
              "      --disabled-bg-color: #3B4455;\n",
              "      --disabled-fill-color: #666;\n",
              "  }\n",
              "\n",
              "  .colab-df-quickchart {\n",
              "    background-color: var(--bg-color);\n",
              "    border: none;\n",
              "    border-radius: 50%;\n",
              "    cursor: pointer;\n",
              "    display: none;\n",
              "    fill: var(--fill-color);\n",
              "    height: 32px;\n",
              "    padding: 0;\n",
              "    width: 32px;\n",
              "  }\n",
              "\n",
              "  .colab-df-quickchart:hover {\n",
              "    background-color: var(--hover-bg-color);\n",
              "    box-shadow: 0 1px 2px rgba(60, 64, 67, 0.3), 0 1px 3px 1px rgba(60, 64, 67, 0.15);\n",
              "    fill: var(--button-hover-fill-color);\n",
              "  }\n",
              "\n",
              "  .colab-df-quickchart-complete:disabled,\n",
              "  .colab-df-quickchart-complete:disabled:hover {\n",
              "    background-color: var(--disabled-bg-color);\n",
              "    fill: var(--disabled-fill-color);\n",
              "    box-shadow: none;\n",
              "  }\n",
              "\n",
              "  .colab-df-spinner {\n",
              "    border: 2px solid var(--fill-color);\n",
              "    border-color: transparent;\n",
              "    border-bottom-color: var(--fill-color);\n",
              "    animation:\n",
              "      spin 1s steps(1) infinite;\n",
              "  }\n",
              "\n",
              "  @keyframes spin {\n",
              "    0% {\n",
              "      border-color: transparent;\n",
              "      border-bottom-color: var(--fill-color);\n",
              "      border-left-color: var(--fill-color);\n",
              "    }\n",
              "    20% {\n",
              "      border-color: transparent;\n",
              "      border-left-color: var(--fill-color);\n",
              "      border-top-color: var(--fill-color);\n",
              "    }\n",
              "    30% {\n",
              "      border-color: transparent;\n",
              "      border-left-color: var(--fill-color);\n",
              "      border-top-color: var(--fill-color);\n",
              "      border-right-color: var(--fill-color);\n",
              "    }\n",
              "    40% {\n",
              "      border-color: transparent;\n",
              "      border-right-color: var(--fill-color);\n",
              "      border-top-color: var(--fill-color);\n",
              "    }\n",
              "    60% {\n",
              "      border-color: transparent;\n",
              "      border-right-color: var(--fill-color);\n",
              "    }\n",
              "    80% {\n",
              "      border-color: transparent;\n",
              "      border-right-color: var(--fill-color);\n",
              "      border-bottom-color: var(--fill-color);\n",
              "    }\n",
              "    90% {\n",
              "      border-color: transparent;\n",
              "      border-bottom-color: var(--fill-color);\n",
              "    }\n",
              "  }\n",
              "</style>\n",
              "\n",
              "  <script>\n",
              "    async function quickchart(key) {\n",
              "      const quickchartButtonEl =\n",
              "        document.querySelector('#' + key + ' button');\n",
              "      quickchartButtonEl.disabled = true;  // To prevent multiple clicks.\n",
              "      quickchartButtonEl.classList.add('colab-df-spinner');\n",
              "      try {\n",
              "        const charts = await google.colab.kernel.invokeFunction(\n",
              "            'suggestCharts', [key], {});\n",
              "      } catch (error) {\n",
              "        console.error('Error during call to suggestCharts:', error);\n",
              "      }\n",
              "      quickchartButtonEl.classList.remove('colab-df-spinner');\n",
              "      quickchartButtonEl.classList.add('colab-df-quickchart-complete');\n",
              "    }\n",
              "    (() => {\n",
              "      let quickchartButtonEl =\n",
              "        document.querySelector('#df-72a9e794-f870-4aa4-a206-4a1d41844e3b button');\n",
              "      quickchartButtonEl.style.display =\n",
              "        google.colab.kernel.accessAllowed ? 'block' : 'none';\n",
              "    })();\n",
              "  </script>\n",
              "</div>\n",
              "    </div>\n",
              "  </div>\n"
            ]
          },
          "metadata": {},
          "execution_count": 90
        }
      ]
    }
  ]
}