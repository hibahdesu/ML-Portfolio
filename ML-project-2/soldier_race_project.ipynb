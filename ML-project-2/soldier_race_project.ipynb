{
 "cells": [
  {
   "cell_type": "markdown",
   "metadata": {
    "id": "rfUdHCfe1b6v"
   },
   "source": [
    "___\n",
    "\n",
    "<p style=\"text-align: center;\"><img src=\"https://docs.google.com/uc?id=1lY0Uj5R04yMY3-ZppPWxqCr5pvBLYPnV\" class=\"img-fluid\" alt=\"CLRSWY\"></p>\n",
    "\n",
    "___"
   ]
  },
  {
   "cell_type": "markdown",
   "metadata": {
    "cell_style": "split",
    "heading_collapsed": true,
    "id": "CvFxPmf41b6y"
   },
   "source": [
    "# WELCOME!"
   ]
  },
  {
   "cell_type": "markdown",
   "metadata": {
    "cell_style": "split",
    "hidden": true,
    "id": "WZUMKNQY1b6y"
   },
   "source": [
    "In this project, you must apply EDA processes for the development of predictive models. Handling outliers, domain knowledge and feature engineering will be challenges.\n",
    "\n",
    "Also, this project aims to improve your ability to implement algorithms for Multi-Class Classification. Thus, you will have the opportunity to implement many algorithms commonly used for Multi-Class Classification problems.\n",
    "\n",
    "Before diving into the project, please take a look at the determines and tasks."
   ]
  },
  {
   "cell_type": "markdown",
   "metadata": {
    "cell_style": "split",
    "heading_collapsed": true,
    "id": "laCRtJs51b6z"
   },
   "source": [
    "# Determines"
   ]
  },
  {
   "cell_type": "markdown",
   "metadata": {
    "cell_style": "split",
    "hidden": true,
    "id": "iixh9Bej1b6z"
   },
   "source": [
    "The 2012 US Army Anthropometric Survey (ANSUR II) was executed by the Natick Soldier Research, Development and Engineering Center (NSRDEC) from October 2010 to April 2012 and is comprised of personnel representing the total US Army force to include the US Army Active Duty, Reserves, and National Guard. In addition to the anthropometric and demographic data described below, the ANSUR II database also consists of 3D whole body, foot, and head scans of Soldier participants. These 3D data are not publicly available out of respect for the privacy of ANSUR II participants. The data from this survey are used for a wide range of equipment design, sizing, and tariffing applications within the military and has many potential commercial, industrial, and academic applications.\n",
    "\n",
    "The ANSUR II working databases contain 93 anthropometric measurements which were directly measured, and 15 demographic/administrative variables explained below. The ANSUR II Male working database contains a total sample of 4,082 subjects. The ANSUR II Female working database contains a total sample of 1,986 subjects.\n",
    "\n",
    "\n",
    "DATA DICT:\n",
    "https://data.world/datamil/ansur-ii-data-dictionary/workspace/file?filename=ANSUR+II+Databases+Overview.pdf\n",
    "\n",
    "---\n",
    "\n",
    "To achieve high prediction success, you must understand the data well and develop different approaches that can affect the dependent variable.\n",
    "\n",
    "Firstly, try to understand the dataset column by column using pandas module. Do research within the scope of domain (body scales, and race characteristics) knowledge on the internet to get to know the data set in the fastest way.\n",
    "\n",
    "You will implement ***Logistic Regression, Support Vector Machine, XGBoost, Random Forest*** algorithms. Also, evaluate the success of your models with appropriate performance metrics.\n",
    "\n",
    "At the end of the project, choose the most successful model and try to enhance the scores with ***SMOTE*** make it ready to deploy. Furthermore, use ***SHAP*** to explain how the best model you choose works."
   ]
  },
  {
   "cell_type": "markdown",
   "metadata": {
    "cell_style": "split",
    "heading_collapsed": true,
    "id": "P2UckCvP1b60"
   },
   "source": [
    "# Tasks"
   ]
  },
  {
   "cell_type": "markdown",
   "metadata": {
    "cell_style": "split",
    "hidden": true,
    "id": "gCVDEsGB1b60"
   },
   "source": [
    "#### 1. Exploratory Data Analysis (EDA)\n",
    "- Import Libraries, Load Dataset, Exploring Data\n",
    "\n",
    "    *i. Import Libraries*\n",
    "    \n",
    "    *ii. Ingest Data *\n",
    "    \n",
    "    *iii. Explore Data*\n",
    "    \n",
    "    *iv. Outlier Detection*\n",
    "    \n",
    "    *v.  Drop unnecessary features*\n",
    "\n",
    "#### 2. Data Preprocessing\n",
    "- Scale (if needed)\n",
    "- Separete the data frame for evaluation purposes\n",
    "\n",
    "#### 3. Multi-class Classification\n",
    "- Import libraries\n",
    "- Implement SVM Classifer\n",
    "- Implement Decision Tree Classifier\n",
    "- Implement Random Forest Classifer\n",
    "- Implement XGBoost Classifer\n",
    "- Compare The Models\n",
    "\n"
   ]
  },
  {
   "cell_type": "markdown",
   "metadata": {
    "heading_collapsed": true,
    "id": "Y5-Kay1Eqvdj"
   },
   "source": [
    "# EDA\n",
    "- Drop unnecessary colums\n",
    "- Drop DODRace class if value count below 500 (we assume that our data model can't learn if it is below 500)"
   ]
  },
  {
   "cell_type": "markdown",
   "metadata": {
    "heading_collapsed": true,
    "hidden": true,
    "id": "K7UZHtvu1b62"
   },
   "source": [
    "## Import Libraries\n",
    "Besides Numpy and Pandas, you need to import the necessary modules for data visualization, data preprocessing, Model building and tuning.\n",
    "\n",
    "*Note: Check out the course materials.*"
   ]
  },
  {
   "cell_type": "code",
   "execution_count": 78,
   "metadata": {
    "hidden": true,
    "id": "OqnRjwHB1b64"
   },
   "outputs": [],
   "source": [
    "import numpy as np\n",
    "import pandas as pd\n",
    "import seaborn as sns\n",
    "import matplotlib.pyplot as plt\n",
    "%matplotlib inline\n",
    "\n",
    "from sklearn.compose import make_column_transformer\n",
    "from sklearn.preprocessing import OneHotEncoder\n",
    "\n",
    "from sklearn.model_selection import train_test_split\n",
    "\n",
    "from sklearn.preprocessing import StandardScaler, MinMaxScaler\n",
    "\n",
    "from sklearn.linear_model import LogisticRegression\n",
    "from sklearn.svm import SVC\n",
    "\n",
    "from sklearn.pipeline import Pipeline\n",
    "\n",
    "from sklearn.metrics import confusion_matrix, classification_report\n",
    "from sklearn.metrics import make_scorer\n",
    "from sklearn.metrics import precision_score, recall_score, accuracy_score, f1_score, roc_auc_score\n",
    "\n",
    "from sklearn.model_selection import cross_val_score, cross_validate\n",
    "\n",
    "from sklearn.model_selection import GridSearchCV\n",
    "from sklearn.metrics import average_precision_score\n",
    "\n",
    "from scikitplot.metrics import plot_roc, precision_recall_curve\n",
    "from scikitplot.metrics import plot_precision_recall\n",
    "\n",
    "\n",
    "import warnings \n",
    "warnings.filterwarnings(\"ignore\")\n",
    "warnings.warn(\"this will not show\")\n",
    "pd.set_option('display.float_format', lambda x: '%.3f' % x)\n",
    "\n",
    "plt.rcParams[\"figure.figsize\"] = (10,14)"
   ]
  },
  {
   "cell_type": "code",
   "execution_count": 2,
   "metadata": {},
   "outputs": [],
   "source": [
    "def eval_metric(model, X_train, y_train, X_test, y_test):\n",
    "    y_train_pred = model.predict(X_train)\n",
    "    y_pred = model.predict(X_test)\n",
    "\n",
    "    print(\"Test_Set\")\n",
    "    print(confusion_matrix(y_test, y_pred))\n",
    "    print(classification_report(y_test, y_pred))\n",
    "    print()\n",
    "    print(\"Train_Set\")\n",
    "    print(confusion_matrix(y_train, y_train_pred))\n",
    "    print(classification_report(y_train, y_train_pred))"
   ]
  },
  {
   "cell_type": "markdown",
   "metadata": {
    "heading_collapsed": true,
    "hidden": true,
    "id": "C5lJeTBu1b65"
   },
   "source": [
    "## Ingest Data from links below and make a dataframe\n",
    "- Soldiers Male : https://query.data.world/s/h3pbhckz5ck4rc7qmt2wlknlnn7esr\n",
    "- Soldiers Female : https://query.data.world/s/sq27zz4hawg32yfxksqwijxmpwmynq"
   ]
  },
  {
   "cell_type": "code",
   "execution_count": 3,
   "metadata": {
    "colab": {
     "base_uri": "https://localhost:8080/",
     "height": 17
    },
    "hidden": true,
    "id": "tG5BsWraqX_y",
    "outputId": "a6e730fa-6848-4cfc-becb-284fc8cc99e5"
   },
   "outputs": [],
   "source": [
    "path_1 = \"ANSUR II MALE Public.csv\"\n",
    "path_2 = \"ANSUR II FEMALE Public.csv\"\n",
    "\n",
    "df_male = pd.read_csv(path_1, encoding=\"ISO-8859-1\")\n",
    "df_female = pd.read_csv(path_2, encoding=\"ISO-8859-1\")"
   ]
  },
  {
   "cell_type": "code",
   "execution_count": 4,
   "metadata": {},
   "outputs": [],
   "source": [
    "#Here i will concat the two files\n",
    "df = pd.concat([df_male, df_female])"
   ]
  },
  {
   "cell_type": "code",
   "execution_count": 5,
   "metadata": {},
   "outputs": [
    {
     "data": {
      "text/html": [
       "<div>\n",
       "<style scoped>\n",
       "    .dataframe tbody tr th:only-of-type {\n",
       "        vertical-align: middle;\n",
       "    }\n",
       "\n",
       "    .dataframe tbody tr th {\n",
       "        vertical-align: top;\n",
       "    }\n",
       "\n",
       "    .dataframe thead th {\n",
       "        text-align: right;\n",
       "    }\n",
       "</style>\n",
       "<table border=\"1\" class=\"dataframe\">\n",
       "  <thead>\n",
       "    <tr style=\"text-align: right;\">\n",
       "      <th></th>\n",
       "      <th>subjectid</th>\n",
       "      <th>abdominalextensiondepthsitting</th>\n",
       "      <th>acromialheight</th>\n",
       "      <th>acromionradialelength</th>\n",
       "      <th>anklecircumference</th>\n",
       "      <th>axillaheight</th>\n",
       "      <th>balloffootcircumference</th>\n",
       "      <th>balloffootlength</th>\n",
       "      <th>biacromialbreadth</th>\n",
       "      <th>bicepscircumferenceflexed</th>\n",
       "      <th>...</th>\n",
       "      <th>PrimaryMOS</th>\n",
       "      <th>SubjectsBirthLocation</th>\n",
       "      <th>SubjectNumericRace</th>\n",
       "      <th>Ethnicity</th>\n",
       "      <th>DODRace</th>\n",
       "      <th>Age</th>\n",
       "      <th>Heightin</th>\n",
       "      <th>Weightlbs</th>\n",
       "      <th>WritingPreference</th>\n",
       "      <th>SubjectId</th>\n",
       "    </tr>\n",
       "  </thead>\n",
       "  <tbody>\n",
       "    <tr>\n",
       "      <th>0</th>\n",
       "      <td>10027.000</td>\n",
       "      <td>266</td>\n",
       "      <td>1467</td>\n",
       "      <td>337</td>\n",
       "      <td>222</td>\n",
       "      <td>1347</td>\n",
       "      <td>253</td>\n",
       "      <td>202</td>\n",
       "      <td>401</td>\n",
       "      <td>369</td>\n",
       "      <td>...</td>\n",
       "      <td>19D</td>\n",
       "      <td>North Dakota</td>\n",
       "      <td>1</td>\n",
       "      <td>NaN</td>\n",
       "      <td>1</td>\n",
       "      <td>41</td>\n",
       "      <td>71</td>\n",
       "      <td>180</td>\n",
       "      <td>Right hand</td>\n",
       "      <td>NaN</td>\n",
       "    </tr>\n",
       "    <tr>\n",
       "      <th>1</th>\n",
       "      <td>10032.000</td>\n",
       "      <td>233</td>\n",
       "      <td>1395</td>\n",
       "      <td>326</td>\n",
       "      <td>220</td>\n",
       "      <td>1293</td>\n",
       "      <td>245</td>\n",
       "      <td>193</td>\n",
       "      <td>394</td>\n",
       "      <td>338</td>\n",
       "      <td>...</td>\n",
       "      <td>68W</td>\n",
       "      <td>New York</td>\n",
       "      <td>1</td>\n",
       "      <td>NaN</td>\n",
       "      <td>1</td>\n",
       "      <td>35</td>\n",
       "      <td>68</td>\n",
       "      <td>160</td>\n",
       "      <td>Left hand</td>\n",
       "      <td>NaN</td>\n",
       "    </tr>\n",
       "    <tr>\n",
       "      <th>2</th>\n",
       "      <td>10033.000</td>\n",
       "      <td>287</td>\n",
       "      <td>1430</td>\n",
       "      <td>341</td>\n",
       "      <td>230</td>\n",
       "      <td>1327</td>\n",
       "      <td>256</td>\n",
       "      <td>196</td>\n",
       "      <td>427</td>\n",
       "      <td>408</td>\n",
       "      <td>...</td>\n",
       "      <td>68W</td>\n",
       "      <td>New York</td>\n",
       "      <td>2</td>\n",
       "      <td>NaN</td>\n",
       "      <td>2</td>\n",
       "      <td>42</td>\n",
       "      <td>68</td>\n",
       "      <td>205</td>\n",
       "      <td>Left hand</td>\n",
       "      <td>NaN</td>\n",
       "    </tr>\n",
       "    <tr>\n",
       "      <th>3</th>\n",
       "      <td>10092.000</td>\n",
       "      <td>234</td>\n",
       "      <td>1347</td>\n",
       "      <td>310</td>\n",
       "      <td>230</td>\n",
       "      <td>1239</td>\n",
       "      <td>262</td>\n",
       "      <td>199</td>\n",
       "      <td>401</td>\n",
       "      <td>359</td>\n",
       "      <td>...</td>\n",
       "      <td>88M</td>\n",
       "      <td>Wisconsin</td>\n",
       "      <td>1</td>\n",
       "      <td>NaN</td>\n",
       "      <td>1</td>\n",
       "      <td>31</td>\n",
       "      <td>66</td>\n",
       "      <td>175</td>\n",
       "      <td>Right hand</td>\n",
       "      <td>NaN</td>\n",
       "    </tr>\n",
       "    <tr>\n",
       "      <th>4</th>\n",
       "      <td>10093.000</td>\n",
       "      <td>250</td>\n",
       "      <td>1585</td>\n",
       "      <td>372</td>\n",
       "      <td>247</td>\n",
       "      <td>1478</td>\n",
       "      <td>267</td>\n",
       "      <td>224</td>\n",
       "      <td>435</td>\n",
       "      <td>356</td>\n",
       "      <td>...</td>\n",
       "      <td>92G</td>\n",
       "      <td>North Carolina</td>\n",
       "      <td>2</td>\n",
       "      <td>NaN</td>\n",
       "      <td>2</td>\n",
       "      <td>21</td>\n",
       "      <td>77</td>\n",
       "      <td>213</td>\n",
       "      <td>Right hand</td>\n",
       "      <td>NaN</td>\n",
       "    </tr>\n",
       "  </tbody>\n",
       "</table>\n",
       "<p>5 rows × 109 columns</p>\n",
       "</div>"
      ],
      "text/plain": [
       "   subjectid  abdominalextensiondepthsitting  acromialheight  \\\n",
       "0  10027.000                             266            1467   \n",
       "1  10032.000                             233            1395   \n",
       "2  10033.000                             287            1430   \n",
       "3  10092.000                             234            1347   \n",
       "4  10093.000                             250            1585   \n",
       "\n",
       "   acromionradialelength  anklecircumference  axillaheight  \\\n",
       "0                    337                 222          1347   \n",
       "1                    326                 220          1293   \n",
       "2                    341                 230          1327   \n",
       "3                    310                 230          1239   \n",
       "4                    372                 247          1478   \n",
       "\n",
       "   balloffootcircumference  balloffootlength  biacromialbreadth  \\\n",
       "0                      253               202                401   \n",
       "1                      245               193                394   \n",
       "2                      256               196                427   \n",
       "3                      262               199                401   \n",
       "4                      267               224                435   \n",
       "\n",
       "   bicepscircumferenceflexed  ...  PrimaryMOS  SubjectsBirthLocation  \\\n",
       "0                        369  ...         19D           North Dakota   \n",
       "1                        338  ...         68W               New York   \n",
       "2                        408  ...         68W               New York   \n",
       "3                        359  ...         88M              Wisconsin   \n",
       "4                        356  ...         92G         North Carolina   \n",
       "\n",
       "   SubjectNumericRace  Ethnicity  DODRace  Age  Heightin  Weightlbs  \\\n",
       "0                   1        NaN        1   41        71        180   \n",
       "1                   1        NaN        1   35        68        160   \n",
       "2                   2        NaN        2   42        68        205   \n",
       "3                   1        NaN        1   31        66        175   \n",
       "4                   2        NaN        2   21        77        213   \n",
       "\n",
       "   WritingPreference  SubjectId  \n",
       "0         Right hand        NaN  \n",
       "1          Left hand        NaN  \n",
       "2          Left hand        NaN  \n",
       "3         Right hand        NaN  \n",
       "4         Right hand        NaN  \n",
       "\n",
       "[5 rows x 109 columns]"
      ]
     },
     "execution_count": 5,
     "metadata": {},
     "output_type": "execute_result"
    }
   ],
   "source": [
    "df.head()"
   ]
  },
  {
   "cell_type": "code",
   "execution_count": 6,
   "metadata": {},
   "outputs": [],
   "source": [
    "#After concating i need to reset the index\n",
    "df = df.reset_index()"
   ]
  },
  {
   "cell_type": "code",
   "execution_count": 7,
   "metadata": {
    "scrolled": true
   },
   "outputs": [
    {
     "data": {
      "text/html": [
       "<div>\n",
       "<style scoped>\n",
       "    .dataframe tbody tr th:only-of-type {\n",
       "        vertical-align: middle;\n",
       "    }\n",
       "\n",
       "    .dataframe tbody tr th {\n",
       "        vertical-align: top;\n",
       "    }\n",
       "\n",
       "    .dataframe thead th {\n",
       "        text-align: right;\n",
       "    }\n",
       "</style>\n",
       "<table border=\"1\" class=\"dataframe\">\n",
       "  <thead>\n",
       "    <tr style=\"text-align: right;\">\n",
       "      <th></th>\n",
       "      <th>index</th>\n",
       "      <th>subjectid</th>\n",
       "      <th>abdominalextensiondepthsitting</th>\n",
       "      <th>acromialheight</th>\n",
       "      <th>acromionradialelength</th>\n",
       "      <th>anklecircumference</th>\n",
       "      <th>axillaheight</th>\n",
       "      <th>balloffootcircumference</th>\n",
       "      <th>balloffootlength</th>\n",
       "      <th>biacromialbreadth</th>\n",
       "      <th>...</th>\n",
       "      <th>PrimaryMOS</th>\n",
       "      <th>SubjectsBirthLocation</th>\n",
       "      <th>SubjectNumericRace</th>\n",
       "      <th>Ethnicity</th>\n",
       "      <th>DODRace</th>\n",
       "      <th>Age</th>\n",
       "      <th>Heightin</th>\n",
       "      <th>Weightlbs</th>\n",
       "      <th>WritingPreference</th>\n",
       "      <th>SubjectId</th>\n",
       "    </tr>\n",
       "  </thead>\n",
       "  <tbody>\n",
       "    <tr>\n",
       "      <th>0</th>\n",
       "      <td>0</td>\n",
       "      <td>10027.000</td>\n",
       "      <td>266</td>\n",
       "      <td>1467</td>\n",
       "      <td>337</td>\n",
       "      <td>222</td>\n",
       "      <td>1347</td>\n",
       "      <td>253</td>\n",
       "      <td>202</td>\n",
       "      <td>401</td>\n",
       "      <td>...</td>\n",
       "      <td>19D</td>\n",
       "      <td>North Dakota</td>\n",
       "      <td>1</td>\n",
       "      <td>NaN</td>\n",
       "      <td>1</td>\n",
       "      <td>41</td>\n",
       "      <td>71</td>\n",
       "      <td>180</td>\n",
       "      <td>Right hand</td>\n",
       "      <td>NaN</td>\n",
       "    </tr>\n",
       "    <tr>\n",
       "      <th>1</th>\n",
       "      <td>1</td>\n",
       "      <td>10032.000</td>\n",
       "      <td>233</td>\n",
       "      <td>1395</td>\n",
       "      <td>326</td>\n",
       "      <td>220</td>\n",
       "      <td>1293</td>\n",
       "      <td>245</td>\n",
       "      <td>193</td>\n",
       "      <td>394</td>\n",
       "      <td>...</td>\n",
       "      <td>68W</td>\n",
       "      <td>New York</td>\n",
       "      <td>1</td>\n",
       "      <td>NaN</td>\n",
       "      <td>1</td>\n",
       "      <td>35</td>\n",
       "      <td>68</td>\n",
       "      <td>160</td>\n",
       "      <td>Left hand</td>\n",
       "      <td>NaN</td>\n",
       "    </tr>\n",
       "    <tr>\n",
       "      <th>2</th>\n",
       "      <td>2</td>\n",
       "      <td>10033.000</td>\n",
       "      <td>287</td>\n",
       "      <td>1430</td>\n",
       "      <td>341</td>\n",
       "      <td>230</td>\n",
       "      <td>1327</td>\n",
       "      <td>256</td>\n",
       "      <td>196</td>\n",
       "      <td>427</td>\n",
       "      <td>...</td>\n",
       "      <td>68W</td>\n",
       "      <td>New York</td>\n",
       "      <td>2</td>\n",
       "      <td>NaN</td>\n",
       "      <td>2</td>\n",
       "      <td>42</td>\n",
       "      <td>68</td>\n",
       "      <td>205</td>\n",
       "      <td>Left hand</td>\n",
       "      <td>NaN</td>\n",
       "    </tr>\n",
       "    <tr>\n",
       "      <th>3</th>\n",
       "      <td>3</td>\n",
       "      <td>10092.000</td>\n",
       "      <td>234</td>\n",
       "      <td>1347</td>\n",
       "      <td>310</td>\n",
       "      <td>230</td>\n",
       "      <td>1239</td>\n",
       "      <td>262</td>\n",
       "      <td>199</td>\n",
       "      <td>401</td>\n",
       "      <td>...</td>\n",
       "      <td>88M</td>\n",
       "      <td>Wisconsin</td>\n",
       "      <td>1</td>\n",
       "      <td>NaN</td>\n",
       "      <td>1</td>\n",
       "      <td>31</td>\n",
       "      <td>66</td>\n",
       "      <td>175</td>\n",
       "      <td>Right hand</td>\n",
       "      <td>NaN</td>\n",
       "    </tr>\n",
       "    <tr>\n",
       "      <th>4</th>\n",
       "      <td>4</td>\n",
       "      <td>10093.000</td>\n",
       "      <td>250</td>\n",
       "      <td>1585</td>\n",
       "      <td>372</td>\n",
       "      <td>247</td>\n",
       "      <td>1478</td>\n",
       "      <td>267</td>\n",
       "      <td>224</td>\n",
       "      <td>435</td>\n",
       "      <td>...</td>\n",
       "      <td>92G</td>\n",
       "      <td>North Carolina</td>\n",
       "      <td>2</td>\n",
       "      <td>NaN</td>\n",
       "      <td>2</td>\n",
       "      <td>21</td>\n",
       "      <td>77</td>\n",
       "      <td>213</td>\n",
       "      <td>Right hand</td>\n",
       "      <td>NaN</td>\n",
       "    </tr>\n",
       "  </tbody>\n",
       "</table>\n",
       "<p>5 rows × 110 columns</p>\n",
       "</div>"
      ],
      "text/plain": [
       "   index  subjectid  abdominalextensiondepthsitting  acromialheight  \\\n",
       "0      0  10027.000                             266            1467   \n",
       "1      1  10032.000                             233            1395   \n",
       "2      2  10033.000                             287            1430   \n",
       "3      3  10092.000                             234            1347   \n",
       "4      4  10093.000                             250            1585   \n",
       "\n",
       "   acromionradialelength  anklecircumference  axillaheight  \\\n",
       "0                    337                 222          1347   \n",
       "1                    326                 220          1293   \n",
       "2                    341                 230          1327   \n",
       "3                    310                 230          1239   \n",
       "4                    372                 247          1478   \n",
       "\n",
       "   balloffootcircumference  balloffootlength  biacromialbreadth  ...  \\\n",
       "0                      253               202                401  ...   \n",
       "1                      245               193                394  ...   \n",
       "2                      256               196                427  ...   \n",
       "3                      262               199                401  ...   \n",
       "4                      267               224                435  ...   \n",
       "\n",
       "   PrimaryMOS  SubjectsBirthLocation  SubjectNumericRace  Ethnicity  DODRace  \\\n",
       "0         19D           North Dakota                   1        NaN        1   \n",
       "1         68W               New York                   1        NaN        1   \n",
       "2         68W               New York                   2        NaN        2   \n",
       "3         88M              Wisconsin                   1        NaN        1   \n",
       "4         92G         North Carolina                   2        NaN        2   \n",
       "\n",
       "   Age  Heightin  Weightlbs  WritingPreference  SubjectId  \n",
       "0   41        71        180         Right hand        NaN  \n",
       "1   35        68        160          Left hand        NaN  \n",
       "2   42        68        205          Left hand        NaN  \n",
       "3   31        66        175         Right hand        NaN  \n",
       "4   21        77        213         Right hand        NaN  \n",
       "\n",
       "[5 rows x 110 columns]"
      ]
     },
     "execution_count": 7,
     "metadata": {},
     "output_type": "execute_result"
    }
   ],
   "source": [
    "df.head()"
   ]
  },
  {
   "cell_type": "code",
   "execution_count": 8,
   "metadata": {},
   "outputs": [],
   "source": [
    "df_2= df.copy()"
   ]
  },
  {
   "cell_type": "code",
   "execution_count": 9,
   "metadata": {
    "scrolled": true
   },
   "outputs": [
    {
     "data": {
      "text/html": [
       "<div>\n",
       "<style scoped>\n",
       "    .dataframe tbody tr th:only-of-type {\n",
       "        vertical-align: middle;\n",
       "    }\n",
       "\n",
       "    .dataframe tbody tr th {\n",
       "        vertical-align: top;\n",
       "    }\n",
       "\n",
       "    .dataframe thead th {\n",
       "        text-align: right;\n",
       "    }\n",
       "</style>\n",
       "<table border=\"1\" class=\"dataframe\">\n",
       "  <thead>\n",
       "    <tr style=\"text-align: right;\">\n",
       "      <th></th>\n",
       "      <th>index</th>\n",
       "      <th>subjectid</th>\n",
       "      <th>abdominalextensiondepthsitting</th>\n",
       "      <th>acromialheight</th>\n",
       "      <th>acromionradialelength</th>\n",
       "      <th>anklecircumference</th>\n",
       "      <th>axillaheight</th>\n",
       "      <th>balloffootcircumference</th>\n",
       "      <th>balloffootlength</th>\n",
       "      <th>biacromialbreadth</th>\n",
       "      <th>...</th>\n",
       "      <th>PrimaryMOS</th>\n",
       "      <th>SubjectsBirthLocation</th>\n",
       "      <th>SubjectNumericRace</th>\n",
       "      <th>Ethnicity</th>\n",
       "      <th>DODRace</th>\n",
       "      <th>Age</th>\n",
       "      <th>Heightin</th>\n",
       "      <th>Weightlbs</th>\n",
       "      <th>WritingPreference</th>\n",
       "      <th>SubjectId</th>\n",
       "    </tr>\n",
       "  </thead>\n",
       "  <tbody>\n",
       "    <tr>\n",
       "      <th>0</th>\n",
       "      <td>0</td>\n",
       "      <td>10027.000</td>\n",
       "      <td>266</td>\n",
       "      <td>1467</td>\n",
       "      <td>337</td>\n",
       "      <td>222</td>\n",
       "      <td>1347</td>\n",
       "      <td>253</td>\n",
       "      <td>202</td>\n",
       "      <td>401</td>\n",
       "      <td>...</td>\n",
       "      <td>19D</td>\n",
       "      <td>North Dakota</td>\n",
       "      <td>1</td>\n",
       "      <td>NaN</td>\n",
       "      <td>1</td>\n",
       "      <td>41</td>\n",
       "      <td>71</td>\n",
       "      <td>180</td>\n",
       "      <td>Right hand</td>\n",
       "      <td>NaN</td>\n",
       "    </tr>\n",
       "    <tr>\n",
       "      <th>1</th>\n",
       "      <td>1</td>\n",
       "      <td>10032.000</td>\n",
       "      <td>233</td>\n",
       "      <td>1395</td>\n",
       "      <td>326</td>\n",
       "      <td>220</td>\n",
       "      <td>1293</td>\n",
       "      <td>245</td>\n",
       "      <td>193</td>\n",
       "      <td>394</td>\n",
       "      <td>...</td>\n",
       "      <td>68W</td>\n",
       "      <td>New York</td>\n",
       "      <td>1</td>\n",
       "      <td>NaN</td>\n",
       "      <td>1</td>\n",
       "      <td>35</td>\n",
       "      <td>68</td>\n",
       "      <td>160</td>\n",
       "      <td>Left hand</td>\n",
       "      <td>NaN</td>\n",
       "    </tr>\n",
       "    <tr>\n",
       "      <th>2</th>\n",
       "      <td>2</td>\n",
       "      <td>10033.000</td>\n",
       "      <td>287</td>\n",
       "      <td>1430</td>\n",
       "      <td>341</td>\n",
       "      <td>230</td>\n",
       "      <td>1327</td>\n",
       "      <td>256</td>\n",
       "      <td>196</td>\n",
       "      <td>427</td>\n",
       "      <td>...</td>\n",
       "      <td>68W</td>\n",
       "      <td>New York</td>\n",
       "      <td>2</td>\n",
       "      <td>NaN</td>\n",
       "      <td>2</td>\n",
       "      <td>42</td>\n",
       "      <td>68</td>\n",
       "      <td>205</td>\n",
       "      <td>Left hand</td>\n",
       "      <td>NaN</td>\n",
       "    </tr>\n",
       "    <tr>\n",
       "      <th>3</th>\n",
       "      <td>3</td>\n",
       "      <td>10092.000</td>\n",
       "      <td>234</td>\n",
       "      <td>1347</td>\n",
       "      <td>310</td>\n",
       "      <td>230</td>\n",
       "      <td>1239</td>\n",
       "      <td>262</td>\n",
       "      <td>199</td>\n",
       "      <td>401</td>\n",
       "      <td>...</td>\n",
       "      <td>88M</td>\n",
       "      <td>Wisconsin</td>\n",
       "      <td>1</td>\n",
       "      <td>NaN</td>\n",
       "      <td>1</td>\n",
       "      <td>31</td>\n",
       "      <td>66</td>\n",
       "      <td>175</td>\n",
       "      <td>Right hand</td>\n",
       "      <td>NaN</td>\n",
       "    </tr>\n",
       "    <tr>\n",
       "      <th>4</th>\n",
       "      <td>4</td>\n",
       "      <td>10093.000</td>\n",
       "      <td>250</td>\n",
       "      <td>1585</td>\n",
       "      <td>372</td>\n",
       "      <td>247</td>\n",
       "      <td>1478</td>\n",
       "      <td>267</td>\n",
       "      <td>224</td>\n",
       "      <td>435</td>\n",
       "      <td>...</td>\n",
       "      <td>92G</td>\n",
       "      <td>North Carolina</td>\n",
       "      <td>2</td>\n",
       "      <td>NaN</td>\n",
       "      <td>2</td>\n",
       "      <td>21</td>\n",
       "      <td>77</td>\n",
       "      <td>213</td>\n",
       "      <td>Right hand</td>\n",
       "      <td>NaN</td>\n",
       "    </tr>\n",
       "  </tbody>\n",
       "</table>\n",
       "<p>5 rows × 110 columns</p>\n",
       "</div>"
      ],
      "text/plain": [
       "   index  subjectid  abdominalextensiondepthsitting  acromialheight  \\\n",
       "0      0  10027.000                             266            1467   \n",
       "1      1  10032.000                             233            1395   \n",
       "2      2  10033.000                             287            1430   \n",
       "3      3  10092.000                             234            1347   \n",
       "4      4  10093.000                             250            1585   \n",
       "\n",
       "   acromionradialelength  anklecircumference  axillaheight  \\\n",
       "0                    337                 222          1347   \n",
       "1                    326                 220          1293   \n",
       "2                    341                 230          1327   \n",
       "3                    310                 230          1239   \n",
       "4                    372                 247          1478   \n",
       "\n",
       "   balloffootcircumference  balloffootlength  biacromialbreadth  ...  \\\n",
       "0                      253               202                401  ...   \n",
       "1                      245               193                394  ...   \n",
       "2                      256               196                427  ...   \n",
       "3                      262               199                401  ...   \n",
       "4                      267               224                435  ...   \n",
       "\n",
       "   PrimaryMOS  SubjectsBirthLocation  SubjectNumericRace  Ethnicity  DODRace  \\\n",
       "0         19D           North Dakota                   1        NaN        1   \n",
       "1         68W               New York                   1        NaN        1   \n",
       "2         68W               New York                   2        NaN        2   \n",
       "3         88M              Wisconsin                   1        NaN        1   \n",
       "4         92G         North Carolina                   2        NaN        2   \n",
       "\n",
       "   Age  Heightin  Weightlbs  WritingPreference  SubjectId  \n",
       "0   41        71        180         Right hand        NaN  \n",
       "1   35        68        160          Left hand        NaN  \n",
       "2   42        68        205          Left hand        NaN  \n",
       "3   31        66        175         Right hand        NaN  \n",
       "4   21        77        213         Right hand        NaN  \n",
       "\n",
       "[5 rows x 110 columns]"
      ]
     },
     "execution_count": 9,
     "metadata": {},
     "output_type": "execute_result"
    }
   ],
   "source": [
    "df_2.head()"
   ]
  },
  {
   "cell_type": "code",
   "execution_count": 10,
   "metadata": {},
   "outputs": [
    {
     "data": {
      "text/plain": [
       "(6068, 110)"
      ]
     },
     "execution_count": 10,
     "metadata": {},
     "output_type": "execute_result"
    }
   ],
   "source": [
    "df_2.shape"
   ]
  },
  {
   "cell_type": "markdown",
   "metadata": {
    "heading_collapsed": true,
    "hidden": true,
    "id": "TMjCTEG51b67"
   },
   "source": [
    "## Explore Data"
   ]
  },
  {
   "cell_type": "code",
   "execution_count": 11,
   "metadata": {},
   "outputs": [
    {
     "name": "stdout",
     "output_type": "stream",
     "text": [
      "<class 'pandas.core.frame.DataFrame'>\n",
      "RangeIndex: 6068 entries, 0 to 6067\n",
      "Data columns (total 110 columns):\n",
      " #    Column                          Non-Null Count  Dtype  \n",
      "---   ------                          --------------  -----  \n",
      " 0    index                           6068 non-null   int64  \n",
      " 1    subjectid                       4082 non-null   float64\n",
      " 2    abdominalextensiondepthsitting  6068 non-null   int64  \n",
      " 3    acromialheight                  6068 non-null   int64  \n",
      " 4    acromionradialelength           6068 non-null   int64  \n",
      " 5    anklecircumference              6068 non-null   int64  \n",
      " 6    axillaheight                    6068 non-null   int64  \n",
      " 7    balloffootcircumference         6068 non-null   int64  \n",
      " 8    balloffootlength                6068 non-null   int64  \n",
      " 9    biacromialbreadth               6068 non-null   int64  \n",
      " 10   bicepscircumferenceflexed       6068 non-null   int64  \n",
      " 11   bicristalbreadth                6068 non-null   int64  \n",
      " 12   bideltoidbreadth                6068 non-null   int64  \n",
      " 13   bimalleolarbreadth              6068 non-null   int64  \n",
      " 14   bitragionchinarc                6068 non-null   int64  \n",
      " 15   bitragionsubmandibulararc       6068 non-null   int64  \n",
      " 16   bizygomaticbreadth              6068 non-null   int64  \n",
      " 17   buttockcircumference            6068 non-null   int64  \n",
      " 18   buttockdepth                    6068 non-null   int64  \n",
      " 19   buttockheight                   6068 non-null   int64  \n",
      " 20   buttockkneelength               6068 non-null   int64  \n",
      " 21   buttockpopliteallength          6068 non-null   int64  \n",
      " 22   calfcircumference               6068 non-null   int64  \n",
      " 23   cervicaleheight                 6068 non-null   int64  \n",
      " 24   chestbreadth                    6068 non-null   int64  \n",
      " 25   chestcircumference              6068 non-null   int64  \n",
      " 26   chestdepth                      6068 non-null   int64  \n",
      " 27   chestheight                     6068 non-null   int64  \n",
      " 28   crotchheight                    6068 non-null   int64  \n",
      " 29   crotchlengthomphalion           6068 non-null   int64  \n",
      " 30   crotchlengthposterioromphalion  6068 non-null   int64  \n",
      " 31   earbreadth                      6068 non-null   int64  \n",
      " 32   earlength                       6068 non-null   int64  \n",
      " 33   earprotrusion                   6068 non-null   int64  \n",
      " 34   elbowrestheight                 6068 non-null   int64  \n",
      " 35   eyeheightsitting                6068 non-null   int64  \n",
      " 36   footbreadthhorizontal           6068 non-null   int64  \n",
      " 37   footlength                      6068 non-null   int64  \n",
      " 38   forearmcenterofgriplength       6068 non-null   int64  \n",
      " 39   forearmcircumferenceflexed      6068 non-null   int64  \n",
      " 40   forearmforearmbreadth           6068 non-null   int64  \n",
      " 41   forearmhandlength               6068 non-null   int64  \n",
      " 42   functionalleglength             6068 non-null   int64  \n",
      " 43   handbreadth                     6068 non-null   int64  \n",
      " 44   handcircumference               6068 non-null   int64  \n",
      " 45   handlength                      6068 non-null   int64  \n",
      " 46   headbreadth                     6068 non-null   int64  \n",
      " 47   headcircumference               6068 non-null   int64  \n",
      " 48   headlength                      6068 non-null   int64  \n",
      " 49   heelanklecircumference          6068 non-null   int64  \n",
      " 50   heelbreadth                     6068 non-null   int64  \n",
      " 51   hipbreadth                      6068 non-null   int64  \n",
      " 52   hipbreadthsitting               6068 non-null   int64  \n",
      " 53   iliocristaleheight              6068 non-null   int64  \n",
      " 54   interpupillarybreadth           6068 non-null   int64  \n",
      " 55   interscyei                      6068 non-null   int64  \n",
      " 56   interscyeii                     6068 non-null   int64  \n",
      " 57   kneeheightmidpatella            6068 non-null   int64  \n",
      " 58   kneeheightsitting               6068 non-null   int64  \n",
      " 59   lateralfemoralepicondyleheight  6068 non-null   int64  \n",
      " 60   lateralmalleolusheight          6068 non-null   int64  \n",
      " 61   lowerthighcircumference         6068 non-null   int64  \n",
      " 62   mentonsellionlength             6068 non-null   int64  \n",
      " 63   neckcircumference               6068 non-null   int64  \n",
      " 64   neckcircumferencebase           6068 non-null   int64  \n",
      " 65   overheadfingertipreachsitting   6068 non-null   int64  \n",
      " 66   palmlength                      6068 non-null   int64  \n",
      " 67   poplitealheight                 6068 non-null   int64  \n",
      " 68   radialestylionlength            6068 non-null   int64  \n",
      " 69   shouldercircumference           6068 non-null   int64  \n",
      " 70   shoulderelbowlength             6068 non-null   int64  \n",
      " 71   shoulderlength                  6068 non-null   int64  \n",
      " 72   sittingheight                   6068 non-null   int64  \n",
      " 73   sleevelengthspinewrist          6068 non-null   int64  \n",
      " 74   sleeveoutseam                   6068 non-null   int64  \n",
      " 75   span                            6068 non-null   int64  \n",
      " 76   stature                         6068 non-null   int64  \n",
      " 77   suprasternaleheight             6068 non-null   int64  \n",
      " 78   tenthribheight                  6068 non-null   int64  \n",
      " 79   thighcircumference              6068 non-null   int64  \n",
      " 80   thighclearance                  6068 non-null   int64  \n",
      " 81   thumbtipreach                   6068 non-null   int64  \n",
      " 82   tibialheight                    6068 non-null   int64  \n",
      " 83   tragiontopofhead                6068 non-null   int64  \n",
      " 84   trochanterionheight             6068 non-null   int64  \n",
      " 85   verticaltrunkcircumferenceusa   6068 non-null   int64  \n",
      " 86   waistbacklength                 6068 non-null   int64  \n",
      " 87   waistbreadth                    6068 non-null   int64  \n",
      " 88   waistcircumference              6068 non-null   int64  \n",
      " 89   waistdepth                      6068 non-null   int64  \n",
      " 90   waistfrontlengthsitting         6068 non-null   int64  \n",
      " 91   waistheightomphalion            6068 non-null   int64  \n",
      " 92   weightkg                        6068 non-null   int64  \n",
      " 93   wristcircumference              6068 non-null   int64  \n",
      " 94   wristheight                     6068 non-null   int64  \n",
      " 95   Gender                          6068 non-null   object \n",
      " 96   Date                            6068 non-null   object \n",
      " 97   Installation                    6068 non-null   object \n",
      " 98   Component                       6068 non-null   object \n",
      " 99   Branch                          6068 non-null   object \n",
      " 100  PrimaryMOS                      6068 non-null   object \n",
      " 101  SubjectsBirthLocation           6068 non-null   object \n",
      " 102  SubjectNumericRace              6068 non-null   int64  \n",
      " 103  Ethnicity                       1421 non-null   object \n",
      " 104  DODRace                         6068 non-null   int64  \n",
      " 105  Age                             6068 non-null   int64  \n",
      " 106  Heightin                        6068 non-null   int64  \n",
      " 107  Weightlbs                       6068 non-null   int64  \n",
      " 108  WritingPreference               6068 non-null   object \n",
      " 109  SubjectId                       1986 non-null   float64\n",
      "dtypes: float64(2), int64(99), object(9)\n",
      "memory usage: 5.1+ MB\n"
     ]
    }
   ],
   "source": [
    "df_2.info(max_cols=110)\n",
    "#As we can see here, all of them contains about 6068, but Ethnicity contains only 1421, which is a problem here if we \n",
    "#keep it, as it is less than the half and we cannot deal with it.\n",
    "#furthemore, subjectid, which is in the male file contians about 4082, but it does not affect. So, i will delet it.\n",
    "#Also, SubjectId, which is in female file contains only 1986, but it is not an importand column, as it does not \n",
    "#put any meaning to the model or the data. The id does not affect. \n",
    "#So, these columns, i will delet them."
   ]
  },
  {
   "cell_type": "code",
   "execution_count": 12,
   "metadata": {},
   "outputs": [
    {
     "data": {
      "text/html": [
       "<div>\n",
       "<style scoped>\n",
       "    .dataframe tbody tr th:only-of-type {\n",
       "        vertical-align: middle;\n",
       "    }\n",
       "\n",
       "    .dataframe tbody tr th {\n",
       "        vertical-align: top;\n",
       "    }\n",
       "\n",
       "    .dataframe thead th {\n",
       "        text-align: right;\n",
       "    }\n",
       "</style>\n",
       "<table border=\"1\" class=\"dataframe\">\n",
       "  <thead>\n",
       "    <tr style=\"text-align: right;\">\n",
       "      <th></th>\n",
       "      <th>count</th>\n",
       "      <th>mean</th>\n",
       "      <th>std</th>\n",
       "      <th>min</th>\n",
       "      <th>25%</th>\n",
       "      <th>50%</th>\n",
       "      <th>75%</th>\n",
       "      <th>max</th>\n",
       "    </tr>\n",
       "  </thead>\n",
       "  <tbody>\n",
       "    <tr>\n",
       "      <th>index</th>\n",
       "      <td>6068.000</td>\n",
       "      <td>1697.499</td>\n",
       "      <td>1133.004</td>\n",
       "      <td>0.000</td>\n",
       "      <td>758.000</td>\n",
       "      <td>1516.500</td>\n",
       "      <td>2564.250</td>\n",
       "      <td>4081.000</td>\n",
       "    </tr>\n",
       "    <tr>\n",
       "      <th>subjectid</th>\n",
       "      <td>4082.000</td>\n",
       "      <td>20003.371</td>\n",
       "      <td>6568.435</td>\n",
       "      <td>10027.000</td>\n",
       "      <td>14270.250</td>\n",
       "      <td>17236.500</td>\n",
       "      <td>27315.750</td>\n",
       "      <td>29452.000</td>\n",
       "    </tr>\n",
       "    <tr>\n",
       "      <th>abdominalextensiondepthsitting</th>\n",
       "      <td>6068.000</td>\n",
       "      <td>246.469</td>\n",
       "      <td>37.400</td>\n",
       "      <td>155.000</td>\n",
       "      <td>219.000</td>\n",
       "      <td>242.000</td>\n",
       "      <td>271.000</td>\n",
       "      <td>451.000</td>\n",
       "    </tr>\n",
       "    <tr>\n",
       "      <th>acromialheight</th>\n",
       "      <td>6068.000</td>\n",
       "      <td>1406.161</td>\n",
       "      <td>79.091</td>\n",
       "      <td>1115.000</td>\n",
       "      <td>1350.000</td>\n",
       "      <td>1410.000</td>\n",
       "      <td>1462.000</td>\n",
       "      <td>1683.000</td>\n",
       "    </tr>\n",
       "    <tr>\n",
       "      <th>acromionradialelength</th>\n",
       "      <td>6068.000</td>\n",
       "      <td>327.374</td>\n",
       "      <td>20.720</td>\n",
       "      <td>249.000</td>\n",
       "      <td>313.000</td>\n",
       "      <td>328.000</td>\n",
       "      <td>341.250</td>\n",
       "      <td>393.000</td>\n",
       "    </tr>\n",
       "    <tr>\n",
       "      <th>...</th>\n",
       "      <td>...</td>\n",
       "      <td>...</td>\n",
       "      <td>...</td>\n",
       "      <td>...</td>\n",
       "      <td>...</td>\n",
       "      <td>...</td>\n",
       "      <td>...</td>\n",
       "      <td>...</td>\n",
       "    </tr>\n",
       "    <tr>\n",
       "      <th>DODRace</th>\n",
       "      <td>6068.000</td>\n",
       "      <td>1.615</td>\n",
       "      <td>0.979</td>\n",
       "      <td>1.000</td>\n",
       "      <td>1.000</td>\n",
       "      <td>1.000</td>\n",
       "      <td>2.000</td>\n",
       "      <td>8.000</td>\n",
       "    </tr>\n",
       "    <tr>\n",
       "      <th>Age</th>\n",
       "      <td>6068.000</td>\n",
       "      <td>29.761</td>\n",
       "      <td>8.675</td>\n",
       "      <td>17.000</td>\n",
       "      <td>23.000</td>\n",
       "      <td>28.000</td>\n",
       "      <td>36.000</td>\n",
       "      <td>58.000</td>\n",
       "    </tr>\n",
       "    <tr>\n",
       "      <th>Heightin</th>\n",
       "      <td>6068.000</td>\n",
       "      <td>68.257</td>\n",
       "      <td>3.862</td>\n",
       "      <td>56.000</td>\n",
       "      <td>66.000</td>\n",
       "      <td>68.000</td>\n",
       "      <td>71.000</td>\n",
       "      <td>94.000</td>\n",
       "    </tr>\n",
       "    <tr>\n",
       "      <th>Weightlbs</th>\n",
       "      <td>6068.000</td>\n",
       "      <td>174.750</td>\n",
       "      <td>33.692</td>\n",
       "      <td>0.000</td>\n",
       "      <td>150.000</td>\n",
       "      <td>173.000</td>\n",
       "      <td>196.000</td>\n",
       "      <td>321.000</td>\n",
       "    </tr>\n",
       "    <tr>\n",
       "      <th>SubjectId</th>\n",
       "      <td>1986.000</td>\n",
       "      <td>22306.606</td>\n",
       "      <td>20904.730</td>\n",
       "      <td>10037.000</td>\n",
       "      <td>17667.000</td>\n",
       "      <td>22096.500</td>\n",
       "      <td>26089.750</td>\n",
       "      <td>920103.000</td>\n",
       "    </tr>\n",
       "  </tbody>\n",
       "</table>\n",
       "<p>101 rows × 8 columns</p>\n",
       "</div>"
      ],
      "text/plain": [
       "                                  count      mean       std       min  \\\n",
       "index                          6068.000  1697.499  1133.004     0.000   \n",
       "subjectid                      4082.000 20003.371  6568.435 10027.000   \n",
       "abdominalextensiondepthsitting 6068.000   246.469    37.400   155.000   \n",
       "acromialheight                 6068.000  1406.161    79.091  1115.000   \n",
       "acromionradialelength          6068.000   327.374    20.720   249.000   \n",
       "...                                 ...       ...       ...       ...   \n",
       "DODRace                        6068.000     1.615     0.979     1.000   \n",
       "Age                            6068.000    29.761     8.675    17.000   \n",
       "Heightin                       6068.000    68.257     3.862    56.000   \n",
       "Weightlbs                      6068.000   174.750    33.692     0.000   \n",
       "SubjectId                      1986.000 22306.606 20904.730 10037.000   \n",
       "\n",
       "                                     25%       50%       75%        max  \n",
       "index                            758.000  1516.500  2564.250   4081.000  \n",
       "subjectid                      14270.250 17236.500 27315.750  29452.000  \n",
       "abdominalextensiondepthsitting   219.000   242.000   271.000    451.000  \n",
       "acromialheight                  1350.000  1410.000  1462.000   1683.000  \n",
       "acromionradialelength            313.000   328.000   341.250    393.000  \n",
       "...                                  ...       ...       ...        ...  \n",
       "DODRace                            1.000     1.000     2.000      8.000  \n",
       "Age                               23.000    28.000    36.000     58.000  \n",
       "Heightin                          66.000    68.000    71.000     94.000  \n",
       "Weightlbs                        150.000   173.000   196.000    321.000  \n",
       "SubjectId                      17667.000 22096.500 26089.750 920103.000  \n",
       "\n",
       "[101 rows x 8 columns]"
      ]
     },
     "execution_count": 12,
     "metadata": {},
     "output_type": "execute_result"
    }
   ],
   "source": [
    "df_2.describe().T"
   ]
  },
  {
   "cell_type": "code",
   "execution_count": 13,
   "metadata": {},
   "outputs": [
    {
     "data": {
      "text/plain": [
       "0"
      ]
     },
     "execution_count": 13,
     "metadata": {},
     "output_type": "execute_result"
    }
   ],
   "source": [
    "#checking if there is any duplicated values\n",
    "df_2.duplicated().sum()\n",
    "#No duplicated values here"
   ]
  },
  {
   "cell_type": "code",
   "execution_count": 14,
   "metadata": {},
   "outputs": [
    {
     "data": {
      "text/plain": [
       "index                                0\n",
       "subjectid                         1986\n",
       "abdominalextensiondepthsitting       0\n",
       "acromialheight                       0\n",
       "acromionradialelength                0\n",
       "                                  ... \n",
       "Age                                  0\n",
       "Heightin                             0\n",
       "Weightlbs                            0\n",
       "WritingPreference                    0\n",
       "SubjectId                         4082\n",
       "Length: 110, dtype: int64"
      ]
     },
     "execution_count": 14,
     "metadata": {},
     "output_type": "execute_result"
    }
   ],
   "source": [
    "df_2.isnull().sum()\n",
    "#As we can see there are some null values from the columns (SubjectId, subjectid, Ethnicity)\n",
    "#So, i will delet them"
   ]
  },
  {
   "cell_type": "code",
   "execution_count": 15,
   "metadata": {},
   "outputs": [
    {
     "data": {
      "text/plain": [
       "Index(['index', 'subjectid', 'abdominalextensiondepthsitting',\n",
       "       'acromialheight', 'acromionradialelength', 'anklecircumference',\n",
       "       'axillaheight', 'balloffootcircumference', 'balloffootlength',\n",
       "       'biacromialbreadth',\n",
       "       ...\n",
       "       'PrimaryMOS', 'SubjectsBirthLocation', 'SubjectNumericRace',\n",
       "       'Ethnicity', 'DODRace', 'Age', 'Heightin', 'Weightlbs',\n",
       "       'WritingPreference', 'SubjectId'],\n",
       "      dtype='object', length=110)"
      ]
     },
     "execution_count": 15,
     "metadata": {},
     "output_type": "execute_result"
    }
   ],
   "source": [
    "df_2.columns"
   ]
  },
  {
   "cell_type": "code",
   "execution_count": 16,
   "metadata": {
    "colab": {
     "base_uri": "https://localhost:8080/",
     "height": 17
    },
    "hidden": true,
    "id": "SnlGRPWbrNAj",
    "outputId": "29ed8227-1450-4213-e9d1-a2953167d415"
   },
   "outputs": [],
   "source": [
    "#Deleting unnecessary colums\n",
    "df_2.drop(columns=['index','Ethnicity','Component', \"subjectid\",'PrimaryMOS', 'SubjectNumericRace','Heightin','Installation', 'Branch', 'Weightlbs', \"SubjectId\", \"Date\"],inplace=True)\n"
   ]
  },
  {
   "cell_type": "code",
   "execution_count": 17,
   "metadata": {},
   "outputs": [
    {
     "data": {
      "text/plain": [
       "(6068, 98)"
      ]
     },
     "execution_count": 17,
     "metadata": {},
     "output_type": "execute_result"
    }
   ],
   "source": [
    "df_2.shape"
   ]
  },
  {
   "cell_type": "code",
   "execution_count": 18,
   "metadata": {},
   "outputs": [
    {
     "data": {
      "text/html": [
       "<div>\n",
       "<style scoped>\n",
       "    .dataframe tbody tr th:only-of-type {\n",
       "        vertical-align: middle;\n",
       "    }\n",
       "\n",
       "    .dataframe tbody tr th {\n",
       "        vertical-align: top;\n",
       "    }\n",
       "\n",
       "    .dataframe thead th {\n",
       "        text-align: right;\n",
       "    }\n",
       "</style>\n",
       "<table border=\"1\" class=\"dataframe\">\n",
       "  <thead>\n",
       "    <tr style=\"text-align: right;\">\n",
       "      <th></th>\n",
       "      <th>abdominalextensiondepthsitting</th>\n",
       "      <th>acromialheight</th>\n",
       "      <th>acromionradialelength</th>\n",
       "      <th>anklecircumference</th>\n",
       "      <th>axillaheight</th>\n",
       "      <th>balloffootcircumference</th>\n",
       "      <th>balloffootlength</th>\n",
       "      <th>biacromialbreadth</th>\n",
       "      <th>bicepscircumferenceflexed</th>\n",
       "      <th>bicristalbreadth</th>\n",
       "      <th>...</th>\n",
       "      <th>waistfrontlengthsitting</th>\n",
       "      <th>waistheightomphalion</th>\n",
       "      <th>weightkg</th>\n",
       "      <th>wristcircumference</th>\n",
       "      <th>wristheight</th>\n",
       "      <th>Gender</th>\n",
       "      <th>SubjectsBirthLocation</th>\n",
       "      <th>DODRace</th>\n",
       "      <th>Age</th>\n",
       "      <th>WritingPreference</th>\n",
       "    </tr>\n",
       "  </thead>\n",
       "  <tbody>\n",
       "    <tr>\n",
       "      <th>0</th>\n",
       "      <td>266</td>\n",
       "      <td>1467</td>\n",
       "      <td>337</td>\n",
       "      <td>222</td>\n",
       "      <td>1347</td>\n",
       "      <td>253</td>\n",
       "      <td>202</td>\n",
       "      <td>401</td>\n",
       "      <td>369</td>\n",
       "      <td>274</td>\n",
       "      <td>...</td>\n",
       "      <td>440</td>\n",
       "      <td>1054</td>\n",
       "      <td>815</td>\n",
       "      <td>175</td>\n",
       "      <td>853</td>\n",
       "      <td>Male</td>\n",
       "      <td>North Dakota</td>\n",
       "      <td>1</td>\n",
       "      <td>41</td>\n",
       "      <td>Right hand</td>\n",
       "    </tr>\n",
       "    <tr>\n",
       "      <th>1</th>\n",
       "      <td>233</td>\n",
       "      <td>1395</td>\n",
       "      <td>326</td>\n",
       "      <td>220</td>\n",
       "      <td>1293</td>\n",
       "      <td>245</td>\n",
       "      <td>193</td>\n",
       "      <td>394</td>\n",
       "      <td>338</td>\n",
       "      <td>257</td>\n",
       "      <td>...</td>\n",
       "      <td>371</td>\n",
       "      <td>1054</td>\n",
       "      <td>726</td>\n",
       "      <td>167</td>\n",
       "      <td>815</td>\n",
       "      <td>Male</td>\n",
       "      <td>New York</td>\n",
       "      <td>1</td>\n",
       "      <td>35</td>\n",
       "      <td>Left hand</td>\n",
       "    </tr>\n",
       "    <tr>\n",
       "      <th>2</th>\n",
       "      <td>287</td>\n",
       "      <td>1430</td>\n",
       "      <td>341</td>\n",
       "      <td>230</td>\n",
       "      <td>1327</td>\n",
       "      <td>256</td>\n",
       "      <td>196</td>\n",
       "      <td>427</td>\n",
       "      <td>408</td>\n",
       "      <td>261</td>\n",
       "      <td>...</td>\n",
       "      <td>411</td>\n",
       "      <td>1041</td>\n",
       "      <td>929</td>\n",
       "      <td>180</td>\n",
       "      <td>831</td>\n",
       "      <td>Male</td>\n",
       "      <td>New York</td>\n",
       "      <td>2</td>\n",
       "      <td>42</td>\n",
       "      <td>Left hand</td>\n",
       "    </tr>\n",
       "    <tr>\n",
       "      <th>3</th>\n",
       "      <td>234</td>\n",
       "      <td>1347</td>\n",
       "      <td>310</td>\n",
       "      <td>230</td>\n",
       "      <td>1239</td>\n",
       "      <td>262</td>\n",
       "      <td>199</td>\n",
       "      <td>401</td>\n",
       "      <td>359</td>\n",
       "      <td>262</td>\n",
       "      <td>...</td>\n",
       "      <td>399</td>\n",
       "      <td>968</td>\n",
       "      <td>794</td>\n",
       "      <td>176</td>\n",
       "      <td>793</td>\n",
       "      <td>Male</td>\n",
       "      <td>Wisconsin</td>\n",
       "      <td>1</td>\n",
       "      <td>31</td>\n",
       "      <td>Right hand</td>\n",
       "    </tr>\n",
       "    <tr>\n",
       "      <th>4</th>\n",
       "      <td>250</td>\n",
       "      <td>1585</td>\n",
       "      <td>372</td>\n",
       "      <td>247</td>\n",
       "      <td>1478</td>\n",
       "      <td>267</td>\n",
       "      <td>224</td>\n",
       "      <td>435</td>\n",
       "      <td>356</td>\n",
       "      <td>263</td>\n",
       "      <td>...</td>\n",
       "      <td>379</td>\n",
       "      <td>1245</td>\n",
       "      <td>946</td>\n",
       "      <td>188</td>\n",
       "      <td>954</td>\n",
       "      <td>Male</td>\n",
       "      <td>North Carolina</td>\n",
       "      <td>2</td>\n",
       "      <td>21</td>\n",
       "      <td>Right hand</td>\n",
       "    </tr>\n",
       "  </tbody>\n",
       "</table>\n",
       "<p>5 rows × 98 columns</p>\n",
       "</div>"
      ],
      "text/plain": [
       "   abdominalextensiondepthsitting  acromialheight  acromionradialelength  \\\n",
       "0                             266            1467                    337   \n",
       "1                             233            1395                    326   \n",
       "2                             287            1430                    341   \n",
       "3                             234            1347                    310   \n",
       "4                             250            1585                    372   \n",
       "\n",
       "   anklecircumference  axillaheight  balloffootcircumference  \\\n",
       "0                 222          1347                      253   \n",
       "1                 220          1293                      245   \n",
       "2                 230          1327                      256   \n",
       "3                 230          1239                      262   \n",
       "4                 247          1478                      267   \n",
       "\n",
       "   balloffootlength  biacromialbreadth  bicepscircumferenceflexed  \\\n",
       "0               202                401                        369   \n",
       "1               193                394                        338   \n",
       "2               196                427                        408   \n",
       "3               199                401                        359   \n",
       "4               224                435                        356   \n",
       "\n",
       "   bicristalbreadth  ...  waistfrontlengthsitting  waistheightomphalion  \\\n",
       "0               274  ...                      440                  1054   \n",
       "1               257  ...                      371                  1054   \n",
       "2               261  ...                      411                  1041   \n",
       "3               262  ...                      399                   968   \n",
       "4               263  ...                      379                  1245   \n",
       "\n",
       "   weightkg  wristcircumference  wristheight  Gender  SubjectsBirthLocation  \\\n",
       "0       815                 175          853    Male           North Dakota   \n",
       "1       726                 167          815    Male               New York   \n",
       "2       929                 180          831    Male               New York   \n",
       "3       794                 176          793    Male              Wisconsin   \n",
       "4       946                 188          954    Male         North Carolina   \n",
       "\n",
       "   DODRace  Age  WritingPreference  \n",
       "0        1   41         Right hand  \n",
       "1        1   35          Left hand  \n",
       "2        2   42          Left hand  \n",
       "3        1   31         Right hand  \n",
       "4        2   21         Right hand  \n",
       "\n",
       "[5 rows x 98 columns]"
      ]
     },
     "execution_count": 18,
     "metadata": {},
     "output_type": "execute_result"
    }
   ],
   "source": [
    "df_2.head()"
   ]
  },
  {
   "cell_type": "markdown",
   "metadata": {},
   "source": [
    "### Droping DODRace class if value count below 500 (we assume that our data model can't learn if it is below 500)"
   ]
  },
  {
   "cell_type": "code",
   "execution_count": 19,
   "metadata": {},
   "outputs": [
    {
     "data": {
      "text/plain": [
       "DODRace\n",
       "1    3792\n",
       "2    1298\n",
       "3     679\n",
       "4     188\n",
       "6      59\n",
       "5      49\n",
       "8       3\n",
       "Name: count, dtype: int64"
      ]
     },
     "execution_count": 19,
     "metadata": {},
     "output_type": "execute_result"
    }
   ],
   "source": [
    "df_2.DODRace.value_counts().head(10)"
   ]
  },
  {
   "cell_type": "code",
   "execution_count": 20,
   "metadata": {},
   "outputs": [],
   "source": [
    "drop = df_2.DODRace.value_counts()[df_2.DODRace.value_counts() <= 500].index"
   ]
  },
  {
   "cell_type": "code",
   "execution_count": 21,
   "metadata": {},
   "outputs": [
    {
     "data": {
      "text/plain": [
       "Index([4, 6, 5, 8], dtype='int64', name='DODRace')"
      ]
     },
     "execution_count": 21,
     "metadata": {},
     "output_type": "execute_result"
    }
   ],
   "source": [
    "drop"
   ]
  },
  {
   "cell_type": "code",
   "execution_count": 22,
   "metadata": {},
   "outputs": [],
   "source": [
    "for i in drop:\n",
    "    column_index = df_2[df_2['DODRace'] == i].index\n",
    "    df_2.drop(column_index, inplace=True)\n",
    "    \n",
    "df_2.reset_index(drop=True, inplace=True)"
   ]
  },
  {
   "cell_type": "code",
   "execution_count": 23,
   "metadata": {},
   "outputs": [
    {
     "data": {
      "text/plain": [
       "DODRace\n",
       "1    3792\n",
       "2    1298\n",
       "3     679\n",
       "Name: count, dtype: int64"
      ]
     },
     "execution_count": 23,
     "metadata": {},
     "output_type": "execute_result"
    }
   ],
   "source": [
    "df_2.DODRace.value_counts().head(10)"
   ]
  },
  {
   "cell_type": "code",
   "execution_count": 24,
   "metadata": {},
   "outputs": [
    {
     "data": {
      "text/plain": [
       "Index([], dtype='int64', name='DODRace')"
      ]
     },
     "execution_count": 24,
     "metadata": {},
     "output_type": "execute_result"
    }
   ],
   "source": [
    "drop = df_2.DODRace.value_counts()[df_2.DODRace.value_counts() <= 500].index\n",
    "drop"
   ]
  },
  {
   "cell_type": "code",
   "execution_count": 25,
   "metadata": {},
   "outputs": [
    {
     "data": {
      "text/plain": [
       "(5769, 98)"
      ]
     },
     "execution_count": 25,
     "metadata": {},
     "output_type": "execute_result"
    }
   ],
   "source": [
    "df_2.shape"
   ]
  },
  {
   "cell_type": "code",
   "execution_count": 26,
   "metadata": {},
   "outputs": [
    {
     "data": {
      "text/plain": [
       "True"
      ]
     },
     "execution_count": 26,
     "metadata": {},
     "output_type": "execute_result"
    }
   ],
   "source": [
    "df_2.corr(numeric_only=True)[(abs(df_2.corr(numeric_only=True)) >= 0.9) & (abs(df_2.corr(numeric_only=True)) < 1)].any().any()"
   ]
  },
  {
   "cell_type": "code",
   "execution_count": 27,
   "metadata": {},
   "outputs": [
    {
     "data": {
      "text/plain": [
       "Index(['abdominalextensiondepthsitting', 'acromialheight',\n",
       "       'acromionradialelength', 'anklecircumference', 'axillaheight',\n",
       "       'balloffootcircumference', 'balloffootlength', 'biacromialbreadth',\n",
       "       'bicepscircumferenceflexed', 'bicristalbreadth', 'bideltoidbreadth',\n",
       "       'bimalleolarbreadth', 'bitragionchinarc', 'bitragionsubmandibulararc',\n",
       "       'bizygomaticbreadth', 'buttockcircumference', 'buttockdepth',\n",
       "       'buttockheight', 'buttockkneelength', 'buttockpopliteallength',\n",
       "       'calfcircumference', 'cervicaleheight', 'chestbreadth',\n",
       "       'chestcircumference', 'chestdepth', 'chestheight', 'crotchheight',\n",
       "       'crotchlengthomphalion', 'crotchlengthposterioromphalion', 'earbreadth',\n",
       "       'earlength', 'earprotrusion', 'elbowrestheight', 'eyeheightsitting',\n",
       "       'footbreadthhorizontal', 'footlength', 'forearmcenterofgriplength',\n",
       "       'forearmcircumferenceflexed', 'forearmforearmbreadth',\n",
       "       'forearmhandlength', 'functionalleglength', 'handbreadth',\n",
       "       'handcircumference', 'handlength', 'headbreadth', 'headcircumference',\n",
       "       'headlength', 'heelanklecircumference', 'heelbreadth', 'hipbreadth',\n",
       "       'hipbreadthsitting', 'iliocristaleheight', 'interpupillarybreadth',\n",
       "       'interscyei', 'interscyeii', 'kneeheightmidpatella',\n",
       "       'kneeheightsitting', 'lateralfemoralepicondyleheight',\n",
       "       'lateralmalleolusheight', 'lowerthighcircumference',\n",
       "       'mentonsellionlength', 'neckcircumference', 'neckcircumferencebase',\n",
       "       'overheadfingertipreachsitting', 'palmlength', 'poplitealheight',\n",
       "       'radialestylionlength', 'shouldercircumference', 'shoulderelbowlength',\n",
       "       'shoulderlength', 'sittingheight', 'sleevelengthspinewrist',\n",
       "       'sleeveoutseam', 'span', 'stature', 'suprasternaleheight',\n",
       "       'tenthribheight', 'thighcircumference', 'thighclearance',\n",
       "       'thumbtipreach', 'tibialheight', 'tragiontopofhead',\n",
       "       'trochanterionheight', 'verticaltrunkcircumferenceusa',\n",
       "       'waistbacklength', 'waistbreadth', 'waistcircumference', 'waistdepth',\n",
       "       'waistfrontlengthsitting', 'waistheightomphalion', 'weightkg',\n",
       "       'wristcircumference', 'wristheight', 'DODRace', 'Age'],\n",
       "      dtype='object')"
      ]
     },
     "execution_count": 27,
     "metadata": {},
     "output_type": "execute_result"
    }
   ],
   "source": [
    "df_2.corr(numeric_only=True)[(abs(df_2.corr(numeric_only=True)) >= 0.9) & (abs(df_2.corr(numeric_only=True)) < 1)].index"
   ]
  },
  {
   "cell_type": "markdown",
   "metadata": {
    "heading_collapsed": true,
    "id": "CS5-GZy0sl4s"
   },
   "source": [
    "# DATA Preprocessing\n",
    "- In this step we divide our data to X(Features) and y(Target) then ,\n",
    "- To train and evaluation purposes we create train and test sets,\n",
    "- Lastly, scale our data if features not in same scale. Why?"
   ]
  },
  {
   "cell_type": "code",
   "execution_count": 28,
   "metadata": {},
   "outputs": [
    {
     "data": {
      "text/html": [
       "<div>\n",
       "<style scoped>\n",
       "    .dataframe tbody tr th:only-of-type {\n",
       "        vertical-align: middle;\n",
       "    }\n",
       "\n",
       "    .dataframe tbody tr th {\n",
       "        vertical-align: top;\n",
       "    }\n",
       "\n",
       "    .dataframe thead th {\n",
       "        text-align: right;\n",
       "    }\n",
       "</style>\n",
       "<table border=\"1\" class=\"dataframe\">\n",
       "  <thead>\n",
       "    <tr style=\"text-align: right;\">\n",
       "      <th></th>\n",
       "      <th>Gender</th>\n",
       "      <th>SubjectsBirthLocation</th>\n",
       "      <th>WritingPreference</th>\n",
       "    </tr>\n",
       "  </thead>\n",
       "  <tbody>\n",
       "    <tr>\n",
       "      <th>0</th>\n",
       "      <td>Male</td>\n",
       "      <td>North Dakota</td>\n",
       "      <td>Right hand</td>\n",
       "    </tr>\n",
       "    <tr>\n",
       "      <th>1</th>\n",
       "      <td>Male</td>\n",
       "      <td>New York</td>\n",
       "      <td>Left hand</td>\n",
       "    </tr>\n",
       "    <tr>\n",
       "      <th>2</th>\n",
       "      <td>Male</td>\n",
       "      <td>New York</td>\n",
       "      <td>Left hand</td>\n",
       "    </tr>\n",
       "    <tr>\n",
       "      <th>3</th>\n",
       "      <td>Male</td>\n",
       "      <td>Wisconsin</td>\n",
       "      <td>Right hand</td>\n",
       "    </tr>\n",
       "    <tr>\n",
       "      <th>4</th>\n",
       "      <td>Male</td>\n",
       "      <td>North Carolina</td>\n",
       "      <td>Right hand</td>\n",
       "    </tr>\n",
       "  </tbody>\n",
       "</table>\n",
       "</div>"
      ],
      "text/plain": [
       "  Gender SubjectsBirthLocation WritingPreference\n",
       "0   Male          North Dakota        Right hand\n",
       "1   Male              New York         Left hand\n",
       "2   Male              New York         Left hand\n",
       "3   Male             Wisconsin        Right hand\n",
       "4   Male        North Carolina        Right hand"
      ]
     },
     "execution_count": 28,
     "metadata": {},
     "output_type": "execute_result"
    }
   ],
   "source": [
    "df_2.select_dtypes('O').head()"
   ]
  },
  {
   "cell_type": "code",
   "execution_count": 29,
   "metadata": {},
   "outputs": [
    {
     "data": {
      "text/plain": [
       "Index(['Gender', 'SubjectsBirthLocation', 'WritingPreference'], dtype='object')"
      ]
     },
     "execution_count": 29,
     "metadata": {},
     "output_type": "execute_result"
    }
   ],
   "source": [
    "df_2.select_dtypes('O').columns"
   ]
  },
  {
   "cell_type": "code",
   "execution_count": 30,
   "metadata": {
    "hidden": true,
    "id": "fr2wgpvk1b7B"
   },
   "outputs": [],
   "source": [
    "objs = ['Gender', 'SubjectsBirthLocation','WritingPreference']\n",
    "\n",
    "trans = make_column_transformer(\n",
    "                        (OneHotEncoder(handle_unknown=\"ignore\", sparse_output=False), objs),\n",
    "                            remainder=MinMaxScaler(),verbose_feature_names_out=False)\n",
    "\n",
    "trans =trans.set_output(transform=\"pandas\")\n"
   ]
  },
  {
   "cell_type": "code",
   "execution_count": 31,
   "metadata": {},
   "outputs": [],
   "source": [
    "df_2[\"DODRace\"] = df_2.DODRace.map(\n",
    "    {\n",
    "        1: \"White\",\n",
    "        2: \"Black\",\n",
    "        3: \"Hispanic\"\n",
    "    }\n",
    ")"
   ]
  },
  {
   "cell_type": "code",
   "execution_count": 32,
   "metadata": {},
   "outputs": [],
   "source": [
    "X = df_2.drop(\"DODRace\", axis=1)\n",
    "y = df_2.DODRace"
   ]
  },
  {
   "cell_type": "code",
   "execution_count": 33,
   "metadata": {},
   "outputs": [
    {
     "data": {
      "text/plain": [
       "0          White\n",
       "1          White\n",
       "2          Black\n",
       "3          White\n",
       "4          Black\n",
       "          ...   \n",
       "5764    Hispanic\n",
       "5765    Hispanic\n",
       "5766       Black\n",
       "5767    Hispanic\n",
       "5768    Hispanic\n",
       "Name: DODRace, Length: 5769, dtype: object"
      ]
     },
     "execution_count": 33,
     "metadata": {},
     "output_type": "execute_result"
    }
   ],
   "source": [
    "y"
   ]
  },
  {
   "cell_type": "code",
   "execution_count": 34,
   "metadata": {},
   "outputs": [
    {
     "data": {
      "text/plain": [
       "(5769, 97)"
      ]
     },
     "execution_count": 34,
     "metadata": {},
     "output_type": "execute_result"
    }
   ],
   "source": [
    "X.shape"
   ]
  },
  {
   "cell_type": "code",
   "execution_count": 35,
   "metadata": {},
   "outputs": [
    {
     "data": {
      "text/plain": [
       "(5769,)"
      ]
     },
     "execution_count": 35,
     "metadata": {},
     "output_type": "execute_result"
    }
   ],
   "source": [
    "y.shape"
   ]
  },
  {
   "cell_type": "code",
   "execution_count": 36,
   "metadata": {},
   "outputs": [
    {
     "data": {
      "text/html": [
       "<div>\n",
       "<style scoped>\n",
       "    .dataframe tbody tr th:only-of-type {\n",
       "        vertical-align: middle;\n",
       "    }\n",
       "\n",
       "    .dataframe tbody tr th {\n",
       "        vertical-align: top;\n",
       "    }\n",
       "\n",
       "    .dataframe thead th {\n",
       "        text-align: right;\n",
       "    }\n",
       "</style>\n",
       "<table border=\"1\" class=\"dataframe\">\n",
       "  <thead>\n",
       "    <tr style=\"text-align: right;\">\n",
       "      <th></th>\n",
       "      <th>abdominalextensiondepthsitting</th>\n",
       "      <th>acromialheight</th>\n",
       "      <th>acromionradialelength</th>\n",
       "      <th>anklecircumference</th>\n",
       "      <th>axillaheight</th>\n",
       "      <th>balloffootcircumference</th>\n",
       "      <th>balloffootlength</th>\n",
       "      <th>biacromialbreadth</th>\n",
       "      <th>bicepscircumferenceflexed</th>\n",
       "      <th>bicristalbreadth</th>\n",
       "      <th>...</th>\n",
       "      <th>waistdepth</th>\n",
       "      <th>waistfrontlengthsitting</th>\n",
       "      <th>waistheightomphalion</th>\n",
       "      <th>weightkg</th>\n",
       "      <th>wristcircumference</th>\n",
       "      <th>wristheight</th>\n",
       "      <th>Gender</th>\n",
       "      <th>SubjectsBirthLocation</th>\n",
       "      <th>Age</th>\n",
       "      <th>WritingPreference</th>\n",
       "    </tr>\n",
       "  </thead>\n",
       "  <tbody>\n",
       "    <tr>\n",
       "      <th>0</th>\n",
       "      <td>266</td>\n",
       "      <td>1467</td>\n",
       "      <td>337</td>\n",
       "      <td>222</td>\n",
       "      <td>1347</td>\n",
       "      <td>253</td>\n",
       "      <td>202</td>\n",
       "      <td>401</td>\n",
       "      <td>369</td>\n",
       "      <td>274</td>\n",
       "      <td>...</td>\n",
       "      <td>240</td>\n",
       "      <td>440</td>\n",
       "      <td>1054</td>\n",
       "      <td>815</td>\n",
       "      <td>175</td>\n",
       "      <td>853</td>\n",
       "      <td>Male</td>\n",
       "      <td>North Dakota</td>\n",
       "      <td>41</td>\n",
       "      <td>Right hand</td>\n",
       "    </tr>\n",
       "    <tr>\n",
       "      <th>1</th>\n",
       "      <td>233</td>\n",
       "      <td>1395</td>\n",
       "      <td>326</td>\n",
       "      <td>220</td>\n",
       "      <td>1293</td>\n",
       "      <td>245</td>\n",
       "      <td>193</td>\n",
       "      <td>394</td>\n",
       "      <td>338</td>\n",
       "      <td>257</td>\n",
       "      <td>...</td>\n",
       "      <td>225</td>\n",
       "      <td>371</td>\n",
       "      <td>1054</td>\n",
       "      <td>726</td>\n",
       "      <td>167</td>\n",
       "      <td>815</td>\n",
       "      <td>Male</td>\n",
       "      <td>New York</td>\n",
       "      <td>35</td>\n",
       "      <td>Left hand</td>\n",
       "    </tr>\n",
       "    <tr>\n",
       "      <th>2</th>\n",
       "      <td>287</td>\n",
       "      <td>1430</td>\n",
       "      <td>341</td>\n",
       "      <td>230</td>\n",
       "      <td>1327</td>\n",
       "      <td>256</td>\n",
       "      <td>196</td>\n",
       "      <td>427</td>\n",
       "      <td>408</td>\n",
       "      <td>261</td>\n",
       "      <td>...</td>\n",
       "      <td>255</td>\n",
       "      <td>411</td>\n",
       "      <td>1041</td>\n",
       "      <td>929</td>\n",
       "      <td>180</td>\n",
       "      <td>831</td>\n",
       "      <td>Male</td>\n",
       "      <td>New York</td>\n",
       "      <td>42</td>\n",
       "      <td>Left hand</td>\n",
       "    </tr>\n",
       "    <tr>\n",
       "      <th>3</th>\n",
       "      <td>234</td>\n",
       "      <td>1347</td>\n",
       "      <td>310</td>\n",
       "      <td>230</td>\n",
       "      <td>1239</td>\n",
       "      <td>262</td>\n",
       "      <td>199</td>\n",
       "      <td>401</td>\n",
       "      <td>359</td>\n",
       "      <td>262</td>\n",
       "      <td>...</td>\n",
       "      <td>205</td>\n",
       "      <td>399</td>\n",
       "      <td>968</td>\n",
       "      <td>794</td>\n",
       "      <td>176</td>\n",
       "      <td>793</td>\n",
       "      <td>Male</td>\n",
       "      <td>Wisconsin</td>\n",
       "      <td>31</td>\n",
       "      <td>Right hand</td>\n",
       "    </tr>\n",
       "    <tr>\n",
       "      <th>4</th>\n",
       "      <td>250</td>\n",
       "      <td>1585</td>\n",
       "      <td>372</td>\n",
       "      <td>247</td>\n",
       "      <td>1478</td>\n",
       "      <td>267</td>\n",
       "      <td>224</td>\n",
       "      <td>435</td>\n",
       "      <td>356</td>\n",
       "      <td>263</td>\n",
       "      <td>...</td>\n",
       "      <td>214</td>\n",
       "      <td>379</td>\n",
       "      <td>1245</td>\n",
       "      <td>946</td>\n",
       "      <td>188</td>\n",
       "      <td>954</td>\n",
       "      <td>Male</td>\n",
       "      <td>North Carolina</td>\n",
       "      <td>21</td>\n",
       "      <td>Right hand</td>\n",
       "    </tr>\n",
       "  </tbody>\n",
       "</table>\n",
       "<p>5 rows × 97 columns</p>\n",
       "</div>"
      ],
      "text/plain": [
       "   abdominalextensiondepthsitting  acromialheight  acromionradialelength  \\\n",
       "0                             266            1467                    337   \n",
       "1                             233            1395                    326   \n",
       "2                             287            1430                    341   \n",
       "3                             234            1347                    310   \n",
       "4                             250            1585                    372   \n",
       "\n",
       "   anklecircumference  axillaheight  balloffootcircumference  \\\n",
       "0                 222          1347                      253   \n",
       "1                 220          1293                      245   \n",
       "2                 230          1327                      256   \n",
       "3                 230          1239                      262   \n",
       "4                 247          1478                      267   \n",
       "\n",
       "   balloffootlength  biacromialbreadth  bicepscircumferenceflexed  \\\n",
       "0               202                401                        369   \n",
       "1               193                394                        338   \n",
       "2               196                427                        408   \n",
       "3               199                401                        359   \n",
       "4               224                435                        356   \n",
       "\n",
       "   bicristalbreadth  ...  waistdepth  waistfrontlengthsitting  \\\n",
       "0               274  ...         240                      440   \n",
       "1               257  ...         225                      371   \n",
       "2               261  ...         255                      411   \n",
       "3               262  ...         205                      399   \n",
       "4               263  ...         214                      379   \n",
       "\n",
       "   waistheightomphalion  weightkg  wristcircumference  wristheight  Gender  \\\n",
       "0                  1054       815                 175          853    Male   \n",
       "1                  1054       726                 167          815    Male   \n",
       "2                  1041       929                 180          831    Male   \n",
       "3                   968       794                 176          793    Male   \n",
       "4                  1245       946                 188          954    Male   \n",
       "\n",
       "   SubjectsBirthLocation  Age  WritingPreference  \n",
       "0           North Dakota   41         Right hand  \n",
       "1               New York   35          Left hand  \n",
       "2               New York   42          Left hand  \n",
       "3              Wisconsin   31         Right hand  \n",
       "4         North Carolina   21         Right hand  \n",
       "\n",
       "[5 rows x 97 columns]"
      ]
     },
     "execution_count": 36,
     "metadata": {},
     "output_type": "execute_result"
    }
   ],
   "source": [
    "X.head()"
   ]
  },
  {
   "cell_type": "code",
   "execution_count": 37,
   "metadata": {},
   "outputs": [
    {
     "data": {
      "text/plain": [
       "0    White\n",
       "1    White\n",
       "2    Black\n",
       "3    White\n",
       "4    Black\n",
       "Name: DODRace, dtype: object"
      ]
     },
     "execution_count": 37,
     "metadata": {},
     "output_type": "execute_result"
    }
   ],
   "source": [
    "y.head()"
   ]
  },
  {
   "cell_type": "code",
   "execution_count": 38,
   "metadata": {},
   "outputs": [],
   "source": [
    "X_train, X_test, y_train, y_test = train_test_split(X, y, test_size=0.2, stratify=y, random_state=101)"
   ]
  },
  {
   "cell_type": "code",
   "execution_count": 39,
   "metadata": {},
   "outputs": [
    {
     "data": {
      "text/plain": [
       "(4615, 97)"
      ]
     },
     "execution_count": 39,
     "metadata": {},
     "output_type": "execute_result"
    }
   ],
   "source": [
    "X_train.shape"
   ]
  },
  {
   "cell_type": "code",
   "execution_count": 40,
   "metadata": {},
   "outputs": [
    {
     "data": {
      "text/plain": [
       "(1154, 97)"
      ]
     },
     "execution_count": 40,
     "metadata": {},
     "output_type": "execute_result"
    }
   ],
   "source": [
    "X_test.shape"
   ]
  },
  {
   "cell_type": "code",
   "execution_count": 41,
   "metadata": {},
   "outputs": [
    {
     "data": {
      "text/plain": [
       "(4615,)"
      ]
     },
     "execution_count": 41,
     "metadata": {},
     "output_type": "execute_result"
    }
   ],
   "source": [
    "y_train.shape"
   ]
  },
  {
   "cell_type": "code",
   "execution_count": 42,
   "metadata": {},
   "outputs": [
    {
     "data": {
      "text/plain": [
       "(1154,)"
      ]
     },
     "execution_count": 42,
     "metadata": {},
     "output_type": "execute_result"
    }
   ],
   "source": [
    "y_test.shape"
   ]
  },
  {
   "cell_type": "markdown",
   "metadata": {
    "heading_collapsed": true,
    "id": "zfi_NOw0s2fM"
   },
   "source": [
    "# Modelling\n",
    "- Fit the model with train dataset\n",
    "- Get predict from vanilla model on both train and test sets to examine if there is over/underfitting   \n",
    "- Apply GridseachCV for both hyperparemeter tuning and sanity test of our model.\n",
    "- Use hyperparameters that you find from gridsearch and make final prediction and evaluate the result according to chosen metric."
   ]
  },
  {
   "cell_type": "markdown",
   "metadata": {
    "heading_collapsed": true,
    "hidden": true,
    "id": "N1cviBuh1b7C"
   },
   "source": [
    "## 1. Logistic model"
   ]
  },
  {
   "cell_type": "markdown",
   "metadata": {
    "heading_collapsed": true,
    "hidden": true,
    "id": "0rSJ5hxp1b7C"
   },
   "source": [
    "### Vanilla Logistic Model"
   ]
  },
  {
   "cell_type": "code",
   "execution_count": 43,
   "metadata": {
    "id": "rbKDDck012BS"
   },
   "outputs": [
    {
     "data": {
      "text/html": [
       "<style>#sk-container-id-1 {color: black;}#sk-container-id-1 pre{padding: 0;}#sk-container-id-1 div.sk-toggleable {background-color: white;}#sk-container-id-1 label.sk-toggleable__label {cursor: pointer;display: block;width: 100%;margin-bottom: 0;padding: 0.3em;box-sizing: border-box;text-align: center;}#sk-container-id-1 label.sk-toggleable__label-arrow:before {content: \"▸\";float: left;margin-right: 0.25em;color: #696969;}#sk-container-id-1 label.sk-toggleable__label-arrow:hover:before {color: black;}#sk-container-id-1 div.sk-estimator:hover label.sk-toggleable__label-arrow:before {color: black;}#sk-container-id-1 div.sk-toggleable__content {max-height: 0;max-width: 0;overflow: hidden;text-align: left;background-color: #f0f8ff;}#sk-container-id-1 div.sk-toggleable__content pre {margin: 0.2em;color: black;border-radius: 0.25em;background-color: #f0f8ff;}#sk-container-id-1 input.sk-toggleable__control:checked~div.sk-toggleable__content {max-height: 200px;max-width: 100%;overflow: auto;}#sk-container-id-1 input.sk-toggleable__control:checked~label.sk-toggleable__label-arrow:before {content: \"▾\";}#sk-container-id-1 div.sk-estimator input.sk-toggleable__control:checked~label.sk-toggleable__label {background-color: #d4ebff;}#sk-container-id-1 div.sk-label input.sk-toggleable__control:checked~label.sk-toggleable__label {background-color: #d4ebff;}#sk-container-id-1 input.sk-hidden--visually {border: 0;clip: rect(1px 1px 1px 1px);clip: rect(1px, 1px, 1px, 1px);height: 1px;margin: -1px;overflow: hidden;padding: 0;position: absolute;width: 1px;}#sk-container-id-1 div.sk-estimator {font-family: monospace;background-color: #f0f8ff;border: 1px dotted black;border-radius: 0.25em;box-sizing: border-box;margin-bottom: 0.5em;}#sk-container-id-1 div.sk-estimator:hover {background-color: #d4ebff;}#sk-container-id-1 div.sk-parallel-item::after {content: \"\";width: 100%;border-bottom: 1px solid gray;flex-grow: 1;}#sk-container-id-1 div.sk-label:hover label.sk-toggleable__label {background-color: #d4ebff;}#sk-container-id-1 div.sk-serial::before {content: \"\";position: absolute;border-left: 1px solid gray;box-sizing: border-box;top: 0;bottom: 0;left: 50%;z-index: 0;}#sk-container-id-1 div.sk-serial {display: flex;flex-direction: column;align-items: center;background-color: white;padding-right: 0.2em;padding-left: 0.2em;position: relative;}#sk-container-id-1 div.sk-item {position: relative;z-index: 1;}#sk-container-id-1 div.sk-parallel {display: flex;align-items: stretch;justify-content: center;background-color: white;position: relative;}#sk-container-id-1 div.sk-item::before, #sk-container-id-1 div.sk-parallel-item::before {content: \"\";position: absolute;border-left: 1px solid gray;box-sizing: border-box;top: 0;bottom: 0;left: 50%;z-index: -1;}#sk-container-id-1 div.sk-parallel-item {display: flex;flex-direction: column;z-index: 1;position: relative;background-color: white;}#sk-container-id-1 div.sk-parallel-item:first-child::after {align-self: flex-end;width: 50%;}#sk-container-id-1 div.sk-parallel-item:last-child::after {align-self: flex-start;width: 50%;}#sk-container-id-1 div.sk-parallel-item:only-child::after {width: 0;}#sk-container-id-1 div.sk-dashed-wrapped {border: 1px dashed gray;margin: 0 0.4em 0.5em 0.4em;box-sizing: border-box;padding-bottom: 0.4em;background-color: white;}#sk-container-id-1 div.sk-label label {font-family: monospace;font-weight: bold;display: inline-block;line-height: 1.2em;}#sk-container-id-1 div.sk-label-container {text-align: center;}#sk-container-id-1 div.sk-container {/* jupyter's `normalize.less` sets `[hidden] { display: none; }` but bootstrap.min.css set `[hidden] { display: none !important; }` so we also need the `!important` here to be able to override the default hidden behavior on the sphinx rendered scikit-learn.org. See: https://github.com/scikit-learn/scikit-learn/issues/21755 */display: inline-block !important;position: relative;}#sk-container-id-1 div.sk-text-repr-fallback {display: none;}</style><div id=\"sk-container-id-1\" class=\"sk-top-container\"><div class=\"sk-text-repr-fallback\"><pre>Pipeline(steps=[(&#x27;OneHotEncoder&#x27;,\n",
       "                 ColumnTransformer(remainder=MinMaxScaler(),\n",
       "                                   transformers=[(&#x27;onehotencoder&#x27;,\n",
       "                                                  OneHotEncoder(handle_unknown=&#x27;ignore&#x27;,\n",
       "                                                                sparse_output=False),\n",
       "                                                  [&#x27;Gender&#x27;,\n",
       "                                                   &#x27;SubjectsBirthLocation&#x27;,\n",
       "                                                   &#x27;WritingPreference&#x27;])],\n",
       "                                   verbose_feature_names_out=False)),\n",
       "                (&#x27;logistic&#x27;, LogisticRegression(random_state=101))])</pre><b>In a Jupyter environment, please rerun this cell to show the HTML representation or trust the notebook. <br />On GitHub, the HTML representation is unable to render, please try loading this page with nbviewer.org.</b></div><div class=\"sk-container\" hidden><div class=\"sk-item sk-dashed-wrapped\"><div class=\"sk-label-container\"><div class=\"sk-label sk-toggleable\"><input class=\"sk-toggleable__control sk-hidden--visually\" id=\"sk-estimator-id-1\" type=\"checkbox\" ><label for=\"sk-estimator-id-1\" class=\"sk-toggleable__label sk-toggleable__label-arrow\">Pipeline</label><div class=\"sk-toggleable__content\"><pre>Pipeline(steps=[(&#x27;OneHotEncoder&#x27;,\n",
       "                 ColumnTransformer(remainder=MinMaxScaler(),\n",
       "                                   transformers=[(&#x27;onehotencoder&#x27;,\n",
       "                                                  OneHotEncoder(handle_unknown=&#x27;ignore&#x27;,\n",
       "                                                                sparse_output=False),\n",
       "                                                  [&#x27;Gender&#x27;,\n",
       "                                                   &#x27;SubjectsBirthLocation&#x27;,\n",
       "                                                   &#x27;WritingPreference&#x27;])],\n",
       "                                   verbose_feature_names_out=False)),\n",
       "                (&#x27;logistic&#x27;, LogisticRegression(random_state=101))])</pre></div></div></div><div class=\"sk-serial\"><div class=\"sk-item sk-dashed-wrapped\"><div class=\"sk-label-container\"><div class=\"sk-label sk-toggleable\"><input class=\"sk-toggleable__control sk-hidden--visually\" id=\"sk-estimator-id-2\" type=\"checkbox\" ><label for=\"sk-estimator-id-2\" class=\"sk-toggleable__label sk-toggleable__label-arrow\">OneHotEncoder: ColumnTransformer</label><div class=\"sk-toggleable__content\"><pre>ColumnTransformer(remainder=MinMaxScaler(),\n",
       "                  transformers=[(&#x27;onehotencoder&#x27;,\n",
       "                                 OneHotEncoder(handle_unknown=&#x27;ignore&#x27;,\n",
       "                                               sparse_output=False),\n",
       "                                 [&#x27;Gender&#x27;, &#x27;SubjectsBirthLocation&#x27;,\n",
       "                                  &#x27;WritingPreference&#x27;])],\n",
       "                  verbose_feature_names_out=False)</pre></div></div></div><div class=\"sk-parallel\"><div class=\"sk-parallel-item\"><div class=\"sk-item\"><div class=\"sk-label-container\"><div class=\"sk-label sk-toggleable\"><input class=\"sk-toggleable__control sk-hidden--visually\" id=\"sk-estimator-id-3\" type=\"checkbox\" ><label for=\"sk-estimator-id-3\" class=\"sk-toggleable__label sk-toggleable__label-arrow\">onehotencoder</label><div class=\"sk-toggleable__content\"><pre>[&#x27;Gender&#x27;, &#x27;SubjectsBirthLocation&#x27;, &#x27;WritingPreference&#x27;]</pre></div></div></div><div class=\"sk-serial\"><div class=\"sk-item\"><div class=\"sk-estimator sk-toggleable\"><input class=\"sk-toggleable__control sk-hidden--visually\" id=\"sk-estimator-id-4\" type=\"checkbox\" ><label for=\"sk-estimator-id-4\" class=\"sk-toggleable__label sk-toggleable__label-arrow\">OneHotEncoder</label><div class=\"sk-toggleable__content\"><pre>OneHotEncoder(handle_unknown=&#x27;ignore&#x27;, sparse_output=False)</pre></div></div></div></div></div></div><div class=\"sk-parallel-item\"><div class=\"sk-item\"><div class=\"sk-label-container\"><div class=\"sk-label sk-toggleable\"><input class=\"sk-toggleable__control sk-hidden--visually\" id=\"sk-estimator-id-5\" type=\"checkbox\" ><label for=\"sk-estimator-id-5\" class=\"sk-toggleable__label sk-toggleable__label-arrow\">remainder</label><div class=\"sk-toggleable__content\"><pre>[&#x27;abdominalextensiondepthsitting&#x27;, &#x27;acromialheight&#x27;, &#x27;acromionradialelength&#x27;, &#x27;anklecircumference&#x27;, &#x27;axillaheight&#x27;, &#x27;balloffootcircumference&#x27;, &#x27;balloffootlength&#x27;, &#x27;biacromialbreadth&#x27;, &#x27;bicepscircumferenceflexed&#x27;, &#x27;bicristalbreadth&#x27;, &#x27;bideltoidbreadth&#x27;, &#x27;bimalleolarbreadth&#x27;, &#x27;bitragionchinarc&#x27;, &#x27;bitragionsubmandibulararc&#x27;, &#x27;bizygomaticbreadth&#x27;, &#x27;buttockcircumference&#x27;, &#x27;buttockdepth&#x27;, &#x27;buttockheight&#x27;, &#x27;buttockkneelength&#x27;, &#x27;buttockpopliteallength&#x27;, &#x27;calfcircumference&#x27;, &#x27;cervicaleheight&#x27;, &#x27;chestbreadth&#x27;, &#x27;chestcircumference&#x27;, &#x27;chestdepth&#x27;, &#x27;chestheight&#x27;, &#x27;crotchheight&#x27;, &#x27;crotchlengthomphalion&#x27;, &#x27;crotchlengthposterioromphalion&#x27;, &#x27;earbreadth&#x27;, &#x27;earlength&#x27;, &#x27;earprotrusion&#x27;, &#x27;elbowrestheight&#x27;, &#x27;eyeheightsitting&#x27;, &#x27;footbreadthhorizontal&#x27;, &#x27;footlength&#x27;, &#x27;forearmcenterofgriplength&#x27;, &#x27;forearmcircumferenceflexed&#x27;, &#x27;forearmforearmbreadth&#x27;, &#x27;forearmhandlength&#x27;, &#x27;functionalleglength&#x27;, &#x27;handbreadth&#x27;, &#x27;handcircumference&#x27;, &#x27;handlength&#x27;, &#x27;headbreadth&#x27;, &#x27;headcircumference&#x27;, &#x27;headlength&#x27;, &#x27;heelanklecircumference&#x27;, &#x27;heelbreadth&#x27;, &#x27;hipbreadth&#x27;, &#x27;hipbreadthsitting&#x27;, &#x27;iliocristaleheight&#x27;, &#x27;interpupillarybreadth&#x27;, &#x27;interscyei&#x27;, &#x27;interscyeii&#x27;, &#x27;kneeheightmidpatella&#x27;, &#x27;kneeheightsitting&#x27;, &#x27;lateralfemoralepicondyleheight&#x27;, &#x27;lateralmalleolusheight&#x27;, &#x27;lowerthighcircumference&#x27;, &#x27;mentonsellionlength&#x27;, &#x27;neckcircumference&#x27;, &#x27;neckcircumferencebase&#x27;, &#x27;overheadfingertipreachsitting&#x27;, &#x27;palmlength&#x27;, &#x27;poplitealheight&#x27;, &#x27;radialestylionlength&#x27;, &#x27;shouldercircumference&#x27;, &#x27;shoulderelbowlength&#x27;, &#x27;shoulderlength&#x27;, &#x27;sittingheight&#x27;, &#x27;sleevelengthspinewrist&#x27;, &#x27;sleeveoutseam&#x27;, &#x27;span&#x27;, &#x27;stature&#x27;, &#x27;suprasternaleheight&#x27;, &#x27;tenthribheight&#x27;, &#x27;thighcircumference&#x27;, &#x27;thighclearance&#x27;, &#x27;thumbtipreach&#x27;, &#x27;tibialheight&#x27;, &#x27;tragiontopofhead&#x27;, &#x27;trochanterionheight&#x27;, &#x27;verticaltrunkcircumferenceusa&#x27;, &#x27;waistbacklength&#x27;, &#x27;waistbreadth&#x27;, &#x27;waistcircumference&#x27;, &#x27;waistdepth&#x27;, &#x27;waistfrontlengthsitting&#x27;, &#x27;waistheightomphalion&#x27;, &#x27;weightkg&#x27;, &#x27;wristcircumference&#x27;, &#x27;wristheight&#x27;, &#x27;Age&#x27;]</pre></div></div></div><div class=\"sk-serial\"><div class=\"sk-item\"><div class=\"sk-estimator sk-toggleable\"><input class=\"sk-toggleable__control sk-hidden--visually\" id=\"sk-estimator-id-6\" type=\"checkbox\" ><label for=\"sk-estimator-id-6\" class=\"sk-toggleable__label sk-toggleable__label-arrow\">MinMaxScaler</label><div class=\"sk-toggleable__content\"><pre>MinMaxScaler()</pre></div></div></div></div></div></div></div></div><div class=\"sk-item\"><div class=\"sk-estimator sk-toggleable\"><input class=\"sk-toggleable__control sk-hidden--visually\" id=\"sk-estimator-id-7\" type=\"checkbox\" ><label for=\"sk-estimator-id-7\" class=\"sk-toggleable__label sk-toggleable__label-arrow\">LogisticRegression</label><div class=\"sk-toggleable__content\"><pre>LogisticRegression(random_state=101)</pre></div></div></div></div></div></div></div>"
      ],
      "text/plain": [
       "Pipeline(steps=[('OneHotEncoder',\n",
       "                 ColumnTransformer(remainder=MinMaxScaler(),\n",
       "                                   transformers=[('onehotencoder',\n",
       "                                                  OneHotEncoder(handle_unknown='ignore',\n",
       "                                                                sparse_output=False),\n",
       "                                                  ['Gender',\n",
       "                                                   'SubjectsBirthLocation',\n",
       "                                                   'WritingPreference'])],\n",
       "                                   verbose_feature_names_out=False)),\n",
       "                ('logistic', LogisticRegression(random_state=101))])"
      ]
     },
     "execution_count": 43,
     "metadata": {},
     "output_type": "execute_result"
    }
   ],
   "source": [
    "#Here i will build the model with only random state and see the result\n",
    "operations = [('OneHotEncoder', trans), ('logistic', LogisticRegression(random_state=101))]\n",
    "\n",
    "pipe_model = Pipeline(steps=operations)\n",
    "\n",
    "pipe_model.fit(X_train, y_train)"
   ]
  },
  {
   "cell_type": "code",
   "execution_count": 44,
   "metadata": {},
   "outputs": [
    {
     "name": "stdout",
     "output_type": "stream",
     "text": [
      "Test_Set\n",
      "[[238   4  18]\n",
      " [  6  80  50]\n",
      " [ 11  17 730]]\n",
      "              precision    recall  f1-score   support\n",
      "\n",
      "       Black       0.93      0.92      0.92       260\n",
      "    Hispanic       0.79      0.59      0.68       136\n",
      "       White       0.91      0.96      0.94       758\n",
      "\n",
      "    accuracy                           0.91      1154\n",
      "   macro avg       0.88      0.82      0.85      1154\n",
      "weighted avg       0.90      0.91      0.90      1154\n",
      "\n",
      "\n",
      "Train_Set\n",
      "[[ 953   13   72]\n",
      " [  28  305  210]\n",
      " [  25   50 2959]]\n",
      "              precision    recall  f1-score   support\n",
      "\n",
      "       Black       0.95      0.92      0.93      1038\n",
      "    Hispanic       0.83      0.56      0.67       543\n",
      "       White       0.91      0.98      0.94      3034\n",
      "\n",
      "    accuracy                           0.91      4615\n",
      "   macro avg       0.90      0.82      0.85      4615\n",
      "weighted avg       0.91      0.91      0.91      4615\n",
      "\n"
     ]
    }
   ],
   "source": [
    "eval_metric(pipe_model, X_train, y_train, X_test, y_test)\n",
    "#we can see that there is no overfitting"
   ]
  },
  {
   "cell_type": "code",
   "execution_count": 45,
   "metadata": {},
   "outputs": [
    {
     "data": {
      "text/html": [
       "<style>#sk-container-id-2 {color: black;}#sk-container-id-2 pre{padding: 0;}#sk-container-id-2 div.sk-toggleable {background-color: white;}#sk-container-id-2 label.sk-toggleable__label {cursor: pointer;display: block;width: 100%;margin-bottom: 0;padding: 0.3em;box-sizing: border-box;text-align: center;}#sk-container-id-2 label.sk-toggleable__label-arrow:before {content: \"▸\";float: left;margin-right: 0.25em;color: #696969;}#sk-container-id-2 label.sk-toggleable__label-arrow:hover:before {color: black;}#sk-container-id-2 div.sk-estimator:hover label.sk-toggleable__label-arrow:before {color: black;}#sk-container-id-2 div.sk-toggleable__content {max-height: 0;max-width: 0;overflow: hidden;text-align: left;background-color: #f0f8ff;}#sk-container-id-2 div.sk-toggleable__content pre {margin: 0.2em;color: black;border-radius: 0.25em;background-color: #f0f8ff;}#sk-container-id-2 input.sk-toggleable__control:checked~div.sk-toggleable__content {max-height: 200px;max-width: 100%;overflow: auto;}#sk-container-id-2 input.sk-toggleable__control:checked~label.sk-toggleable__label-arrow:before {content: \"▾\";}#sk-container-id-2 div.sk-estimator input.sk-toggleable__control:checked~label.sk-toggleable__label {background-color: #d4ebff;}#sk-container-id-2 div.sk-label input.sk-toggleable__control:checked~label.sk-toggleable__label {background-color: #d4ebff;}#sk-container-id-2 input.sk-hidden--visually {border: 0;clip: rect(1px 1px 1px 1px);clip: rect(1px, 1px, 1px, 1px);height: 1px;margin: -1px;overflow: hidden;padding: 0;position: absolute;width: 1px;}#sk-container-id-2 div.sk-estimator {font-family: monospace;background-color: #f0f8ff;border: 1px dotted black;border-radius: 0.25em;box-sizing: border-box;margin-bottom: 0.5em;}#sk-container-id-2 div.sk-estimator:hover {background-color: #d4ebff;}#sk-container-id-2 div.sk-parallel-item::after {content: \"\";width: 100%;border-bottom: 1px solid gray;flex-grow: 1;}#sk-container-id-2 div.sk-label:hover label.sk-toggleable__label {background-color: #d4ebff;}#sk-container-id-2 div.sk-serial::before {content: \"\";position: absolute;border-left: 1px solid gray;box-sizing: border-box;top: 0;bottom: 0;left: 50%;z-index: 0;}#sk-container-id-2 div.sk-serial {display: flex;flex-direction: column;align-items: center;background-color: white;padding-right: 0.2em;padding-left: 0.2em;position: relative;}#sk-container-id-2 div.sk-item {position: relative;z-index: 1;}#sk-container-id-2 div.sk-parallel {display: flex;align-items: stretch;justify-content: center;background-color: white;position: relative;}#sk-container-id-2 div.sk-item::before, #sk-container-id-2 div.sk-parallel-item::before {content: \"\";position: absolute;border-left: 1px solid gray;box-sizing: border-box;top: 0;bottom: 0;left: 50%;z-index: -1;}#sk-container-id-2 div.sk-parallel-item {display: flex;flex-direction: column;z-index: 1;position: relative;background-color: white;}#sk-container-id-2 div.sk-parallel-item:first-child::after {align-self: flex-end;width: 50%;}#sk-container-id-2 div.sk-parallel-item:last-child::after {align-self: flex-start;width: 50%;}#sk-container-id-2 div.sk-parallel-item:only-child::after {width: 0;}#sk-container-id-2 div.sk-dashed-wrapped {border: 1px dashed gray;margin: 0 0.4em 0.5em 0.4em;box-sizing: border-box;padding-bottom: 0.4em;background-color: white;}#sk-container-id-2 div.sk-label label {font-family: monospace;font-weight: bold;display: inline-block;line-height: 1.2em;}#sk-container-id-2 div.sk-label-container {text-align: center;}#sk-container-id-2 div.sk-container {/* jupyter's `normalize.less` sets `[hidden] { display: none; }` but bootstrap.min.css set `[hidden] { display: none !important; }` so we also need the `!important` here to be able to override the default hidden behavior on the sphinx rendered scikit-learn.org. See: https://github.com/scikit-learn/scikit-learn/issues/21755 */display: inline-block !important;position: relative;}#sk-container-id-2 div.sk-text-repr-fallback {display: none;}</style><div id=\"sk-container-id-2\" class=\"sk-top-container\"><div class=\"sk-text-repr-fallback\"><pre>Pipeline(steps=[(&#x27;OneHotEncoder&#x27;,\n",
       "                 ColumnTransformer(remainder=MinMaxScaler(),\n",
       "                                   transformers=[(&#x27;onehotencoder&#x27;,\n",
       "                                                  OneHotEncoder(handle_unknown=&#x27;ignore&#x27;,\n",
       "                                                                sparse_output=False),\n",
       "                                                  [&#x27;Gender&#x27;,\n",
       "                                                   &#x27;SubjectsBirthLocation&#x27;,\n",
       "                                                   &#x27;WritingPreference&#x27;])],\n",
       "                                   verbose_feature_names_out=False)),\n",
       "                (&#x27;logistic&#x27;,\n",
       "                 LogisticRegression(class_weight=&#x27;balanced&#x27;,\n",
       "                                    random_state=101))])</pre><b>In a Jupyter environment, please rerun this cell to show the HTML representation or trust the notebook. <br />On GitHub, the HTML representation is unable to render, please try loading this page with nbviewer.org.</b></div><div class=\"sk-container\" hidden><div class=\"sk-item sk-dashed-wrapped\"><div class=\"sk-label-container\"><div class=\"sk-label sk-toggleable\"><input class=\"sk-toggleable__control sk-hidden--visually\" id=\"sk-estimator-id-8\" type=\"checkbox\" ><label for=\"sk-estimator-id-8\" class=\"sk-toggleable__label sk-toggleable__label-arrow\">Pipeline</label><div class=\"sk-toggleable__content\"><pre>Pipeline(steps=[(&#x27;OneHotEncoder&#x27;,\n",
       "                 ColumnTransformer(remainder=MinMaxScaler(),\n",
       "                                   transformers=[(&#x27;onehotencoder&#x27;,\n",
       "                                                  OneHotEncoder(handle_unknown=&#x27;ignore&#x27;,\n",
       "                                                                sparse_output=False),\n",
       "                                                  [&#x27;Gender&#x27;,\n",
       "                                                   &#x27;SubjectsBirthLocation&#x27;,\n",
       "                                                   &#x27;WritingPreference&#x27;])],\n",
       "                                   verbose_feature_names_out=False)),\n",
       "                (&#x27;logistic&#x27;,\n",
       "                 LogisticRegression(class_weight=&#x27;balanced&#x27;,\n",
       "                                    random_state=101))])</pre></div></div></div><div class=\"sk-serial\"><div class=\"sk-item sk-dashed-wrapped\"><div class=\"sk-label-container\"><div class=\"sk-label sk-toggleable\"><input class=\"sk-toggleable__control sk-hidden--visually\" id=\"sk-estimator-id-9\" type=\"checkbox\" ><label for=\"sk-estimator-id-9\" class=\"sk-toggleable__label sk-toggleable__label-arrow\">OneHotEncoder: ColumnTransformer</label><div class=\"sk-toggleable__content\"><pre>ColumnTransformer(remainder=MinMaxScaler(),\n",
       "                  transformers=[(&#x27;onehotencoder&#x27;,\n",
       "                                 OneHotEncoder(handle_unknown=&#x27;ignore&#x27;,\n",
       "                                               sparse_output=False),\n",
       "                                 [&#x27;Gender&#x27;, &#x27;SubjectsBirthLocation&#x27;,\n",
       "                                  &#x27;WritingPreference&#x27;])],\n",
       "                  verbose_feature_names_out=False)</pre></div></div></div><div class=\"sk-parallel\"><div class=\"sk-parallel-item\"><div class=\"sk-item\"><div class=\"sk-label-container\"><div class=\"sk-label sk-toggleable\"><input class=\"sk-toggleable__control sk-hidden--visually\" id=\"sk-estimator-id-10\" type=\"checkbox\" ><label for=\"sk-estimator-id-10\" class=\"sk-toggleable__label sk-toggleable__label-arrow\">onehotencoder</label><div class=\"sk-toggleable__content\"><pre>[&#x27;Gender&#x27;, &#x27;SubjectsBirthLocation&#x27;, &#x27;WritingPreference&#x27;]</pre></div></div></div><div class=\"sk-serial\"><div class=\"sk-item\"><div class=\"sk-estimator sk-toggleable\"><input class=\"sk-toggleable__control sk-hidden--visually\" id=\"sk-estimator-id-11\" type=\"checkbox\" ><label for=\"sk-estimator-id-11\" class=\"sk-toggleable__label sk-toggleable__label-arrow\">OneHotEncoder</label><div class=\"sk-toggleable__content\"><pre>OneHotEncoder(handle_unknown=&#x27;ignore&#x27;, sparse_output=False)</pre></div></div></div></div></div></div><div class=\"sk-parallel-item\"><div class=\"sk-item\"><div class=\"sk-label-container\"><div class=\"sk-label sk-toggleable\"><input class=\"sk-toggleable__control sk-hidden--visually\" id=\"sk-estimator-id-12\" type=\"checkbox\" ><label for=\"sk-estimator-id-12\" class=\"sk-toggleable__label sk-toggleable__label-arrow\">remainder</label><div class=\"sk-toggleable__content\"><pre>[&#x27;abdominalextensiondepthsitting&#x27;, &#x27;acromialheight&#x27;, &#x27;acromionradialelength&#x27;, &#x27;anklecircumference&#x27;, &#x27;axillaheight&#x27;, &#x27;balloffootcircumference&#x27;, &#x27;balloffootlength&#x27;, &#x27;biacromialbreadth&#x27;, &#x27;bicepscircumferenceflexed&#x27;, &#x27;bicristalbreadth&#x27;, &#x27;bideltoidbreadth&#x27;, &#x27;bimalleolarbreadth&#x27;, &#x27;bitragionchinarc&#x27;, &#x27;bitragionsubmandibulararc&#x27;, &#x27;bizygomaticbreadth&#x27;, &#x27;buttockcircumference&#x27;, &#x27;buttockdepth&#x27;, &#x27;buttockheight&#x27;, &#x27;buttockkneelength&#x27;, &#x27;buttockpopliteallength&#x27;, &#x27;calfcircumference&#x27;, &#x27;cervicaleheight&#x27;, &#x27;chestbreadth&#x27;, &#x27;chestcircumference&#x27;, &#x27;chestdepth&#x27;, &#x27;chestheight&#x27;, &#x27;crotchheight&#x27;, &#x27;crotchlengthomphalion&#x27;, &#x27;crotchlengthposterioromphalion&#x27;, &#x27;earbreadth&#x27;, &#x27;earlength&#x27;, &#x27;earprotrusion&#x27;, &#x27;elbowrestheight&#x27;, &#x27;eyeheightsitting&#x27;, &#x27;footbreadthhorizontal&#x27;, &#x27;footlength&#x27;, &#x27;forearmcenterofgriplength&#x27;, &#x27;forearmcircumferenceflexed&#x27;, &#x27;forearmforearmbreadth&#x27;, &#x27;forearmhandlength&#x27;, &#x27;functionalleglength&#x27;, &#x27;handbreadth&#x27;, &#x27;handcircumference&#x27;, &#x27;handlength&#x27;, &#x27;headbreadth&#x27;, &#x27;headcircumference&#x27;, &#x27;headlength&#x27;, &#x27;heelanklecircumference&#x27;, &#x27;heelbreadth&#x27;, &#x27;hipbreadth&#x27;, &#x27;hipbreadthsitting&#x27;, &#x27;iliocristaleheight&#x27;, &#x27;interpupillarybreadth&#x27;, &#x27;interscyei&#x27;, &#x27;interscyeii&#x27;, &#x27;kneeheightmidpatella&#x27;, &#x27;kneeheightsitting&#x27;, &#x27;lateralfemoralepicondyleheight&#x27;, &#x27;lateralmalleolusheight&#x27;, &#x27;lowerthighcircumference&#x27;, &#x27;mentonsellionlength&#x27;, &#x27;neckcircumference&#x27;, &#x27;neckcircumferencebase&#x27;, &#x27;overheadfingertipreachsitting&#x27;, &#x27;palmlength&#x27;, &#x27;poplitealheight&#x27;, &#x27;radialestylionlength&#x27;, &#x27;shouldercircumference&#x27;, &#x27;shoulderelbowlength&#x27;, &#x27;shoulderlength&#x27;, &#x27;sittingheight&#x27;, &#x27;sleevelengthspinewrist&#x27;, &#x27;sleeveoutseam&#x27;, &#x27;span&#x27;, &#x27;stature&#x27;, &#x27;suprasternaleheight&#x27;, &#x27;tenthribheight&#x27;, &#x27;thighcircumference&#x27;, &#x27;thighclearance&#x27;, &#x27;thumbtipreach&#x27;, &#x27;tibialheight&#x27;, &#x27;tragiontopofhead&#x27;, &#x27;trochanterionheight&#x27;, &#x27;verticaltrunkcircumferenceusa&#x27;, &#x27;waistbacklength&#x27;, &#x27;waistbreadth&#x27;, &#x27;waistcircumference&#x27;, &#x27;waistdepth&#x27;, &#x27;waistfrontlengthsitting&#x27;, &#x27;waistheightomphalion&#x27;, &#x27;weightkg&#x27;, &#x27;wristcircumference&#x27;, &#x27;wristheight&#x27;, &#x27;Age&#x27;]</pre></div></div></div><div class=\"sk-serial\"><div class=\"sk-item\"><div class=\"sk-estimator sk-toggleable\"><input class=\"sk-toggleable__control sk-hidden--visually\" id=\"sk-estimator-id-13\" type=\"checkbox\" ><label for=\"sk-estimator-id-13\" class=\"sk-toggleable__label sk-toggleable__label-arrow\">MinMaxScaler</label><div class=\"sk-toggleable__content\"><pre>MinMaxScaler()</pre></div></div></div></div></div></div></div></div><div class=\"sk-item\"><div class=\"sk-estimator sk-toggleable\"><input class=\"sk-toggleable__control sk-hidden--visually\" id=\"sk-estimator-id-14\" type=\"checkbox\" ><label for=\"sk-estimator-id-14\" class=\"sk-toggleable__label sk-toggleable__label-arrow\">LogisticRegression</label><div class=\"sk-toggleable__content\"><pre>LogisticRegression(class_weight=&#x27;balanced&#x27;, random_state=101)</pre></div></div></div></div></div></div></div>"
      ],
      "text/plain": [
       "Pipeline(steps=[('OneHotEncoder',\n",
       "                 ColumnTransformer(remainder=MinMaxScaler(),\n",
       "                                   transformers=[('onehotencoder',\n",
       "                                                  OneHotEncoder(handle_unknown='ignore',\n",
       "                                                                sparse_output=False),\n",
       "                                                  ['Gender',\n",
       "                                                   'SubjectsBirthLocation',\n",
       "                                                   'WritingPreference'])],\n",
       "                                   verbose_feature_names_out=False)),\n",
       "                ('logistic',\n",
       "                 LogisticRegression(class_weight='balanced',\n",
       "                                    random_state=101))])"
      ]
     },
     "execution_count": 45,
     "metadata": {},
     "output_type": "execute_result"
    }
   ],
   "source": [
    "#Here i will build the model with class_weight and  random state and see the result\n",
    "operations = [('OneHotEncoder', trans), ('logistic', LogisticRegression(class_weight=\"balanced\", random_state=101))]\n",
    "\n",
    "pipe_model2 = Pipeline(steps=operations)\n",
    "\n",
    "pipe_model2.fit(X_train, y_train)"
   ]
  },
  {
   "cell_type": "code",
   "execution_count": 46,
   "metadata": {
    "scrolled": true
   },
   "outputs": [
    {
     "name": "stdout",
     "output_type": "stream",
     "text": [
      "Test_Set\n",
      "[[240  13   7]\n",
      " [  4 111  21]\n",
      " [ 26  90 642]]\n",
      "              precision    recall  f1-score   support\n",
      "\n",
      "       Black       0.89      0.92      0.91       260\n",
      "    Hispanic       0.52      0.82      0.63       136\n",
      "       White       0.96      0.85      0.90       758\n",
      "\n",
      "    accuracy                           0.86      1154\n",
      "   macro avg       0.79      0.86      0.81      1154\n",
      "weighted avg       0.89      0.86      0.87      1154\n",
      "\n",
      "\n",
      "Train_Set\n",
      "[[ 971   37   30]\n",
      " [  20  457   66]\n",
      " [  63  355 2616]]\n",
      "              precision    recall  f1-score   support\n",
      "\n",
      "       Black       0.92      0.94      0.93      1038\n",
      "    Hispanic       0.54      0.84      0.66       543\n",
      "       White       0.96      0.86      0.91      3034\n",
      "\n",
      "    accuracy                           0.88      4615\n",
      "   macro avg       0.81      0.88      0.83      4615\n",
      "weighted avg       0.90      0.88      0.88      4615\n",
      "\n"
     ]
    }
   ],
   "source": [
    "eval_metric(pipe_model2, X_train, y_train, X_test, y_test)\n",
    "#we can see that there is no overfitting"
   ]
  },
  {
   "cell_type": "code",
   "execution_count": 47,
   "metadata": {},
   "outputs": [
    {
     "data": {
      "text/html": [
       "<style>#sk-container-id-3 {color: black;}#sk-container-id-3 pre{padding: 0;}#sk-container-id-3 div.sk-toggleable {background-color: white;}#sk-container-id-3 label.sk-toggleable__label {cursor: pointer;display: block;width: 100%;margin-bottom: 0;padding: 0.3em;box-sizing: border-box;text-align: center;}#sk-container-id-3 label.sk-toggleable__label-arrow:before {content: \"▸\";float: left;margin-right: 0.25em;color: #696969;}#sk-container-id-3 label.sk-toggleable__label-arrow:hover:before {color: black;}#sk-container-id-3 div.sk-estimator:hover label.sk-toggleable__label-arrow:before {color: black;}#sk-container-id-3 div.sk-toggleable__content {max-height: 0;max-width: 0;overflow: hidden;text-align: left;background-color: #f0f8ff;}#sk-container-id-3 div.sk-toggleable__content pre {margin: 0.2em;color: black;border-radius: 0.25em;background-color: #f0f8ff;}#sk-container-id-3 input.sk-toggleable__control:checked~div.sk-toggleable__content {max-height: 200px;max-width: 100%;overflow: auto;}#sk-container-id-3 input.sk-toggleable__control:checked~label.sk-toggleable__label-arrow:before {content: \"▾\";}#sk-container-id-3 div.sk-estimator input.sk-toggleable__control:checked~label.sk-toggleable__label {background-color: #d4ebff;}#sk-container-id-3 div.sk-label input.sk-toggleable__control:checked~label.sk-toggleable__label {background-color: #d4ebff;}#sk-container-id-3 input.sk-hidden--visually {border: 0;clip: rect(1px 1px 1px 1px);clip: rect(1px, 1px, 1px, 1px);height: 1px;margin: -1px;overflow: hidden;padding: 0;position: absolute;width: 1px;}#sk-container-id-3 div.sk-estimator {font-family: monospace;background-color: #f0f8ff;border: 1px dotted black;border-radius: 0.25em;box-sizing: border-box;margin-bottom: 0.5em;}#sk-container-id-3 div.sk-estimator:hover {background-color: #d4ebff;}#sk-container-id-3 div.sk-parallel-item::after {content: \"\";width: 100%;border-bottom: 1px solid gray;flex-grow: 1;}#sk-container-id-3 div.sk-label:hover label.sk-toggleable__label {background-color: #d4ebff;}#sk-container-id-3 div.sk-serial::before {content: \"\";position: absolute;border-left: 1px solid gray;box-sizing: border-box;top: 0;bottom: 0;left: 50%;z-index: 0;}#sk-container-id-3 div.sk-serial {display: flex;flex-direction: column;align-items: center;background-color: white;padding-right: 0.2em;padding-left: 0.2em;position: relative;}#sk-container-id-3 div.sk-item {position: relative;z-index: 1;}#sk-container-id-3 div.sk-parallel {display: flex;align-items: stretch;justify-content: center;background-color: white;position: relative;}#sk-container-id-3 div.sk-item::before, #sk-container-id-3 div.sk-parallel-item::before {content: \"\";position: absolute;border-left: 1px solid gray;box-sizing: border-box;top: 0;bottom: 0;left: 50%;z-index: -1;}#sk-container-id-3 div.sk-parallel-item {display: flex;flex-direction: column;z-index: 1;position: relative;background-color: white;}#sk-container-id-3 div.sk-parallel-item:first-child::after {align-self: flex-end;width: 50%;}#sk-container-id-3 div.sk-parallel-item:last-child::after {align-self: flex-start;width: 50%;}#sk-container-id-3 div.sk-parallel-item:only-child::after {width: 0;}#sk-container-id-3 div.sk-dashed-wrapped {border: 1px dashed gray;margin: 0 0.4em 0.5em 0.4em;box-sizing: border-box;padding-bottom: 0.4em;background-color: white;}#sk-container-id-3 div.sk-label label {font-family: monospace;font-weight: bold;display: inline-block;line-height: 1.2em;}#sk-container-id-3 div.sk-label-container {text-align: center;}#sk-container-id-3 div.sk-container {/* jupyter's `normalize.less` sets `[hidden] { display: none; }` but bootstrap.min.css set `[hidden] { display: none !important; }` so we also need the `!important` here to be able to override the default hidden behavior on the sphinx rendered scikit-learn.org. See: https://github.com/scikit-learn/scikit-learn/issues/21755 */display: inline-block !important;position: relative;}#sk-container-id-3 div.sk-text-repr-fallback {display: none;}</style><div id=\"sk-container-id-3\" class=\"sk-top-container\"><div class=\"sk-text-repr-fallback\"><pre>Pipeline(steps=[(&#x27;OneHotEncoder&#x27;,\n",
       "                 ColumnTransformer(remainder=MinMaxScaler(),\n",
       "                                   transformers=[(&#x27;onehotencoder&#x27;,\n",
       "                                                  OneHotEncoder(handle_unknown=&#x27;ignore&#x27;,\n",
       "                                                                sparse_output=False),\n",
       "                                                  [&#x27;Gender&#x27;,\n",
       "                                                   &#x27;SubjectsBirthLocation&#x27;,\n",
       "                                                   &#x27;WritingPreference&#x27;])],\n",
       "                                   verbose_feature_names_out=False)),\n",
       "                (&#x27;logistic&#x27;,\n",
       "                 LogisticRegression(class_weight=&#x27;balanced&#x27;, max_iter=1000,\n",
       "                                    random_state=101))])</pre><b>In a Jupyter environment, please rerun this cell to show the HTML representation or trust the notebook. <br />On GitHub, the HTML representation is unable to render, please try loading this page with nbviewer.org.</b></div><div class=\"sk-container\" hidden><div class=\"sk-item sk-dashed-wrapped\"><div class=\"sk-label-container\"><div class=\"sk-label sk-toggleable\"><input class=\"sk-toggleable__control sk-hidden--visually\" id=\"sk-estimator-id-15\" type=\"checkbox\" ><label for=\"sk-estimator-id-15\" class=\"sk-toggleable__label sk-toggleable__label-arrow\">Pipeline</label><div class=\"sk-toggleable__content\"><pre>Pipeline(steps=[(&#x27;OneHotEncoder&#x27;,\n",
       "                 ColumnTransformer(remainder=MinMaxScaler(),\n",
       "                                   transformers=[(&#x27;onehotencoder&#x27;,\n",
       "                                                  OneHotEncoder(handle_unknown=&#x27;ignore&#x27;,\n",
       "                                                                sparse_output=False),\n",
       "                                                  [&#x27;Gender&#x27;,\n",
       "                                                   &#x27;SubjectsBirthLocation&#x27;,\n",
       "                                                   &#x27;WritingPreference&#x27;])],\n",
       "                                   verbose_feature_names_out=False)),\n",
       "                (&#x27;logistic&#x27;,\n",
       "                 LogisticRegression(class_weight=&#x27;balanced&#x27;, max_iter=1000,\n",
       "                                    random_state=101))])</pre></div></div></div><div class=\"sk-serial\"><div class=\"sk-item sk-dashed-wrapped\"><div class=\"sk-label-container\"><div class=\"sk-label sk-toggleable\"><input class=\"sk-toggleable__control sk-hidden--visually\" id=\"sk-estimator-id-16\" type=\"checkbox\" ><label for=\"sk-estimator-id-16\" class=\"sk-toggleable__label sk-toggleable__label-arrow\">OneHotEncoder: ColumnTransformer</label><div class=\"sk-toggleable__content\"><pre>ColumnTransformer(remainder=MinMaxScaler(),\n",
       "                  transformers=[(&#x27;onehotencoder&#x27;,\n",
       "                                 OneHotEncoder(handle_unknown=&#x27;ignore&#x27;,\n",
       "                                               sparse_output=False),\n",
       "                                 [&#x27;Gender&#x27;, &#x27;SubjectsBirthLocation&#x27;,\n",
       "                                  &#x27;WritingPreference&#x27;])],\n",
       "                  verbose_feature_names_out=False)</pre></div></div></div><div class=\"sk-parallel\"><div class=\"sk-parallel-item\"><div class=\"sk-item\"><div class=\"sk-label-container\"><div class=\"sk-label sk-toggleable\"><input class=\"sk-toggleable__control sk-hidden--visually\" id=\"sk-estimator-id-17\" type=\"checkbox\" ><label for=\"sk-estimator-id-17\" class=\"sk-toggleable__label sk-toggleable__label-arrow\">onehotencoder</label><div class=\"sk-toggleable__content\"><pre>[&#x27;Gender&#x27;, &#x27;SubjectsBirthLocation&#x27;, &#x27;WritingPreference&#x27;]</pre></div></div></div><div class=\"sk-serial\"><div class=\"sk-item\"><div class=\"sk-estimator sk-toggleable\"><input class=\"sk-toggleable__control sk-hidden--visually\" id=\"sk-estimator-id-18\" type=\"checkbox\" ><label for=\"sk-estimator-id-18\" class=\"sk-toggleable__label sk-toggleable__label-arrow\">OneHotEncoder</label><div class=\"sk-toggleable__content\"><pre>OneHotEncoder(handle_unknown=&#x27;ignore&#x27;, sparse_output=False)</pre></div></div></div></div></div></div><div class=\"sk-parallel-item\"><div class=\"sk-item\"><div class=\"sk-label-container\"><div class=\"sk-label sk-toggleable\"><input class=\"sk-toggleable__control sk-hidden--visually\" id=\"sk-estimator-id-19\" type=\"checkbox\" ><label for=\"sk-estimator-id-19\" class=\"sk-toggleable__label sk-toggleable__label-arrow\">remainder</label><div class=\"sk-toggleable__content\"><pre>[&#x27;abdominalextensiondepthsitting&#x27;, &#x27;acromialheight&#x27;, &#x27;acromionradialelength&#x27;, &#x27;anklecircumference&#x27;, &#x27;axillaheight&#x27;, &#x27;balloffootcircumference&#x27;, &#x27;balloffootlength&#x27;, &#x27;biacromialbreadth&#x27;, &#x27;bicepscircumferenceflexed&#x27;, &#x27;bicristalbreadth&#x27;, &#x27;bideltoidbreadth&#x27;, &#x27;bimalleolarbreadth&#x27;, &#x27;bitragionchinarc&#x27;, &#x27;bitragionsubmandibulararc&#x27;, &#x27;bizygomaticbreadth&#x27;, &#x27;buttockcircumference&#x27;, &#x27;buttockdepth&#x27;, &#x27;buttockheight&#x27;, &#x27;buttockkneelength&#x27;, &#x27;buttockpopliteallength&#x27;, &#x27;calfcircumference&#x27;, &#x27;cervicaleheight&#x27;, &#x27;chestbreadth&#x27;, &#x27;chestcircumference&#x27;, &#x27;chestdepth&#x27;, &#x27;chestheight&#x27;, &#x27;crotchheight&#x27;, &#x27;crotchlengthomphalion&#x27;, &#x27;crotchlengthposterioromphalion&#x27;, &#x27;earbreadth&#x27;, &#x27;earlength&#x27;, &#x27;earprotrusion&#x27;, &#x27;elbowrestheight&#x27;, &#x27;eyeheightsitting&#x27;, &#x27;footbreadthhorizontal&#x27;, &#x27;footlength&#x27;, &#x27;forearmcenterofgriplength&#x27;, &#x27;forearmcircumferenceflexed&#x27;, &#x27;forearmforearmbreadth&#x27;, &#x27;forearmhandlength&#x27;, &#x27;functionalleglength&#x27;, &#x27;handbreadth&#x27;, &#x27;handcircumference&#x27;, &#x27;handlength&#x27;, &#x27;headbreadth&#x27;, &#x27;headcircumference&#x27;, &#x27;headlength&#x27;, &#x27;heelanklecircumference&#x27;, &#x27;heelbreadth&#x27;, &#x27;hipbreadth&#x27;, &#x27;hipbreadthsitting&#x27;, &#x27;iliocristaleheight&#x27;, &#x27;interpupillarybreadth&#x27;, &#x27;interscyei&#x27;, &#x27;interscyeii&#x27;, &#x27;kneeheightmidpatella&#x27;, &#x27;kneeheightsitting&#x27;, &#x27;lateralfemoralepicondyleheight&#x27;, &#x27;lateralmalleolusheight&#x27;, &#x27;lowerthighcircumference&#x27;, &#x27;mentonsellionlength&#x27;, &#x27;neckcircumference&#x27;, &#x27;neckcircumferencebase&#x27;, &#x27;overheadfingertipreachsitting&#x27;, &#x27;palmlength&#x27;, &#x27;poplitealheight&#x27;, &#x27;radialestylionlength&#x27;, &#x27;shouldercircumference&#x27;, &#x27;shoulderelbowlength&#x27;, &#x27;shoulderlength&#x27;, &#x27;sittingheight&#x27;, &#x27;sleevelengthspinewrist&#x27;, &#x27;sleeveoutseam&#x27;, &#x27;span&#x27;, &#x27;stature&#x27;, &#x27;suprasternaleheight&#x27;, &#x27;tenthribheight&#x27;, &#x27;thighcircumference&#x27;, &#x27;thighclearance&#x27;, &#x27;thumbtipreach&#x27;, &#x27;tibialheight&#x27;, &#x27;tragiontopofhead&#x27;, &#x27;trochanterionheight&#x27;, &#x27;verticaltrunkcircumferenceusa&#x27;, &#x27;waistbacklength&#x27;, &#x27;waistbreadth&#x27;, &#x27;waistcircumference&#x27;, &#x27;waistdepth&#x27;, &#x27;waistfrontlengthsitting&#x27;, &#x27;waistheightomphalion&#x27;, &#x27;weightkg&#x27;, &#x27;wristcircumference&#x27;, &#x27;wristheight&#x27;, &#x27;Age&#x27;]</pre></div></div></div><div class=\"sk-serial\"><div class=\"sk-item\"><div class=\"sk-estimator sk-toggleable\"><input class=\"sk-toggleable__control sk-hidden--visually\" id=\"sk-estimator-id-20\" type=\"checkbox\" ><label for=\"sk-estimator-id-20\" class=\"sk-toggleable__label sk-toggleable__label-arrow\">MinMaxScaler</label><div class=\"sk-toggleable__content\"><pre>MinMaxScaler()</pre></div></div></div></div></div></div></div></div><div class=\"sk-item\"><div class=\"sk-estimator sk-toggleable\"><input class=\"sk-toggleable__control sk-hidden--visually\" id=\"sk-estimator-id-21\" type=\"checkbox\" ><label for=\"sk-estimator-id-21\" class=\"sk-toggleable__label sk-toggleable__label-arrow\">LogisticRegression</label><div class=\"sk-toggleable__content\"><pre>LogisticRegression(class_weight=&#x27;balanced&#x27;, max_iter=1000, random_state=101)</pre></div></div></div></div></div></div></div>"
      ],
      "text/plain": [
       "Pipeline(steps=[('OneHotEncoder',\n",
       "                 ColumnTransformer(remainder=MinMaxScaler(),\n",
       "                                   transformers=[('onehotencoder',\n",
       "                                                  OneHotEncoder(handle_unknown='ignore',\n",
       "                                                                sparse_output=False),\n",
       "                                                  ['Gender',\n",
       "                                                   'SubjectsBirthLocation',\n",
       "                                                   'WritingPreference'])],\n",
       "                                   verbose_feature_names_out=False)),\n",
       "                ('logistic',\n",
       "                 LogisticRegression(class_weight='balanced', max_iter=1000,\n",
       "                                    random_state=101))])"
      ]
     },
     "execution_count": 47,
     "metadata": {},
     "output_type": "execute_result"
    }
   ],
   "source": [
    "#Here i will build the model with class_weight, max_iter and  random state and see the result\n",
    "operations = [('OneHotEncoder', trans), ('logistic', LogisticRegression(class_weight=\"balanced\", \n",
    "                                                                        max_iter=1000, \n",
    "                                                                        random_state=101))]\n",
    "\n",
    "model = Pipeline(steps=operations)\n",
    "\n",
    "model.fit(X_train, y_train)"
   ]
  },
  {
   "cell_type": "code",
   "execution_count": 48,
   "metadata": {
    "scrolled": true
   },
   "outputs": [
    {
     "name": "stdout",
     "output_type": "stream",
     "text": [
      "Test_Set\n",
      "[[239  14   7]\n",
      " [  5 111  20]\n",
      " [ 25  89 644]]\n",
      "              precision    recall  f1-score   support\n",
      "\n",
      "       Black       0.89      0.92      0.90       260\n",
      "    Hispanic       0.52      0.82      0.63       136\n",
      "       White       0.96      0.85      0.90       758\n",
      "\n",
      "    accuracy                           0.86      1154\n",
      "   macro avg       0.79      0.86      0.81      1154\n",
      "weighted avg       0.89      0.86      0.87      1154\n",
      "\n",
      "\n",
      "Train_Set\n",
      "[[ 971   37   30]\n",
      " [  20  456   67]\n",
      " [  57  362 2615]]\n",
      "              precision    recall  f1-score   support\n",
      "\n",
      "       Black       0.93      0.94      0.93      1038\n",
      "    Hispanic       0.53      0.84      0.65       543\n",
      "       White       0.96      0.86      0.91      3034\n",
      "\n",
      "    accuracy                           0.88      4615\n",
      "   macro avg       0.81      0.88      0.83      4615\n",
      "weighted avg       0.91      0.88      0.88      4615\n",
      "\n"
     ]
    }
   ],
   "source": [
    "eval_metric(model, X_train, y_train, X_test, y_test)\n",
    "#we can see that there is no overfitting\n",
    "#Now we are getting better result"
   ]
  },
  {
   "cell_type": "code",
   "execution_count": 50,
   "metadata": {
    "scrolled": true
   },
   "outputs": [
    {
     "data": {
      "text/plain": [
       "test_precision_Hispanic    0.490\n",
       "train_precision_Hispanic   0.533\n",
       "test_recall_Hispanic       0.773\n",
       "train_recall_Hispanic      0.839\n",
       "test_f1_Hispanic           0.599\n",
       "train_f1_Hispanic          0.652\n",
       "dtype: float64"
      ]
     },
     "execution_count": 50,
     "metadata": {},
     "output_type": "execute_result"
    }
   ],
   "source": [
    "#Fore scoring of cross_validate, I should use make scorer for it\n",
    "scoring = {\n",
    "    \"precision_Hispanic\": make_scorer(\n",
    "        precision_score, average=None, labels=[\"Hispanic\"]\n",
    "    ),\n",
    "    \"recall_Hispanic\": make_scorer(recall_score, average=None, labels=[\"Hispanic\"]),\n",
    "    \"f1_Hispanic\": make_scorer(f1_score, average=None, labels=[\"Hispanic\"]),\n",
    "}\n",
    "\n",
    "#For the operations, i will use the last one\n",
    "operations = [('OneHotEncoder', trans), ('logistic', LogisticRegression(class_weight=\"balanced\", \n",
    "                                                                        max_iter=1000, \n",
    "                                                                        random_state=101))]\n",
    "\n",
    "cv_model = Pipeline(steps=operations)\n",
    "#With cross_validate, I should put return_train_score to see the scores later\n",
    "scores = cross_validate(cv_model, X_train, y_train, scoring=scoring, cv=10, n_jobs=-1, return_train_score=True)\n",
    "\n",
    "df_scores = pd.DataFrame(scores, index=range(1,11))\n",
    "\n",
    "df_scores.mean()[2:]\n",
    "\n",
    "#As we can see from the result, the best result we got it from recall, so I will use it for gridSearch"
   ]
  },
  {
   "cell_type": "code",
   "execution_count": 51,
   "metadata": {},
   "outputs": [
    {
     "data": {
      "text/plain": [
       "{'memory': None,\n",
       " 'steps': [('OneHotEncoder',\n",
       "   ColumnTransformer(remainder=MinMaxScaler(),\n",
       "                     transformers=[('onehotencoder',\n",
       "                                    OneHotEncoder(handle_unknown='ignore',\n",
       "                                                  sparse_output=False),\n",
       "                                    ['Gender', 'SubjectsBirthLocation',\n",
       "                                     'WritingPreference'])],\n",
       "                     verbose_feature_names_out=False)),\n",
       "  ('logistic',\n",
       "   LogisticRegression(class_weight='balanced', max_iter=1000, random_state=101))],\n",
       " 'verbose': False,\n",
       " 'OneHotEncoder': ColumnTransformer(remainder=MinMaxScaler(),\n",
       "                   transformers=[('onehotencoder',\n",
       "                                  OneHotEncoder(handle_unknown='ignore',\n",
       "                                                sparse_output=False),\n",
       "                                  ['Gender', 'SubjectsBirthLocation',\n",
       "                                   'WritingPreference'])],\n",
       "                   verbose_feature_names_out=False),\n",
       " 'logistic': LogisticRegression(class_weight='balanced', max_iter=1000, random_state=101),\n",
       " 'OneHotEncoder__n_jobs': None,\n",
       " 'OneHotEncoder__remainder__clip': False,\n",
       " 'OneHotEncoder__remainder__copy': True,\n",
       " 'OneHotEncoder__remainder__feature_range': (0, 1),\n",
       " 'OneHotEncoder__remainder': MinMaxScaler(),\n",
       " 'OneHotEncoder__sparse_threshold': 0.3,\n",
       " 'OneHotEncoder__transformer_weights': None,\n",
       " 'OneHotEncoder__transformers': [('onehotencoder',\n",
       "   OneHotEncoder(handle_unknown='ignore', sparse_output=False),\n",
       "   ['Gender', 'SubjectsBirthLocation', 'WritingPreference'])],\n",
       " 'OneHotEncoder__verbose': False,\n",
       " 'OneHotEncoder__verbose_feature_names_out': False,\n",
       " 'OneHotEncoder__onehotencoder': OneHotEncoder(handle_unknown='ignore', sparse_output=False),\n",
       " 'OneHotEncoder__onehotencoder__categories': 'auto',\n",
       " 'OneHotEncoder__onehotencoder__drop': None,\n",
       " 'OneHotEncoder__onehotencoder__dtype': numpy.float64,\n",
       " 'OneHotEncoder__onehotencoder__feature_name_combiner': 'concat',\n",
       " 'OneHotEncoder__onehotencoder__handle_unknown': 'ignore',\n",
       " 'OneHotEncoder__onehotencoder__max_categories': None,\n",
       " 'OneHotEncoder__onehotencoder__min_frequency': None,\n",
       " 'OneHotEncoder__onehotencoder__sparse': 'deprecated',\n",
       " 'OneHotEncoder__onehotencoder__sparse_output': False,\n",
       " 'logistic__C': 1.0,\n",
       " 'logistic__class_weight': 'balanced',\n",
       " 'logistic__dual': False,\n",
       " 'logistic__fit_intercept': True,\n",
       " 'logistic__intercept_scaling': 1,\n",
       " 'logistic__l1_ratio': None,\n",
       " 'logistic__max_iter': 1000,\n",
       " 'logistic__multi_class': 'auto',\n",
       " 'logistic__n_jobs': None,\n",
       " 'logistic__penalty': 'l2',\n",
       " 'logistic__random_state': 101,\n",
       " 'logistic__solver': 'lbfgs',\n",
       " 'logistic__tol': 0.0001,\n",
       " 'logistic__verbose': 0,\n",
       " 'logistic__warm_start': False}"
      ]
     },
     "execution_count": 51,
     "metadata": {},
     "output_type": "execute_result"
    }
   ],
   "source": [
    "cv_model.get_params()"
   ]
  },
  {
   "cell_type": "markdown",
   "metadata": {
    "heading_collapsed": true,
    "hidden": true,
    "id": "lPelWxsU1b7C"
   },
   "source": [
    "### Logistic Model GridsearchCV"
   ]
  },
  {
   "cell_type": "code",
   "execution_count": 52,
   "metadata": {
    "id": "PNZyqeNY15nP",
    "scrolled": true
   },
   "outputs": [
    {
     "data": {
      "text/html": [
       "<style>#sk-container-id-4 {color: black;}#sk-container-id-4 pre{padding: 0;}#sk-container-id-4 div.sk-toggleable {background-color: white;}#sk-container-id-4 label.sk-toggleable__label {cursor: pointer;display: block;width: 100%;margin-bottom: 0;padding: 0.3em;box-sizing: border-box;text-align: center;}#sk-container-id-4 label.sk-toggleable__label-arrow:before {content: \"▸\";float: left;margin-right: 0.25em;color: #696969;}#sk-container-id-4 label.sk-toggleable__label-arrow:hover:before {color: black;}#sk-container-id-4 div.sk-estimator:hover label.sk-toggleable__label-arrow:before {color: black;}#sk-container-id-4 div.sk-toggleable__content {max-height: 0;max-width: 0;overflow: hidden;text-align: left;background-color: #f0f8ff;}#sk-container-id-4 div.sk-toggleable__content pre {margin: 0.2em;color: black;border-radius: 0.25em;background-color: #f0f8ff;}#sk-container-id-4 input.sk-toggleable__control:checked~div.sk-toggleable__content {max-height: 200px;max-width: 100%;overflow: auto;}#sk-container-id-4 input.sk-toggleable__control:checked~label.sk-toggleable__label-arrow:before {content: \"▾\";}#sk-container-id-4 div.sk-estimator input.sk-toggleable__control:checked~label.sk-toggleable__label {background-color: #d4ebff;}#sk-container-id-4 div.sk-label input.sk-toggleable__control:checked~label.sk-toggleable__label {background-color: #d4ebff;}#sk-container-id-4 input.sk-hidden--visually {border: 0;clip: rect(1px 1px 1px 1px);clip: rect(1px, 1px, 1px, 1px);height: 1px;margin: -1px;overflow: hidden;padding: 0;position: absolute;width: 1px;}#sk-container-id-4 div.sk-estimator {font-family: monospace;background-color: #f0f8ff;border: 1px dotted black;border-radius: 0.25em;box-sizing: border-box;margin-bottom: 0.5em;}#sk-container-id-4 div.sk-estimator:hover {background-color: #d4ebff;}#sk-container-id-4 div.sk-parallel-item::after {content: \"\";width: 100%;border-bottom: 1px solid gray;flex-grow: 1;}#sk-container-id-4 div.sk-label:hover label.sk-toggleable__label {background-color: #d4ebff;}#sk-container-id-4 div.sk-serial::before {content: \"\";position: absolute;border-left: 1px solid gray;box-sizing: border-box;top: 0;bottom: 0;left: 50%;z-index: 0;}#sk-container-id-4 div.sk-serial {display: flex;flex-direction: column;align-items: center;background-color: white;padding-right: 0.2em;padding-left: 0.2em;position: relative;}#sk-container-id-4 div.sk-item {position: relative;z-index: 1;}#sk-container-id-4 div.sk-parallel {display: flex;align-items: stretch;justify-content: center;background-color: white;position: relative;}#sk-container-id-4 div.sk-item::before, #sk-container-id-4 div.sk-parallel-item::before {content: \"\";position: absolute;border-left: 1px solid gray;box-sizing: border-box;top: 0;bottom: 0;left: 50%;z-index: -1;}#sk-container-id-4 div.sk-parallel-item {display: flex;flex-direction: column;z-index: 1;position: relative;background-color: white;}#sk-container-id-4 div.sk-parallel-item:first-child::after {align-self: flex-end;width: 50%;}#sk-container-id-4 div.sk-parallel-item:last-child::after {align-self: flex-start;width: 50%;}#sk-container-id-4 div.sk-parallel-item:only-child::after {width: 0;}#sk-container-id-4 div.sk-dashed-wrapped {border: 1px dashed gray;margin: 0 0.4em 0.5em 0.4em;box-sizing: border-box;padding-bottom: 0.4em;background-color: white;}#sk-container-id-4 div.sk-label label {font-family: monospace;font-weight: bold;display: inline-block;line-height: 1.2em;}#sk-container-id-4 div.sk-label-container {text-align: center;}#sk-container-id-4 div.sk-container {/* jupyter's `normalize.less` sets `[hidden] { display: none; }` but bootstrap.min.css set `[hidden] { display: none !important; }` so we also need the `!important` here to be able to override the default hidden behavior on the sphinx rendered scikit-learn.org. See: https://github.com/scikit-learn/scikit-learn/issues/21755 */display: inline-block !important;position: relative;}#sk-container-id-4 div.sk-text-repr-fallback {display: none;}</style><div id=\"sk-container-id-4\" class=\"sk-top-container\"><div class=\"sk-text-repr-fallback\"><pre>GridSearchCV(cv=10,\n",
       "             estimator=Pipeline(steps=[(&#x27;OneHotEncoder&#x27;,\n",
       "                                        ColumnTransformer(remainder=MinMaxScaler(),\n",
       "                                                          transformers=[(&#x27;onehotencoder&#x27;,\n",
       "                                                                         OneHotEncoder(handle_unknown=&#x27;ignore&#x27;,\n",
       "                                                                                       sparse_output=False),\n",
       "                                                                         [&#x27;Gender&#x27;,\n",
       "                                                                          &#x27;SubjectsBirthLocation&#x27;,\n",
       "                                                                          &#x27;WritingPreference&#x27;])],\n",
       "                                                          verbose_feature_names_out=False)),\n",
       "                                       (&#x27;logistic&#x27;,\n",
       "                                        LogisticRegression(class_weight=&#x27;balanced&#x27;,\n",
       "                                                           max_iter=1000,\n",
       "                                                           random_state=101))]),\n",
       "             n_jobs=-1,\n",
       "             param_grid={&#x27;logistic__C&#x27;: [0.5, 1],\n",
       "                         &#x27;logistic__penalty&#x27;: [&#x27;l1&#x27;, &#x27;l2&#x27;],\n",
       "                         &#x27;logistic__solver&#x27;: [&#x27;liblinear&#x27;, &#x27;lbfgs&#x27;]},\n",
       "             return_train_score=True,\n",
       "             scoring=make_scorer(recall_score, average=None, labels=[&#x27;Hispanic&#x27;]))</pre><b>In a Jupyter environment, please rerun this cell to show the HTML representation or trust the notebook. <br />On GitHub, the HTML representation is unable to render, please try loading this page with nbviewer.org.</b></div><div class=\"sk-container\" hidden><div class=\"sk-item sk-dashed-wrapped\"><div class=\"sk-label-container\"><div class=\"sk-label sk-toggleable\"><input class=\"sk-toggleable__control sk-hidden--visually\" id=\"sk-estimator-id-22\" type=\"checkbox\" ><label for=\"sk-estimator-id-22\" class=\"sk-toggleable__label sk-toggleable__label-arrow\">GridSearchCV</label><div class=\"sk-toggleable__content\"><pre>GridSearchCV(cv=10,\n",
       "             estimator=Pipeline(steps=[(&#x27;OneHotEncoder&#x27;,\n",
       "                                        ColumnTransformer(remainder=MinMaxScaler(),\n",
       "                                                          transformers=[(&#x27;onehotencoder&#x27;,\n",
       "                                                                         OneHotEncoder(handle_unknown=&#x27;ignore&#x27;,\n",
       "                                                                                       sparse_output=False),\n",
       "                                                                         [&#x27;Gender&#x27;,\n",
       "                                                                          &#x27;SubjectsBirthLocation&#x27;,\n",
       "                                                                          &#x27;WritingPreference&#x27;])],\n",
       "                                                          verbose_feature_names_out=False)),\n",
       "                                       (&#x27;logistic&#x27;,\n",
       "                                        LogisticRegression(class_weight=&#x27;balanced&#x27;,\n",
       "                                                           max_iter=1000,\n",
       "                                                           random_state=101))]),\n",
       "             n_jobs=-1,\n",
       "             param_grid={&#x27;logistic__C&#x27;: [0.5, 1],\n",
       "                         &#x27;logistic__penalty&#x27;: [&#x27;l1&#x27;, &#x27;l2&#x27;],\n",
       "                         &#x27;logistic__solver&#x27;: [&#x27;liblinear&#x27;, &#x27;lbfgs&#x27;]},\n",
       "             return_train_score=True,\n",
       "             scoring=make_scorer(recall_score, average=None, labels=[&#x27;Hispanic&#x27;]))</pre></div></div></div><div class=\"sk-parallel\"><div class=\"sk-parallel-item\"><div class=\"sk-item\"><div class=\"sk-label-container\"><div class=\"sk-label sk-toggleable\"><input class=\"sk-toggleable__control sk-hidden--visually\" id=\"sk-estimator-id-23\" type=\"checkbox\" ><label for=\"sk-estimator-id-23\" class=\"sk-toggleable__label sk-toggleable__label-arrow\">estimator: Pipeline</label><div class=\"sk-toggleable__content\"><pre>Pipeline(steps=[(&#x27;OneHotEncoder&#x27;,\n",
       "                 ColumnTransformer(remainder=MinMaxScaler(),\n",
       "                                   transformers=[(&#x27;onehotencoder&#x27;,\n",
       "                                                  OneHotEncoder(handle_unknown=&#x27;ignore&#x27;,\n",
       "                                                                sparse_output=False),\n",
       "                                                  [&#x27;Gender&#x27;,\n",
       "                                                   &#x27;SubjectsBirthLocation&#x27;,\n",
       "                                                   &#x27;WritingPreference&#x27;])],\n",
       "                                   verbose_feature_names_out=False)),\n",
       "                (&#x27;logistic&#x27;,\n",
       "                 LogisticRegression(class_weight=&#x27;balanced&#x27;, max_iter=1000,\n",
       "                                    random_state=101))])</pre></div></div></div><div class=\"sk-serial\"><div class=\"sk-item\"><div class=\"sk-serial\"><div class=\"sk-item sk-dashed-wrapped\"><div class=\"sk-label-container\"><div class=\"sk-label sk-toggleable\"><input class=\"sk-toggleable__control sk-hidden--visually\" id=\"sk-estimator-id-24\" type=\"checkbox\" ><label for=\"sk-estimator-id-24\" class=\"sk-toggleable__label sk-toggleable__label-arrow\">OneHotEncoder: ColumnTransformer</label><div class=\"sk-toggleable__content\"><pre>ColumnTransformer(remainder=MinMaxScaler(),\n",
       "                  transformers=[(&#x27;onehotencoder&#x27;,\n",
       "                                 OneHotEncoder(handle_unknown=&#x27;ignore&#x27;,\n",
       "                                               sparse_output=False),\n",
       "                                 [&#x27;Gender&#x27;, &#x27;SubjectsBirthLocation&#x27;,\n",
       "                                  &#x27;WritingPreference&#x27;])],\n",
       "                  verbose_feature_names_out=False)</pre></div></div></div><div class=\"sk-parallel\"><div class=\"sk-parallel-item\"><div class=\"sk-item\"><div class=\"sk-label-container\"><div class=\"sk-label sk-toggleable\"><input class=\"sk-toggleable__control sk-hidden--visually\" id=\"sk-estimator-id-25\" type=\"checkbox\" ><label for=\"sk-estimator-id-25\" class=\"sk-toggleable__label sk-toggleable__label-arrow\">onehotencoder</label><div class=\"sk-toggleable__content\"><pre>[&#x27;Gender&#x27;, &#x27;SubjectsBirthLocation&#x27;, &#x27;WritingPreference&#x27;]</pre></div></div></div><div class=\"sk-serial\"><div class=\"sk-item\"><div class=\"sk-estimator sk-toggleable\"><input class=\"sk-toggleable__control sk-hidden--visually\" id=\"sk-estimator-id-26\" type=\"checkbox\" ><label for=\"sk-estimator-id-26\" class=\"sk-toggleable__label sk-toggleable__label-arrow\">OneHotEncoder</label><div class=\"sk-toggleable__content\"><pre>OneHotEncoder(handle_unknown=&#x27;ignore&#x27;, sparse_output=False)</pre></div></div></div></div></div></div><div class=\"sk-parallel-item\"><div class=\"sk-item\"><div class=\"sk-label-container\"><div class=\"sk-label sk-toggleable\"><input class=\"sk-toggleable__control sk-hidden--visually\" id=\"sk-estimator-id-27\" type=\"checkbox\" ><label for=\"sk-estimator-id-27\" class=\"sk-toggleable__label sk-toggleable__label-arrow\">remainder</label><div class=\"sk-toggleable__content\"><pre>[&#x27;abdominalextensiondepthsitting&#x27;, &#x27;acromialheight&#x27;, &#x27;acromionradialelength&#x27;, &#x27;anklecircumference&#x27;, &#x27;axillaheight&#x27;, &#x27;balloffootcircumference&#x27;, &#x27;balloffootlength&#x27;, &#x27;biacromialbreadth&#x27;, &#x27;bicepscircumferenceflexed&#x27;, &#x27;bicristalbreadth&#x27;, &#x27;bideltoidbreadth&#x27;, &#x27;bimalleolarbreadth&#x27;, &#x27;bitragionchinarc&#x27;, &#x27;bitragionsubmandibulararc&#x27;, &#x27;bizygomaticbreadth&#x27;, &#x27;buttockcircumference&#x27;, &#x27;buttockdepth&#x27;, &#x27;buttockheight&#x27;, &#x27;buttockkneelength&#x27;, &#x27;buttockpopliteallength&#x27;, &#x27;calfcircumference&#x27;, &#x27;cervicaleheight&#x27;, &#x27;chestbreadth&#x27;, &#x27;chestcircumference&#x27;, &#x27;chestdepth&#x27;, &#x27;chestheight&#x27;, &#x27;crotchheight&#x27;, &#x27;crotchlengthomphalion&#x27;, &#x27;crotchlengthposterioromphalion&#x27;, &#x27;earbreadth&#x27;, &#x27;earlength&#x27;, &#x27;earprotrusion&#x27;, &#x27;elbowrestheight&#x27;, &#x27;eyeheightsitting&#x27;, &#x27;footbreadthhorizontal&#x27;, &#x27;footlength&#x27;, &#x27;forearmcenterofgriplength&#x27;, &#x27;forearmcircumferenceflexed&#x27;, &#x27;forearmforearmbreadth&#x27;, &#x27;forearmhandlength&#x27;, &#x27;functionalleglength&#x27;, &#x27;handbreadth&#x27;, &#x27;handcircumference&#x27;, &#x27;handlength&#x27;, &#x27;headbreadth&#x27;, &#x27;headcircumference&#x27;, &#x27;headlength&#x27;, &#x27;heelanklecircumference&#x27;, &#x27;heelbreadth&#x27;, &#x27;hipbreadth&#x27;, &#x27;hipbreadthsitting&#x27;, &#x27;iliocristaleheight&#x27;, &#x27;interpupillarybreadth&#x27;, &#x27;interscyei&#x27;, &#x27;interscyeii&#x27;, &#x27;kneeheightmidpatella&#x27;, &#x27;kneeheightsitting&#x27;, &#x27;lateralfemoralepicondyleheight&#x27;, &#x27;lateralmalleolusheight&#x27;, &#x27;lowerthighcircumference&#x27;, &#x27;mentonsellionlength&#x27;, &#x27;neckcircumference&#x27;, &#x27;neckcircumferencebase&#x27;, &#x27;overheadfingertipreachsitting&#x27;, &#x27;palmlength&#x27;, &#x27;poplitealheight&#x27;, &#x27;radialestylionlength&#x27;, &#x27;shouldercircumference&#x27;, &#x27;shoulderelbowlength&#x27;, &#x27;shoulderlength&#x27;, &#x27;sittingheight&#x27;, &#x27;sleevelengthspinewrist&#x27;, &#x27;sleeveoutseam&#x27;, &#x27;span&#x27;, &#x27;stature&#x27;, &#x27;suprasternaleheight&#x27;, &#x27;tenthribheight&#x27;, &#x27;thighcircumference&#x27;, &#x27;thighclearance&#x27;, &#x27;thumbtipreach&#x27;, &#x27;tibialheight&#x27;, &#x27;tragiontopofhead&#x27;, &#x27;trochanterionheight&#x27;, &#x27;verticaltrunkcircumferenceusa&#x27;, &#x27;waistbacklength&#x27;, &#x27;waistbreadth&#x27;, &#x27;waistcircumference&#x27;, &#x27;waistdepth&#x27;, &#x27;waistfrontlengthsitting&#x27;, &#x27;waistheightomphalion&#x27;, &#x27;weightkg&#x27;, &#x27;wristcircumference&#x27;, &#x27;wristheight&#x27;, &#x27;Age&#x27;]</pre></div></div></div><div class=\"sk-serial\"><div class=\"sk-item\"><div class=\"sk-estimator sk-toggleable\"><input class=\"sk-toggleable__control sk-hidden--visually\" id=\"sk-estimator-id-28\" type=\"checkbox\" ><label for=\"sk-estimator-id-28\" class=\"sk-toggleable__label sk-toggleable__label-arrow\">MinMaxScaler</label><div class=\"sk-toggleable__content\"><pre>MinMaxScaler()</pre></div></div></div></div></div></div></div></div><div class=\"sk-item\"><div class=\"sk-estimator sk-toggleable\"><input class=\"sk-toggleable__control sk-hidden--visually\" id=\"sk-estimator-id-29\" type=\"checkbox\" ><label for=\"sk-estimator-id-29\" class=\"sk-toggleable__label sk-toggleable__label-arrow\">LogisticRegression</label><div class=\"sk-toggleable__content\"><pre>LogisticRegression(class_weight=&#x27;balanced&#x27;, max_iter=1000, random_state=101)</pre></div></div></div></div></div></div></div></div></div></div></div></div>"
      ],
      "text/plain": [
       "GridSearchCV(cv=10,\n",
       "             estimator=Pipeline(steps=[('OneHotEncoder',\n",
       "                                        ColumnTransformer(remainder=MinMaxScaler(),\n",
       "                                                          transformers=[('onehotencoder',\n",
       "                                                                         OneHotEncoder(handle_unknown='ignore',\n",
       "                                                                                       sparse_output=False),\n",
       "                                                                         ['Gender',\n",
       "                                                                          'SubjectsBirthLocation',\n",
       "                                                                          'WritingPreference'])],\n",
       "                                                          verbose_feature_names_out=False)),\n",
       "                                       ('logistic',\n",
       "                                        LogisticRegression(class_weight='balanced',\n",
       "                                                           max_iter=1000,\n",
       "                                                           random_state=101))]),\n",
       "             n_jobs=-1,\n",
       "             param_grid={'logistic__C': [0.5, 1],\n",
       "                         'logistic__penalty': ['l1', 'l2'],\n",
       "                         'logistic__solver': ['liblinear', 'lbfgs']},\n",
       "             return_train_score=True,\n",
       "             scoring=make_scorer(recall_score, average=None, labels=['Hispanic']))"
      ]
     },
     "execution_count": 52,
     "metadata": {},
     "output_type": "execute_result"
    }
   ],
   "source": [
    "#As i said before, i will use recall Hispanic, as it has higher score, than the others. to so do, \n",
    "#i will use make scorer with it.\n",
    "#The label should have a valud of Hispanic\n",
    "recall_Hispanic = make_scorer(recall_score, average=None, labels=[\"Hispanic\"])\n",
    "\n",
    "param_grid = {\n",
    "    \"logistic__C\": [0.5, 1], \n",
    "    \"logistic__penalty\": [\"l1\", \"l2\"],\n",
    "    \"logistic__solver\": [\"liblinear\", \"lbfgs\"],\n",
    "}\n",
    "\n",
    "operations = [('OneHotEncoder', trans), ('logistic', LogisticRegression(class_weight=\"balanced\", \n",
    "                                                                        max_iter=1000, \n",
    "                                                                        random_state=101))]\n",
    "\n",
    "gr_model = Pipeline(steps=operations)\n",
    "\n",
    "grid_model = GridSearchCV(estimator= gr_model, \n",
    "                          param_grid= param_grid, \n",
    "                          scoring=recall_Hispanic, \n",
    "                          cv=10, n_jobs=-1, \n",
    "                          return_train_score=True )\n",
    "\n",
    "\n",
    "grid_model.fit(X_train, y_train)"
   ]
  },
  {
   "cell_type": "code",
   "execution_count": 65,
   "metadata": {},
   "outputs": [
    {
     "data": {
      "text/plain": [
       "array(['White', 'White', 'White', 'White', 'Hispanic', 'White', 'Black',\n",
       "       'White', 'Hispanic', 'White'], dtype=object)"
      ]
     },
     "execution_count": 65,
     "metadata": {},
     "output_type": "execute_result"
    }
   ],
   "source": [
    "y_pred = grid_model.predict(X_test)\n",
    "y_pred[:10]"
   ]
  },
  {
   "cell_type": "code",
   "execution_count": 53,
   "metadata": {
    "scrolled": true
   },
   "outputs": [
    {
     "name": "stdout",
     "output_type": "stream",
     "text": [
      "Test_Set\n",
      "[[239  14   7]\n",
      " [  5 111  20]\n",
      " [ 25  89 644]]\n",
      "              precision    recall  f1-score   support\n",
      "\n",
      "       Black       0.89      0.92      0.90       260\n",
      "    Hispanic       0.52      0.82      0.63       136\n",
      "       White       0.96      0.85      0.90       758\n",
      "\n",
      "    accuracy                           0.86      1154\n",
      "   macro avg       0.79      0.86      0.81      1154\n",
      "weighted avg       0.89      0.86      0.87      1154\n",
      "\n",
      "\n",
      "Train_Set\n",
      "[[ 971   37   30]\n",
      " [  20  456   67]\n",
      " [  57  362 2615]]\n",
      "              precision    recall  f1-score   support\n",
      "\n",
      "       Black       0.93      0.94      0.93      1038\n",
      "    Hispanic       0.53      0.84      0.65       543\n",
      "       White       0.96      0.86      0.91      3034\n",
      "\n",
      "    accuracy                           0.88      4615\n",
      "   macro avg       0.81      0.88      0.83      4615\n",
      "weighted avg       0.91      0.88      0.88      4615\n",
      "\n"
     ]
    }
   ],
   "source": [
    "eval_metric(grid_model, X_train, y_train, X_test, y_test)\n",
    "#We can see from the results, there is no sign of overfitting."
   ]
  },
  {
   "cell_type": "code",
   "execution_count": 55,
   "metadata": {
    "scrolled": true
   },
   "outputs": [
    {
     "data": {
      "text/html": [
       "<style>#sk-container-id-5 {color: black;}#sk-container-id-5 pre{padding: 0;}#sk-container-id-5 div.sk-toggleable {background-color: white;}#sk-container-id-5 label.sk-toggleable__label {cursor: pointer;display: block;width: 100%;margin-bottom: 0;padding: 0.3em;box-sizing: border-box;text-align: center;}#sk-container-id-5 label.sk-toggleable__label-arrow:before {content: \"▸\";float: left;margin-right: 0.25em;color: #696969;}#sk-container-id-5 label.sk-toggleable__label-arrow:hover:before {color: black;}#sk-container-id-5 div.sk-estimator:hover label.sk-toggleable__label-arrow:before {color: black;}#sk-container-id-5 div.sk-toggleable__content {max-height: 0;max-width: 0;overflow: hidden;text-align: left;background-color: #f0f8ff;}#sk-container-id-5 div.sk-toggleable__content pre {margin: 0.2em;color: black;border-radius: 0.25em;background-color: #f0f8ff;}#sk-container-id-5 input.sk-toggleable__control:checked~div.sk-toggleable__content {max-height: 200px;max-width: 100%;overflow: auto;}#sk-container-id-5 input.sk-toggleable__control:checked~label.sk-toggleable__label-arrow:before {content: \"▾\";}#sk-container-id-5 div.sk-estimator input.sk-toggleable__control:checked~label.sk-toggleable__label {background-color: #d4ebff;}#sk-container-id-5 div.sk-label input.sk-toggleable__control:checked~label.sk-toggleable__label {background-color: #d4ebff;}#sk-container-id-5 input.sk-hidden--visually {border: 0;clip: rect(1px 1px 1px 1px);clip: rect(1px, 1px, 1px, 1px);height: 1px;margin: -1px;overflow: hidden;padding: 0;position: absolute;width: 1px;}#sk-container-id-5 div.sk-estimator {font-family: monospace;background-color: #f0f8ff;border: 1px dotted black;border-radius: 0.25em;box-sizing: border-box;margin-bottom: 0.5em;}#sk-container-id-5 div.sk-estimator:hover {background-color: #d4ebff;}#sk-container-id-5 div.sk-parallel-item::after {content: \"\";width: 100%;border-bottom: 1px solid gray;flex-grow: 1;}#sk-container-id-5 div.sk-label:hover label.sk-toggleable__label {background-color: #d4ebff;}#sk-container-id-5 div.sk-serial::before {content: \"\";position: absolute;border-left: 1px solid gray;box-sizing: border-box;top: 0;bottom: 0;left: 50%;z-index: 0;}#sk-container-id-5 div.sk-serial {display: flex;flex-direction: column;align-items: center;background-color: white;padding-right: 0.2em;padding-left: 0.2em;position: relative;}#sk-container-id-5 div.sk-item {position: relative;z-index: 1;}#sk-container-id-5 div.sk-parallel {display: flex;align-items: stretch;justify-content: center;background-color: white;position: relative;}#sk-container-id-5 div.sk-item::before, #sk-container-id-5 div.sk-parallel-item::before {content: \"\";position: absolute;border-left: 1px solid gray;box-sizing: border-box;top: 0;bottom: 0;left: 50%;z-index: -1;}#sk-container-id-5 div.sk-parallel-item {display: flex;flex-direction: column;z-index: 1;position: relative;background-color: white;}#sk-container-id-5 div.sk-parallel-item:first-child::after {align-self: flex-end;width: 50%;}#sk-container-id-5 div.sk-parallel-item:last-child::after {align-self: flex-start;width: 50%;}#sk-container-id-5 div.sk-parallel-item:only-child::after {width: 0;}#sk-container-id-5 div.sk-dashed-wrapped {border: 1px dashed gray;margin: 0 0.4em 0.5em 0.4em;box-sizing: border-box;padding-bottom: 0.4em;background-color: white;}#sk-container-id-5 div.sk-label label {font-family: monospace;font-weight: bold;display: inline-block;line-height: 1.2em;}#sk-container-id-5 div.sk-label-container {text-align: center;}#sk-container-id-5 div.sk-container {/* jupyter's `normalize.less` sets `[hidden] { display: none; }` but bootstrap.min.css set `[hidden] { display: none !important; }` so we also need the `!important` here to be able to override the default hidden behavior on the sphinx rendered scikit-learn.org. See: https://github.com/scikit-learn/scikit-learn/issues/21755 */display: inline-block !important;position: relative;}#sk-container-id-5 div.sk-text-repr-fallback {display: none;}</style><div id=\"sk-container-id-5\" class=\"sk-top-container\"><div class=\"sk-text-repr-fallback\"><pre>Pipeline(steps=[(&#x27;OneHotEncoder&#x27;,\n",
       "                 ColumnTransformer(remainder=MinMaxScaler(),\n",
       "                                   transformers=[(&#x27;onehotencoder&#x27;,\n",
       "                                                  OneHotEncoder(handle_unknown=&#x27;ignore&#x27;,\n",
       "                                                                sparse_output=False),\n",
       "                                                  [&#x27;Gender&#x27;,\n",
       "                                                   &#x27;SubjectsBirthLocation&#x27;,\n",
       "                                                   &#x27;WritingPreference&#x27;])],\n",
       "                                   verbose_feature_names_out=False)),\n",
       "                (&#x27;logistic&#x27;,\n",
       "                 LogisticRegression(C=1, class_weight=&#x27;balanced&#x27;, max_iter=1000,\n",
       "                                    random_state=101))])</pre><b>In a Jupyter environment, please rerun this cell to show the HTML representation or trust the notebook. <br />On GitHub, the HTML representation is unable to render, please try loading this page with nbviewer.org.</b></div><div class=\"sk-container\" hidden><div class=\"sk-item sk-dashed-wrapped\"><div class=\"sk-label-container\"><div class=\"sk-label sk-toggleable\"><input class=\"sk-toggleable__control sk-hidden--visually\" id=\"sk-estimator-id-30\" type=\"checkbox\" ><label for=\"sk-estimator-id-30\" class=\"sk-toggleable__label sk-toggleable__label-arrow\">Pipeline</label><div class=\"sk-toggleable__content\"><pre>Pipeline(steps=[(&#x27;OneHotEncoder&#x27;,\n",
       "                 ColumnTransformer(remainder=MinMaxScaler(),\n",
       "                                   transformers=[(&#x27;onehotencoder&#x27;,\n",
       "                                                  OneHotEncoder(handle_unknown=&#x27;ignore&#x27;,\n",
       "                                                                sparse_output=False),\n",
       "                                                  [&#x27;Gender&#x27;,\n",
       "                                                   &#x27;SubjectsBirthLocation&#x27;,\n",
       "                                                   &#x27;WritingPreference&#x27;])],\n",
       "                                   verbose_feature_names_out=False)),\n",
       "                (&#x27;logistic&#x27;,\n",
       "                 LogisticRegression(C=1, class_weight=&#x27;balanced&#x27;, max_iter=1000,\n",
       "                                    random_state=101))])</pre></div></div></div><div class=\"sk-serial\"><div class=\"sk-item sk-dashed-wrapped\"><div class=\"sk-label-container\"><div class=\"sk-label sk-toggleable\"><input class=\"sk-toggleable__control sk-hidden--visually\" id=\"sk-estimator-id-31\" type=\"checkbox\" ><label for=\"sk-estimator-id-31\" class=\"sk-toggleable__label sk-toggleable__label-arrow\">OneHotEncoder: ColumnTransformer</label><div class=\"sk-toggleable__content\"><pre>ColumnTransformer(remainder=MinMaxScaler(),\n",
       "                  transformers=[(&#x27;onehotencoder&#x27;,\n",
       "                                 OneHotEncoder(handle_unknown=&#x27;ignore&#x27;,\n",
       "                                               sparse_output=False),\n",
       "                                 [&#x27;Gender&#x27;, &#x27;SubjectsBirthLocation&#x27;,\n",
       "                                  &#x27;WritingPreference&#x27;])],\n",
       "                  verbose_feature_names_out=False)</pre></div></div></div><div class=\"sk-parallel\"><div class=\"sk-parallel-item\"><div class=\"sk-item\"><div class=\"sk-label-container\"><div class=\"sk-label sk-toggleable\"><input class=\"sk-toggleable__control sk-hidden--visually\" id=\"sk-estimator-id-32\" type=\"checkbox\" ><label for=\"sk-estimator-id-32\" class=\"sk-toggleable__label sk-toggleable__label-arrow\">onehotencoder</label><div class=\"sk-toggleable__content\"><pre>[&#x27;Gender&#x27;, &#x27;SubjectsBirthLocation&#x27;, &#x27;WritingPreference&#x27;]</pre></div></div></div><div class=\"sk-serial\"><div class=\"sk-item\"><div class=\"sk-estimator sk-toggleable\"><input class=\"sk-toggleable__control sk-hidden--visually\" id=\"sk-estimator-id-33\" type=\"checkbox\" ><label for=\"sk-estimator-id-33\" class=\"sk-toggleable__label sk-toggleable__label-arrow\">OneHotEncoder</label><div class=\"sk-toggleable__content\"><pre>OneHotEncoder(handle_unknown=&#x27;ignore&#x27;, sparse_output=False)</pre></div></div></div></div></div></div><div class=\"sk-parallel-item\"><div class=\"sk-item\"><div class=\"sk-label-container\"><div class=\"sk-label sk-toggleable\"><input class=\"sk-toggleable__control sk-hidden--visually\" id=\"sk-estimator-id-34\" type=\"checkbox\" ><label for=\"sk-estimator-id-34\" class=\"sk-toggleable__label sk-toggleable__label-arrow\">remainder</label><div class=\"sk-toggleable__content\"><pre>[&#x27;abdominalextensiondepthsitting&#x27;, &#x27;acromialheight&#x27;, &#x27;acromionradialelength&#x27;, &#x27;anklecircumference&#x27;, &#x27;axillaheight&#x27;, &#x27;balloffootcircumference&#x27;, &#x27;balloffootlength&#x27;, &#x27;biacromialbreadth&#x27;, &#x27;bicepscircumferenceflexed&#x27;, &#x27;bicristalbreadth&#x27;, &#x27;bideltoidbreadth&#x27;, &#x27;bimalleolarbreadth&#x27;, &#x27;bitragionchinarc&#x27;, &#x27;bitragionsubmandibulararc&#x27;, &#x27;bizygomaticbreadth&#x27;, &#x27;buttockcircumference&#x27;, &#x27;buttockdepth&#x27;, &#x27;buttockheight&#x27;, &#x27;buttockkneelength&#x27;, &#x27;buttockpopliteallength&#x27;, &#x27;calfcircumference&#x27;, &#x27;cervicaleheight&#x27;, &#x27;chestbreadth&#x27;, &#x27;chestcircumference&#x27;, &#x27;chestdepth&#x27;, &#x27;chestheight&#x27;, &#x27;crotchheight&#x27;, &#x27;crotchlengthomphalion&#x27;, &#x27;crotchlengthposterioromphalion&#x27;, &#x27;earbreadth&#x27;, &#x27;earlength&#x27;, &#x27;earprotrusion&#x27;, &#x27;elbowrestheight&#x27;, &#x27;eyeheightsitting&#x27;, &#x27;footbreadthhorizontal&#x27;, &#x27;footlength&#x27;, &#x27;forearmcenterofgriplength&#x27;, &#x27;forearmcircumferenceflexed&#x27;, &#x27;forearmforearmbreadth&#x27;, &#x27;forearmhandlength&#x27;, &#x27;functionalleglength&#x27;, &#x27;handbreadth&#x27;, &#x27;handcircumference&#x27;, &#x27;handlength&#x27;, &#x27;headbreadth&#x27;, &#x27;headcircumference&#x27;, &#x27;headlength&#x27;, &#x27;heelanklecircumference&#x27;, &#x27;heelbreadth&#x27;, &#x27;hipbreadth&#x27;, &#x27;hipbreadthsitting&#x27;, &#x27;iliocristaleheight&#x27;, &#x27;interpupillarybreadth&#x27;, &#x27;interscyei&#x27;, &#x27;interscyeii&#x27;, &#x27;kneeheightmidpatella&#x27;, &#x27;kneeheightsitting&#x27;, &#x27;lateralfemoralepicondyleheight&#x27;, &#x27;lateralmalleolusheight&#x27;, &#x27;lowerthighcircumference&#x27;, &#x27;mentonsellionlength&#x27;, &#x27;neckcircumference&#x27;, &#x27;neckcircumferencebase&#x27;, &#x27;overheadfingertipreachsitting&#x27;, &#x27;palmlength&#x27;, &#x27;poplitealheight&#x27;, &#x27;radialestylionlength&#x27;, &#x27;shouldercircumference&#x27;, &#x27;shoulderelbowlength&#x27;, &#x27;shoulderlength&#x27;, &#x27;sittingheight&#x27;, &#x27;sleevelengthspinewrist&#x27;, &#x27;sleeveoutseam&#x27;, &#x27;span&#x27;, &#x27;stature&#x27;, &#x27;suprasternaleheight&#x27;, &#x27;tenthribheight&#x27;, &#x27;thighcircumference&#x27;, &#x27;thighclearance&#x27;, &#x27;thumbtipreach&#x27;, &#x27;tibialheight&#x27;, &#x27;tragiontopofhead&#x27;, &#x27;trochanterionheight&#x27;, &#x27;verticaltrunkcircumferenceusa&#x27;, &#x27;waistbacklength&#x27;, &#x27;waistbreadth&#x27;, &#x27;waistcircumference&#x27;, &#x27;waistdepth&#x27;, &#x27;waistfrontlengthsitting&#x27;, &#x27;waistheightomphalion&#x27;, &#x27;weightkg&#x27;, &#x27;wristcircumference&#x27;, &#x27;wristheight&#x27;, &#x27;Age&#x27;]</pre></div></div></div><div class=\"sk-serial\"><div class=\"sk-item\"><div class=\"sk-estimator sk-toggleable\"><input class=\"sk-toggleable__control sk-hidden--visually\" id=\"sk-estimator-id-35\" type=\"checkbox\" ><label for=\"sk-estimator-id-35\" class=\"sk-toggleable__label sk-toggleable__label-arrow\">MinMaxScaler</label><div class=\"sk-toggleable__content\"><pre>MinMaxScaler()</pre></div></div></div></div></div></div></div></div><div class=\"sk-item\"><div class=\"sk-estimator sk-toggleable\"><input class=\"sk-toggleable__control sk-hidden--visually\" id=\"sk-estimator-id-36\" type=\"checkbox\" ><label for=\"sk-estimator-id-36\" class=\"sk-toggleable__label sk-toggleable__label-arrow\">LogisticRegression</label><div class=\"sk-toggleable__content\"><pre>LogisticRegression(C=1, class_weight=&#x27;balanced&#x27;, max_iter=1000,\n",
       "                   random_state=101)</pre></div></div></div></div></div></div></div>"
      ],
      "text/plain": [
       "Pipeline(steps=[('OneHotEncoder',\n",
       "                 ColumnTransformer(remainder=MinMaxScaler(),\n",
       "                                   transformers=[('onehotencoder',\n",
       "                                                  OneHotEncoder(handle_unknown='ignore',\n",
       "                                                                sparse_output=False),\n",
       "                                                  ['Gender',\n",
       "                                                   'SubjectsBirthLocation',\n",
       "                                                   'WritingPreference'])],\n",
       "                                   verbose_feature_names_out=False)),\n",
       "                ('logistic',\n",
       "                 LogisticRegression(C=1, class_weight='balanced', max_iter=1000,\n",
       "                                    random_state=101))])"
      ]
     },
     "execution_count": 55,
     "metadata": {},
     "output_type": "execute_result"
    }
   ],
   "source": [
    "#Now, i will see the best estimator for it \n",
    "grid_model.best_estimator_\n",
    "\n",
    "#As we can see from the best estimator, the best C is 1, and it seems that the other params are not important"
   ]
  },
  {
   "cell_type": "code",
   "execution_count": 56,
   "metadata": {},
   "outputs": [
    {
     "data": {
      "text/plain": [
       "mean_test_score    0.773\n",
       "mean_train_score   0.839\n",
       "Name: 7, dtype: object"
      ]
     },
     "execution_count": 56,
     "metadata": {},
     "output_type": "execute_result"
    }
   ],
   "source": [
    "pd.DataFrame(grid_model.cv_results_).loc[\n",
    "    grid_model.best_index_, [\"mean_test_score\", \"mean_train_score\"]\n",
    "]"
   ]
  },
  {
   "cell_type": "code",
   "execution_count": 57,
   "metadata": {
    "scrolled": true
   },
   "outputs": [
    {
     "data": {
      "image/png": "[encoded data removed]",
      "text/plain": [
       "<Figure size 1000x1400 with 1 Axes>"
      ]
     },
     "metadata": {},
     "output_type": "display_data"
    }
   ],
   "source": [
    "#Now, let's see the graph of it\n",
    "operations = [('OneHotEncoder', trans), ('logistic', LogisticRegression(class_weight=\"balanced\", \n",
    "                                                                        max_iter=1000, \n",
    "                                                                        random_state=101))]\n",
    "\n",
    "model = Pipeline(steps=operations)\n",
    "\n",
    "model.fit(X_train, y_train)\n",
    "\n",
    "y_pred_proba = model.predict_proba(X_test)\n",
    "\n",
    "plot_precision_recall(y_test, y_pred_proba)\n",
    "plt.show();\n",
    "\n",
    "#As we can see from the graph, white class is higher than the others. And Hispanic is the less one"
   ]
  },
  {
   "cell_type": "code",
   "execution_count": 60,
   "metadata": {},
   "outputs": [
    {
     "data": {
      "text/plain": [
       "0.7628593977747096"
      ]
     },
     "execution_count": 60,
     "metadata": {},
     "output_type": "execute_result"
    }
   ],
   "source": [
    "#Now, the scores of this model, should be saved to use it later for comparing them with the other models and see\n",
    "#which one is better.\n",
    "y_test_dum = pd.get_dummies(y_test).values\n",
    "\n",
    "average_precision_score(y_test_dum[:, 1], y_pred_proba[:, 1])"
   ]
  },
  {
   "cell_type": "code",
   "execution_count": 66,
   "metadata": {},
   "outputs": [
    {
     "name": "stdout",
     "output_type": "stream",
     "text": [
      "The value of precision 0.7628593977747096\n",
      "The value of recall [0.81617647]\n",
      "The value of f1 [0.63428571]\n"
     ]
    }
   ],
   "source": [
    "print('The value of precision', average_precision_score(y_test_dum[:, 1], y_pred_proba[:, 1]))\n",
    "print('The value of recall', recall_score(y_test, y_pred, average=None, labels=[\"Hispanic\"]))\n",
    "print('The value of f1', f1_score(y_test, y_pred, average=None, labels=[\"Hispanic\"]))\n",
    "\n",
    "#As we can see the score of recall is higher"
   ]
  },
  {
   "cell_type": "code",
   "execution_count": 68,
   "metadata": {},
   "outputs": [],
   "source": [
    "#To be able to use these values later on, I will assign them to values, to make it easy \n",
    "logistic_pre = average_precision_score(y_test_dum[:, 1], y_pred_proba[:, 1])\n",
    "logistic_recall = recall_score(y_test, y_pred, average=None, labels=[\"Hispanic\"])\n",
    "logistic_recall = f1_score(y_test, y_pred, average=None, labels=[\"Hispanic\"])"
   ]
  },
  {
   "cell_type": "markdown",
   "metadata": {
    "heading_collapsed": true,
    "hidden": true,
    "id": "GM0PL5eZ1b7E"
   },
   "source": [
    "## 2. SVC"
   ]
  },
  {
   "cell_type": "markdown",
   "metadata": {
    "heading_collapsed": true,
    "hidden": true,
    "id": "P3j_Xk1L1b7E"
   },
   "source": [
    "### Vanilla SVC model"
   ]
  },
  {
   "cell_type": "code",
   "execution_count": 79,
   "metadata": {
    "id": "pro8T6CM19vX"
   },
   "outputs": [
    {
     "data": {
      "text/html": [
       "<style>#sk-container-id-6 {color: black;}#sk-container-id-6 pre{padding: 0;}#sk-container-id-6 div.sk-toggleable {background-color: white;}#sk-container-id-6 label.sk-toggleable__label {cursor: pointer;display: block;width: 100%;margin-bottom: 0;padding: 0.3em;box-sizing: border-box;text-align: center;}#sk-container-id-6 label.sk-toggleable__label-arrow:before {content: \"▸\";float: left;margin-right: 0.25em;color: #696969;}#sk-container-id-6 label.sk-toggleable__label-arrow:hover:before {color: black;}#sk-container-id-6 div.sk-estimator:hover label.sk-toggleable__label-arrow:before {color: black;}#sk-container-id-6 div.sk-toggleable__content {max-height: 0;max-width: 0;overflow: hidden;text-align: left;background-color: #f0f8ff;}#sk-container-id-6 div.sk-toggleable__content pre {margin: 0.2em;color: black;border-radius: 0.25em;background-color: #f0f8ff;}#sk-container-id-6 input.sk-toggleable__control:checked~div.sk-toggleable__content {max-height: 200px;max-width: 100%;overflow: auto;}#sk-container-id-6 input.sk-toggleable__control:checked~label.sk-toggleable__label-arrow:before {content: \"▾\";}#sk-container-id-6 div.sk-estimator input.sk-toggleable__control:checked~label.sk-toggleable__label {background-color: #d4ebff;}#sk-container-id-6 div.sk-label input.sk-toggleable__control:checked~label.sk-toggleable__label {background-color: #d4ebff;}#sk-container-id-6 input.sk-hidden--visually {border: 0;clip: rect(1px 1px 1px 1px);clip: rect(1px, 1px, 1px, 1px);height: 1px;margin: -1px;overflow: hidden;padding: 0;position: absolute;width: 1px;}#sk-container-id-6 div.sk-estimator {font-family: monospace;background-color: #f0f8ff;border: 1px dotted black;border-radius: 0.25em;box-sizing: border-box;margin-bottom: 0.5em;}#sk-container-id-6 div.sk-estimator:hover {background-color: #d4ebff;}#sk-container-id-6 div.sk-parallel-item::after {content: \"\";width: 100%;border-bottom: 1px solid gray;flex-grow: 1;}#sk-container-id-6 div.sk-label:hover label.sk-toggleable__label {background-color: #d4ebff;}#sk-container-id-6 div.sk-serial::before {content: \"\";position: absolute;border-left: 1px solid gray;box-sizing: border-box;top: 0;bottom: 0;left: 50%;z-index: 0;}#sk-container-id-6 div.sk-serial {display: flex;flex-direction: column;align-items: center;background-color: white;padding-right: 0.2em;padding-left: 0.2em;position: relative;}#sk-container-id-6 div.sk-item {position: relative;z-index: 1;}#sk-container-id-6 div.sk-parallel {display: flex;align-items: stretch;justify-content: center;background-color: white;position: relative;}#sk-container-id-6 div.sk-item::before, #sk-container-id-6 div.sk-parallel-item::before {content: \"\";position: absolute;border-left: 1px solid gray;box-sizing: border-box;top: 0;bottom: 0;left: 50%;z-index: -1;}#sk-container-id-6 div.sk-parallel-item {display: flex;flex-direction: column;z-index: 1;position: relative;background-color: white;}#sk-container-id-6 div.sk-parallel-item:first-child::after {align-self: flex-end;width: 50%;}#sk-container-id-6 div.sk-parallel-item:last-child::after {align-self: flex-start;width: 50%;}#sk-container-id-6 div.sk-parallel-item:only-child::after {width: 0;}#sk-container-id-6 div.sk-dashed-wrapped {border: 1px dashed gray;margin: 0 0.4em 0.5em 0.4em;box-sizing: border-box;padding-bottom: 0.4em;background-color: white;}#sk-container-id-6 div.sk-label label {font-family: monospace;font-weight: bold;display: inline-block;line-height: 1.2em;}#sk-container-id-6 div.sk-label-container {text-align: center;}#sk-container-id-6 div.sk-container {/* jupyter's `normalize.less` sets `[hidden] { display: none; }` but bootstrap.min.css set `[hidden] { display: none !important; }` so we also need the `!important` here to be able to override the default hidden behavior on the sphinx rendered scikit-learn.org. See: https://github.com/scikit-learn/scikit-learn/issues/21755 */display: inline-block !important;position: relative;}#sk-container-id-6 div.sk-text-repr-fallback {display: none;}</style><div id=\"sk-container-id-6\" class=\"sk-top-container\"><div class=\"sk-text-repr-fallback\"><pre>Pipeline(steps=[(&#x27;OneHotEncoder&#x27;,\n",
       "                 ColumnTransformer(remainder=MinMaxScaler(),\n",
       "                                   transformers=[(&#x27;onehotencoder&#x27;,\n",
       "                                                  OneHotEncoder(handle_unknown=&#x27;ignore&#x27;,\n",
       "                                                                sparse_output=False),\n",
       "                                                  [&#x27;Gender&#x27;,\n",
       "                                                   &#x27;SubjectsBirthLocation&#x27;,\n",
       "                                                   &#x27;WritingPreference&#x27;])],\n",
       "                                   verbose_feature_names_out=False)),\n",
       "                (&#x27;svc&#x27;, SVC(random_state=101))])</pre><b>In a Jupyter environment, please rerun this cell to show the HTML representation or trust the notebook. <br />On GitHub, the HTML representation is unable to render, please try loading this page with nbviewer.org.</b></div><div class=\"sk-container\" hidden><div class=\"sk-item sk-dashed-wrapped\"><div class=\"sk-label-container\"><div class=\"sk-label sk-toggleable\"><input class=\"sk-toggleable__control sk-hidden--visually\" id=\"sk-estimator-id-37\" type=\"checkbox\" ><label for=\"sk-estimator-id-37\" class=\"sk-toggleable__label sk-toggleable__label-arrow\">Pipeline</label><div class=\"sk-toggleable__content\"><pre>Pipeline(steps=[(&#x27;OneHotEncoder&#x27;,\n",
       "                 ColumnTransformer(remainder=MinMaxScaler(),\n",
       "                                   transformers=[(&#x27;onehotencoder&#x27;,\n",
       "                                                  OneHotEncoder(handle_unknown=&#x27;ignore&#x27;,\n",
       "                                                                sparse_output=False),\n",
       "                                                  [&#x27;Gender&#x27;,\n",
       "                                                   &#x27;SubjectsBirthLocation&#x27;,\n",
       "                                                   &#x27;WritingPreference&#x27;])],\n",
       "                                   verbose_feature_names_out=False)),\n",
       "                (&#x27;svc&#x27;, SVC(random_state=101))])</pre></div></div></div><div class=\"sk-serial\"><div class=\"sk-item sk-dashed-wrapped\"><div class=\"sk-label-container\"><div class=\"sk-label sk-toggleable\"><input class=\"sk-toggleable__control sk-hidden--visually\" id=\"sk-estimator-id-38\" type=\"checkbox\" ><label for=\"sk-estimator-id-38\" class=\"sk-toggleable__label sk-toggleable__label-arrow\">OneHotEncoder: ColumnTransformer</label><div class=\"sk-toggleable__content\"><pre>ColumnTransformer(remainder=MinMaxScaler(),\n",
       "                  transformers=[(&#x27;onehotencoder&#x27;,\n",
       "                                 OneHotEncoder(handle_unknown=&#x27;ignore&#x27;,\n",
       "                                               sparse_output=False),\n",
       "                                 [&#x27;Gender&#x27;, &#x27;SubjectsBirthLocation&#x27;,\n",
       "                                  &#x27;WritingPreference&#x27;])],\n",
       "                  verbose_feature_names_out=False)</pre></div></div></div><div class=\"sk-parallel\"><div class=\"sk-parallel-item\"><div class=\"sk-item\"><div class=\"sk-label-container\"><div class=\"sk-label sk-toggleable\"><input class=\"sk-toggleable__control sk-hidden--visually\" id=\"sk-estimator-id-39\" type=\"checkbox\" ><label for=\"sk-estimator-id-39\" class=\"sk-toggleable__label sk-toggleable__label-arrow\">onehotencoder</label><div class=\"sk-toggleable__content\"><pre>[&#x27;Gender&#x27;, &#x27;SubjectsBirthLocation&#x27;, &#x27;WritingPreference&#x27;]</pre></div></div></div><div class=\"sk-serial\"><div class=\"sk-item\"><div class=\"sk-estimator sk-toggleable\"><input class=\"sk-toggleable__control sk-hidden--visually\" id=\"sk-estimator-id-40\" type=\"checkbox\" ><label for=\"sk-estimator-id-40\" class=\"sk-toggleable__label sk-toggleable__label-arrow\">OneHotEncoder</label><div class=\"sk-toggleable__content\"><pre>OneHotEncoder(handle_unknown=&#x27;ignore&#x27;, sparse_output=False)</pre></div></div></div></div></div></div><div class=\"sk-parallel-item\"><div class=\"sk-item\"><div class=\"sk-label-container\"><div class=\"sk-label sk-toggleable\"><input class=\"sk-toggleable__control sk-hidden--visually\" id=\"sk-estimator-id-41\" type=\"checkbox\" ><label for=\"sk-estimator-id-41\" class=\"sk-toggleable__label sk-toggleable__label-arrow\">remainder</label><div class=\"sk-toggleable__content\"><pre>[&#x27;abdominalextensiondepthsitting&#x27;, &#x27;acromialheight&#x27;, &#x27;acromionradialelength&#x27;, &#x27;anklecircumference&#x27;, &#x27;axillaheight&#x27;, &#x27;balloffootcircumference&#x27;, &#x27;balloffootlength&#x27;, &#x27;biacromialbreadth&#x27;, &#x27;bicepscircumferenceflexed&#x27;, &#x27;bicristalbreadth&#x27;, &#x27;bideltoidbreadth&#x27;, &#x27;bimalleolarbreadth&#x27;, &#x27;bitragionchinarc&#x27;, &#x27;bitragionsubmandibulararc&#x27;, &#x27;bizygomaticbreadth&#x27;, &#x27;buttockcircumference&#x27;, &#x27;buttockdepth&#x27;, &#x27;buttockheight&#x27;, &#x27;buttockkneelength&#x27;, &#x27;buttockpopliteallength&#x27;, &#x27;calfcircumference&#x27;, &#x27;cervicaleheight&#x27;, &#x27;chestbreadth&#x27;, &#x27;chestcircumference&#x27;, &#x27;chestdepth&#x27;, &#x27;chestheight&#x27;, &#x27;crotchheight&#x27;, &#x27;crotchlengthomphalion&#x27;, &#x27;crotchlengthposterioromphalion&#x27;, &#x27;earbreadth&#x27;, &#x27;earlength&#x27;, &#x27;earprotrusion&#x27;, &#x27;elbowrestheight&#x27;, &#x27;eyeheightsitting&#x27;, &#x27;footbreadthhorizontal&#x27;, &#x27;footlength&#x27;, &#x27;forearmcenterofgriplength&#x27;, &#x27;forearmcircumferenceflexed&#x27;, &#x27;forearmforearmbreadth&#x27;, &#x27;forearmhandlength&#x27;, &#x27;functionalleglength&#x27;, &#x27;handbreadth&#x27;, &#x27;handcircumference&#x27;, &#x27;handlength&#x27;, &#x27;headbreadth&#x27;, &#x27;headcircumference&#x27;, &#x27;headlength&#x27;, &#x27;heelanklecircumference&#x27;, &#x27;heelbreadth&#x27;, &#x27;hipbreadth&#x27;, &#x27;hipbreadthsitting&#x27;, &#x27;iliocristaleheight&#x27;, &#x27;interpupillarybreadth&#x27;, &#x27;interscyei&#x27;, &#x27;interscyeii&#x27;, &#x27;kneeheightmidpatella&#x27;, &#x27;kneeheightsitting&#x27;, &#x27;lateralfemoralepicondyleheight&#x27;, &#x27;lateralmalleolusheight&#x27;, &#x27;lowerthighcircumference&#x27;, &#x27;mentonsellionlength&#x27;, &#x27;neckcircumference&#x27;, &#x27;neckcircumferencebase&#x27;, &#x27;overheadfingertipreachsitting&#x27;, &#x27;palmlength&#x27;, &#x27;poplitealheight&#x27;, &#x27;radialestylionlength&#x27;, &#x27;shouldercircumference&#x27;, &#x27;shoulderelbowlength&#x27;, &#x27;shoulderlength&#x27;, &#x27;sittingheight&#x27;, &#x27;sleevelengthspinewrist&#x27;, &#x27;sleeveoutseam&#x27;, &#x27;span&#x27;, &#x27;stature&#x27;, &#x27;suprasternaleheight&#x27;, &#x27;tenthribheight&#x27;, &#x27;thighcircumference&#x27;, &#x27;thighclearance&#x27;, &#x27;thumbtipreach&#x27;, &#x27;tibialheight&#x27;, &#x27;tragiontopofhead&#x27;, &#x27;trochanterionheight&#x27;, &#x27;verticaltrunkcircumferenceusa&#x27;, &#x27;waistbacklength&#x27;, &#x27;waistbreadth&#x27;, &#x27;waistcircumference&#x27;, &#x27;waistdepth&#x27;, &#x27;waistfrontlengthsitting&#x27;, &#x27;waistheightomphalion&#x27;, &#x27;weightkg&#x27;, &#x27;wristcircumference&#x27;, &#x27;wristheight&#x27;, &#x27;Age&#x27;]</pre></div></div></div><div class=\"sk-serial\"><div class=\"sk-item\"><div class=\"sk-estimator sk-toggleable\"><input class=\"sk-toggleable__control sk-hidden--visually\" id=\"sk-estimator-id-42\" type=\"checkbox\" ><label for=\"sk-estimator-id-42\" class=\"sk-toggleable__label sk-toggleable__label-arrow\">MinMaxScaler</label><div class=\"sk-toggleable__content\"><pre>MinMaxScaler()</pre></div></div></div></div></div></div></div></div><div class=\"sk-item\"><div class=\"sk-estimator sk-toggleable\"><input class=\"sk-toggleable__control sk-hidden--visually\" id=\"sk-estimator-id-43\" type=\"checkbox\" ><label for=\"sk-estimator-id-43\" class=\"sk-toggleable__label sk-toggleable__label-arrow\">SVC</label><div class=\"sk-toggleable__content\"><pre>SVC(random_state=101)</pre></div></div></div></div></div></div></div>"
      ],
      "text/plain": [
       "Pipeline(steps=[('OneHotEncoder',\n",
       "                 ColumnTransformer(remainder=MinMaxScaler(),\n",
       "                                   transformers=[('onehotencoder',\n",
       "                                                  OneHotEncoder(handle_unknown='ignore',\n",
       "                                                                sparse_output=False),\n",
       "                                                  ['Gender',\n",
       "                                                   'SubjectsBirthLocation',\n",
       "                                                   'WritingPreference'])],\n",
       "                                   verbose_feature_names_out=False)),\n",
       "                ('svc', SVC(random_state=101))])"
      ]
     },
     "execution_count": 79,
     "metadata": {},
     "output_type": "execute_result"
    }
   ],
   "source": [
    "#Here i will build the model with only random state and see the result\n",
    "operations = [('OneHotEncoder', trans), ('svc', SVC(random_state=101))]\n",
    "\n",
    "pipe_model = Pipeline(steps=operations)\n",
    "\n",
    "pipe_model.fit(X_train, y_train)"
   ]
  },
  {
   "cell_type": "code",
   "execution_count": 80,
   "metadata": {
    "scrolled": true
   },
   "outputs": [
    {
     "name": "stdout",
     "output_type": "stream",
     "text": [
      "Test_Set\n",
      "[[229   0  31]\n",
      " [  4  41  91]\n",
      " [  7   1 750]]\n",
      "              precision    recall  f1-score   support\n",
      "\n",
      "       Black       0.95      0.88      0.92       260\n",
      "    Hispanic       0.98      0.30      0.46       136\n",
      "       White       0.86      0.99      0.92       758\n",
      "\n",
      "    accuracy                           0.88      1154\n",
      "   macro avg       0.93      0.72      0.77      1154\n",
      "weighted avg       0.89      0.88      0.87      1154\n",
      "\n",
      "\n",
      "Train_Set\n",
      "[[ 923    3  112]\n",
      " [  38  139  366]\n",
      " [  15    5 3014]]\n",
      "              precision    recall  f1-score   support\n",
      "\n",
      "       Black       0.95      0.89      0.92      1038\n",
      "    Hispanic       0.95      0.26      0.40       543\n",
      "       White       0.86      0.99      0.92      3034\n",
      "\n",
      "    accuracy                           0.88      4615\n",
      "   macro avg       0.92      0.71      0.75      4615\n",
      "weighted avg       0.89      0.88      0.86      4615\n",
      "\n"
     ]
    }
   ],
   "source": [
    "eval_metric(pipe_model, X_train, y_train, X_test, y_test)\n",
    "#There is no overfitting"
   ]
  },
  {
   "cell_type": "code",
   "execution_count": 93,
   "metadata": {},
   "outputs": [
    {
     "data": {
      "text/html": [
       "<style>#sk-container-id-9 {color: black;}#sk-container-id-9 pre{padding: 0;}#sk-container-id-9 div.sk-toggleable {background-color: white;}#sk-container-id-9 label.sk-toggleable__label {cursor: pointer;display: block;width: 100%;margin-bottom: 0;padding: 0.3em;box-sizing: border-box;text-align: center;}#sk-container-id-9 label.sk-toggleable__label-arrow:before {content: \"▸\";float: left;margin-right: 0.25em;color: #696969;}#sk-container-id-9 label.sk-toggleable__label-arrow:hover:before {color: black;}#sk-container-id-9 div.sk-estimator:hover label.sk-toggleable__label-arrow:before {color: black;}#sk-container-id-9 div.sk-toggleable__content {max-height: 0;max-width: 0;overflow: hidden;text-align: left;background-color: #f0f8ff;}#sk-container-id-9 div.sk-toggleable__content pre {margin: 0.2em;color: black;border-radius: 0.25em;background-color: #f0f8ff;}#sk-container-id-9 input.sk-toggleable__control:checked~div.sk-toggleable__content {max-height: 200px;max-width: 100%;overflow: auto;}#sk-container-id-9 input.sk-toggleable__control:checked~label.sk-toggleable__label-arrow:before {content: \"▾\";}#sk-container-id-9 div.sk-estimator input.sk-toggleable__control:checked~label.sk-toggleable__label {background-color: #d4ebff;}#sk-container-id-9 div.sk-label input.sk-toggleable__control:checked~label.sk-toggleable__label {background-color: #d4ebff;}#sk-container-id-9 input.sk-hidden--visually {border: 0;clip: rect(1px 1px 1px 1px);clip: rect(1px, 1px, 1px, 1px);height: 1px;margin: -1px;overflow: hidden;padding: 0;position: absolute;width: 1px;}#sk-container-id-9 div.sk-estimator {font-family: monospace;background-color: #f0f8ff;border: 1px dotted black;border-radius: 0.25em;box-sizing: border-box;margin-bottom: 0.5em;}#sk-container-id-9 div.sk-estimator:hover {background-color: #d4ebff;}#sk-container-id-9 div.sk-parallel-item::after {content: \"\";width: 100%;border-bottom: 1px solid gray;flex-grow: 1;}#sk-container-id-9 div.sk-label:hover label.sk-toggleable__label {background-color: #d4ebff;}#sk-container-id-9 div.sk-serial::before {content: \"\";position: absolute;border-left: 1px solid gray;box-sizing: border-box;top: 0;bottom: 0;left: 50%;z-index: 0;}#sk-container-id-9 div.sk-serial {display: flex;flex-direction: column;align-items: center;background-color: white;padding-right: 0.2em;padding-left: 0.2em;position: relative;}#sk-container-id-9 div.sk-item {position: relative;z-index: 1;}#sk-container-id-9 div.sk-parallel {display: flex;align-items: stretch;justify-content: center;background-color: white;position: relative;}#sk-container-id-9 div.sk-item::before, #sk-container-id-9 div.sk-parallel-item::before {content: \"\";position: absolute;border-left: 1px solid gray;box-sizing: border-box;top: 0;bottom: 0;left: 50%;z-index: -1;}#sk-container-id-9 div.sk-parallel-item {display: flex;flex-direction: column;z-index: 1;position: relative;background-color: white;}#sk-container-id-9 div.sk-parallel-item:first-child::after {align-self: flex-end;width: 50%;}#sk-container-id-9 div.sk-parallel-item:last-child::after {align-self: flex-start;width: 50%;}#sk-container-id-9 div.sk-parallel-item:only-child::after {width: 0;}#sk-container-id-9 div.sk-dashed-wrapped {border: 1px dashed gray;margin: 0 0.4em 0.5em 0.4em;box-sizing: border-box;padding-bottom: 0.4em;background-color: white;}#sk-container-id-9 div.sk-label label {font-family: monospace;font-weight: bold;display: inline-block;line-height: 1.2em;}#sk-container-id-9 div.sk-label-container {text-align: center;}#sk-container-id-9 div.sk-container {/* jupyter's `normalize.less` sets `[hidden] { display: none; }` but bootstrap.min.css set `[hidden] { display: none !important; }` so we also need the `!important` here to be able to override the default hidden behavior on the sphinx rendered scikit-learn.org. See: https://github.com/scikit-learn/scikit-learn/issues/21755 */display: inline-block !important;position: relative;}#sk-container-id-9 div.sk-text-repr-fallback {display: none;}</style><div id=\"sk-container-id-9\" class=\"sk-top-container\"><div class=\"sk-text-repr-fallback\"><pre>Pipeline(steps=[(&#x27;OneHotEncoder&#x27;,\n",
       "                 ColumnTransformer(remainder=MinMaxScaler(),\n",
       "                                   transformers=[(&#x27;onehotencoder&#x27;,\n",
       "                                                  OneHotEncoder(handle_unknown=&#x27;ignore&#x27;,\n",
       "                                                                sparse_output=False),\n",
       "                                                  [&#x27;Gender&#x27;,\n",
       "                                                   &#x27;SubjectsBirthLocation&#x27;,\n",
       "                                                   &#x27;WritingPreference&#x27;])],\n",
       "                                   verbose_feature_names_out=False)),\n",
       "                (&#x27;svc&#x27;, SVC(class_weight=&#x27;balanced&#x27;, random_state=101))])</pre><b>In a Jupyter environment, please rerun this cell to show the HTML representation or trust the notebook. <br />On GitHub, the HTML representation is unable to render, please try loading this page with nbviewer.org.</b></div><div class=\"sk-container\" hidden><div class=\"sk-item sk-dashed-wrapped\"><div class=\"sk-label-container\"><div class=\"sk-label sk-toggleable\"><input class=\"sk-toggleable__control sk-hidden--visually\" id=\"sk-estimator-id-58\" type=\"checkbox\" ><label for=\"sk-estimator-id-58\" class=\"sk-toggleable__label sk-toggleable__label-arrow\">Pipeline</label><div class=\"sk-toggleable__content\"><pre>Pipeline(steps=[(&#x27;OneHotEncoder&#x27;,\n",
       "                 ColumnTransformer(remainder=MinMaxScaler(),\n",
       "                                   transformers=[(&#x27;onehotencoder&#x27;,\n",
       "                                                  OneHotEncoder(handle_unknown=&#x27;ignore&#x27;,\n",
       "                                                                sparse_output=False),\n",
       "                                                  [&#x27;Gender&#x27;,\n",
       "                                                   &#x27;SubjectsBirthLocation&#x27;,\n",
       "                                                   &#x27;WritingPreference&#x27;])],\n",
       "                                   verbose_feature_names_out=False)),\n",
       "                (&#x27;svc&#x27;, SVC(class_weight=&#x27;balanced&#x27;, random_state=101))])</pre></div></div></div><div class=\"sk-serial\"><div class=\"sk-item sk-dashed-wrapped\"><div class=\"sk-label-container\"><div class=\"sk-label sk-toggleable\"><input class=\"sk-toggleable__control sk-hidden--visually\" id=\"sk-estimator-id-59\" type=\"checkbox\" ><label for=\"sk-estimator-id-59\" class=\"sk-toggleable__label sk-toggleable__label-arrow\">OneHotEncoder: ColumnTransformer</label><div class=\"sk-toggleable__content\"><pre>ColumnTransformer(remainder=MinMaxScaler(),\n",
       "                  transformers=[(&#x27;onehotencoder&#x27;,\n",
       "                                 OneHotEncoder(handle_unknown=&#x27;ignore&#x27;,\n",
       "                                               sparse_output=False),\n",
       "                                 [&#x27;Gender&#x27;, &#x27;SubjectsBirthLocation&#x27;,\n",
       "                                  &#x27;WritingPreference&#x27;])],\n",
       "                  verbose_feature_names_out=False)</pre></div></div></div><div class=\"sk-parallel\"><div class=\"sk-parallel-item\"><div class=\"sk-item\"><div class=\"sk-label-container\"><div class=\"sk-label sk-toggleable\"><input class=\"sk-toggleable__control sk-hidden--visually\" id=\"sk-estimator-id-60\" type=\"checkbox\" ><label for=\"sk-estimator-id-60\" class=\"sk-toggleable__label sk-toggleable__label-arrow\">onehotencoder</label><div class=\"sk-toggleable__content\"><pre>[&#x27;Gender&#x27;, &#x27;SubjectsBirthLocation&#x27;, &#x27;WritingPreference&#x27;]</pre></div></div></div><div class=\"sk-serial\"><div class=\"sk-item\"><div class=\"sk-estimator sk-toggleable\"><input class=\"sk-toggleable__control sk-hidden--visually\" id=\"sk-estimator-id-61\" type=\"checkbox\" ><label for=\"sk-estimator-id-61\" class=\"sk-toggleable__label sk-toggleable__label-arrow\">OneHotEncoder</label><div class=\"sk-toggleable__content\"><pre>OneHotEncoder(handle_unknown=&#x27;ignore&#x27;, sparse_output=False)</pre></div></div></div></div></div></div><div class=\"sk-parallel-item\"><div class=\"sk-item\"><div class=\"sk-label-container\"><div class=\"sk-label sk-toggleable\"><input class=\"sk-toggleable__control sk-hidden--visually\" id=\"sk-estimator-id-62\" type=\"checkbox\" ><label for=\"sk-estimator-id-62\" class=\"sk-toggleable__label sk-toggleable__label-arrow\">remainder</label><div class=\"sk-toggleable__content\"><pre>[&#x27;abdominalextensiondepthsitting&#x27;, &#x27;acromialheight&#x27;, &#x27;acromionradialelength&#x27;, &#x27;anklecircumference&#x27;, &#x27;axillaheight&#x27;, &#x27;balloffootcircumference&#x27;, &#x27;balloffootlength&#x27;, &#x27;biacromialbreadth&#x27;, &#x27;bicepscircumferenceflexed&#x27;, &#x27;bicristalbreadth&#x27;, &#x27;bideltoidbreadth&#x27;, &#x27;bimalleolarbreadth&#x27;, &#x27;bitragionchinarc&#x27;, &#x27;bitragionsubmandibulararc&#x27;, &#x27;bizygomaticbreadth&#x27;, &#x27;buttockcircumference&#x27;, &#x27;buttockdepth&#x27;, &#x27;buttockheight&#x27;, &#x27;buttockkneelength&#x27;, &#x27;buttockpopliteallength&#x27;, &#x27;calfcircumference&#x27;, &#x27;cervicaleheight&#x27;, &#x27;chestbreadth&#x27;, &#x27;chestcircumference&#x27;, &#x27;chestdepth&#x27;, &#x27;chestheight&#x27;, &#x27;crotchheight&#x27;, &#x27;crotchlengthomphalion&#x27;, &#x27;crotchlengthposterioromphalion&#x27;, &#x27;earbreadth&#x27;, &#x27;earlength&#x27;, &#x27;earprotrusion&#x27;, &#x27;elbowrestheight&#x27;, &#x27;eyeheightsitting&#x27;, &#x27;footbreadthhorizontal&#x27;, &#x27;footlength&#x27;, &#x27;forearmcenterofgriplength&#x27;, &#x27;forearmcircumferenceflexed&#x27;, &#x27;forearmforearmbreadth&#x27;, &#x27;forearmhandlength&#x27;, &#x27;functionalleglength&#x27;, &#x27;handbreadth&#x27;, &#x27;handcircumference&#x27;, &#x27;handlength&#x27;, &#x27;headbreadth&#x27;, &#x27;headcircumference&#x27;, &#x27;headlength&#x27;, &#x27;heelanklecircumference&#x27;, &#x27;heelbreadth&#x27;, &#x27;hipbreadth&#x27;, &#x27;hipbreadthsitting&#x27;, &#x27;iliocristaleheight&#x27;, &#x27;interpupillarybreadth&#x27;, &#x27;interscyei&#x27;, &#x27;interscyeii&#x27;, &#x27;kneeheightmidpatella&#x27;, &#x27;kneeheightsitting&#x27;, &#x27;lateralfemoralepicondyleheight&#x27;, &#x27;lateralmalleolusheight&#x27;, &#x27;lowerthighcircumference&#x27;, &#x27;mentonsellionlength&#x27;, &#x27;neckcircumference&#x27;, &#x27;neckcircumferencebase&#x27;, &#x27;overheadfingertipreachsitting&#x27;, &#x27;palmlength&#x27;, &#x27;poplitealheight&#x27;, &#x27;radialestylionlength&#x27;, &#x27;shouldercircumference&#x27;, &#x27;shoulderelbowlength&#x27;, &#x27;shoulderlength&#x27;, &#x27;sittingheight&#x27;, &#x27;sleevelengthspinewrist&#x27;, &#x27;sleeveoutseam&#x27;, &#x27;span&#x27;, &#x27;stature&#x27;, &#x27;suprasternaleheight&#x27;, &#x27;tenthribheight&#x27;, &#x27;thighcircumference&#x27;, &#x27;thighclearance&#x27;, &#x27;thumbtipreach&#x27;, &#x27;tibialheight&#x27;, &#x27;tragiontopofhead&#x27;, &#x27;trochanterionheight&#x27;, &#x27;verticaltrunkcircumferenceusa&#x27;, &#x27;waistbacklength&#x27;, &#x27;waistbreadth&#x27;, &#x27;waistcircumference&#x27;, &#x27;waistdepth&#x27;, &#x27;waistfrontlengthsitting&#x27;, &#x27;waistheightomphalion&#x27;, &#x27;weightkg&#x27;, &#x27;wristcircumference&#x27;, &#x27;wristheight&#x27;, &#x27;Age&#x27;]</pre></div></div></div><div class=\"sk-serial\"><div class=\"sk-item\"><div class=\"sk-estimator sk-toggleable\"><input class=\"sk-toggleable__control sk-hidden--visually\" id=\"sk-estimator-id-63\" type=\"checkbox\" ><label for=\"sk-estimator-id-63\" class=\"sk-toggleable__label sk-toggleable__label-arrow\">MinMaxScaler</label><div class=\"sk-toggleable__content\"><pre>MinMaxScaler()</pre></div></div></div></div></div></div></div></div><div class=\"sk-item\"><div class=\"sk-estimator sk-toggleable\"><input class=\"sk-toggleable__control sk-hidden--visually\" id=\"sk-estimator-id-64\" type=\"checkbox\" ><label for=\"sk-estimator-id-64\" class=\"sk-toggleable__label sk-toggleable__label-arrow\">SVC</label><div class=\"sk-toggleable__content\"><pre>SVC(class_weight=&#x27;balanced&#x27;, random_state=101)</pre></div></div></div></div></div></div></div>"
      ],
      "text/plain": [
       "Pipeline(steps=[('OneHotEncoder',\n",
       "                 ColumnTransformer(remainder=MinMaxScaler(),\n",
       "                                   transformers=[('onehotencoder',\n",
       "                                                  OneHotEncoder(handle_unknown='ignore',\n",
       "                                                                sparse_output=False),\n",
       "                                                  ['Gender',\n",
       "                                                   'SubjectsBirthLocation',\n",
       "                                                   'WritingPreference'])],\n",
       "                                   verbose_feature_names_out=False)),\n",
       "                ('svc', SVC(class_weight='balanced', random_state=101))])"
      ]
     },
     "execution_count": 93,
     "metadata": {},
     "output_type": "execute_result"
    }
   ],
   "source": [
    "operations = [('OneHotEncoder', trans), ('svc', SVC(class_weight=\"balanced\", random_state=101))]\n",
    "\n",
    "pipe_model2 = Pipeline(steps=operations)\n",
    "\n",
    "pipe_model2.fit(X_train, y_train)"
   ]
  },
  {
   "cell_type": "code",
   "execution_count": 94,
   "metadata": {},
   "outputs": [
    {
     "name": "stdout",
     "output_type": "stream",
     "text": [
      "Test_Set\n",
      "[[240  12   8]\n",
      " [  5 111  20]\n",
      " [ 20 109 629]]\n",
      "              precision    recall  f1-score   support\n",
      "\n",
      "       Black       0.91      0.92      0.91       260\n",
      "    Hispanic       0.48      0.82      0.60       136\n",
      "       White       0.96      0.83      0.89       758\n",
      "\n",
      "    accuracy                           0.85      1154\n",
      "   macro avg       0.78      0.86      0.80      1154\n",
      "weighted avg       0.89      0.85      0.86      1154\n",
      "\n",
      "\n",
      "Train_Set\n",
      "[[ 956   42   40]\n",
      " [  23  456   64]\n",
      " [  54  426 2554]]\n",
      "              precision    recall  f1-score   support\n",
      "\n",
      "       Black       0.93      0.92      0.92      1038\n",
      "    Hispanic       0.49      0.84      0.62       543\n",
      "       White       0.96      0.84      0.90      3034\n",
      "\n",
      "    accuracy                           0.86      4615\n",
      "   macro avg       0.79      0.87      0.81      4615\n",
      "weighted avg       0.90      0.86      0.87      4615\n",
      "\n"
     ]
    }
   ],
   "source": [
    "eval_metric(pipe_model2, X_train, y_train, X_test, y_test)\n",
    "#There is no overfitting\n",
    "#The results for Hispanic in the recall now is better"
   ]
  },
  {
   "cell_type": "code",
   "execution_count": 95,
   "metadata": {},
   "outputs": [
    {
     "data": {
      "text/plain": [
       "test_precision_Hispanic    0.451\n",
       "train_precision_Hispanic   0.495\n",
       "test_recall_Hispanic       0.760\n",
       "train_recall_Hispanic      0.835\n",
       "test_f1_Hispanic           0.565\n",
       "train_f1_Hispanic          0.622\n",
       "dtype: float64"
      ]
     },
     "execution_count": 95,
     "metadata": {},
     "output_type": "execute_result"
    }
   ],
   "source": [
    "#Now, the cross_validate part\n",
    "scoring = {\n",
    "    \"precision_Hispanic\": make_scorer(\n",
    "        precision_score, average=None, labels=[\"Hispanic\"]\n",
    "    ),\n",
    "    \"recall_Hispanic\": make_scorer(recall_score, average=None, labels=[\"Hispanic\"]),\n",
    "    \"f1_Hispanic\": make_scorer(f1_score, average=None, labels=[\"Hispanic\"]),\n",
    "}\n",
    "\n",
    "operations = [('OneHotEncoder', trans), ('svc', SVC(class_weight=\"balanced\", random_state=101))]\n",
    "\n",
    "cv_model = Pipeline(steps=operations)\n",
    "\n",
    "scores = cross_validate(cv_model, X_train, y_train, scoring=scoring, cv=10, n_jobs=-1, return_train_score=True)\n",
    "\n",
    "df_scores = pd.DataFrame(scores, index=range(1, 11))\n",
    "df_scores.mean()[2:]\n",
    "\n",
    "#As we can see from the scores, the recall scores is better"
   ]
  },
  {
   "cell_type": "code",
   "execution_count": 96,
   "metadata": {},
   "outputs": [
    {
     "data": {
      "text/plain": [
       "{'memory': None,\n",
       " 'steps': [('OneHotEncoder',\n",
       "   ColumnTransformer(remainder=MinMaxScaler(),\n",
       "                     transformers=[('onehotencoder',\n",
       "                                    OneHotEncoder(handle_unknown='ignore',\n",
       "                                                  sparse_output=False),\n",
       "                                    ['Gender', 'SubjectsBirthLocation',\n",
       "                                     'WritingPreference'])],\n",
       "                     verbose_feature_names_out=False)),\n",
       "  ('svc', SVC(class_weight='balanced', random_state=101))],\n",
       " 'verbose': False,\n",
       " 'OneHotEncoder': ColumnTransformer(remainder=MinMaxScaler(),\n",
       "                   transformers=[('onehotencoder',\n",
       "                                  OneHotEncoder(handle_unknown='ignore',\n",
       "                                                sparse_output=False),\n",
       "                                  ['Gender', 'SubjectsBirthLocation',\n",
       "                                   'WritingPreference'])],\n",
       "                   verbose_feature_names_out=False),\n",
       " 'svc': SVC(class_weight='balanced', random_state=101),\n",
       " 'OneHotEncoder__n_jobs': None,\n",
       " 'OneHotEncoder__remainder__clip': False,\n",
       " 'OneHotEncoder__remainder__copy': True,\n",
       " 'OneHotEncoder__remainder__feature_range': (0, 1),\n",
       " 'OneHotEncoder__remainder': MinMaxScaler(),\n",
       " 'OneHotEncoder__sparse_threshold': 0.3,\n",
       " 'OneHotEncoder__transformer_weights': None,\n",
       " 'OneHotEncoder__transformers': [('onehotencoder',\n",
       "   OneHotEncoder(handle_unknown='ignore', sparse_output=False),\n",
       "   ['Gender', 'SubjectsBirthLocation', 'WritingPreference'])],\n",
       " 'OneHotEncoder__verbose': False,\n",
       " 'OneHotEncoder__verbose_feature_names_out': False,\n",
       " 'OneHotEncoder__onehotencoder': OneHotEncoder(handle_unknown='ignore', sparse_output=False),\n",
       " 'OneHotEncoder__onehotencoder__categories': 'auto',\n",
       " 'OneHotEncoder__onehotencoder__drop': None,\n",
       " 'OneHotEncoder__onehotencoder__dtype': numpy.float64,\n",
       " 'OneHotEncoder__onehotencoder__feature_name_combiner': 'concat',\n",
       " 'OneHotEncoder__onehotencoder__handle_unknown': 'ignore',\n",
       " 'OneHotEncoder__onehotencoder__max_categories': None,\n",
       " 'OneHotEncoder__onehotencoder__min_frequency': None,\n",
       " 'OneHotEncoder__onehotencoder__sparse': 'deprecated',\n",
       " 'OneHotEncoder__onehotencoder__sparse_output': False,\n",
       " 'svc__C': 1.0,\n",
       " 'svc__break_ties': False,\n",
       " 'svc__cache_size': 200,\n",
       " 'svc__class_weight': 'balanced',\n",
       " 'svc__coef0': 0.0,\n",
       " 'svc__decision_function_shape': 'ovr',\n",
       " 'svc__degree': 3,\n",
       " 'svc__gamma': 'scale',\n",
       " 'svc__kernel': 'rbf',\n",
       " 'svc__max_iter': -1,\n",
       " 'svc__probability': False,\n",
       " 'svc__random_state': 101,\n",
       " 'svc__shrinking': True,\n",
       " 'svc__tol': 0.001,\n",
       " 'svc__verbose': False}"
      ]
     },
     "execution_count": 96,
     "metadata": {},
     "output_type": "execute_result"
    }
   ],
   "source": [
    "pipe_model2.get_params()"
   ]
  },
  {
   "cell_type": "markdown",
   "metadata": {
    "heading_collapsed": true,
    "hidden": true,
    "id": "28y9nWxG1b7E"
   },
   "source": [
    "###  SVC Model GridsearchCV"
   ]
  },
  {
   "cell_type": "code",
   "execution_count": 97,
   "metadata": {
    "id": "4dFocgCo1-0Z",
    "scrolled": true
   },
   "outputs": [
    {
     "data": {
      "text/html": [
       "<style>#sk-container-id-10 {color: black;}#sk-container-id-10 pre{padding: 0;}#sk-container-id-10 div.sk-toggleable {background-color: white;}#sk-container-id-10 label.sk-toggleable__label {cursor: pointer;display: block;width: 100%;margin-bottom: 0;padding: 0.3em;box-sizing: border-box;text-align: center;}#sk-container-id-10 label.sk-toggleable__label-arrow:before {content: \"▸\";float: left;margin-right: 0.25em;color: #696969;}#sk-container-id-10 label.sk-toggleable__label-arrow:hover:before {color: black;}#sk-container-id-10 div.sk-estimator:hover label.sk-toggleable__label-arrow:before {color: black;}#sk-container-id-10 div.sk-toggleable__content {max-height: 0;max-width: 0;overflow: hidden;text-align: left;background-color: #f0f8ff;}#sk-container-id-10 div.sk-toggleable__content pre {margin: 0.2em;color: black;border-radius: 0.25em;background-color: #f0f8ff;}#sk-container-id-10 input.sk-toggleable__control:checked~div.sk-toggleable__content {max-height: 200px;max-width: 100%;overflow: auto;}#sk-container-id-10 input.sk-toggleable__control:checked~label.sk-toggleable__label-arrow:before {content: \"▾\";}#sk-container-id-10 div.sk-estimator input.sk-toggleable__control:checked~label.sk-toggleable__label {background-color: #d4ebff;}#sk-container-id-10 div.sk-label input.sk-toggleable__control:checked~label.sk-toggleable__label {background-color: #d4ebff;}#sk-container-id-10 input.sk-hidden--visually {border: 0;clip: rect(1px 1px 1px 1px);clip: rect(1px, 1px, 1px, 1px);height: 1px;margin: -1px;overflow: hidden;padding: 0;position: absolute;width: 1px;}#sk-container-id-10 div.sk-estimator {font-family: monospace;background-color: #f0f8ff;border: 1px dotted black;border-radius: 0.25em;box-sizing: border-box;margin-bottom: 0.5em;}#sk-container-id-10 div.sk-estimator:hover {background-color: #d4ebff;}#sk-container-id-10 div.sk-parallel-item::after {content: \"\";width: 100%;border-bottom: 1px solid gray;flex-grow: 1;}#sk-container-id-10 div.sk-label:hover label.sk-toggleable__label {background-color: #d4ebff;}#sk-container-id-10 div.sk-serial::before {content: \"\";position: absolute;border-left: 1px solid gray;box-sizing: border-box;top: 0;bottom: 0;left: 50%;z-index: 0;}#sk-container-id-10 div.sk-serial {display: flex;flex-direction: column;align-items: center;background-color: white;padding-right: 0.2em;padding-left: 0.2em;position: relative;}#sk-container-id-10 div.sk-item {position: relative;z-index: 1;}#sk-container-id-10 div.sk-parallel {display: flex;align-items: stretch;justify-content: center;background-color: white;position: relative;}#sk-container-id-10 div.sk-item::before, #sk-container-id-10 div.sk-parallel-item::before {content: \"\";position: absolute;border-left: 1px solid gray;box-sizing: border-box;top: 0;bottom: 0;left: 50%;z-index: -1;}#sk-container-id-10 div.sk-parallel-item {display: flex;flex-direction: column;z-index: 1;position: relative;background-color: white;}#sk-container-id-10 div.sk-parallel-item:first-child::after {align-self: flex-end;width: 50%;}#sk-container-id-10 div.sk-parallel-item:last-child::after {align-self: flex-start;width: 50%;}#sk-container-id-10 div.sk-parallel-item:only-child::after {width: 0;}#sk-container-id-10 div.sk-dashed-wrapped {border: 1px dashed gray;margin: 0 0.4em 0.5em 0.4em;box-sizing: border-box;padding-bottom: 0.4em;background-color: white;}#sk-container-id-10 div.sk-label label {font-family: monospace;font-weight: bold;display: inline-block;line-height: 1.2em;}#sk-container-id-10 div.sk-label-container {text-align: center;}#sk-container-id-10 div.sk-container {/* jupyter's `normalize.less` sets `[hidden] { display: none; }` but bootstrap.min.css set `[hidden] { display: none !important; }` so we also need the `!important` here to be able to override the default hidden behavior on the sphinx rendered scikit-learn.org. See: https://github.com/scikit-learn/scikit-learn/issues/21755 */display: inline-block !important;position: relative;}#sk-container-id-10 div.sk-text-repr-fallback {display: none;}</style><div id=\"sk-container-id-10\" class=\"sk-top-container\"><div class=\"sk-text-repr-fallback\"><pre>GridSearchCV(cv=10,\n",
       "             estimator=Pipeline(steps=[(&#x27;OneHotEncoder&#x27;,\n",
       "                                        ColumnTransformer(remainder=MinMaxScaler(),\n",
       "                                                          transformers=[(&#x27;onehotencoder&#x27;,\n",
       "                                                                         OneHotEncoder(handle_unknown=&#x27;ignore&#x27;,\n",
       "                                                                                       sparse_output=False),\n",
       "                                                                         [&#x27;Gender&#x27;,\n",
       "                                                                          &#x27;SubjectsBirthLocation&#x27;,\n",
       "                                                                          &#x27;WritingPreference&#x27;])],\n",
       "                                                          verbose_feature_names_out=False)),\n",
       "                                       (&#x27;svc&#x27;,\n",
       "                                        SVC(class_weight=&#x27;balanced&#x27;,\n",
       "                                            random_state=101))]),\n",
       "             n_jobs=-1,\n",
       "             param_grid={&#x27;svc__C&#x27;: [0.5, 1],\n",
       "                         &#x27;svc__gamma&#x27;: [&#x27;scale&#x27;, &#x27;auto&#x27;, 0.01]},\n",
       "             return_train_score=True,\n",
       "             scoring=make_scorer(recall_score, average=None, labels=[&#x27;Hispanic&#x27;]))</pre><b>In a Jupyter environment, please rerun this cell to show the HTML representation or trust the notebook. <br />On GitHub, the HTML representation is unable to render, please try loading this page with nbviewer.org.</b></div><div class=\"sk-container\" hidden><div class=\"sk-item sk-dashed-wrapped\"><div class=\"sk-label-container\"><div class=\"sk-label sk-toggleable\"><input class=\"sk-toggleable__control sk-hidden--visually\" id=\"sk-estimator-id-65\" type=\"checkbox\" ><label for=\"sk-estimator-id-65\" class=\"sk-toggleable__label sk-toggleable__label-arrow\">GridSearchCV</label><div class=\"sk-toggleable__content\"><pre>GridSearchCV(cv=10,\n",
       "             estimator=Pipeline(steps=[(&#x27;OneHotEncoder&#x27;,\n",
       "                                        ColumnTransformer(remainder=MinMaxScaler(),\n",
       "                                                          transformers=[(&#x27;onehotencoder&#x27;,\n",
       "                                                                         OneHotEncoder(handle_unknown=&#x27;ignore&#x27;,\n",
       "                                                                                       sparse_output=False),\n",
       "                                                                         [&#x27;Gender&#x27;,\n",
       "                                                                          &#x27;SubjectsBirthLocation&#x27;,\n",
       "                                                                          &#x27;WritingPreference&#x27;])],\n",
       "                                                          verbose_feature_names_out=False)),\n",
       "                                       (&#x27;svc&#x27;,\n",
       "                                        SVC(class_weight=&#x27;balanced&#x27;,\n",
       "                                            random_state=101))]),\n",
       "             n_jobs=-1,\n",
       "             param_grid={&#x27;svc__C&#x27;: [0.5, 1],\n",
       "                         &#x27;svc__gamma&#x27;: [&#x27;scale&#x27;, &#x27;auto&#x27;, 0.01]},\n",
       "             return_train_score=True,\n",
       "             scoring=make_scorer(recall_score, average=None, labels=[&#x27;Hispanic&#x27;]))</pre></div></div></div><div class=\"sk-parallel\"><div class=\"sk-parallel-item\"><div class=\"sk-item\"><div class=\"sk-label-container\"><div class=\"sk-label sk-toggleable\"><input class=\"sk-toggleable__control sk-hidden--visually\" id=\"sk-estimator-id-66\" type=\"checkbox\" ><label for=\"sk-estimator-id-66\" class=\"sk-toggleable__label sk-toggleable__label-arrow\">estimator: Pipeline</label><div class=\"sk-toggleable__content\"><pre>Pipeline(steps=[(&#x27;OneHotEncoder&#x27;,\n",
       "                 ColumnTransformer(remainder=MinMaxScaler(),\n",
       "                                   transformers=[(&#x27;onehotencoder&#x27;,\n",
       "                                                  OneHotEncoder(handle_unknown=&#x27;ignore&#x27;,\n",
       "                                                                sparse_output=False),\n",
       "                                                  [&#x27;Gender&#x27;,\n",
       "                                                   &#x27;SubjectsBirthLocation&#x27;,\n",
       "                                                   &#x27;WritingPreference&#x27;])],\n",
       "                                   verbose_feature_names_out=False)),\n",
       "                (&#x27;svc&#x27;, SVC(class_weight=&#x27;balanced&#x27;, random_state=101))])</pre></div></div></div><div class=\"sk-serial\"><div class=\"sk-item\"><div class=\"sk-serial\"><div class=\"sk-item sk-dashed-wrapped\"><div class=\"sk-label-container\"><div class=\"sk-label sk-toggleable\"><input class=\"sk-toggleable__control sk-hidden--visually\" id=\"sk-estimator-id-67\" type=\"checkbox\" ><label for=\"sk-estimator-id-67\" class=\"sk-toggleable__label sk-toggleable__label-arrow\">OneHotEncoder: ColumnTransformer</label><div class=\"sk-toggleable__content\"><pre>ColumnTransformer(remainder=MinMaxScaler(),\n",
       "                  transformers=[(&#x27;onehotencoder&#x27;,\n",
       "                                 OneHotEncoder(handle_unknown=&#x27;ignore&#x27;,\n",
       "                                               sparse_output=False),\n",
       "                                 [&#x27;Gender&#x27;, &#x27;SubjectsBirthLocation&#x27;,\n",
       "                                  &#x27;WritingPreference&#x27;])],\n",
       "                  verbose_feature_names_out=False)</pre></div></div></div><div class=\"sk-parallel\"><div class=\"sk-parallel-item\"><div class=\"sk-item\"><div class=\"sk-label-container\"><div class=\"sk-label sk-toggleable\"><input class=\"sk-toggleable__control sk-hidden--visually\" id=\"sk-estimator-id-68\" type=\"checkbox\" ><label for=\"sk-estimator-id-68\" class=\"sk-toggleable__label sk-toggleable__label-arrow\">onehotencoder</label><div class=\"sk-toggleable__content\"><pre>[&#x27;Gender&#x27;, &#x27;SubjectsBirthLocation&#x27;, &#x27;WritingPreference&#x27;]</pre></div></div></div><div class=\"sk-serial\"><div class=\"sk-item\"><div class=\"sk-estimator sk-toggleable\"><input class=\"sk-toggleable__control sk-hidden--visually\" id=\"sk-estimator-id-69\" type=\"checkbox\" ><label for=\"sk-estimator-id-69\" class=\"sk-toggleable__label sk-toggleable__label-arrow\">OneHotEncoder</label><div class=\"sk-toggleable__content\"><pre>OneHotEncoder(handle_unknown=&#x27;ignore&#x27;, sparse_output=False)</pre></div></div></div></div></div></div><div class=\"sk-parallel-item\"><div class=\"sk-item\"><div class=\"sk-label-container\"><div class=\"sk-label sk-toggleable\"><input class=\"sk-toggleable__control sk-hidden--visually\" id=\"sk-estimator-id-70\" type=\"checkbox\" ><label for=\"sk-estimator-id-70\" class=\"sk-toggleable__label sk-toggleable__label-arrow\">remainder</label><div class=\"sk-toggleable__content\"><pre>[&#x27;abdominalextensiondepthsitting&#x27;, &#x27;acromialheight&#x27;, &#x27;acromionradialelength&#x27;, &#x27;anklecircumference&#x27;, &#x27;axillaheight&#x27;, &#x27;balloffootcircumference&#x27;, &#x27;balloffootlength&#x27;, &#x27;biacromialbreadth&#x27;, &#x27;bicepscircumferenceflexed&#x27;, &#x27;bicristalbreadth&#x27;, &#x27;bideltoidbreadth&#x27;, &#x27;bimalleolarbreadth&#x27;, &#x27;bitragionchinarc&#x27;, &#x27;bitragionsubmandibulararc&#x27;, &#x27;bizygomaticbreadth&#x27;, &#x27;buttockcircumference&#x27;, &#x27;buttockdepth&#x27;, &#x27;buttockheight&#x27;, &#x27;buttockkneelength&#x27;, &#x27;buttockpopliteallength&#x27;, &#x27;calfcircumference&#x27;, &#x27;cervicaleheight&#x27;, &#x27;chestbreadth&#x27;, &#x27;chestcircumference&#x27;, &#x27;chestdepth&#x27;, &#x27;chestheight&#x27;, &#x27;crotchheight&#x27;, &#x27;crotchlengthomphalion&#x27;, &#x27;crotchlengthposterioromphalion&#x27;, &#x27;earbreadth&#x27;, &#x27;earlength&#x27;, &#x27;earprotrusion&#x27;, &#x27;elbowrestheight&#x27;, &#x27;eyeheightsitting&#x27;, &#x27;footbreadthhorizontal&#x27;, &#x27;footlength&#x27;, &#x27;forearmcenterofgriplength&#x27;, &#x27;forearmcircumferenceflexed&#x27;, &#x27;forearmforearmbreadth&#x27;, &#x27;forearmhandlength&#x27;, &#x27;functionalleglength&#x27;, &#x27;handbreadth&#x27;, &#x27;handcircumference&#x27;, &#x27;handlength&#x27;, &#x27;headbreadth&#x27;, &#x27;headcircumference&#x27;, &#x27;headlength&#x27;, &#x27;heelanklecircumference&#x27;, &#x27;heelbreadth&#x27;, &#x27;hipbreadth&#x27;, &#x27;hipbreadthsitting&#x27;, &#x27;iliocristaleheight&#x27;, &#x27;interpupillarybreadth&#x27;, &#x27;interscyei&#x27;, &#x27;interscyeii&#x27;, &#x27;kneeheightmidpatella&#x27;, &#x27;kneeheightsitting&#x27;, &#x27;lateralfemoralepicondyleheight&#x27;, &#x27;lateralmalleolusheight&#x27;, &#x27;lowerthighcircumference&#x27;, &#x27;mentonsellionlength&#x27;, &#x27;neckcircumference&#x27;, &#x27;neckcircumferencebase&#x27;, &#x27;overheadfingertipreachsitting&#x27;, &#x27;palmlength&#x27;, &#x27;poplitealheight&#x27;, &#x27;radialestylionlength&#x27;, &#x27;shouldercircumference&#x27;, &#x27;shoulderelbowlength&#x27;, &#x27;shoulderlength&#x27;, &#x27;sittingheight&#x27;, &#x27;sleevelengthspinewrist&#x27;, &#x27;sleeveoutseam&#x27;, &#x27;span&#x27;, &#x27;stature&#x27;, &#x27;suprasternaleheight&#x27;, &#x27;tenthribheight&#x27;, &#x27;thighcircumference&#x27;, &#x27;thighclearance&#x27;, &#x27;thumbtipreach&#x27;, &#x27;tibialheight&#x27;, &#x27;tragiontopofhead&#x27;, &#x27;trochanterionheight&#x27;, &#x27;verticaltrunkcircumferenceusa&#x27;, &#x27;waistbacklength&#x27;, &#x27;waistbreadth&#x27;, &#x27;waistcircumference&#x27;, &#x27;waistdepth&#x27;, &#x27;waistfrontlengthsitting&#x27;, &#x27;waistheightomphalion&#x27;, &#x27;weightkg&#x27;, &#x27;wristcircumference&#x27;, &#x27;wristheight&#x27;, &#x27;Age&#x27;]</pre></div></div></div><div class=\"sk-serial\"><div class=\"sk-item\"><div class=\"sk-estimator sk-toggleable\"><input class=\"sk-toggleable__control sk-hidden--visually\" id=\"sk-estimator-id-71\" type=\"checkbox\" ><label for=\"sk-estimator-id-71\" class=\"sk-toggleable__label sk-toggleable__label-arrow\">MinMaxScaler</label><div class=\"sk-toggleable__content\"><pre>MinMaxScaler()</pre></div></div></div></div></div></div></div></div><div class=\"sk-item\"><div class=\"sk-estimator sk-toggleable\"><input class=\"sk-toggleable__control sk-hidden--visually\" id=\"sk-estimator-id-72\" type=\"checkbox\" ><label for=\"sk-estimator-id-72\" class=\"sk-toggleable__label sk-toggleable__label-arrow\">SVC</label><div class=\"sk-toggleable__content\"><pre>SVC(class_weight=&#x27;balanced&#x27;, random_state=101)</pre></div></div></div></div></div></div></div></div></div></div></div></div>"
      ],
      "text/plain": [
       "GridSearchCV(cv=10,\n",
       "             estimator=Pipeline(steps=[('OneHotEncoder',\n",
       "                                        ColumnTransformer(remainder=MinMaxScaler(),\n",
       "                                                          transformers=[('onehotencoder',\n",
       "                                                                         OneHotEncoder(handle_unknown='ignore',\n",
       "                                                                                       sparse_output=False),\n",
       "                                                                         ['Gender',\n",
       "                                                                          'SubjectsBirthLocation',\n",
       "                                                                          'WritingPreference'])],\n",
       "                                                          verbose_feature_names_out=False)),\n",
       "                                       ('svc',\n",
       "                                        SVC(class_weight='balanced',\n",
       "                                            random_state=101))]),\n",
       "             n_jobs=-1,\n",
       "             param_grid={'svc__C': [0.5, 1],\n",
       "                         'svc__gamma': ['scale', 'auto', 0.01]},\n",
       "             return_train_score=True,\n",
       "             scoring=make_scorer(recall_score, average=None, labels=['Hispanic']))"
      ]
     },
     "execution_count": 97,
     "metadata": {},
     "output_type": "execute_result"
    }
   ],
   "source": [
    "recall_Hispanic = make_scorer(recall_score, average=None, labels=[\"Hispanic\"])\n",
    "\n",
    "param_grid = {\"svc__C\": [0.5, 1], \"svc__gamma\": [\"scale\", \"auto\", 0.01]}\n",
    "\n",
    "operations = [('OneHotEncoder', trans), ('svc', SVC(class_weight=\"balanced\", random_state=101))]\n",
    "\n",
    "gr_model = Pipeline(steps=operations)\n",
    "\n",
    "grid_model_svc = GridSearchCV(estimator=gr_model, param_grid= param_grid,scoring=recall_Hispanic,cv=10,n_jobs=-1,return_train_score=True,)\n",
    "\n",
    "grid_model_svc.fit(X_train, y_train)"
   ]
  },
  {
   "cell_type": "code",
   "execution_count": 106,
   "metadata": {},
   "outputs": [
    {
     "data": {
      "text/plain": [
       "array(['White', 'White', 'Hispanic', 'White', 'Hispanic', 'White',\n",
       "       'Black', 'White', 'Hispanic', 'White'], dtype=object)"
      ]
     },
     "execution_count": 106,
     "metadata": {},
     "output_type": "execute_result"
    }
   ],
   "source": [
    "y_pred = grid_model_svc.predict(X_test)\n",
    "y_pred[:10]"
   ]
  },
  {
   "cell_type": "code",
   "execution_count": 101,
   "metadata": {},
   "outputs": [
    {
     "name": "stdout",
     "output_type": "stream",
     "text": [
      "Test_Set\n",
      "[[240  12   8]\n",
      " [  5 111  20]\n",
      " [ 20 109 629]]\n",
      "              precision    recall  f1-score   support\n",
      "\n",
      "       Black       0.91      0.92      0.91       260\n",
      "    Hispanic       0.48      0.82      0.60       136\n",
      "       White       0.96      0.83      0.89       758\n",
      "\n",
      "    accuracy                           0.85      1154\n",
      "   macro avg       0.78      0.86      0.80      1154\n",
      "weighted avg       0.89      0.85      0.86      1154\n",
      "\n",
      "\n",
      "Train_Set\n",
      "[[ 956   42   40]\n",
      " [  23  456   64]\n",
      " [  54  426 2554]]\n",
      "              precision    recall  f1-score   support\n",
      "\n",
      "       Black       0.93      0.92      0.92      1038\n",
      "    Hispanic       0.49      0.84      0.62       543\n",
      "       White       0.96      0.84      0.90      3034\n",
      "\n",
      "    accuracy                           0.86      4615\n",
      "   macro avg       0.79      0.87      0.81      4615\n",
      "weighted avg       0.90      0.86      0.87      4615\n",
      "\n"
     ]
    }
   ],
   "source": [
    "eval_metric(grid_model_svc, X_train, y_train, X_test, y_test)\n",
    "#No overfitting as well"
   ]
  },
  {
   "cell_type": "code",
   "execution_count": 98,
   "metadata": {},
   "outputs": [
    {
     "data": {
      "text/html": [
       "<style>#sk-container-id-11 {color: black;}#sk-container-id-11 pre{padding: 0;}#sk-container-id-11 div.sk-toggleable {background-color: white;}#sk-container-id-11 label.sk-toggleable__label {cursor: pointer;display: block;width: 100%;margin-bottom: 0;padding: 0.3em;box-sizing: border-box;text-align: center;}#sk-container-id-11 label.sk-toggleable__label-arrow:before {content: \"▸\";float: left;margin-right: 0.25em;color: #696969;}#sk-container-id-11 label.sk-toggleable__label-arrow:hover:before {color: black;}#sk-container-id-11 div.sk-estimator:hover label.sk-toggleable__label-arrow:before {color: black;}#sk-container-id-11 div.sk-toggleable__content {max-height: 0;max-width: 0;overflow: hidden;text-align: left;background-color: #f0f8ff;}#sk-container-id-11 div.sk-toggleable__content pre {margin: 0.2em;color: black;border-radius: 0.25em;background-color: #f0f8ff;}#sk-container-id-11 input.sk-toggleable__control:checked~div.sk-toggleable__content {max-height: 200px;max-width: 100%;overflow: auto;}#sk-container-id-11 input.sk-toggleable__control:checked~label.sk-toggleable__label-arrow:before {content: \"▾\";}#sk-container-id-11 div.sk-estimator input.sk-toggleable__control:checked~label.sk-toggleable__label {background-color: #d4ebff;}#sk-container-id-11 div.sk-label input.sk-toggleable__control:checked~label.sk-toggleable__label {background-color: #d4ebff;}#sk-container-id-11 input.sk-hidden--visually {border: 0;clip: rect(1px 1px 1px 1px);clip: rect(1px, 1px, 1px, 1px);height: 1px;margin: -1px;overflow: hidden;padding: 0;position: absolute;width: 1px;}#sk-container-id-11 div.sk-estimator {font-family: monospace;background-color: #f0f8ff;border: 1px dotted black;border-radius: 0.25em;box-sizing: border-box;margin-bottom: 0.5em;}#sk-container-id-11 div.sk-estimator:hover {background-color: #d4ebff;}#sk-container-id-11 div.sk-parallel-item::after {content: \"\";width: 100%;border-bottom: 1px solid gray;flex-grow: 1;}#sk-container-id-11 div.sk-label:hover label.sk-toggleable__label {background-color: #d4ebff;}#sk-container-id-11 div.sk-serial::before {content: \"\";position: absolute;border-left: 1px solid gray;box-sizing: border-box;top: 0;bottom: 0;left: 50%;z-index: 0;}#sk-container-id-11 div.sk-serial {display: flex;flex-direction: column;align-items: center;background-color: white;padding-right: 0.2em;padding-left: 0.2em;position: relative;}#sk-container-id-11 div.sk-item {position: relative;z-index: 1;}#sk-container-id-11 div.sk-parallel {display: flex;align-items: stretch;justify-content: center;background-color: white;position: relative;}#sk-container-id-11 div.sk-item::before, #sk-container-id-11 div.sk-parallel-item::before {content: \"\";position: absolute;border-left: 1px solid gray;box-sizing: border-box;top: 0;bottom: 0;left: 50%;z-index: -1;}#sk-container-id-11 div.sk-parallel-item {display: flex;flex-direction: column;z-index: 1;position: relative;background-color: white;}#sk-container-id-11 div.sk-parallel-item:first-child::after {align-self: flex-end;width: 50%;}#sk-container-id-11 div.sk-parallel-item:last-child::after {align-self: flex-start;width: 50%;}#sk-container-id-11 div.sk-parallel-item:only-child::after {width: 0;}#sk-container-id-11 div.sk-dashed-wrapped {border: 1px dashed gray;margin: 0 0.4em 0.5em 0.4em;box-sizing: border-box;padding-bottom: 0.4em;background-color: white;}#sk-container-id-11 div.sk-label label {font-family: monospace;font-weight: bold;display: inline-block;line-height: 1.2em;}#sk-container-id-11 div.sk-label-container {text-align: center;}#sk-container-id-11 div.sk-container {/* jupyter's `normalize.less` sets `[hidden] { display: none; }` but bootstrap.min.css set `[hidden] { display: none !important; }` so we also need the `!important` here to be able to override the default hidden behavior on the sphinx rendered scikit-learn.org. See: https://github.com/scikit-learn/scikit-learn/issues/21755 */display: inline-block !important;position: relative;}#sk-container-id-11 div.sk-text-repr-fallback {display: none;}</style><div id=\"sk-container-id-11\" class=\"sk-top-container\"><div class=\"sk-text-repr-fallback\"><pre>Pipeline(steps=[(&#x27;OneHotEncoder&#x27;,\n",
       "                 ColumnTransformer(remainder=MinMaxScaler(),\n",
       "                                   transformers=[(&#x27;onehotencoder&#x27;,\n",
       "                                                  OneHotEncoder(handle_unknown=&#x27;ignore&#x27;,\n",
       "                                                                sparse_output=False),\n",
       "                                                  [&#x27;Gender&#x27;,\n",
       "                                                   &#x27;SubjectsBirthLocation&#x27;,\n",
       "                                                   &#x27;WritingPreference&#x27;])],\n",
       "                                   verbose_feature_names_out=False)),\n",
       "                (&#x27;svc&#x27;, SVC(C=1, class_weight=&#x27;balanced&#x27;, random_state=101))])</pre><b>In a Jupyter environment, please rerun this cell to show the HTML representation or trust the notebook. <br />On GitHub, the HTML representation is unable to render, please try loading this page with nbviewer.org.</b></div><div class=\"sk-container\" hidden><div class=\"sk-item sk-dashed-wrapped\"><div class=\"sk-label-container\"><div class=\"sk-label sk-toggleable\"><input class=\"sk-toggleable__control sk-hidden--visually\" id=\"sk-estimator-id-73\" type=\"checkbox\" ><label for=\"sk-estimator-id-73\" class=\"sk-toggleable__label sk-toggleable__label-arrow\">Pipeline</label><div class=\"sk-toggleable__content\"><pre>Pipeline(steps=[(&#x27;OneHotEncoder&#x27;,\n",
       "                 ColumnTransformer(remainder=MinMaxScaler(),\n",
       "                                   transformers=[(&#x27;onehotencoder&#x27;,\n",
       "                                                  OneHotEncoder(handle_unknown=&#x27;ignore&#x27;,\n",
       "                                                                sparse_output=False),\n",
       "                                                  [&#x27;Gender&#x27;,\n",
       "                                                   &#x27;SubjectsBirthLocation&#x27;,\n",
       "                                                   &#x27;WritingPreference&#x27;])],\n",
       "                                   verbose_feature_names_out=False)),\n",
       "                (&#x27;svc&#x27;, SVC(C=1, class_weight=&#x27;balanced&#x27;, random_state=101))])</pre></div></div></div><div class=\"sk-serial\"><div class=\"sk-item sk-dashed-wrapped\"><div class=\"sk-label-container\"><div class=\"sk-label sk-toggleable\"><input class=\"sk-toggleable__control sk-hidden--visually\" id=\"sk-estimator-id-74\" type=\"checkbox\" ><label for=\"sk-estimator-id-74\" class=\"sk-toggleable__label sk-toggleable__label-arrow\">OneHotEncoder: ColumnTransformer</label><div class=\"sk-toggleable__content\"><pre>ColumnTransformer(remainder=MinMaxScaler(),\n",
       "                  transformers=[(&#x27;onehotencoder&#x27;,\n",
       "                                 OneHotEncoder(handle_unknown=&#x27;ignore&#x27;,\n",
       "                                               sparse_output=False),\n",
       "                                 [&#x27;Gender&#x27;, &#x27;SubjectsBirthLocation&#x27;,\n",
       "                                  &#x27;WritingPreference&#x27;])],\n",
       "                  verbose_feature_names_out=False)</pre></div></div></div><div class=\"sk-parallel\"><div class=\"sk-parallel-item\"><div class=\"sk-item\"><div class=\"sk-label-container\"><div class=\"sk-label sk-toggleable\"><input class=\"sk-toggleable__control sk-hidden--visually\" id=\"sk-estimator-id-75\" type=\"checkbox\" ><label for=\"sk-estimator-id-75\" class=\"sk-toggleable__label sk-toggleable__label-arrow\">onehotencoder</label><div class=\"sk-toggleable__content\"><pre>[&#x27;Gender&#x27;, &#x27;SubjectsBirthLocation&#x27;, &#x27;WritingPreference&#x27;]</pre></div></div></div><div class=\"sk-serial\"><div class=\"sk-item\"><div class=\"sk-estimator sk-toggleable\"><input class=\"sk-toggleable__control sk-hidden--visually\" id=\"sk-estimator-id-76\" type=\"checkbox\" ><label for=\"sk-estimator-id-76\" class=\"sk-toggleable__label sk-toggleable__label-arrow\">OneHotEncoder</label><div class=\"sk-toggleable__content\"><pre>OneHotEncoder(handle_unknown=&#x27;ignore&#x27;, sparse_output=False)</pre></div></div></div></div></div></div><div class=\"sk-parallel-item\"><div class=\"sk-item\"><div class=\"sk-label-container\"><div class=\"sk-label sk-toggleable\"><input class=\"sk-toggleable__control sk-hidden--visually\" id=\"sk-estimator-id-77\" type=\"checkbox\" ><label for=\"sk-estimator-id-77\" class=\"sk-toggleable__label sk-toggleable__label-arrow\">remainder</label><div class=\"sk-toggleable__content\"><pre>[&#x27;abdominalextensiondepthsitting&#x27;, &#x27;acromialheight&#x27;, &#x27;acromionradialelength&#x27;, &#x27;anklecircumference&#x27;, &#x27;axillaheight&#x27;, &#x27;balloffootcircumference&#x27;, &#x27;balloffootlength&#x27;, &#x27;biacromialbreadth&#x27;, &#x27;bicepscircumferenceflexed&#x27;, &#x27;bicristalbreadth&#x27;, &#x27;bideltoidbreadth&#x27;, &#x27;bimalleolarbreadth&#x27;, &#x27;bitragionchinarc&#x27;, &#x27;bitragionsubmandibulararc&#x27;, &#x27;bizygomaticbreadth&#x27;, &#x27;buttockcircumference&#x27;, &#x27;buttockdepth&#x27;, &#x27;buttockheight&#x27;, &#x27;buttockkneelength&#x27;, &#x27;buttockpopliteallength&#x27;, &#x27;calfcircumference&#x27;, &#x27;cervicaleheight&#x27;, &#x27;chestbreadth&#x27;, &#x27;chestcircumference&#x27;, &#x27;chestdepth&#x27;, &#x27;chestheight&#x27;, &#x27;crotchheight&#x27;, &#x27;crotchlengthomphalion&#x27;, &#x27;crotchlengthposterioromphalion&#x27;, &#x27;earbreadth&#x27;, &#x27;earlength&#x27;, &#x27;earprotrusion&#x27;, &#x27;elbowrestheight&#x27;, &#x27;eyeheightsitting&#x27;, &#x27;footbreadthhorizontal&#x27;, &#x27;footlength&#x27;, &#x27;forearmcenterofgriplength&#x27;, &#x27;forearmcircumferenceflexed&#x27;, &#x27;forearmforearmbreadth&#x27;, &#x27;forearmhandlength&#x27;, &#x27;functionalleglength&#x27;, &#x27;handbreadth&#x27;, &#x27;handcircumference&#x27;, &#x27;handlength&#x27;, &#x27;headbreadth&#x27;, &#x27;headcircumference&#x27;, &#x27;headlength&#x27;, &#x27;heelanklecircumference&#x27;, &#x27;heelbreadth&#x27;, &#x27;hipbreadth&#x27;, &#x27;hipbreadthsitting&#x27;, &#x27;iliocristaleheight&#x27;, &#x27;interpupillarybreadth&#x27;, &#x27;interscyei&#x27;, &#x27;interscyeii&#x27;, &#x27;kneeheightmidpatella&#x27;, &#x27;kneeheightsitting&#x27;, &#x27;lateralfemoralepicondyleheight&#x27;, &#x27;lateralmalleolusheight&#x27;, &#x27;lowerthighcircumference&#x27;, &#x27;mentonsellionlength&#x27;, &#x27;neckcircumference&#x27;, &#x27;neckcircumferencebase&#x27;, &#x27;overheadfingertipreachsitting&#x27;, &#x27;palmlength&#x27;, &#x27;poplitealheight&#x27;, &#x27;radialestylionlength&#x27;, &#x27;shouldercircumference&#x27;, &#x27;shoulderelbowlength&#x27;, &#x27;shoulderlength&#x27;, &#x27;sittingheight&#x27;, &#x27;sleevelengthspinewrist&#x27;, &#x27;sleeveoutseam&#x27;, &#x27;span&#x27;, &#x27;stature&#x27;, &#x27;suprasternaleheight&#x27;, &#x27;tenthribheight&#x27;, &#x27;thighcircumference&#x27;, &#x27;thighclearance&#x27;, &#x27;thumbtipreach&#x27;, &#x27;tibialheight&#x27;, &#x27;tragiontopofhead&#x27;, &#x27;trochanterionheight&#x27;, &#x27;verticaltrunkcircumferenceusa&#x27;, &#x27;waistbacklength&#x27;, &#x27;waistbreadth&#x27;, &#x27;waistcircumference&#x27;, &#x27;waistdepth&#x27;, &#x27;waistfrontlengthsitting&#x27;, &#x27;waistheightomphalion&#x27;, &#x27;weightkg&#x27;, &#x27;wristcircumference&#x27;, &#x27;wristheight&#x27;, &#x27;Age&#x27;]</pre></div></div></div><div class=\"sk-serial\"><div class=\"sk-item\"><div class=\"sk-estimator sk-toggleable\"><input class=\"sk-toggleable__control sk-hidden--visually\" id=\"sk-estimator-id-78\" type=\"checkbox\" ><label for=\"sk-estimator-id-78\" class=\"sk-toggleable__label sk-toggleable__label-arrow\">MinMaxScaler</label><div class=\"sk-toggleable__content\"><pre>MinMaxScaler()</pre></div></div></div></div></div></div></div></div><div class=\"sk-item\"><div class=\"sk-estimator sk-toggleable\"><input class=\"sk-toggleable__control sk-hidden--visually\" id=\"sk-estimator-id-79\" type=\"checkbox\" ><label for=\"sk-estimator-id-79\" class=\"sk-toggleable__label sk-toggleable__label-arrow\">SVC</label><div class=\"sk-toggleable__content\"><pre>SVC(C=1, class_weight=&#x27;balanced&#x27;, random_state=101)</pre></div></div></div></div></div></div></div>"
      ],
      "text/plain": [
       "Pipeline(steps=[('OneHotEncoder',\n",
       "                 ColumnTransformer(remainder=MinMaxScaler(),\n",
       "                                   transformers=[('onehotencoder',\n",
       "                                                  OneHotEncoder(handle_unknown='ignore',\n",
       "                                                                sparse_output=False),\n",
       "                                                  ['Gender',\n",
       "                                                   'SubjectsBirthLocation',\n",
       "                                                   'WritingPreference'])],\n",
       "                                   verbose_feature_names_out=False)),\n",
       "                ('svc', SVC(C=1, class_weight='balanced', random_state=101))])"
      ]
     },
     "execution_count": 98,
     "metadata": {},
     "output_type": "execute_result"
    }
   ],
   "source": [
    "grid_model_svc.best_estimator_\n",
    "#As we can see the best C is 1 and it also ignored the others."
   ]
  },
  {
   "cell_type": "code",
   "execution_count": 99,
   "metadata": {},
   "outputs": [
    {
     "data": {
      "text/plain": [
       "mean_test_score    0.760\n",
       "mean_train_score   0.835\n",
       "Name: 3, dtype: object"
      ]
     },
     "execution_count": 99,
     "metadata": {},
     "output_type": "execute_result"
    }
   ],
   "source": [
    "pd.DataFrame(grid_model_svc.cv_results_).loc[\n",
    "    grid_model_svc.best_index_, [\"mean_test_score\", \"mean_train_score\"]\n",
    "]"
   ]
  },
  {
   "cell_type": "code",
   "execution_count": 104,
   "metadata": {},
   "outputs": [
    {
     "data": {
      "image/png": "[encoded data removed]",
      "text/plain": [
       "<Figure size 1000x1400 with 1 Axes>"
      ]
     },
     "metadata": {},
     "output_type": "display_data"
    }
   ],
   "source": [
    "#Now, let's see the graph of it\n",
    "operations = [('OneHotEncoder', trans), ('svc', SVC(class_weight=\"balanced\", random_state=101))]\n",
    "\n",
    "model = Pipeline(steps=operations)\n",
    "\n",
    "model.fit(X_train, y_train)\n",
    "\n",
    "decision_function = model.decision_function(X_test)\n",
    "#Here we cannot use predict_proba\n",
    "\n",
    "plot_precision_recall(y_test, decision_function)\n",
    "plt.show();\n",
    "#As we can see from the graph, black class is higher but it is nearly the same as the white class. \n",
    "#And Hispanic is the less one"
   ]
  },
  {
   "cell_type": "code",
   "execution_count": 114,
   "metadata": {},
   "outputs": [
    {
     "data": {
      "text/plain": [
       "0.6822405823886313"
      ]
     },
     "execution_count": 114,
     "metadata": {},
     "output_type": "execute_result"
    }
   ],
   "source": [
    "y_test_dum = pd.get_dummies(y_test).values\n",
    "\n",
    "average_precision_score(y_test_dum[:, 1], decision_function[:, 1])\n",
    "\n",
    "#The value here is less than logistic"
   ]
  },
  {
   "cell_type": "code",
   "execution_count": 117,
   "metadata": {},
   "outputs": [],
   "source": [
    "#To be able to use these values later on, I will assign them to values, to make it easy \n",
    "svc_pre = average_precision_score(y_test_dum[:, 1], decision_function[:, 1])\n",
    "svc_recall = recall_score(y_test, y_pred, average=None, labels=[\"Hispanic\"])\n",
    "svc_f1 = f1_score(y_test, y_pred, average=None, labels=[\"Hispanic\"])"
   ]
  },
  {
   "cell_type": "code",
   "execution_count": 122,
   "metadata": {},
   "outputs": [
    {
     "name": "stdout",
     "output_type": "stream",
     "text": [
      "Precision 0.6822405823886313\n",
      "Recall [0.81617647]\n",
      "f1 [0.60326087]\n"
     ]
    }
   ],
   "source": [
    "print('Precision', svc_pre)\n",
    "print('Recall', svc_recall)\n",
    "print('f1', svc_f1)\n",
    "#As we can see the recall score is higher"
   ]
  },
  {
   "cell_type": "markdown",
   "metadata": {
    "heading_collapsed": true,
    "hidden": true,
    "id": "bDX_iLIls74C"
   },
   "source": [
    "## 3. RF"
   ]
  },
  {
   "cell_type": "markdown",
   "metadata": {
    "heading_collapsed": true,
    "hidden": true,
    "id": "qaTzrT6P1b7G"
   },
   "source": [
    "### Vanilla RF Model"
   ]
  },
  {
   "cell_type": "code",
   "execution_count": null,
   "metadata": {
    "id": "gvtqL0Qg2CKf"
   },
   "outputs": [],
   "source": []
  },
  {
   "cell_type": "markdown",
   "metadata": {
    "heading_collapsed": true,
    "hidden": true,
    "id": "MkLAZ_M41b7G"
   },
   "source": [
    "### RF Model GridsearchCV"
   ]
  },
  {
   "cell_type": "code",
   "execution_count": null,
   "metadata": {
    "id": "hpmPr3202EbD"
   },
   "outputs": [],
   "source": []
  },
  {
   "cell_type": "markdown",
   "metadata": {
    "heading_collapsed": true,
    "hidden": true,
    "id": "PvcPc4V81b7H"
   },
   "source": [
    "## 4. XGBoost"
   ]
  },
  {
   "cell_type": "markdown",
   "metadata": {
    "heading_collapsed": true,
    "hidden": true,
    "id": "MuxxUFoW1b7H"
   },
   "source": [
    "### Vanilla XGBoost Model"
   ]
  },
  {
   "cell_type": "code",
   "execution_count": null,
   "metadata": {
    "id": "Nfi1aa152HbR"
   },
   "outputs": [],
   "source": []
  },
  {
   "cell_type": "markdown",
   "metadata": {
    "heading_collapsed": true,
    "hidden": true,
    "id": "p3gH5QvE1b7I"
   },
   "source": [
    "### XGBoost Model GridsearchCV"
   ]
  },
  {
   "cell_type": "code",
   "execution_count": null,
   "metadata": {
    "id": "72E3Cmnm2KOE"
   },
   "outputs": [],
   "source": []
  },
  {
   "cell_type": "markdown",
   "metadata": {
    "hidden": true,
    "id": "DbXAmOPVDatl"
   },
   "source": [
    "---\n",
    "---"
   ]
  },
  {
   "cell_type": "markdown",
   "metadata": {
    "hidden": true,
    "id": "WvWpInu21b7L"
   },
   "source": [
    "---\n",
    "---"
   ]
  },
  {
   "cell_type": "markdown",
   "metadata": {
    "heading_collapsed": true,
    "id": "xg2k1ScZ1b7L"
   },
   "source": [
    "# SMOTE\n",
    "https://machinelearningmastery.com/smote-oversampling-for-imbalanced-classification/"
   ]
  },
  {
   "cell_type": "markdown",
   "metadata": {
    "hidden": true,
    "id": "9Rqk02x61b7L"
   },
   "source": [
    "##  Smote implement"
   ]
  },
  {
   "cell_type": "code",
   "execution_count": null,
   "metadata": {
    "hidden": true,
    "id": "XTN4iO7i1b7L"
   },
   "outputs": [],
   "source": [
    "!pip install imblearn"
   ]
  },
  {
   "cell_type": "code",
   "execution_count": null,
   "metadata": {
    "hidden": true,
    "id": "Cv5155AN1b7L"
   },
   "outputs": [],
   "source": [
    "from imblearn.over_sampling import SMOTE\n",
    "from imblearn.under_sampling import RandomUnderSampler\n",
    "from imblearn.pipeline import Pipeline"
   ]
  },
  {
   "cell_type": "code",
   "execution_count": null,
   "metadata": {
    "id": "G1FSKgtbaylV"
   },
   "outputs": [],
   "source": []
  },
  {
   "cell_type": "markdown",
   "metadata": {
    "hidden": true,
    "id": "1hBIqmFL1b7O"
   },
   "source": [
    "## Logistic Regression Over/ Under Sampling"
   ]
  },
  {
   "cell_type": "code",
   "execution_count": null,
   "metadata": {
    "id": "12AItu1M2ds0"
   },
   "outputs": [],
   "source": []
  },
  {
   "cell_type": "code",
   "execution_count": null,
   "metadata": {
    "id": "JLsqCpGn7jNM"
   },
   "outputs": [],
   "source": []
  },
  {
   "cell_type": "markdown",
   "metadata": {
    "id": "j9A1B65L7jwp"
   },
   "source": [
    "## Other Evaluation Metrics for Multiclass Classification"
   ]
  },
  {
   "cell_type": "markdown",
   "metadata": {
    "hidden": true,
    "id": "T1pPLjpA1b7P"
   },
   "source": [
    "- Evaluation metrics\n",
    "https://towardsdatascience.com/comprehensive-guide-on-multiclass-classification-metrics-af94cfb83fbd"
   ]
  },
  {
   "cell_type": "code",
   "execution_count": null,
   "metadata": {
    "hidden": true,
    "id": "Me3OZtQF1b7P",
    "outputId": "6280fddb-b392-40c1-87d3-57d242ce2528"
   },
   "outputs": [],
   "source": [
    "from sklearn.metrics import matthews_corrcoef\n",
    "matthews_corrcoef?\n",
    "matthews_corrcoef(y_test, y_pred)"
   ]
  },
  {
   "cell_type": "code",
   "execution_count": null,
   "metadata": {
    "hidden": true,
    "id": "P74oLhzK1b7P",
    "outputId": "350b8e9d-dd72-4566-8b11-10526699cd94"
   },
   "outputs": [],
   "source": [
    "from sklearn.metrics import cohen_kappa_score\n",
    "cohen_kappa_score?\n",
    "cohen_kappa_score(y_test, y_pred)"
   ]
  },
  {
   "cell_type": "markdown",
   "metadata": {
    "heading_collapsed": true,
    "id": "9hxUcvZG1b7J"
   },
   "source": [
    "# Before the Deployment\n",
    "- Choose the model that works best based on your chosen metric\n",
    "- For final step, fit the best model with whole dataset to get better performance.\n",
    "- And your model ready to deploy, dump your model and scaler."
   ]
  },
  {
   "cell_type": "code",
   "execution_count": null,
   "metadata": {
    "id": "4UOn_G0n2N2Z"
   },
   "outputs": [],
   "source": []
  },
  {
   "cell_type": "markdown",
   "metadata": {
    "hidden": true,
    "id": "g8_x-BiN1b7Q"
   },
   "source": [
    "___\n",
    "\n",
    "<p style=\"text-align: center;\"><img src=\"https://docs.google.com/uc?id=1lY0Uj5R04yMY3-ZppPWxqCr5pvBLYPnV\" class=\"img-fluid\" alt=\"CLRSWY\"></p>\n",
    "\n",
    "___"
   ]
  }
 ],
 "metadata": {
  "colab": {
   "collapsed_sections": [
    "K7UZHtvu1b62",
    "C5lJeTBu1b65",
    "TMjCTEG51b67",
    "CS5-GZy0sl4s",
    "zfi_NOw0s2fM",
    "p3gH5QvE1b7I",
    "xg2k1ScZ1b7L",
    "1hBIqmFL1b7O",
    "j9A1B65L7jwp",
    "9hxUcvZG1b7J"
   ],
   "provenance": []
  },
  "hide_input": false,
  "interpreter": {
   "hash": "e4e90950cb561445fc7289d5187c528b28750a487d008a70b474c773afaf79b7"
  },
  "kernelspec": {
   "display_name": "Python 3 (ipykernel)",
   "language": "python",
   "name": "python3"
  },
  "language_info": {
   "codemirror_mode": {
    "name": "ipython",
    "version": 3
   },
   "file_extension": ".py",
   "mimetype": "text/x-python",
   "name": "python",
   "nbconvert_exporter": "python",
   "pygments_lexer": "ipython3",
   "version": "3.11.5"
  },
  "toc": {
   "base_numbering": 1,
   "nav_menu": {},
   "number_sections": true,
   "sideBar": true,
   "skip_h1_title": false,
   "title_cell": "Table of Contents",
   "title_sidebar": "Contents",
   "toc_cell": false,
   "toc_position": {
    "height": "calc(100% - 180px)",
    "left": "10px",
    "top": "150px",
    "width": "338.797px"
   },
   "toc_section_display": true,
   "toc_window_display": false
  },
  "varInspector": {
   "cols": {
    "lenName": 16,
    "lenType": 16,
    "lenVar": 40
   },
   "kernels_config": {
    "python": {
     "delete_cmd_postfix": "",
     "delete_cmd_prefix": "del ",
     "library": "var_list.py",
     "varRefreshCmd": "print(var_dic_list())"
    },
    "r": {
     "delete_cmd_postfix": ") ",
     "delete_cmd_prefix": "rm(",
     "library": "var_list.r",
     "varRefreshCmd": "cat(var_dic_list()) "
    }
   },
   "oldHeight": 527,
   "position": {
    "height": "40px",
    "left": "1034px",
    "right": "20px",
    "top": "185px",
    "width": "661px"
   },
   "types_to_exclude": [
    "module",
    "function",
    "builtin_function_or_method",
    "instance",
    "_Feature"
   ],
   "varInspector_section_display": "none",
   "window_display": false
  }
 },
 "nbformat": 4,
 "nbformat_minor": 1
}
